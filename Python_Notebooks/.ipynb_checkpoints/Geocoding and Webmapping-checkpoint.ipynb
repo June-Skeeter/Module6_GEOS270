{
 "cells": [
  {
   "cell_type": "markdown",
   "metadata": {},
   "source": [
    "# Geocoding and Web Mapping\n",
    "\n",
    "Getting Started with Python\n",
    "\n",
    "## Import statements\n",
    "\n",
    "We are going to use [geopy](https://geopy.readthedocs.io/en/stable/) to interface with the mapbox geocoder and the [folium](http://python-visualization.github.io/folium/) to create some simple webmaps."
   ]
  },
  {
   "cell_type": "code",
   "execution_count": 1,
   "metadata": {},
   "outputs": [],
   "source": [
    "from geopy.geocoders import MapBox\n",
    "import folium"
   ]
  },
  {
   "cell_type": "markdown",
   "metadata": {},
   "source": [
    "## Using the geocoder\n",
    "First, you must find your [access token](https://account.mapbox.com/access-tokens/).  Copy and paste it into the code below."
   ]
  },
  {
   "cell_type": "code",
   "execution_count": 2,
   "metadata": {},
   "outputs": [
    {
     "name": "stdout",
     "output_type": "stream",
     "text": [
      "Mapbox Goelocator Loaded\n"
     ]
    }
   ],
   "source": [
    "access_token=\"pk.eyJ1IjoianVuZXNwYWNlYm9vdHMiLCJhIjoiY2twY3g4aXloMWFlcDJzbXN3aG95aG5uZiJ9.mFiJt0MIfL1MiJ2rB2xhKQ\"\n",
    "\n",
    "if access_token == \"\":\n",
    "    print('Enter your access token to continue')\n",
    "else:\n",
    "    geolocator = MapBox(api_key=access_token)\n",
    "    print('Mapbox Goelocator Loaded')"
   ]
  },
  {
   "cell_type": "markdown",
   "metadata": {},
   "source": [
    "## A quick test\n",
    "\n",
    "Lets try a simple example first!  Type any address here and see what comes up!"
   ]
  },
  {
   "cell_type": "code",
   "execution_count": 3,
   "metadata": {},
   "outputs": [
    {
     "name": "stdout",
     "output_type": "stream",
     "text": [
      "The Westin Grand, 433 Robson Street, Vancouver, British Columbia V6B 6L9, Canada\n",
      "49.279862 -123.116838\n"
     ]
    }
   ],
   "source": [
    "Location = \"Vancouver, BC, Canada\"\n",
    "Vancouver = geolocator.geocode(Location)\n",
    "\n",
    "print(Vancouver)\n",
    "print(Vancouver.latitude,Vancouver.longitude)"
   ]
  },
  {
   "cell_type": "markdown",
   "metadata": {},
   "source": [
    "# Quiz Question 12\n",
    "\n",
    "- Search for the address of the UBC Geography Building (1984 west mall (city + prov, etc))\n",
    "\n",
    "* What are the lat, lon coordinates of the UBC geography building?"
   ]
  },
  {
   "cell_type": "code",
   "execution_count": 6,
   "metadata": {},
   "outputs": [
    {
     "name": "stdout",
     "output_type": "stream",
     "text": [
      "UBC Geography Building, 1984 West Mall, University Hill, British Columbia V6T 1Z2, Canada\n",
      "49.265772 -123.255976\n"
     ]
    }
   ],
   "source": [
    "Location = \"UBC Geography Building\"\n",
    "UBC_Geopgraphy = geolocator.geocode(Location)\n",
    "\n",
    "print(UBC_Geopgraphy)\n",
    "print(UBC_Geopgraphy.latitude,UBC_Geopgraphy.longitude)"
   ]
  },
  {
   "cell_type": "markdown",
   "metadata": {},
   "source": [
    "## Displaying our result on a web map"
   ]
  },
  {
   "cell_type": "code",
   "execution_count": 7,
   "metadata": {
    "scrolled": false
   },
   "outputs": [
    {
     "data": {
      "text/html": [
       "<div style=\"width:100%;\"><div style=\"position:relative;width:100%;height:0;padding-bottom:60%;\"><span style=\"color:#565656\">Make this Notebook Trusted to load map: File -> Trust Notebook</span><iframe src=\"about:blank\" style=\"position:absolute;width:100%;height:100%;left:0;top:0;border:none !important;\" data-html=%3C%21DOCTYPE%20html%3E%0A%3Chead%3E%20%20%20%20%0A%20%20%20%20%3Cmeta%20http-equiv%3D%22content-type%22%20content%3D%22text/html%3B%20charset%3DUTF-8%22%20/%3E%0A%20%20%20%20%0A%20%20%20%20%20%20%20%20%3Cscript%3E%0A%20%20%20%20%20%20%20%20%20%20%20%20L_NO_TOUCH%20%3D%20false%3B%0A%20%20%20%20%20%20%20%20%20%20%20%20L_DISABLE_3D%20%3D%20false%3B%0A%20%20%20%20%20%20%20%20%3C/script%3E%0A%20%20%20%20%0A%20%20%20%20%3Cstyle%3Ehtml%2C%20body%20%7Bwidth%3A%20100%25%3Bheight%3A%20100%25%3Bmargin%3A%200%3Bpadding%3A%200%3B%7D%3C/style%3E%0A%20%20%20%20%3Cstyle%3E%23map%20%7Bposition%3Aabsolute%3Btop%3A0%3Bbottom%3A0%3Bright%3A0%3Bleft%3A0%3B%7D%3C/style%3E%0A%20%20%20%20%3Cscript%20src%3D%22https%3A//cdn.jsdelivr.net/npm/leaflet%401.6.0/dist/leaflet.js%22%3E%3C/script%3E%0A%20%20%20%20%3Cscript%20src%3D%22https%3A//code.jquery.com/jquery-1.12.4.min.js%22%3E%3C/script%3E%0A%20%20%20%20%3Cscript%20src%3D%22https%3A//maxcdn.bootstrapcdn.com/bootstrap/3.2.0/js/bootstrap.min.js%22%3E%3C/script%3E%0A%20%20%20%20%3Cscript%20src%3D%22https%3A//cdnjs.cloudflare.com/ajax/libs/Leaflet.awesome-markers/2.0.2/leaflet.awesome-markers.js%22%3E%3C/script%3E%0A%20%20%20%20%3Clink%20rel%3D%22stylesheet%22%20href%3D%22https%3A//cdn.jsdelivr.net/npm/leaflet%401.6.0/dist/leaflet.css%22/%3E%0A%20%20%20%20%3Clink%20rel%3D%22stylesheet%22%20href%3D%22https%3A//maxcdn.bootstrapcdn.com/bootstrap/3.2.0/css/bootstrap.min.css%22/%3E%0A%20%20%20%20%3Clink%20rel%3D%22stylesheet%22%20href%3D%22https%3A//maxcdn.bootstrapcdn.com/bootstrap/3.2.0/css/bootstrap-theme.min.css%22/%3E%0A%20%20%20%20%3Clink%20rel%3D%22stylesheet%22%20href%3D%22https%3A//maxcdn.bootstrapcdn.com/font-awesome/4.6.3/css/font-awesome.min.css%22/%3E%0A%20%20%20%20%3Clink%20rel%3D%22stylesheet%22%20href%3D%22https%3A//cdnjs.cloudflare.com/ajax/libs/Leaflet.awesome-markers/2.0.2/leaflet.awesome-markers.css%22/%3E%0A%20%20%20%20%3Clink%20rel%3D%22stylesheet%22%20href%3D%22https%3A//cdn.jsdelivr.net/gh/python-visualization/folium/folium/templates/leaflet.awesome.rotate.min.css%22/%3E%0A%20%20%20%20%0A%20%20%20%20%20%20%20%20%20%20%20%20%3Cmeta%20name%3D%22viewport%22%20content%3D%22width%3Ddevice-width%2C%0A%20%20%20%20%20%20%20%20%20%20%20%20%20%20%20%20initial-scale%3D1.0%2C%20maximum-scale%3D1.0%2C%20user-scalable%3Dno%22%20/%3E%0A%20%20%20%20%20%20%20%20%20%20%20%20%3Cstyle%3E%0A%20%20%20%20%20%20%20%20%20%20%20%20%20%20%20%20%23map_d69bc0ce8219409591ed062394fd63e8%20%7B%0A%20%20%20%20%20%20%20%20%20%20%20%20%20%20%20%20%20%20%20%20position%3A%20relative%3B%0A%20%20%20%20%20%20%20%20%20%20%20%20%20%20%20%20%20%20%20%20width%3A%20100.0%25%3B%0A%20%20%20%20%20%20%20%20%20%20%20%20%20%20%20%20%20%20%20%20height%3A%20100.0%25%3B%0A%20%20%20%20%20%20%20%20%20%20%20%20%20%20%20%20%20%20%20%20left%3A%200.0%25%3B%0A%20%20%20%20%20%20%20%20%20%20%20%20%20%20%20%20%20%20%20%20top%3A%200.0%25%3B%0A%20%20%20%20%20%20%20%20%20%20%20%20%20%20%20%20%7D%0A%20%20%20%20%20%20%20%20%20%20%20%20%3C/style%3E%0A%20%20%20%20%20%20%20%20%0A%3C/head%3E%0A%3Cbody%3E%20%20%20%20%0A%20%20%20%20%0A%20%20%20%20%20%20%20%20%20%20%20%20%3Cdiv%20class%3D%22folium-map%22%20id%3D%22map_d69bc0ce8219409591ed062394fd63e8%22%20%3E%3C/div%3E%0A%20%20%20%20%20%20%20%20%0A%3C/body%3E%0A%3Cscript%3E%20%20%20%20%0A%20%20%20%20%0A%20%20%20%20%20%20%20%20%20%20%20%20var%20map_d69bc0ce8219409591ed062394fd63e8%20%3D%20L.map%28%0A%20%20%20%20%20%20%20%20%20%20%20%20%20%20%20%20%22map_d69bc0ce8219409591ed062394fd63e8%22%2C%0A%20%20%20%20%20%20%20%20%20%20%20%20%20%20%20%20%7B%0A%20%20%20%20%20%20%20%20%20%20%20%20%20%20%20%20%20%20%20%20center%3A%20%5B49.279862%2C%20-123.116838%5D%2C%0A%20%20%20%20%20%20%20%20%20%20%20%20%20%20%20%20%20%20%20%20crs%3A%20L.CRS.EPSG3857%2C%0A%20%20%20%20%20%20%20%20%20%20%20%20%20%20%20%20%20%20%20%20zoom%3A%2011%2C%0A%20%20%20%20%20%20%20%20%20%20%20%20%20%20%20%20%20%20%20%20zoomControl%3A%20true%2C%0A%20%20%20%20%20%20%20%20%20%20%20%20%20%20%20%20%20%20%20%20preferCanvas%3A%20false%2C%0A%20%20%20%20%20%20%20%20%20%20%20%20%20%20%20%20%7D%0A%20%20%20%20%20%20%20%20%20%20%20%20%29%3B%0A%0A%20%20%20%20%20%20%20%20%20%20%20%20%0A%0A%20%20%20%20%20%20%20%20%0A%20%20%20%20%0A%20%20%20%20%20%20%20%20%20%20%20%20var%20tile_layer_f900be5bd61849c1a9fd268debba7c5e%20%3D%20L.tileLayer%28%0A%20%20%20%20%20%20%20%20%20%20%20%20%20%20%20%20%22https%3A//%7Bs%7D.tile.openstreetmap.org/%7Bz%7D/%7Bx%7D/%7By%7D.png%22%2C%0A%20%20%20%20%20%20%20%20%20%20%20%20%20%20%20%20%7B%22attribution%22%3A%20%22Data%20by%20%5Cu0026copy%3B%20%5Cu003ca%20href%3D%5C%22http%3A//openstreetmap.org%5C%22%5Cu003eOpenStreetMap%5Cu003c/a%5Cu003e%2C%20under%20%5Cu003ca%20href%3D%5C%22http%3A//www.openstreetmap.org/copyright%5C%22%5Cu003eODbL%5Cu003c/a%5Cu003e.%22%2C%20%22detectRetina%22%3A%20false%2C%20%22maxNativeZoom%22%3A%2018%2C%20%22maxZoom%22%3A%2018%2C%20%22minZoom%22%3A%200%2C%20%22noWrap%22%3A%20false%2C%20%22opacity%22%3A%201%2C%20%22subdomains%22%3A%20%22abc%22%2C%20%22tms%22%3A%20false%7D%0A%20%20%20%20%20%20%20%20%20%20%20%20%29.addTo%28map_d69bc0ce8219409591ed062394fd63e8%29%3B%0A%20%20%20%20%20%20%20%20%0A%20%20%20%20%0A%20%20%20%20%20%20%20%20%20%20%20%20var%20circle_marker_9635ba2c815a4738b3c84eef6f9150cf%20%3D%20L.circleMarker%28%0A%20%20%20%20%20%20%20%20%20%20%20%20%20%20%20%20%5B49.279862%2C%20-123.116838%5D%2C%0A%20%20%20%20%20%20%20%20%20%20%20%20%20%20%20%20%7B%22bubblingMouseEvents%22%3A%20true%2C%20%22color%22%3A%20%22black%22%2C%20%22dashArray%22%3A%20null%2C%20%22dashOffset%22%3A%20null%2C%20%22fill%22%3A%20true%2C%20%22fillColor%22%3A%20%22blue%22%2C%20%22fillOpacity%22%3A%201%2C%20%22fillRule%22%3A%20%22evenodd%22%2C%20%22lineCap%22%3A%20%22round%22%2C%20%22lineJoin%22%3A%20%22round%22%2C%20%22opacity%22%3A%201.0%2C%20%22radius%22%3A%2010%2C%20%22stroke%22%3A%20true%2C%20%22weight%22%3A%203%7D%0A%20%20%20%20%20%20%20%20%20%20%20%20%29.addTo%28map_d69bc0ce8219409591ed062394fd63e8%29%3B%0A%20%20%20%20%20%20%20%20%0A%20%20%20%20%0A%20%20%20%20%20%20%20%20var%20popup_ed79d146b1e0419b812c25600f7a8e30%20%3D%20L.popup%28%7B%22maxWidth%22%3A%20%22100%25%22%7D%29%3B%0A%0A%20%20%20%20%20%20%20%20%0A%20%20%20%20%20%20%20%20%20%20%20%20var%20html_336ad3f64da64ed2a8253e08393f881a%20%3D%20%24%28%60%3Cdiv%20id%3D%22html_336ad3f64da64ed2a8253e08393f881a%22%20style%3D%22width%3A%20100.0%25%3B%20height%3A%20100.0%25%3B%22%3EThe%20Westin%20Grand%2C%20433%20Robson%20Street%2C%20Vancouver%2C%20British%20Columbia%20V6B%206L9%2C%20Canada%3C/div%3E%60%29%5B0%5D%3B%0A%20%20%20%20%20%20%20%20%20%20%20%20popup_ed79d146b1e0419b812c25600f7a8e30.setContent%28html_336ad3f64da64ed2a8253e08393f881a%29%3B%0A%20%20%20%20%20%20%20%20%0A%0A%20%20%20%20%20%20%20%20circle_marker_9635ba2c815a4738b3c84eef6f9150cf.bindPopup%28popup_ed79d146b1e0419b812c25600f7a8e30%29%0A%20%20%20%20%20%20%20%20%3B%0A%0A%20%20%20%20%20%20%20%20%0A%20%20%20%20%0A%3C/script%3E onload=\"this.contentDocument.open();this.contentDocument.write(    decodeURIComponent(this.getAttribute('data-html')));this.contentDocument.close();\" allowfullscreen webkitallowfullscreen mozallowfullscreen></iframe></div></div>"
      ],
      "text/plain": [
       "<folium.folium.Map at 0x2a0db11a190>"
      ]
     },
     "execution_count": 7,
     "metadata": {},
     "output_type": "execute_result"
    }
   ],
   "source": [
    "Map1 = folium.Map(\n",
    "    location=[Vancouver.latitude,Vancouver.longitude],\n",
    "    zoom_start=11,\n",
    ")\n",
    "\n",
    "point=folium.CircleMarker(\n",
    "        location=[Vancouver.latitude,Vancouver.longitude],\n",
    "        radius=10,\n",
    "        popup=Vancouver,\n",
    "        fill_opacity = 1,\n",
    "        fill=True,\n",
    "        color='black',\n",
    "        line_weight=.35,\n",
    "        fill_color='blue'\n",
    ")\n",
    "\n",
    "point.add_to(Map1)\n",
    "\n",
    "Map1"
   ]
  },
  {
   "cell_type": "markdown",
   "metadata": {},
   "source": [
    "## Chaning our basemap and zoom level"
   ]
  },
  {
   "cell_type": "code",
   "execution_count": 8,
   "metadata": {},
   "outputs": [
    {
     "data": {
      "text/html": [
       "<div style=\"width:100%;\"><div style=\"position:relative;width:100%;height:0;padding-bottom:60%;\"><span style=\"color:#565656\">Make this Notebook Trusted to load map: File -> Trust Notebook</span><iframe src=\"about:blank\" style=\"position:absolute;width:100%;height:100%;left:0;top:0;border:none !important;\" data-html=%3C%21DOCTYPE%20html%3E%0A%3Chead%3E%20%20%20%20%0A%20%20%20%20%3Cmeta%20http-equiv%3D%22content-type%22%20content%3D%22text/html%3B%20charset%3DUTF-8%22%20/%3E%0A%20%20%20%20%0A%20%20%20%20%20%20%20%20%3Cscript%3E%0A%20%20%20%20%20%20%20%20%20%20%20%20L_NO_TOUCH%20%3D%20false%3B%0A%20%20%20%20%20%20%20%20%20%20%20%20L_DISABLE_3D%20%3D%20false%3B%0A%20%20%20%20%20%20%20%20%3C/script%3E%0A%20%20%20%20%0A%20%20%20%20%3Cstyle%3Ehtml%2C%20body%20%7Bwidth%3A%20100%25%3Bheight%3A%20100%25%3Bmargin%3A%200%3Bpadding%3A%200%3B%7D%3C/style%3E%0A%20%20%20%20%3Cstyle%3E%23map%20%7Bposition%3Aabsolute%3Btop%3A0%3Bbottom%3A0%3Bright%3A0%3Bleft%3A0%3B%7D%3C/style%3E%0A%20%20%20%20%3Cscript%20src%3D%22https%3A//cdn.jsdelivr.net/npm/leaflet%401.6.0/dist/leaflet.js%22%3E%3C/script%3E%0A%20%20%20%20%3Cscript%20src%3D%22https%3A//code.jquery.com/jquery-1.12.4.min.js%22%3E%3C/script%3E%0A%20%20%20%20%3Cscript%20src%3D%22https%3A//maxcdn.bootstrapcdn.com/bootstrap/3.2.0/js/bootstrap.min.js%22%3E%3C/script%3E%0A%20%20%20%20%3Cscript%20src%3D%22https%3A//cdnjs.cloudflare.com/ajax/libs/Leaflet.awesome-markers/2.0.2/leaflet.awesome-markers.js%22%3E%3C/script%3E%0A%20%20%20%20%3Clink%20rel%3D%22stylesheet%22%20href%3D%22https%3A//cdn.jsdelivr.net/npm/leaflet%401.6.0/dist/leaflet.css%22/%3E%0A%20%20%20%20%3Clink%20rel%3D%22stylesheet%22%20href%3D%22https%3A//maxcdn.bootstrapcdn.com/bootstrap/3.2.0/css/bootstrap.min.css%22/%3E%0A%20%20%20%20%3Clink%20rel%3D%22stylesheet%22%20href%3D%22https%3A//maxcdn.bootstrapcdn.com/bootstrap/3.2.0/css/bootstrap-theme.min.css%22/%3E%0A%20%20%20%20%3Clink%20rel%3D%22stylesheet%22%20href%3D%22https%3A//maxcdn.bootstrapcdn.com/font-awesome/4.6.3/css/font-awesome.min.css%22/%3E%0A%20%20%20%20%3Clink%20rel%3D%22stylesheet%22%20href%3D%22https%3A//cdnjs.cloudflare.com/ajax/libs/Leaflet.awesome-markers/2.0.2/leaflet.awesome-markers.css%22/%3E%0A%20%20%20%20%3Clink%20rel%3D%22stylesheet%22%20href%3D%22https%3A//cdn.jsdelivr.net/gh/python-visualization/folium/folium/templates/leaflet.awesome.rotate.min.css%22/%3E%0A%20%20%20%20%0A%20%20%20%20%20%20%20%20%20%20%20%20%3Cmeta%20name%3D%22viewport%22%20content%3D%22width%3Ddevice-width%2C%0A%20%20%20%20%20%20%20%20%20%20%20%20%20%20%20%20initial-scale%3D1.0%2C%20maximum-scale%3D1.0%2C%20user-scalable%3Dno%22%20/%3E%0A%20%20%20%20%20%20%20%20%20%20%20%20%3Cstyle%3E%0A%20%20%20%20%20%20%20%20%20%20%20%20%20%20%20%20%23map_fd081bcaae8b46f3a3ac6d8354f8f307%20%7B%0A%20%20%20%20%20%20%20%20%20%20%20%20%20%20%20%20%20%20%20%20position%3A%20relative%3B%0A%20%20%20%20%20%20%20%20%20%20%20%20%20%20%20%20%20%20%20%20width%3A%20100.0%25%3B%0A%20%20%20%20%20%20%20%20%20%20%20%20%20%20%20%20%20%20%20%20height%3A%20100.0%25%3B%0A%20%20%20%20%20%20%20%20%20%20%20%20%20%20%20%20%20%20%20%20left%3A%200.0%25%3B%0A%20%20%20%20%20%20%20%20%20%20%20%20%20%20%20%20%20%20%20%20top%3A%200.0%25%3B%0A%20%20%20%20%20%20%20%20%20%20%20%20%20%20%20%20%7D%0A%20%20%20%20%20%20%20%20%20%20%20%20%3C/style%3E%0A%20%20%20%20%20%20%20%20%0A%3C/head%3E%0A%3Cbody%3E%20%20%20%20%0A%20%20%20%20%0A%20%20%20%20%20%20%20%20%20%20%20%20%3Cdiv%20class%3D%22folium-map%22%20id%3D%22map_fd081bcaae8b46f3a3ac6d8354f8f307%22%20%3E%3C/div%3E%0A%20%20%20%20%20%20%20%20%0A%3C/body%3E%0A%3Cscript%3E%20%20%20%20%0A%20%20%20%20%0A%20%20%20%20%20%20%20%20%20%20%20%20var%20map_fd081bcaae8b46f3a3ac6d8354f8f307%20%3D%20L.map%28%0A%20%20%20%20%20%20%20%20%20%20%20%20%20%20%20%20%22map_fd081bcaae8b46f3a3ac6d8354f8f307%22%2C%0A%20%20%20%20%20%20%20%20%20%20%20%20%20%20%20%20%7B%0A%20%20%20%20%20%20%20%20%20%20%20%20%20%20%20%20%20%20%20%20center%3A%20%5B49.279862%2C%20-123.116838%5D%2C%0A%20%20%20%20%20%20%20%20%20%20%20%20%20%20%20%20%20%20%20%20crs%3A%20L.CRS.EPSG3857%2C%0A%20%20%20%20%20%20%20%20%20%20%20%20%20%20%20%20%20%20%20%20zoom%3A%203%2C%0A%20%20%20%20%20%20%20%20%20%20%20%20%20%20%20%20%20%20%20%20zoomControl%3A%20true%2C%0A%20%20%20%20%20%20%20%20%20%20%20%20%20%20%20%20%20%20%20%20preferCanvas%3A%20false%2C%0A%20%20%20%20%20%20%20%20%20%20%20%20%20%20%20%20%7D%0A%20%20%20%20%20%20%20%20%20%20%20%20%29%3B%0A%0A%20%20%20%20%20%20%20%20%20%20%20%20%0A%0A%20%20%20%20%20%20%20%20%0A%20%20%20%20%0A%20%20%20%20%20%20%20%20%20%20%20%20var%20tile_layer_d05b7a9242824b0eaa190ec099a873aa%20%3D%20L.tileLayer%28%0A%20%20%20%20%20%20%20%20%20%20%20%20%20%20%20%20%22https%3A//stamen-tiles-%7Bs%7D.a.ssl.fastly.net/terrain/%7Bz%7D/%7Bx%7D/%7By%7D.jpg%22%2C%0A%20%20%20%20%20%20%20%20%20%20%20%20%20%20%20%20%7B%22attribution%22%3A%20%22Map%20tiles%20by%20%5Cu003ca%20href%3D%5C%22http%3A//stamen.com%5C%22%5Cu003eStamen%20Design%5Cu003c/a%5Cu003e%2C%20under%20%5Cu003ca%20href%3D%5C%22http%3A//creativecommons.org/licenses/by/3.0%5C%22%5Cu003eCC%20BY%203.0%5Cu003c/a%5Cu003e.%20Data%20by%20%5Cu0026copy%3B%20%5Cu003ca%20href%3D%5C%22http%3A//openstreetmap.org%5C%22%5Cu003eOpenStreetMap%5Cu003c/a%5Cu003e%2C%20under%20%5Cu003ca%20href%3D%5C%22http%3A//creativecommons.org/licenses/by-sa/3.0%5C%22%5Cu003eCC%20BY%20SA%5Cu003c/a%5Cu003e.%22%2C%20%22detectRetina%22%3A%20false%2C%20%22maxNativeZoom%22%3A%2018%2C%20%22maxZoom%22%3A%2018%2C%20%22minZoom%22%3A%200%2C%20%22noWrap%22%3A%20false%2C%20%22opacity%22%3A%201%2C%20%22subdomains%22%3A%20%22abc%22%2C%20%22tms%22%3A%20false%7D%0A%20%20%20%20%20%20%20%20%20%20%20%20%29.addTo%28map_fd081bcaae8b46f3a3ac6d8354f8f307%29%3B%0A%20%20%20%20%20%20%20%20%0A%20%20%20%20%0A%20%20%20%20%20%20%20%20%20%20%20%20var%20circle_marker_9635ba2c815a4738b3c84eef6f9150cf%20%3D%20L.circleMarker%28%0A%20%20%20%20%20%20%20%20%20%20%20%20%20%20%20%20%5B49.279862%2C%20-123.116838%5D%2C%0A%20%20%20%20%20%20%20%20%20%20%20%20%20%20%20%20%7B%22bubblingMouseEvents%22%3A%20true%2C%20%22color%22%3A%20%22black%22%2C%20%22dashArray%22%3A%20null%2C%20%22dashOffset%22%3A%20null%2C%20%22fill%22%3A%20true%2C%20%22fillColor%22%3A%20%22blue%22%2C%20%22fillOpacity%22%3A%201%2C%20%22fillRule%22%3A%20%22evenodd%22%2C%20%22lineCap%22%3A%20%22round%22%2C%20%22lineJoin%22%3A%20%22round%22%2C%20%22opacity%22%3A%201.0%2C%20%22radius%22%3A%2010%2C%20%22stroke%22%3A%20true%2C%20%22weight%22%3A%203%7D%0A%20%20%20%20%20%20%20%20%20%20%20%20%29.addTo%28map_fd081bcaae8b46f3a3ac6d8354f8f307%29%3B%0A%20%20%20%20%20%20%20%20%0A%20%20%20%20%0A%20%20%20%20%20%20%20%20var%20popup_ed79d146b1e0419b812c25600f7a8e30%20%3D%20L.popup%28%7B%22maxWidth%22%3A%20%22100%25%22%7D%29%3B%0A%0A%20%20%20%20%20%20%20%20%0A%20%20%20%20%20%20%20%20%20%20%20%20var%20html_336ad3f64da64ed2a8253e08393f881a%20%3D%20%24%28%60%3Cdiv%20id%3D%22html_336ad3f64da64ed2a8253e08393f881a%22%20style%3D%22width%3A%20100.0%25%3B%20height%3A%20100.0%25%3B%22%3EThe%20Westin%20Grand%2C%20433%20Robson%20Street%2C%20Vancouver%2C%20British%20Columbia%20V6B%206L9%2C%20Canada%3C/div%3E%60%29%5B0%5D%3B%0A%20%20%20%20%20%20%20%20%20%20%20%20popup_ed79d146b1e0419b812c25600f7a8e30.setContent%28html_336ad3f64da64ed2a8253e08393f881a%29%3B%0A%20%20%20%20%20%20%20%20%0A%0A%20%20%20%20%20%20%20%20circle_marker_9635ba2c815a4738b3c84eef6f9150cf.bindPopup%28popup_ed79d146b1e0419b812c25600f7a8e30%29%0A%20%20%20%20%20%20%20%20%3B%0A%0A%20%20%20%20%20%20%20%20%0A%20%20%20%20%0A%3C/script%3E onload=\"this.contentDocument.open();this.contentDocument.write(    decodeURIComponent(this.getAttribute('data-html')));this.contentDocument.close();\" allowfullscreen webkitallowfullscreen mozallowfullscreen></iframe></div></div>"
      ],
      "text/plain": [
       "<folium.folium.Map at 0x2a0db274bb0>"
      ]
     },
     "execution_count": 8,
     "metadata": {},
     "output_type": "execute_result"
    }
   ],
   "source": [
    "Map2 = folium.Map(\n",
    "    location=[Vancouver.latitude,Vancouver.longitude],\n",
    "    zoom_start=3,\n",
    "    tiles='Stamen Terrain'\n",
    ")\n",
    "\n",
    "point.add_to(Map2)\n",
    "\n",
    "Map2"
   ]
  },
  {
   "cell_type": "markdown",
   "metadata": {},
   "source": [
    "## Using Mapbox satelite tiles\n",
    "\n",
    "You can use your Mapbox account to access their satellite basemap layer."
   ]
  },
  {
   "cell_type": "code",
   "execution_count": 9,
   "metadata": {},
   "outputs": [
    {
     "data": {
      "text/html": [
       "<div style=\"width:100%;\"><div style=\"position:relative;width:100%;height:0;padding-bottom:60%;\"><span style=\"color:#565656\">Make this Notebook Trusted to load map: File -> Trust Notebook</span><iframe src=\"about:blank\" style=\"position:absolute;width:100%;height:100%;left:0;top:0;border:none !important;\" data-html=%3C%21DOCTYPE%20html%3E%0A%3Chead%3E%20%20%20%20%0A%20%20%20%20%3Cmeta%20http-equiv%3D%22content-type%22%20content%3D%22text/html%3B%20charset%3DUTF-8%22%20/%3E%0A%20%20%20%20%0A%20%20%20%20%20%20%20%20%3Cscript%3E%0A%20%20%20%20%20%20%20%20%20%20%20%20L_NO_TOUCH%20%3D%20false%3B%0A%20%20%20%20%20%20%20%20%20%20%20%20L_DISABLE_3D%20%3D%20false%3B%0A%20%20%20%20%20%20%20%20%3C/script%3E%0A%20%20%20%20%0A%20%20%20%20%3Cstyle%3Ehtml%2C%20body%20%7Bwidth%3A%20100%25%3Bheight%3A%20100%25%3Bmargin%3A%200%3Bpadding%3A%200%3B%7D%3C/style%3E%0A%20%20%20%20%3Cstyle%3E%23map%20%7Bposition%3Aabsolute%3Btop%3A0%3Bbottom%3A0%3Bright%3A0%3Bleft%3A0%3B%7D%3C/style%3E%0A%20%20%20%20%3Cscript%20src%3D%22https%3A//cdn.jsdelivr.net/npm/leaflet%401.6.0/dist/leaflet.js%22%3E%3C/script%3E%0A%20%20%20%20%3Cscript%20src%3D%22https%3A//code.jquery.com/jquery-1.12.4.min.js%22%3E%3C/script%3E%0A%20%20%20%20%3Cscript%20src%3D%22https%3A//maxcdn.bootstrapcdn.com/bootstrap/3.2.0/js/bootstrap.min.js%22%3E%3C/script%3E%0A%20%20%20%20%3Cscript%20src%3D%22https%3A//cdnjs.cloudflare.com/ajax/libs/Leaflet.awesome-markers/2.0.2/leaflet.awesome-markers.js%22%3E%3C/script%3E%0A%20%20%20%20%3Clink%20rel%3D%22stylesheet%22%20href%3D%22https%3A//cdn.jsdelivr.net/npm/leaflet%401.6.0/dist/leaflet.css%22/%3E%0A%20%20%20%20%3Clink%20rel%3D%22stylesheet%22%20href%3D%22https%3A//maxcdn.bootstrapcdn.com/bootstrap/3.2.0/css/bootstrap.min.css%22/%3E%0A%20%20%20%20%3Clink%20rel%3D%22stylesheet%22%20href%3D%22https%3A//maxcdn.bootstrapcdn.com/bootstrap/3.2.0/css/bootstrap-theme.min.css%22/%3E%0A%20%20%20%20%3Clink%20rel%3D%22stylesheet%22%20href%3D%22https%3A//maxcdn.bootstrapcdn.com/font-awesome/4.6.3/css/font-awesome.min.css%22/%3E%0A%20%20%20%20%3Clink%20rel%3D%22stylesheet%22%20href%3D%22https%3A//cdnjs.cloudflare.com/ajax/libs/Leaflet.awesome-markers/2.0.2/leaflet.awesome-markers.css%22/%3E%0A%20%20%20%20%3Clink%20rel%3D%22stylesheet%22%20href%3D%22https%3A//cdn.jsdelivr.net/gh/python-visualization/folium/folium/templates/leaflet.awesome.rotate.min.css%22/%3E%0A%20%20%20%20%0A%20%20%20%20%20%20%20%20%20%20%20%20%3Cmeta%20name%3D%22viewport%22%20content%3D%22width%3Ddevice-width%2C%0A%20%20%20%20%20%20%20%20%20%20%20%20%20%20%20%20initial-scale%3D1.0%2C%20maximum-scale%3D1.0%2C%20user-scalable%3Dno%22%20/%3E%0A%20%20%20%20%20%20%20%20%20%20%20%20%3Cstyle%3E%0A%20%20%20%20%20%20%20%20%20%20%20%20%20%20%20%20%23map_5b5ea080bcd641b292d046fb17ea420d%20%7B%0A%20%20%20%20%20%20%20%20%20%20%20%20%20%20%20%20%20%20%20%20position%3A%20relative%3B%0A%20%20%20%20%20%20%20%20%20%20%20%20%20%20%20%20%20%20%20%20width%3A%20100.0%25%3B%0A%20%20%20%20%20%20%20%20%20%20%20%20%20%20%20%20%20%20%20%20height%3A%20100.0%25%3B%0A%20%20%20%20%20%20%20%20%20%20%20%20%20%20%20%20%20%20%20%20left%3A%200.0%25%3B%0A%20%20%20%20%20%20%20%20%20%20%20%20%20%20%20%20%20%20%20%20top%3A%200.0%25%3B%0A%20%20%20%20%20%20%20%20%20%20%20%20%20%20%20%20%7D%0A%20%20%20%20%20%20%20%20%20%20%20%20%3C/style%3E%0A%20%20%20%20%20%20%20%20%0A%3C/head%3E%0A%3Cbody%3E%20%20%20%20%0A%20%20%20%20%0A%20%20%20%20%20%20%20%20%20%20%20%20%3Cdiv%20class%3D%22folium-map%22%20id%3D%22map_5b5ea080bcd641b292d046fb17ea420d%22%20%3E%3C/div%3E%0A%20%20%20%20%20%20%20%20%0A%3C/body%3E%0A%3Cscript%3E%20%20%20%20%0A%20%20%20%20%0A%20%20%20%20%20%20%20%20%20%20%20%20var%20map_5b5ea080bcd641b292d046fb17ea420d%20%3D%20L.map%28%0A%20%20%20%20%20%20%20%20%20%20%20%20%20%20%20%20%22map_5b5ea080bcd641b292d046fb17ea420d%22%2C%0A%20%20%20%20%20%20%20%20%20%20%20%20%20%20%20%20%7B%0A%20%20%20%20%20%20%20%20%20%20%20%20%20%20%20%20%20%20%20%20center%3A%20%5B49.279862%2C%20-123.116838%5D%2C%0A%20%20%20%20%20%20%20%20%20%20%20%20%20%20%20%20%20%20%20%20crs%3A%20L.CRS.EPSG3857%2C%0A%20%20%20%20%20%20%20%20%20%20%20%20%20%20%20%20%20%20%20%20zoom%3A%2012%2C%0A%20%20%20%20%20%20%20%20%20%20%20%20%20%20%20%20%20%20%20%20zoomControl%3A%20true%2C%0A%20%20%20%20%20%20%20%20%20%20%20%20%20%20%20%20%20%20%20%20preferCanvas%3A%20false%2C%0A%20%20%20%20%20%20%20%20%20%20%20%20%20%20%20%20%7D%0A%20%20%20%20%20%20%20%20%20%20%20%20%29%3B%0A%0A%20%20%20%20%20%20%20%20%20%20%20%20%0A%0A%20%20%20%20%20%20%20%20%0A%20%20%20%20%0A%20%20%20%20%20%20%20%20%20%20%20%20var%20tile_layer_ee970f449c444661bb9387611ed0656e%20%3D%20L.tileLayer%28%0A%20%20%20%20%20%20%20%20%20%20%20%20%20%20%20%20%22https%3A//api.mapbox.com/v4/mapbox.satellite/%7Bz%7D/%7Bx%7D/%7By%7D%402x.png%3Faccess_token%3Dpk.eyJ1IjoianVuZXNwYWNlYm9vdHMiLCJhIjoiY2twY3g4aXloMWFlcDJzbXN3aG95aG5uZiJ9.mFiJt0MIfL1MiJ2rB2xhKQ%22%2C%0A%20%20%20%20%20%20%20%20%20%20%20%20%20%20%20%20%7B%22attribution%22%3A%20%22Mapbox%22%2C%20%22detectRetina%22%3A%20false%2C%20%22maxNativeZoom%22%3A%2018%2C%20%22maxZoom%22%3A%2018%2C%20%22minZoom%22%3A%200%2C%20%22noWrap%22%3A%20false%2C%20%22opacity%22%3A%201%2C%20%22subdomains%22%3A%20%22abc%22%2C%20%22tms%22%3A%20false%7D%0A%20%20%20%20%20%20%20%20%20%20%20%20%29.addTo%28map_5b5ea080bcd641b292d046fb17ea420d%29%3B%0A%20%20%20%20%20%20%20%20%0A%20%20%20%20%0A%20%20%20%20%20%20%20%20%20%20%20%20var%20circle_marker_9635ba2c815a4738b3c84eef6f9150cf%20%3D%20L.circleMarker%28%0A%20%20%20%20%20%20%20%20%20%20%20%20%20%20%20%20%5B49.279862%2C%20-123.116838%5D%2C%0A%20%20%20%20%20%20%20%20%20%20%20%20%20%20%20%20%7B%22bubblingMouseEvents%22%3A%20true%2C%20%22color%22%3A%20%22black%22%2C%20%22dashArray%22%3A%20null%2C%20%22dashOffset%22%3A%20null%2C%20%22fill%22%3A%20true%2C%20%22fillColor%22%3A%20%22blue%22%2C%20%22fillOpacity%22%3A%201%2C%20%22fillRule%22%3A%20%22evenodd%22%2C%20%22lineCap%22%3A%20%22round%22%2C%20%22lineJoin%22%3A%20%22round%22%2C%20%22opacity%22%3A%201.0%2C%20%22radius%22%3A%2010%2C%20%22stroke%22%3A%20true%2C%20%22weight%22%3A%203%7D%0A%20%20%20%20%20%20%20%20%20%20%20%20%29.addTo%28map_5b5ea080bcd641b292d046fb17ea420d%29%3B%0A%20%20%20%20%20%20%20%20%0A%20%20%20%20%0A%20%20%20%20%20%20%20%20var%20popup_ed79d146b1e0419b812c25600f7a8e30%20%3D%20L.popup%28%7B%22maxWidth%22%3A%20%22100%25%22%7D%29%3B%0A%0A%20%20%20%20%20%20%20%20%0A%20%20%20%20%20%20%20%20%20%20%20%20var%20html_336ad3f64da64ed2a8253e08393f881a%20%3D%20%24%28%60%3Cdiv%20id%3D%22html_336ad3f64da64ed2a8253e08393f881a%22%20style%3D%22width%3A%20100.0%25%3B%20height%3A%20100.0%25%3B%22%3EThe%20Westin%20Grand%2C%20433%20Robson%20Street%2C%20Vancouver%2C%20British%20Columbia%20V6B%206L9%2C%20Canada%3C/div%3E%60%29%5B0%5D%3B%0A%20%20%20%20%20%20%20%20%20%20%20%20popup_ed79d146b1e0419b812c25600f7a8e30.setContent%28html_336ad3f64da64ed2a8253e08393f881a%29%3B%0A%20%20%20%20%20%20%20%20%0A%0A%20%20%20%20%20%20%20%20circle_marker_9635ba2c815a4738b3c84eef6f9150cf.bindPopup%28popup_ed79d146b1e0419b812c25600f7a8e30%29%0A%20%20%20%20%20%20%20%20%3B%0A%0A%20%20%20%20%20%20%20%20%0A%20%20%20%20%0A%3C/script%3E onload=\"this.contentDocument.open();this.contentDocument.write(    decodeURIComponent(this.getAttribute('data-html')));this.contentDocument.close();\" allowfullscreen webkitallowfullscreen mozallowfullscreen></iframe></div></div>"
      ],
      "text/plain": [
       "<folium.folium.Map at 0x2a0db282190>"
      ]
     },
     "execution_count": 9,
     "metadata": {},
     "output_type": "execute_result"
    }
   ],
   "source": [
    "tileurl = 'https://api.mapbox.com/v4/mapbox.satellite/{z}/{x}/{y}@2x.png?access_token=' + str(access_token)\n",
    "Map3 = folium.Map(location=[Vancouver.latitude,Vancouver.longitude],\n",
    "                 zoom_start=12,\n",
    "                 tiles=tileurl, \n",
    "                 attr='Mapbox')\n",
    "\n",
    "point.add_to(Map3)\n",
    "\n",
    "Map3"
   ]
  },
  {
   "cell_type": "markdown",
   "metadata": {},
   "source": [
    "## Using functions to avoid repetition\n",
    "\n",
    "If we have multiple points to map, it would be redundant to type out the same command repeatedly.  We can create a [function](https://www.w3schools.com/python/python_functions.asp) to take some inputs and repeat the task for us."
   ]
  },
  {
   "cell_type": "code",
   "execution_count": 10,
   "metadata": {},
   "outputs": [
    {
     "data": {
      "text/html": [
       "<div style=\"width:100%;\"><div style=\"position:relative;width:100%;height:0;padding-bottom:60%;\"><span style=\"color:#565656\">Make this Notebook Trusted to load map: File -> Trust Notebook</span><iframe src=\"about:blank\" style=\"position:absolute;width:100%;height:100%;left:0;top:0;border:none !important;\" data-html=%3C%21DOCTYPE%20html%3E%0A%3Chead%3E%20%20%20%20%0A%20%20%20%20%3Cmeta%20http-equiv%3D%22content-type%22%20content%3D%22text/html%3B%20charset%3DUTF-8%22%20/%3E%0A%20%20%20%20%0A%20%20%20%20%20%20%20%20%3Cscript%3E%0A%20%20%20%20%20%20%20%20%20%20%20%20L_NO_TOUCH%20%3D%20false%3B%0A%20%20%20%20%20%20%20%20%20%20%20%20L_DISABLE_3D%20%3D%20false%3B%0A%20%20%20%20%20%20%20%20%3C/script%3E%0A%20%20%20%20%0A%20%20%20%20%3Cstyle%3Ehtml%2C%20body%20%7Bwidth%3A%20100%25%3Bheight%3A%20100%25%3Bmargin%3A%200%3Bpadding%3A%200%3B%7D%3C/style%3E%0A%20%20%20%20%3Cstyle%3E%23map%20%7Bposition%3Aabsolute%3Btop%3A0%3Bbottom%3A0%3Bright%3A0%3Bleft%3A0%3B%7D%3C/style%3E%0A%20%20%20%20%3Cscript%20src%3D%22https%3A//cdn.jsdelivr.net/npm/leaflet%401.6.0/dist/leaflet.js%22%3E%3C/script%3E%0A%20%20%20%20%3Cscript%20src%3D%22https%3A//code.jquery.com/jquery-1.12.4.min.js%22%3E%3C/script%3E%0A%20%20%20%20%3Cscript%20src%3D%22https%3A//maxcdn.bootstrapcdn.com/bootstrap/3.2.0/js/bootstrap.min.js%22%3E%3C/script%3E%0A%20%20%20%20%3Cscript%20src%3D%22https%3A//cdnjs.cloudflare.com/ajax/libs/Leaflet.awesome-markers/2.0.2/leaflet.awesome-markers.js%22%3E%3C/script%3E%0A%20%20%20%20%3Clink%20rel%3D%22stylesheet%22%20href%3D%22https%3A//cdn.jsdelivr.net/npm/leaflet%401.6.0/dist/leaflet.css%22/%3E%0A%20%20%20%20%3Clink%20rel%3D%22stylesheet%22%20href%3D%22https%3A//maxcdn.bootstrapcdn.com/bootstrap/3.2.0/css/bootstrap.min.css%22/%3E%0A%20%20%20%20%3Clink%20rel%3D%22stylesheet%22%20href%3D%22https%3A//maxcdn.bootstrapcdn.com/bootstrap/3.2.0/css/bootstrap-theme.min.css%22/%3E%0A%20%20%20%20%3Clink%20rel%3D%22stylesheet%22%20href%3D%22https%3A//maxcdn.bootstrapcdn.com/font-awesome/4.6.3/css/font-awesome.min.css%22/%3E%0A%20%20%20%20%3Clink%20rel%3D%22stylesheet%22%20href%3D%22https%3A//cdnjs.cloudflare.com/ajax/libs/Leaflet.awesome-markers/2.0.2/leaflet.awesome-markers.css%22/%3E%0A%20%20%20%20%3Clink%20rel%3D%22stylesheet%22%20href%3D%22https%3A//cdn.jsdelivr.net/gh/python-visualization/folium/folium/templates/leaflet.awesome.rotate.min.css%22/%3E%0A%20%20%20%20%0A%20%20%20%20%20%20%20%20%20%20%20%20%3Cmeta%20name%3D%22viewport%22%20content%3D%22width%3Ddevice-width%2C%0A%20%20%20%20%20%20%20%20%20%20%20%20%20%20%20%20initial-scale%3D1.0%2C%20maximum-scale%3D1.0%2C%20user-scalable%3Dno%22%20/%3E%0A%20%20%20%20%20%20%20%20%20%20%20%20%3Cstyle%3E%0A%20%20%20%20%20%20%20%20%20%20%20%20%20%20%20%20%23map_a7d09eca106b4746888bffed061168bf%20%7B%0A%20%20%20%20%20%20%20%20%20%20%20%20%20%20%20%20%20%20%20%20position%3A%20relative%3B%0A%20%20%20%20%20%20%20%20%20%20%20%20%20%20%20%20%20%20%20%20width%3A%20100.0%25%3B%0A%20%20%20%20%20%20%20%20%20%20%20%20%20%20%20%20%20%20%20%20height%3A%20100.0%25%3B%0A%20%20%20%20%20%20%20%20%20%20%20%20%20%20%20%20%20%20%20%20left%3A%200.0%25%3B%0A%20%20%20%20%20%20%20%20%20%20%20%20%20%20%20%20%20%20%20%20top%3A%200.0%25%3B%0A%20%20%20%20%20%20%20%20%20%20%20%20%20%20%20%20%7D%0A%20%20%20%20%20%20%20%20%20%20%20%20%3C/style%3E%0A%20%20%20%20%20%20%20%20%0A%3C/head%3E%0A%3Cbody%3E%20%20%20%20%0A%20%20%20%20%0A%20%20%20%20%20%20%20%20%20%20%20%20%3Cdiv%20class%3D%22folium-map%22%20id%3D%22map_a7d09eca106b4746888bffed061168bf%22%20%3E%3C/div%3E%0A%20%20%20%20%20%20%20%20%0A%3C/body%3E%0A%3Cscript%3E%20%20%20%20%0A%20%20%20%20%0A%20%20%20%20%20%20%20%20%20%20%20%20var%20map_a7d09eca106b4746888bffed061168bf%20%3D%20L.map%28%0A%20%20%20%20%20%20%20%20%20%20%20%20%20%20%20%20%22map_a7d09eca106b4746888bffed061168bf%22%2C%0A%20%20%20%20%20%20%20%20%20%20%20%20%20%20%20%20%7B%0A%20%20%20%20%20%20%20%20%20%20%20%20%20%20%20%20%20%20%20%20center%3A%20%5B0.0%2C%200.0%5D%2C%0A%20%20%20%20%20%20%20%20%20%20%20%20%20%20%20%20%20%20%20%20crs%3A%20L.CRS.EPSG3857%2C%0A%20%20%20%20%20%20%20%20%20%20%20%20%20%20%20%20%20%20%20%20zoom%3A%202%2C%0A%20%20%20%20%20%20%20%20%20%20%20%20%20%20%20%20%20%20%20%20zoomControl%3A%20true%2C%0A%20%20%20%20%20%20%20%20%20%20%20%20%20%20%20%20%20%20%20%20preferCanvas%3A%20false%2C%0A%20%20%20%20%20%20%20%20%20%20%20%20%20%20%20%20%7D%0A%20%20%20%20%20%20%20%20%20%20%20%20%29%3B%0A%0A%20%20%20%20%20%20%20%20%20%20%20%20%0A%0A%20%20%20%20%20%20%20%20%0A%20%20%20%20%0A%20%20%20%20%20%20%20%20%20%20%20%20var%20tile_layer_0bd8e804ab574b1f88ec4bd90f6efeba%20%3D%20L.tileLayer%28%0A%20%20%20%20%20%20%20%20%20%20%20%20%20%20%20%20%22https%3A//%7Bs%7D.tile.openstreetmap.org/%7Bz%7D/%7Bx%7D/%7By%7D.png%22%2C%0A%20%20%20%20%20%20%20%20%20%20%20%20%20%20%20%20%7B%22attribution%22%3A%20%22Data%20by%20%5Cu0026copy%3B%20%5Cu003ca%20href%3D%5C%22http%3A//openstreetmap.org%5C%22%5Cu003eOpenStreetMap%5Cu003c/a%5Cu003e%2C%20under%20%5Cu003ca%20href%3D%5C%22http%3A//www.openstreetmap.org/copyright%5C%22%5Cu003eODbL%5Cu003c/a%5Cu003e.%22%2C%20%22detectRetina%22%3A%20false%2C%20%22maxNativeZoom%22%3A%2018%2C%20%22maxZoom%22%3A%2018%2C%20%22minZoom%22%3A%200%2C%20%22noWrap%22%3A%20false%2C%20%22opacity%22%3A%201%2C%20%22subdomains%22%3A%20%22abc%22%2C%20%22tms%22%3A%20false%7D%0A%20%20%20%20%20%20%20%20%20%20%20%20%29.addTo%28map_a7d09eca106b4746888bffed061168bf%29%3B%0A%20%20%20%20%20%20%20%20%0A%20%20%20%20%0A%20%20%20%20%20%20%20%20%20%20%20%20var%20circle_marker_802dd473a81248b5aa3f4166880d57fe%20%3D%20L.circleMarker%28%0A%20%20%20%20%20%20%20%20%20%20%20%20%20%20%20%20%5B30.05611%2C%2031.23944%5D%2C%0A%20%20%20%20%20%20%20%20%20%20%20%20%20%20%20%20%7B%22bubblingMouseEvents%22%3A%20true%2C%20%22color%22%3A%20%22black%22%2C%20%22dashArray%22%3A%20null%2C%20%22dashOffset%22%3A%20null%2C%20%22fill%22%3A%20true%2C%20%22fillColor%22%3A%20%22red%22%2C%20%22fillOpacity%22%3A%200.75%2C%20%22fillRule%22%3A%20%22evenodd%22%2C%20%22lineCap%22%3A%20%22round%22%2C%20%22lineJoin%22%3A%20%22round%22%2C%20%22opacity%22%3A%201.0%2C%20%22radius%22%3A%205%2C%20%22stroke%22%3A%20true%2C%20%22weight%22%3A%203%7D%0A%20%20%20%20%20%20%20%20%20%20%20%20%29.addTo%28map_a7d09eca106b4746888bffed061168bf%29%3B%0A%20%20%20%20%20%20%20%20%0A%20%20%20%20%0A%20%20%20%20%20%20%20%20var%20popup_cc8200b5ab4f43a5b599f76271aad982%20%3D%20L.popup%28%7B%22maxWidth%22%3A%20%22100%25%22%7D%29%3B%0A%0A%20%20%20%20%20%20%20%20%0A%20%20%20%20%20%20%20%20%20%20%20%20var%20html_fadb00ce55a24c81a4fc3f725f731258%20%3D%20%24%28%60%3Cdiv%20id%3D%22html_fadb00ce55a24c81a4fc3f725f731258%22%20style%3D%22width%3A%20100.0%25%3B%20height%3A%20100.0%25%3B%22%3ECairo%20EG%3C/div%3E%60%29%5B0%5D%3B%0A%20%20%20%20%20%20%20%20%20%20%20%20popup_cc8200b5ab4f43a5b599f76271aad982.setContent%28html_fadb00ce55a24c81a4fc3f725f731258%29%3B%0A%20%20%20%20%20%20%20%20%0A%0A%20%20%20%20%20%20%20%20circle_marker_802dd473a81248b5aa3f4166880d57fe.bindPopup%28popup_cc8200b5ab4f43a5b599f76271aad982%29%0A%20%20%20%20%20%20%20%20%3B%0A%0A%20%20%20%20%20%20%20%20%0A%20%20%20%20%0A%20%20%20%20%0A%20%20%20%20%20%20%20%20%20%20%20%20var%20circle_marker_b15a957bfcd9418d9ad943864636f9c4%20%3D%20L.circleMarker%28%0A%20%20%20%20%20%20%20%20%20%20%20%20%20%20%20%20%5B51.515618%2C%20-0.091998%5D%2C%0A%20%20%20%20%20%20%20%20%20%20%20%20%20%20%20%20%7B%22bubblingMouseEvents%22%3A%20true%2C%20%22color%22%3A%20%22black%22%2C%20%22dashArray%22%3A%20null%2C%20%22dashOffset%22%3A%20null%2C%20%22fill%22%3A%20true%2C%20%22fillColor%22%3A%20%22red%22%2C%20%22fillOpacity%22%3A%200.75%2C%20%22fillRule%22%3A%20%22evenodd%22%2C%20%22lineCap%22%3A%20%22round%22%2C%20%22lineJoin%22%3A%20%22round%22%2C%20%22opacity%22%3A%201.0%2C%20%22radius%22%3A%205%2C%20%22stroke%22%3A%20true%2C%20%22weight%22%3A%203%7D%0A%20%20%20%20%20%20%20%20%20%20%20%20%29.addTo%28map_a7d09eca106b4746888bffed061168bf%29%3B%0A%20%20%20%20%20%20%20%20%0A%20%20%20%20%0A%20%20%20%20%20%20%20%20var%20popup_01f9c7844f934b17bb0ab4ba680c5bf8%20%3D%20L.popup%28%7B%22maxWidth%22%3A%20%22100%25%22%7D%29%3B%0A%0A%20%20%20%20%20%20%20%20%0A%20%20%20%20%20%20%20%20%20%20%20%20var%20html_6c52739d62a04fe5b252b770a9ee63e2%20%3D%20%24%28%60%3Cdiv%20id%3D%22html_6c52739d62a04fe5b252b770a9ee63e2%22%20style%3D%22width%3A%20100.0%25%3B%20height%3A%20100.0%25%3B%22%3ELondon%20UK%3C/div%3E%60%29%5B0%5D%3B%0A%20%20%20%20%20%20%20%20%20%20%20%20popup_01f9c7844f934b17bb0ab4ba680c5bf8.setContent%28html_6c52739d62a04fe5b252b770a9ee63e2%29%3B%0A%20%20%20%20%20%20%20%20%0A%0A%20%20%20%20%20%20%20%20circle_marker_b15a957bfcd9418d9ad943864636f9c4.bindPopup%28popup_01f9c7844f934b17bb0ab4ba680c5bf8%29%0A%20%20%20%20%20%20%20%20%3B%0A%0A%20%20%20%20%20%20%20%20%0A%20%20%20%20%0A%20%20%20%20%0A%20%20%20%20%20%20%20%20%20%20%20%20var%20circle_marker_f4859825a924489f9cfee11423ec26eb%20%3D%20L.circleMarker%28%0A%20%20%20%20%20%20%20%20%20%20%20%20%20%20%20%20%5B43.653482%2C%20-79.383935%5D%2C%0A%20%20%20%20%20%20%20%20%20%20%20%20%20%20%20%20%7B%22bubblingMouseEvents%22%3A%20true%2C%20%22color%22%3A%20%22black%22%2C%20%22dashArray%22%3A%20null%2C%20%22dashOffset%22%3A%20null%2C%20%22fill%22%3A%20true%2C%20%22fillColor%22%3A%20%22red%22%2C%20%22fillOpacity%22%3A%200.75%2C%20%22fillRule%22%3A%20%22evenodd%22%2C%20%22lineCap%22%3A%20%22round%22%2C%20%22lineJoin%22%3A%20%22round%22%2C%20%22opacity%22%3A%201.0%2C%20%22radius%22%3A%205%2C%20%22stroke%22%3A%20true%2C%20%22weight%22%3A%203%7D%0A%20%20%20%20%20%20%20%20%20%20%20%20%29.addTo%28map_a7d09eca106b4746888bffed061168bf%29%3B%0A%20%20%20%20%20%20%20%20%0A%20%20%20%20%0A%20%20%20%20%20%20%20%20var%20popup_46738f1eec4348bdb126f4818ef9de3f%20%3D%20L.popup%28%7B%22maxWidth%22%3A%20%22100%25%22%7D%29%3B%0A%0A%20%20%20%20%20%20%20%20%0A%20%20%20%20%20%20%20%20%20%20%20%20var%20html_ad1dbcb64de94ba0b353839c32d2c887%20%3D%20%24%28%60%3Cdiv%20id%3D%22html_ad1dbcb64de94ba0b353839c32d2c887%22%20style%3D%22width%3A%20100.0%25%3B%20height%3A%20100.0%25%3B%22%3EToronto%20CA%3C/div%3E%60%29%5B0%5D%3B%0A%20%20%20%20%20%20%20%20%20%20%20%20popup_46738f1eec4348bdb126f4818ef9de3f.setContent%28html_ad1dbcb64de94ba0b353839c32d2c887%29%3B%0A%20%20%20%20%20%20%20%20%0A%0A%20%20%20%20%20%20%20%20circle_marker_f4859825a924489f9cfee11423ec26eb.bindPopup%28popup_46738f1eec4348bdb126f4818ef9de3f%29%0A%20%20%20%20%20%20%20%20%3B%0A%0A%20%20%20%20%20%20%20%20%0A%20%20%20%20%0A%20%20%20%20%0A%20%20%20%20%20%20%20%20%20%20%20%20var%20circle_marker_2dfdc688667c44809586ac6c45568829%20%3D%20L.circleMarker%28%0A%20%20%20%20%20%20%20%20%20%20%20%20%20%20%20%20%5B-23.5507%2C%20-46.6334%5D%2C%0A%20%20%20%20%20%20%20%20%20%20%20%20%20%20%20%20%7B%22bubblingMouseEvents%22%3A%20true%2C%20%22color%22%3A%20%22black%22%2C%20%22dashArray%22%3A%20null%2C%20%22dashOffset%22%3A%20null%2C%20%22fill%22%3A%20true%2C%20%22fillColor%22%3A%20%22red%22%2C%20%22fillOpacity%22%3A%200.75%2C%20%22fillRule%22%3A%20%22evenodd%22%2C%20%22lineCap%22%3A%20%22round%22%2C%20%22lineJoin%22%3A%20%22round%22%2C%20%22opacity%22%3A%201.0%2C%20%22radius%22%3A%205%2C%20%22stroke%22%3A%20true%2C%20%22weight%22%3A%203%7D%0A%20%20%20%20%20%20%20%20%20%20%20%20%29.addTo%28map_a7d09eca106b4746888bffed061168bf%29%3B%0A%20%20%20%20%20%20%20%20%0A%20%20%20%20%0A%20%20%20%20%20%20%20%20var%20popup_6afe71b0cfdd4c4c863567b8e749b778%20%3D%20L.popup%28%7B%22maxWidth%22%3A%20%22100%25%22%7D%29%3B%0A%0A%20%20%20%20%20%20%20%20%0A%20%20%20%20%20%20%20%20%20%20%20%20var%20html_1c090e210e7f45a9af5f012530bb7c2f%20%3D%20%24%28%60%3Cdiv%20id%3D%22html_1c090e210e7f45a9af5f012530bb7c2f%22%20style%3D%22width%3A%20100.0%25%3B%20height%3A%20100.0%25%3B%22%3ESao%20Palo%20BR%3C/div%3E%60%29%5B0%5D%3B%0A%20%20%20%20%20%20%20%20%20%20%20%20popup_6afe71b0cfdd4c4c863567b8e749b778.setContent%28html_1c090e210e7f45a9af5f012530bb7c2f%29%3B%0A%20%20%20%20%20%20%20%20%0A%0A%20%20%20%20%20%20%20%20circle_marker_2dfdc688667c44809586ac6c45568829.bindPopup%28popup_6afe71b0cfdd4c4c863567b8e749b778%29%0A%20%20%20%20%20%20%20%20%3B%0A%0A%20%20%20%20%20%20%20%20%0A%20%20%20%20%0A%3C/script%3E onload=\"this.contentDocument.open();this.contentDocument.write(    decodeURIComponent(this.getAttribute('data-html')));this.contentDocument.close();\" allowfullscreen webkitallowfullscreen mozallowfullscreen></iframe></div></div>"
      ],
      "text/plain": [
       "<folium.folium.Map at 0x2a0db29b670>"
      ]
     },
     "execution_count": 10,
     "metadata": {},
     "output_type": "execute_result"
    }
   ],
   "source": [
    "# \"def\" defines our function \"plot_point()\", which takes five \"arguments\":\n",
    "    # Map: The map you're working with\n",
    "    # X & Y: lattitude & longitude\n",
    "    # Popup_Text: What do we want the popup to say?\n",
    "    # Color: We'll set a defualt, but we can override with what colour do we want\n",
    "        # Everything else will remain the same for every point, so we can set them as default values\n",
    "    # Defaults can be over written by assigning them anoter value\n",
    "def plot_point(Map,X,Y,Popup_Text,Color='red',Radius=5,Opacity=.75,LineColor='black',LineWidth=.15):\n",
    "    folium.CircleMarker(\n",
    "        # The coordiatnates\n",
    "        location=[X,Y],\n",
    "        # Text description\n",
    "        popup=Popup_Text,\n",
    "        # sets the fill color for the point\n",
    "        fill_color=Color,\n",
    "        # Size of the marker\n",
    "        radius=Radius,\n",
    "        # Opacity of the circle\n",
    "        fill_opacity = Opacity,\n",
    "        # Sets the line color for the edge\n",
    "        color=LineColor,\n",
    "        # Width of the border line\n",
    "        line_weight=LineWidth,\n",
    "    ).add_to(Map)\n",
    "    \n",
    "Map4 = folium.Map(\n",
    "location=[0,0],\n",
    "zoom_start=2,\n",
    ")\n",
    "\n",
    "for city in ['Cairo EG','London UK','Toronto CA','Sao Palo BR']:\n",
    "    Result = geolocator.geocode(city)\n",
    "    point = plot_point(Map4,Result.latitude,Result.longitude,city)\n",
    "\n",
    "\n",
    "Map4"
   ]
  },
  {
   "cell_type": "markdown",
   "metadata": {},
   "source": [
    "## Reverse geocoding\n",
    "\n",
    "You can also go \"backwards\", starting with coordinates and getting an address *provided its somewhere with an address*\n",
    "\n",
    "# Quiz Question 13!\n",
    "\n",
    "Why do you think reverse geocoding the coordinates for \"Location2\" & \"Location2\" failed to return results?"
   ]
  },
  {
   "cell_type": "code",
   "execution_count": 11,
   "metadata": {},
   "outputs": [
    {
     "name": "stdout",
     "output_type": "stream",
     "text": [
      "2300 West Mall - Sme:Ntásəm, University Hill, British Columbia V6T 1Z4, Canada 2300 West Mall - Sme:Ntásəm, University Hill, British Columbia V6T 1Z4, Canada\n",
      "None None\n",
      "None None\n"
     ]
    }
   ],
   "source": [
    "Location1 = ['49.2618188', '-123.2534169']\n",
    "Point = geolocator.reverse(Location1)\n",
    "print(Point,Point)\n",
    "\n",
    "# Note the different latitude\n",
    "Location2 = ['-49.2618188', '-123.2534169']\n",
    "Point = geolocator.reverse(Location2)\n",
    "print(Point,Point)\n",
    "\n",
    "\n",
    "# Note the different latitude\n",
    "Location3 = ['49.2618188', '-181.2534169']\n",
    "Point = geolocator.reverse(Location3)\n",
    "print(Point,Point)"
   ]
  },
  {
   "cell_type": "markdown",
   "metadata": {},
   "source": [
    "## Watch out for typos\n",
    "\n",
    "The functionality is fairly robust, but typos can cause errors in your results"
   ]
  },
  {
   "cell_type": "code",
   "execution_count": 12,
   "metadata": {},
   "outputs": [
    {
     "name": "stdout",
     "output_type": "stream",
     "text": [
      "Search Term:  2710 Fraser Vancouver BC\n",
      "Result:  2710 Fraser Street, Vancouver, British Columbia V5T 3V7, Canada\n",
      "\n",
      "Search Term:  2710 Faser Vancouver DC\n",
      "Result:  2710 Fraser Street, Vancouver, British Columbia V5T 3V7, Canada\n",
      "\n",
      "Search Term:  2710 Faster Vancouver DC\n",
      "Result:  DC Motorworks, 1010 Clark Drive, Vancouver, British Columbia V5L 3K8, Canada\n",
      "\n"
     ]
    },
    {
     "data": {
      "text/html": [
       "<div style=\"width:100%;\"><div style=\"position:relative;width:100%;height:0;padding-bottom:60%;\"><span style=\"color:#565656\">Make this Notebook Trusted to load map: File -> Trust Notebook</span><iframe src=\"about:blank\" style=\"position:absolute;width:100%;height:100%;left:0;top:0;border:none !important;\" data-html=%3C%21DOCTYPE%20html%3E%0A%3Chead%3E%20%20%20%20%0A%20%20%20%20%3Cmeta%20http-equiv%3D%22content-type%22%20content%3D%22text/html%3B%20charset%3DUTF-8%22%20/%3E%0A%20%20%20%20%0A%20%20%20%20%20%20%20%20%3Cscript%3E%0A%20%20%20%20%20%20%20%20%20%20%20%20L_NO_TOUCH%20%3D%20false%3B%0A%20%20%20%20%20%20%20%20%20%20%20%20L_DISABLE_3D%20%3D%20false%3B%0A%20%20%20%20%20%20%20%20%3C/script%3E%0A%20%20%20%20%0A%20%20%20%20%3Cstyle%3Ehtml%2C%20body%20%7Bwidth%3A%20100%25%3Bheight%3A%20100%25%3Bmargin%3A%200%3Bpadding%3A%200%3B%7D%3C/style%3E%0A%20%20%20%20%3Cstyle%3E%23map%20%7Bposition%3Aabsolute%3Btop%3A0%3Bbottom%3A0%3Bright%3A0%3Bleft%3A0%3B%7D%3C/style%3E%0A%20%20%20%20%3Cscript%20src%3D%22https%3A//cdn.jsdelivr.net/npm/leaflet%401.6.0/dist/leaflet.js%22%3E%3C/script%3E%0A%20%20%20%20%3Cscript%20src%3D%22https%3A//code.jquery.com/jquery-1.12.4.min.js%22%3E%3C/script%3E%0A%20%20%20%20%3Cscript%20src%3D%22https%3A//maxcdn.bootstrapcdn.com/bootstrap/3.2.0/js/bootstrap.min.js%22%3E%3C/script%3E%0A%20%20%20%20%3Cscript%20src%3D%22https%3A//cdnjs.cloudflare.com/ajax/libs/Leaflet.awesome-markers/2.0.2/leaflet.awesome-markers.js%22%3E%3C/script%3E%0A%20%20%20%20%3Clink%20rel%3D%22stylesheet%22%20href%3D%22https%3A//cdn.jsdelivr.net/npm/leaflet%401.6.0/dist/leaflet.css%22/%3E%0A%20%20%20%20%3Clink%20rel%3D%22stylesheet%22%20href%3D%22https%3A//maxcdn.bootstrapcdn.com/bootstrap/3.2.0/css/bootstrap.min.css%22/%3E%0A%20%20%20%20%3Clink%20rel%3D%22stylesheet%22%20href%3D%22https%3A//maxcdn.bootstrapcdn.com/bootstrap/3.2.0/css/bootstrap-theme.min.css%22/%3E%0A%20%20%20%20%3Clink%20rel%3D%22stylesheet%22%20href%3D%22https%3A//maxcdn.bootstrapcdn.com/font-awesome/4.6.3/css/font-awesome.min.css%22/%3E%0A%20%20%20%20%3Clink%20rel%3D%22stylesheet%22%20href%3D%22https%3A//cdnjs.cloudflare.com/ajax/libs/Leaflet.awesome-markers/2.0.2/leaflet.awesome-markers.css%22/%3E%0A%20%20%20%20%3Clink%20rel%3D%22stylesheet%22%20href%3D%22https%3A//cdn.jsdelivr.net/gh/python-visualization/folium/folium/templates/leaflet.awesome.rotate.min.css%22/%3E%0A%20%20%20%20%0A%20%20%20%20%20%20%20%20%20%20%20%20%3Cmeta%20name%3D%22viewport%22%20content%3D%22width%3Ddevice-width%2C%0A%20%20%20%20%20%20%20%20%20%20%20%20%20%20%20%20initial-scale%3D1.0%2C%20maximum-scale%3D1.0%2C%20user-scalable%3Dno%22%20/%3E%0A%20%20%20%20%20%20%20%20%20%20%20%20%3Cstyle%3E%0A%20%20%20%20%20%20%20%20%20%20%20%20%20%20%20%20%23map_e89a8155ca104336b24b954fe734ce93%20%7B%0A%20%20%20%20%20%20%20%20%20%20%20%20%20%20%20%20%20%20%20%20position%3A%20relative%3B%0A%20%20%20%20%20%20%20%20%20%20%20%20%20%20%20%20%20%20%20%20width%3A%20100.0%25%3B%0A%20%20%20%20%20%20%20%20%20%20%20%20%20%20%20%20%20%20%20%20height%3A%20100.0%25%3B%0A%20%20%20%20%20%20%20%20%20%20%20%20%20%20%20%20%20%20%20%20left%3A%200.0%25%3B%0A%20%20%20%20%20%20%20%20%20%20%20%20%20%20%20%20%20%20%20%20top%3A%200.0%25%3B%0A%20%20%20%20%20%20%20%20%20%20%20%20%20%20%20%20%7D%0A%20%20%20%20%20%20%20%20%20%20%20%20%3C/style%3E%0A%20%20%20%20%20%20%20%20%0A%3C/head%3E%0A%3Cbody%3E%20%20%20%20%0A%20%20%20%20%0A%20%20%20%20%20%20%20%20%20%20%20%20%3Cdiv%20class%3D%22folium-map%22%20id%3D%22map_e89a8155ca104336b24b954fe734ce93%22%20%3E%3C/div%3E%0A%20%20%20%20%20%20%20%20%0A%3C/body%3E%0A%3Cscript%3E%20%20%20%20%0A%20%20%20%20%0A%20%20%20%20%20%20%20%20%20%20%20%20var%20map_e89a8155ca104336b24b954fe734ce93%20%3D%20L.map%28%0A%20%20%20%20%20%20%20%20%20%20%20%20%20%20%20%20%22map_e89a8155ca104336b24b954fe734ce93%22%2C%0A%20%20%20%20%20%20%20%20%20%20%20%20%20%20%20%20%7B%0A%20%20%20%20%20%20%20%20%20%20%20%20%20%20%20%20%20%20%20%20center%3A%20%5B49.279862%2C%20-123.116838%5D%2C%0A%20%20%20%20%20%20%20%20%20%20%20%20%20%20%20%20%20%20%20%20crs%3A%20L.CRS.EPSG3857%2C%0A%20%20%20%20%20%20%20%20%20%20%20%20%20%20%20%20%20%20%20%20zoom%3A%2011%2C%0A%20%20%20%20%20%20%20%20%20%20%20%20%20%20%20%20%20%20%20%20zoomControl%3A%20true%2C%0A%20%20%20%20%20%20%20%20%20%20%20%20%20%20%20%20%20%20%20%20preferCanvas%3A%20false%2C%0A%20%20%20%20%20%20%20%20%20%20%20%20%20%20%20%20%7D%0A%20%20%20%20%20%20%20%20%20%20%20%20%29%3B%0A%0A%20%20%20%20%20%20%20%20%20%20%20%20%0A%0A%20%20%20%20%20%20%20%20%0A%20%20%20%20%0A%20%20%20%20%20%20%20%20%20%20%20%20var%20tile_layer_545363a9d1734838a997015d16d4d5c6%20%3D%20L.tileLayer%28%0A%20%20%20%20%20%20%20%20%20%20%20%20%20%20%20%20%22https%3A//api.mapbox.com/v4/mapbox.satellite/%7Bz%7D/%7Bx%7D/%7By%7D%402x.png%3Faccess_token%3Dpk.eyJ1IjoianVuZXNwYWNlYm9vdHMiLCJhIjoiY2twY3g4aXloMWFlcDJzbXN3aG95aG5uZiJ9.mFiJt0MIfL1MiJ2rB2xhKQ%22%2C%0A%20%20%20%20%20%20%20%20%20%20%20%20%20%20%20%20%7B%22attribution%22%3A%20%22Mapbox%22%2C%20%22detectRetina%22%3A%20false%2C%20%22maxNativeZoom%22%3A%2018%2C%20%22maxZoom%22%3A%2018%2C%20%22minZoom%22%3A%200%2C%20%22noWrap%22%3A%20false%2C%20%22opacity%22%3A%201%2C%20%22subdomains%22%3A%20%22abc%22%2C%20%22tms%22%3A%20false%7D%0A%20%20%20%20%20%20%20%20%20%20%20%20%29.addTo%28map_e89a8155ca104336b24b954fe734ce93%29%3B%0A%20%20%20%20%20%20%20%20%0A%20%20%20%20%0A%20%20%20%20%20%20%20%20%20%20%20%20var%20circle_marker_d28aef4b01cc4d94961216676b841dbb%20%3D%20L.circleMarker%28%0A%20%20%20%20%20%20%20%20%20%20%20%20%20%20%20%20%5B49.260435%2C%20-123.088888%5D%2C%0A%20%20%20%20%20%20%20%20%20%20%20%20%20%20%20%20%7B%22bubblingMouseEvents%22%3A%20true%2C%20%22color%22%3A%20%22black%22%2C%20%22dashArray%22%3A%20null%2C%20%22dashOffset%22%3A%20null%2C%20%22fill%22%3A%20true%2C%20%22fillColor%22%3A%20%22red%22%2C%20%22fillOpacity%22%3A%200.75%2C%20%22fillRule%22%3A%20%22evenodd%22%2C%20%22lineCap%22%3A%20%22round%22%2C%20%22lineJoin%22%3A%20%22round%22%2C%20%22opacity%22%3A%201.0%2C%20%22radius%22%3A%205%2C%20%22stroke%22%3A%20true%2C%20%22weight%22%3A%203%7D%0A%20%20%20%20%20%20%20%20%20%20%20%20%29.addTo%28map_e89a8155ca104336b24b954fe734ce93%29%3B%0A%20%20%20%20%20%20%20%20%0A%20%20%20%20%0A%20%20%20%20%20%20%20%20var%20popup_56f39518b3be46d0b77fdd61723f5f06%20%3D%20L.popup%28%7B%22maxWidth%22%3A%20%22100%25%22%7D%29%3B%0A%0A%20%20%20%20%20%20%20%20%0A%20%20%20%20%20%20%20%20%20%20%20%20var%20html_885daa6bc3a74c86aec4422ee1e52906%20%3D%20%24%28%60%3Cdiv%20id%3D%22html_885daa6bc3a74c86aec4422ee1e52906%22%20style%3D%22width%3A%20100.0%25%3B%20height%3A%20100.0%25%3B%22%3E2710%20Fraser%20Street%2C%20Vancouver%2C%20British%20Columbia%20V5T%203V7%2C%20Canada%3C/div%3E%60%29%5B0%5D%3B%0A%20%20%20%20%20%20%20%20%20%20%20%20popup_56f39518b3be46d0b77fdd61723f5f06.setContent%28html_885daa6bc3a74c86aec4422ee1e52906%29%3B%0A%20%20%20%20%20%20%20%20%0A%0A%20%20%20%20%20%20%20%20circle_marker_d28aef4b01cc4d94961216676b841dbb.bindPopup%28popup_56f39518b3be46d0b77fdd61723f5f06%29%0A%20%20%20%20%20%20%20%20%3B%0A%0A%20%20%20%20%20%20%20%20%0A%20%20%20%20%0A%20%20%20%20%0A%20%20%20%20%20%20%20%20%20%20%20%20var%20circle_marker_a7354df6ced44c7da4576760d17c2bd1%20%3D%20L.circleMarker%28%0A%20%20%20%20%20%20%20%20%20%20%20%20%20%20%20%20%5B49.260435%2C%20-123.088888%5D%2C%0A%20%20%20%20%20%20%20%20%20%20%20%20%20%20%20%20%7B%22bubblingMouseEvents%22%3A%20true%2C%20%22color%22%3A%20%22black%22%2C%20%22dashArray%22%3A%20null%2C%20%22dashOffset%22%3A%20null%2C%20%22fill%22%3A%20true%2C%20%22fillColor%22%3A%20%22red%22%2C%20%22fillOpacity%22%3A%200.75%2C%20%22fillRule%22%3A%20%22evenodd%22%2C%20%22lineCap%22%3A%20%22round%22%2C%20%22lineJoin%22%3A%20%22round%22%2C%20%22opacity%22%3A%201.0%2C%20%22radius%22%3A%205%2C%20%22stroke%22%3A%20true%2C%20%22weight%22%3A%203%7D%0A%20%20%20%20%20%20%20%20%20%20%20%20%29.addTo%28map_e89a8155ca104336b24b954fe734ce93%29%3B%0A%20%20%20%20%20%20%20%20%0A%20%20%20%20%0A%20%20%20%20%20%20%20%20var%20popup_e6cdeea9f8b94c9187f356e5eec85e1a%20%3D%20L.popup%28%7B%22maxWidth%22%3A%20%22100%25%22%7D%29%3B%0A%0A%20%20%20%20%20%20%20%20%0A%20%20%20%20%20%20%20%20%20%20%20%20var%20html_7df917188aba4d0682197a7209521048%20%3D%20%24%28%60%3Cdiv%20id%3D%22html_7df917188aba4d0682197a7209521048%22%20style%3D%22width%3A%20100.0%25%3B%20height%3A%20100.0%25%3B%22%3E2710%20Fraser%20Street%2C%20Vancouver%2C%20British%20Columbia%20V5T%203V7%2C%20Canada%3C/div%3E%60%29%5B0%5D%3B%0A%20%20%20%20%20%20%20%20%20%20%20%20popup_e6cdeea9f8b94c9187f356e5eec85e1a.setContent%28html_7df917188aba4d0682197a7209521048%29%3B%0A%20%20%20%20%20%20%20%20%0A%0A%20%20%20%20%20%20%20%20circle_marker_a7354df6ced44c7da4576760d17c2bd1.bindPopup%28popup_e6cdeea9f8b94c9187f356e5eec85e1a%29%0A%20%20%20%20%20%20%20%20%3B%0A%0A%20%20%20%20%20%20%20%20%0A%20%20%20%20%0A%20%20%20%20%0A%20%20%20%20%20%20%20%20%20%20%20%20var%20circle_marker_0c212b8d41df4387add0b0dbf70e17f7%20%3D%20L.circleMarker%28%0A%20%20%20%20%20%20%20%20%20%20%20%20%20%20%20%20%5B49.272962%2C%20-123.076858%5D%2C%0A%20%20%20%20%20%20%20%20%20%20%20%20%20%20%20%20%7B%22bubblingMouseEvents%22%3A%20true%2C%20%22color%22%3A%20%22black%22%2C%20%22dashArray%22%3A%20null%2C%20%22dashOffset%22%3A%20null%2C%20%22fill%22%3A%20true%2C%20%22fillColor%22%3A%20%22red%22%2C%20%22fillOpacity%22%3A%200.75%2C%20%22fillRule%22%3A%20%22evenodd%22%2C%20%22lineCap%22%3A%20%22round%22%2C%20%22lineJoin%22%3A%20%22round%22%2C%20%22opacity%22%3A%201.0%2C%20%22radius%22%3A%205%2C%20%22stroke%22%3A%20true%2C%20%22weight%22%3A%203%7D%0A%20%20%20%20%20%20%20%20%20%20%20%20%29.addTo%28map_e89a8155ca104336b24b954fe734ce93%29%3B%0A%20%20%20%20%20%20%20%20%0A%20%20%20%20%0A%20%20%20%20%20%20%20%20var%20popup_2511c408dc38430fbecfdfc4bcbf36e1%20%3D%20L.popup%28%7B%22maxWidth%22%3A%20%22100%25%22%7D%29%3B%0A%0A%20%20%20%20%20%20%20%20%0A%20%20%20%20%20%20%20%20%20%20%20%20var%20html_a6341f50d43e41dd930e7812e5a9a8bd%20%3D%20%24%28%60%3Cdiv%20id%3D%22html_a6341f50d43e41dd930e7812e5a9a8bd%22%20style%3D%22width%3A%20100.0%25%3B%20height%3A%20100.0%25%3B%22%3EDC%20Motorworks%2C%201010%20Clark%20Drive%2C%20Vancouver%2C%20British%20Columbia%20V5L%203K8%2C%20Canada%3C/div%3E%60%29%5B0%5D%3B%0A%20%20%20%20%20%20%20%20%20%20%20%20popup_2511c408dc38430fbecfdfc4bcbf36e1.setContent%28html_a6341f50d43e41dd930e7812e5a9a8bd%29%3B%0A%20%20%20%20%20%20%20%20%0A%0A%20%20%20%20%20%20%20%20circle_marker_0c212b8d41df4387add0b0dbf70e17f7.bindPopup%28popup_2511c408dc38430fbecfdfc4bcbf36e1%29%0A%20%20%20%20%20%20%20%20%3B%0A%0A%20%20%20%20%20%20%20%20%0A%20%20%20%20%0A%3C/script%3E onload=\"this.contentDocument.open();this.contentDocument.write(    decodeURIComponent(this.getAttribute('data-html')));this.contentDocument.close();\" allowfullscreen webkitallowfullscreen mozallowfullscreen></iframe></div></div>"
      ],
      "text/plain": [
       "<folium.folium.Map at 0x2a0db282fa0>"
      ]
     },
     "execution_count": 12,
     "metadata": {},
     "output_type": "execute_result"
    }
   ],
   "source": [
    "Map5 = folium.Map(location=[Vancouver.latitude,Vancouver.longitude],\n",
    "                 zoom_start=11,\n",
    "                 tiles=tileurl, \n",
    "                 attr='Mapbox')\n",
    "\n",
    "for typo in [\"2710 Fraser Vancouver BC\",\n",
    "             \"2710 Faser Vancouver DC\",\n",
    "             \"2710 Faster Vancouver DC\"]:\n",
    "    UBC_Geography = geolocator.geocode(typo)\n",
    "\n",
    "    point = plot_point(Map5,UBC_Geography.latitude,UBC_Geography.longitude,UBC_Geography)\n",
    "\n",
    "    print('Search Term: ', typo)\n",
    "    print('Result: ', UBC_Geography)\n",
    "    print()\n",
    "\n",
    "Map5"
   ]
  },
  {
   "cell_type": "markdown",
   "metadata": {},
   "source": [
    "## Ambiguity\n",
    "\n",
    "It is important to be specific when submitting queries.  The more information the geocoder has to work with, the more accurate your result.\n",
    "\n",
    "### Can anyone think of any other cities to try?"
   ]
  },
  {
   "cell_type": "code",
   "execution_count": 13,
   "metadata": {},
   "outputs": [
    {
     "name": "stdout",
     "output_type": "stream",
     "text": [
      "Search Term:  Surrey, England, United Kingdom\n",
      "Result:  Surrey, England, United Kingdom\n",
      "\n",
      "Search Term:  Surrey, British Columbia, Canada\n",
      "Result:  Surrey, British Columbia, Canada\n",
      "\n",
      "Search Term:  Victoria, Australia\n",
      "Result:  Victoria, Australia\n",
      "\n",
      "Search Term:  Victoria, British Columbia, Canada\n",
      "Result:  Victoria, British Columbia, Canada\n",
      "\n"
     ]
    },
    {
     "data": {
      "text/html": [
       "<div style=\"width:100%;\"><div style=\"position:relative;width:100%;height:0;padding-bottom:60%;\"><span style=\"color:#565656\">Make this Notebook Trusted to load map: File -> Trust Notebook</span><iframe src=\"about:blank\" style=\"position:absolute;width:100%;height:100%;left:0;top:0;border:none !important;\" data-html=%3C%21DOCTYPE%20html%3E%0A%3Chead%3E%20%20%20%20%0A%20%20%20%20%3Cmeta%20http-equiv%3D%22content-type%22%20content%3D%22text/html%3B%20charset%3DUTF-8%22%20/%3E%0A%20%20%20%20%0A%20%20%20%20%20%20%20%20%3Cscript%3E%0A%20%20%20%20%20%20%20%20%20%20%20%20L_NO_TOUCH%20%3D%20false%3B%0A%20%20%20%20%20%20%20%20%20%20%20%20L_DISABLE_3D%20%3D%20false%3B%0A%20%20%20%20%20%20%20%20%3C/script%3E%0A%20%20%20%20%0A%20%20%20%20%3Cstyle%3Ehtml%2C%20body%20%7Bwidth%3A%20100%25%3Bheight%3A%20100%25%3Bmargin%3A%200%3Bpadding%3A%200%3B%7D%3C/style%3E%0A%20%20%20%20%3Cstyle%3E%23map%20%7Bposition%3Aabsolute%3Btop%3A0%3Bbottom%3A0%3Bright%3A0%3Bleft%3A0%3B%7D%3C/style%3E%0A%20%20%20%20%3Cscript%20src%3D%22https%3A//cdn.jsdelivr.net/npm/leaflet%401.6.0/dist/leaflet.js%22%3E%3C/script%3E%0A%20%20%20%20%3Cscript%20src%3D%22https%3A//code.jquery.com/jquery-1.12.4.min.js%22%3E%3C/script%3E%0A%20%20%20%20%3Cscript%20src%3D%22https%3A//maxcdn.bootstrapcdn.com/bootstrap/3.2.0/js/bootstrap.min.js%22%3E%3C/script%3E%0A%20%20%20%20%3Cscript%20src%3D%22https%3A//cdnjs.cloudflare.com/ajax/libs/Leaflet.awesome-markers/2.0.2/leaflet.awesome-markers.js%22%3E%3C/script%3E%0A%20%20%20%20%3Clink%20rel%3D%22stylesheet%22%20href%3D%22https%3A//cdn.jsdelivr.net/npm/leaflet%401.6.0/dist/leaflet.css%22/%3E%0A%20%20%20%20%3Clink%20rel%3D%22stylesheet%22%20href%3D%22https%3A//maxcdn.bootstrapcdn.com/bootstrap/3.2.0/css/bootstrap.min.css%22/%3E%0A%20%20%20%20%3Clink%20rel%3D%22stylesheet%22%20href%3D%22https%3A//maxcdn.bootstrapcdn.com/bootstrap/3.2.0/css/bootstrap-theme.min.css%22/%3E%0A%20%20%20%20%3Clink%20rel%3D%22stylesheet%22%20href%3D%22https%3A//maxcdn.bootstrapcdn.com/font-awesome/4.6.3/css/font-awesome.min.css%22/%3E%0A%20%20%20%20%3Clink%20rel%3D%22stylesheet%22%20href%3D%22https%3A//cdnjs.cloudflare.com/ajax/libs/Leaflet.awesome-markers/2.0.2/leaflet.awesome-markers.css%22/%3E%0A%20%20%20%20%3Clink%20rel%3D%22stylesheet%22%20href%3D%22https%3A//cdn.jsdelivr.net/gh/python-visualization/folium/folium/templates/leaflet.awesome.rotate.min.css%22/%3E%0A%20%20%20%20%0A%20%20%20%20%20%20%20%20%20%20%20%20%3Cmeta%20name%3D%22viewport%22%20content%3D%22width%3Ddevice-width%2C%0A%20%20%20%20%20%20%20%20%20%20%20%20%20%20%20%20initial-scale%3D1.0%2C%20maximum-scale%3D1.0%2C%20user-scalable%3Dno%22%20/%3E%0A%20%20%20%20%20%20%20%20%20%20%20%20%3Cstyle%3E%0A%20%20%20%20%20%20%20%20%20%20%20%20%20%20%20%20%23map_cac5d842cd4a444aaea703b33759a320%20%7B%0A%20%20%20%20%20%20%20%20%20%20%20%20%20%20%20%20%20%20%20%20position%3A%20relative%3B%0A%20%20%20%20%20%20%20%20%20%20%20%20%20%20%20%20%20%20%20%20width%3A%20100.0%25%3B%0A%20%20%20%20%20%20%20%20%20%20%20%20%20%20%20%20%20%20%20%20height%3A%20100.0%25%3B%0A%20%20%20%20%20%20%20%20%20%20%20%20%20%20%20%20%20%20%20%20left%3A%200.0%25%3B%0A%20%20%20%20%20%20%20%20%20%20%20%20%20%20%20%20%20%20%20%20top%3A%200.0%25%3B%0A%20%20%20%20%20%20%20%20%20%20%20%20%20%20%20%20%7D%0A%20%20%20%20%20%20%20%20%20%20%20%20%3C/style%3E%0A%20%20%20%20%20%20%20%20%0A%3C/head%3E%0A%3Cbody%3E%20%20%20%20%0A%20%20%20%20%0A%20%20%20%20%20%20%20%20%20%20%20%20%3Cdiv%20class%3D%22folium-map%22%20id%3D%22map_cac5d842cd4a444aaea703b33759a320%22%20%3E%3C/div%3E%0A%20%20%20%20%20%20%20%20%0A%3C/body%3E%0A%3Cscript%3E%20%20%20%20%0A%20%20%20%20%0A%20%20%20%20%20%20%20%20%20%20%20%20var%20map_cac5d842cd4a444aaea703b33759a320%20%3D%20L.map%28%0A%20%20%20%20%20%20%20%20%20%20%20%20%20%20%20%20%22map_cac5d842cd4a444aaea703b33759a320%22%2C%0A%20%20%20%20%20%20%20%20%20%20%20%20%20%20%20%20%7B%0A%20%20%20%20%20%20%20%20%20%20%20%20%20%20%20%20%20%20%20%20center%3A%20%5B0.0%2C%200.0%5D%2C%0A%20%20%20%20%20%20%20%20%20%20%20%20%20%20%20%20%20%20%20%20crs%3A%20L.CRS.EPSG3857%2C%0A%20%20%20%20%20%20%20%20%20%20%20%20%20%20%20%20%20%20%20%20zoom%3A%202%2C%0A%20%20%20%20%20%20%20%20%20%20%20%20%20%20%20%20%20%20%20%20zoomControl%3A%20true%2C%0A%20%20%20%20%20%20%20%20%20%20%20%20%20%20%20%20%20%20%20%20preferCanvas%3A%20false%2C%0A%20%20%20%20%20%20%20%20%20%20%20%20%20%20%20%20%7D%0A%20%20%20%20%20%20%20%20%20%20%20%20%29%3B%0A%0A%20%20%20%20%20%20%20%20%20%20%20%20%0A%0A%20%20%20%20%20%20%20%20%0A%20%20%20%20%0A%20%20%20%20%20%20%20%20%20%20%20%20var%20tile_layer_63923639f6584d6595b1f9cbc9d3aa9e%20%3D%20L.tileLayer%28%0A%20%20%20%20%20%20%20%20%20%20%20%20%20%20%20%20%22https%3A//stamen-tiles-%7Bs%7D.a.ssl.fastly.net/toner/%7Bz%7D/%7Bx%7D/%7By%7D.png%22%2C%0A%20%20%20%20%20%20%20%20%20%20%20%20%20%20%20%20%7B%22attribution%22%3A%20%22Map%20tiles%20by%20%5Cu003ca%20href%3D%5C%22http%3A//stamen.com%5C%22%5Cu003eStamen%20Design%5Cu003c/a%5Cu003e%2C%20under%20%5Cu003ca%20href%3D%5C%22http%3A//creativecommons.org/licenses/by/3.0%5C%22%5Cu003eCC%20BY%203.0%5Cu003c/a%5Cu003e.%20Data%20by%20%5Cu0026copy%3B%20%5Cu003ca%20href%3D%5C%22http%3A//openstreetmap.org%5C%22%5Cu003eOpenStreetMap%5Cu003c/a%5Cu003e%2C%20under%20%5Cu003ca%20href%3D%5C%22http%3A//www.openstreetmap.org/copyright%5C%22%5Cu003eODbL%5Cu003c/a%5Cu003e.%22%2C%20%22detectRetina%22%3A%20false%2C%20%22maxNativeZoom%22%3A%2018%2C%20%22maxZoom%22%3A%2018%2C%20%22minZoom%22%3A%200%2C%20%22noWrap%22%3A%20false%2C%20%22opacity%22%3A%201%2C%20%22subdomains%22%3A%20%22abc%22%2C%20%22tms%22%3A%20false%7D%0A%20%20%20%20%20%20%20%20%20%20%20%20%29.addTo%28map_cac5d842cd4a444aaea703b33759a320%29%3B%0A%20%20%20%20%20%20%20%20%0A%20%20%20%20%0A%20%20%20%20%20%20%20%20%20%20%20%20var%20circle_marker_279109de9d1f404bb498a05b709c514e%20%3D%20L.circleMarker%28%0A%20%20%20%20%20%20%20%20%20%20%20%20%20%20%20%20%5B51.25%2C%20-0.3333%5D%2C%0A%20%20%20%20%20%20%20%20%20%20%20%20%20%20%20%20%7B%22bubblingMouseEvents%22%3A%20true%2C%20%22color%22%3A%20%22black%22%2C%20%22dashArray%22%3A%20null%2C%20%22dashOffset%22%3A%20null%2C%20%22fill%22%3A%20true%2C%20%22fillColor%22%3A%20%22red%22%2C%20%22fillOpacity%22%3A%200.75%2C%20%22fillRule%22%3A%20%22evenodd%22%2C%20%22lineCap%22%3A%20%22round%22%2C%20%22lineJoin%22%3A%20%22round%22%2C%20%22opacity%22%3A%201.0%2C%20%22radius%22%3A%2015%2C%20%22stroke%22%3A%20true%2C%20%22weight%22%3A%203%7D%0A%20%20%20%20%20%20%20%20%20%20%20%20%29.addTo%28map_cac5d842cd4a444aaea703b33759a320%29%3B%0A%20%20%20%20%20%20%20%20%0A%20%20%20%20%0A%20%20%20%20%20%20%20%20var%20popup_44712aebf93a42718116689bd1196b7e%20%3D%20L.popup%28%7B%22maxWidth%22%3A%20%22100%25%22%7D%29%3B%0A%0A%20%20%20%20%20%20%20%20%0A%20%20%20%20%20%20%20%20%20%20%20%20var%20html_0390f6ede8f94caeb247f1be546fa79e%20%3D%20%24%28%60%3Cdiv%20id%3D%22html_0390f6ede8f94caeb247f1be546fa79e%22%20style%3D%22width%3A%20100.0%25%3B%20height%3A%20100.0%25%3B%22%3ESurrey%2C%20England%2C%20United%20Kingdom%3C/div%3E%60%29%5B0%5D%3B%0A%20%20%20%20%20%20%20%20%20%20%20%20popup_44712aebf93a42718116689bd1196b7e.setContent%28html_0390f6ede8f94caeb247f1be546fa79e%29%3B%0A%20%20%20%20%20%20%20%20%0A%0A%20%20%20%20%20%20%20%20circle_marker_279109de9d1f404bb498a05b709c514e.bindPopup%28popup_44712aebf93a42718116689bd1196b7e%29%0A%20%20%20%20%20%20%20%20%3B%0A%0A%20%20%20%20%20%20%20%20%0A%20%20%20%20%0A%20%20%20%20%0A%20%20%20%20%20%20%20%20%20%20%20%20var%20circle_marker_89100e981b7c4e7f9b0dbcda23e7f630%20%3D%20L.circleMarker%28%0A%20%20%20%20%20%20%20%20%20%20%20%20%20%20%20%20%5B49.191303%2C%20-122.849144%5D%2C%0A%20%20%20%20%20%20%20%20%20%20%20%20%20%20%20%20%7B%22bubblingMouseEvents%22%3A%20true%2C%20%22color%22%3A%20%22black%22%2C%20%22dashArray%22%3A%20null%2C%20%22dashOffset%22%3A%20null%2C%20%22fill%22%3A%20true%2C%20%22fillColor%22%3A%20%22red%22%2C%20%22fillOpacity%22%3A%200.75%2C%20%22fillRule%22%3A%20%22evenodd%22%2C%20%22lineCap%22%3A%20%22round%22%2C%20%22lineJoin%22%3A%20%22round%22%2C%20%22opacity%22%3A%201.0%2C%20%22radius%22%3A%2015%2C%20%22stroke%22%3A%20true%2C%20%22weight%22%3A%203%7D%0A%20%20%20%20%20%20%20%20%20%20%20%20%29.addTo%28map_cac5d842cd4a444aaea703b33759a320%29%3B%0A%20%20%20%20%20%20%20%20%0A%20%20%20%20%0A%20%20%20%20%20%20%20%20var%20popup_b03a43d39fc44323803c408af239567c%20%3D%20L.popup%28%7B%22maxWidth%22%3A%20%22100%25%22%7D%29%3B%0A%0A%20%20%20%20%20%20%20%20%0A%20%20%20%20%20%20%20%20%20%20%20%20var%20html_23d87ac5126c4f3a9f10b9faa80e9c12%20%3D%20%24%28%60%3Cdiv%20id%3D%22html_23d87ac5126c4f3a9f10b9faa80e9c12%22%20style%3D%22width%3A%20100.0%25%3B%20height%3A%20100.0%25%3B%22%3ESurrey%2C%20British%20Columbia%2C%20Canada%3C/div%3E%60%29%5B0%5D%3B%0A%20%20%20%20%20%20%20%20%20%20%20%20popup_b03a43d39fc44323803c408af239567c.setContent%28html_23d87ac5126c4f3a9f10b9faa80e9c12%29%3B%0A%20%20%20%20%20%20%20%20%0A%0A%20%20%20%20%20%20%20%20circle_marker_89100e981b7c4e7f9b0dbcda23e7f630.bindPopup%28popup_b03a43d39fc44323803c408af239567c%29%0A%20%20%20%20%20%20%20%20%3B%0A%0A%20%20%20%20%20%20%20%20%0A%20%20%20%20%0A%20%20%20%20%0A%20%20%20%20%20%20%20%20%20%20%20%20var%20circle_marker_e45b89adaf954db5aa4db096c4abbd38%20%3D%20L.circleMarker%28%0A%20%20%20%20%20%20%20%20%20%20%20%20%20%20%20%20%5B-37.0%2C%20144.0%5D%2C%0A%20%20%20%20%20%20%20%20%20%20%20%20%20%20%20%20%7B%22bubblingMouseEvents%22%3A%20true%2C%20%22color%22%3A%20%22black%22%2C%20%22dashArray%22%3A%20null%2C%20%22dashOffset%22%3A%20null%2C%20%22fill%22%3A%20true%2C%20%22fillColor%22%3A%20%22red%22%2C%20%22fillOpacity%22%3A%200.75%2C%20%22fillRule%22%3A%20%22evenodd%22%2C%20%22lineCap%22%3A%20%22round%22%2C%20%22lineJoin%22%3A%20%22round%22%2C%20%22opacity%22%3A%201.0%2C%20%22radius%22%3A%2015%2C%20%22stroke%22%3A%20true%2C%20%22weight%22%3A%203%7D%0A%20%20%20%20%20%20%20%20%20%20%20%20%29.addTo%28map_cac5d842cd4a444aaea703b33759a320%29%3B%0A%20%20%20%20%20%20%20%20%0A%20%20%20%20%0A%20%20%20%20%20%20%20%20var%20popup_97af1a95953b4122b805bf94434f78b0%20%3D%20L.popup%28%7B%22maxWidth%22%3A%20%22100%25%22%7D%29%3B%0A%0A%20%20%20%20%20%20%20%20%0A%20%20%20%20%20%20%20%20%20%20%20%20var%20html_1f48dca1e974420890835b5b5dd23836%20%3D%20%24%28%60%3Cdiv%20id%3D%22html_1f48dca1e974420890835b5b5dd23836%22%20style%3D%22width%3A%20100.0%25%3B%20height%3A%20100.0%25%3B%22%3EVictoria%2C%20Australia%3C/div%3E%60%29%5B0%5D%3B%0A%20%20%20%20%20%20%20%20%20%20%20%20popup_97af1a95953b4122b805bf94434f78b0.setContent%28html_1f48dca1e974420890835b5b5dd23836%29%3B%0A%20%20%20%20%20%20%20%20%0A%0A%20%20%20%20%20%20%20%20circle_marker_e45b89adaf954db5aa4db096c4abbd38.bindPopup%28popup_97af1a95953b4122b805bf94434f78b0%29%0A%20%20%20%20%20%20%20%20%3B%0A%0A%20%20%20%20%20%20%20%20%0A%20%20%20%20%0A%20%20%20%20%0A%20%20%20%20%20%20%20%20%20%20%20%20var%20circle_marker_8d1b494b11724d448267e5a63a38c18f%20%3D%20L.circleMarker%28%0A%20%20%20%20%20%20%20%20%20%20%20%20%20%20%20%20%5B48.428318%2C%20-123.364953%5D%2C%0A%20%20%20%20%20%20%20%20%20%20%20%20%20%20%20%20%7B%22bubblingMouseEvents%22%3A%20true%2C%20%22color%22%3A%20%22black%22%2C%20%22dashArray%22%3A%20null%2C%20%22dashOffset%22%3A%20null%2C%20%22fill%22%3A%20true%2C%20%22fillColor%22%3A%20%22red%22%2C%20%22fillOpacity%22%3A%200.75%2C%20%22fillRule%22%3A%20%22evenodd%22%2C%20%22lineCap%22%3A%20%22round%22%2C%20%22lineJoin%22%3A%20%22round%22%2C%20%22opacity%22%3A%201.0%2C%20%22radius%22%3A%2015%2C%20%22stroke%22%3A%20true%2C%20%22weight%22%3A%203%7D%0A%20%20%20%20%20%20%20%20%20%20%20%20%29.addTo%28map_cac5d842cd4a444aaea703b33759a320%29%3B%0A%20%20%20%20%20%20%20%20%0A%20%20%20%20%0A%20%20%20%20%20%20%20%20var%20popup_f434ee896f9f4bfdac0cc02a343f9270%20%3D%20L.popup%28%7B%22maxWidth%22%3A%20%22100%25%22%7D%29%3B%0A%0A%20%20%20%20%20%20%20%20%0A%20%20%20%20%20%20%20%20%20%20%20%20var%20html_3ae3764e046047f3bd9df9cb62b69548%20%3D%20%24%28%60%3Cdiv%20id%3D%22html_3ae3764e046047f3bd9df9cb62b69548%22%20style%3D%22width%3A%20100.0%25%3B%20height%3A%20100.0%25%3B%22%3EVictoria%2C%20British%20Columbia%2C%20Canada%3C/div%3E%60%29%5B0%5D%3B%0A%20%20%20%20%20%20%20%20%20%20%20%20popup_f434ee896f9f4bfdac0cc02a343f9270.setContent%28html_3ae3764e046047f3bd9df9cb62b69548%29%3B%0A%20%20%20%20%20%20%20%20%0A%0A%20%20%20%20%20%20%20%20circle_marker_8d1b494b11724d448267e5a63a38c18f.bindPopup%28popup_f434ee896f9f4bfdac0cc02a343f9270%29%0A%20%20%20%20%20%20%20%20%3B%0A%0A%20%20%20%20%20%20%20%20%0A%20%20%20%20%0A%3C/script%3E onload=\"this.contentDocument.open();this.contentDocument.write(    decodeURIComponent(this.getAttribute('data-html')));this.contentDocument.close();\" allowfullscreen webkitallowfullscreen mozallowfullscreen></iframe></div></div>"
      ],
      "text/plain": [
       "<folium.folium.Map at 0x2a0db282a30>"
      ]
     },
     "execution_count": 13,
     "metadata": {},
     "output_type": "execute_result"
    }
   ],
   "source": [
    "ExampleMap = folium.Map(\n",
    "    location=[0,0],\n",
    "    zoom_start=2,\n",
    "    tiles='Stamen Toner'\n",
    ")\n",
    "\n",
    "for search in ['Surrey','Surrey BC','Victoria','Victoria BC']:\n",
    "    City = geolocator.geocode(search)\n",
    "    plot_point(ExampleMap,City.latitude,City.longitude,City,Radius=15)\n",
    "    print('Search Term: ', City)\n",
    "    print('Result: ', City)\n",
    "    print()\n",
    "    \n",
    "ExampleMap"
   ]
  },
  {
   "cell_type": "markdown",
   "metadata": {},
   "source": [
    "# Vancouver Street Trees\n",
    "\n"
   ]
  },
  {
   "cell_type": "code",
   "execution_count": 14,
   "metadata": {},
   "outputs": [
    {
     "name": "stdout",
     "output_type": "stream",
     "text": [
      "Number of Records\n",
      "(151355, 19)\n",
      "\n",
      "Neighbourhoods:\n",
      "['FAIRVIEW' 'WEST END' 'MOUNT PLEASANT' 'KITSILANO' 'MARPOLE'\n",
      " 'WEST POINT GREY' 'OAKRIDGE' 'STRATHCONA' 'KENSINGTON-CEDAR COTTAGE'\n",
      " 'RENFREW-COLLINGWOOD' 'DOWNTOWN' 'HASTINGS-SUNRISE' 'SUNSET'\n",
      " 'GRANDVIEW-WOODLAND' 'VICTORIA-FRASERVIEW' 'RILEY PARK' 'ARBUTUS-RIDGE'\n",
      " 'KERRISDALE' 'KILLARNEY' 'DUNBAR-SOUTHLANDS' 'SHAUGHNESSY' 'SOUTH CAMBIE']\n",
      "\n",
      "Data Preview\n"
     ]
    },
    {
     "data": {
      "text/html": [
       "<div>\n",
       "<style scoped>\n",
       "    .dataframe tbody tr th:only-of-type {\n",
       "        vertical-align: middle;\n",
       "    }\n",
       "\n",
       "    .dataframe tbody tr th {\n",
       "        vertical-align: top;\n",
       "    }\n",
       "\n",
       "    .dataframe thead th {\n",
       "        text-align: right;\n",
       "    }\n",
       "</style>\n",
       "<table border=\"1\" class=\"dataframe\">\n",
       "  <thead>\n",
       "    <tr style=\"text-align: right;\">\n",
       "      <th></th>\n",
       "      <th>TREE_ID</th>\n",
       "      <th>CIVIC_NUMBER</th>\n",
       "      <th>STD_STREET</th>\n",
       "      <th>GENUS_NAME</th>\n",
       "      <th>SPECIES_NAME</th>\n",
       "      <th>CULTIVAR_NAME</th>\n",
       "      <th>COMMON_NAME</th>\n",
       "      <th>ASSIGNED</th>\n",
       "      <th>ROOT_BARRIER</th>\n",
       "      <th>PLANT_AREA</th>\n",
       "      <th>ON_STREET_BLOCK</th>\n",
       "      <th>ON_STREET</th>\n",
       "      <th>NEIGHBOURHOOD_NAME</th>\n",
       "      <th>STREET_SIDE_NAME</th>\n",
       "      <th>HEIGHT_RANGE_ID</th>\n",
       "      <th>DIAMETER</th>\n",
       "      <th>CURB</th>\n",
       "      <th>DATE_PLANTED</th>\n",
       "      <th>Geom</th>\n",
       "    </tr>\n",
       "  </thead>\n",
       "  <tbody>\n",
       "    <tr>\n",
       "      <th>0</th>\n",
       "      <td>7937</td>\n",
       "      <td>1282</td>\n",
       "      <td>W 8TH AV</td>\n",
       "      <td>ACER</td>\n",
       "      <td>PALMATUM</td>\n",
       "      <td>NaN</td>\n",
       "      <td>JAPANESE MAPLE</td>\n",
       "      <td>N</td>\n",
       "      <td>N</td>\n",
       "      <td>B</td>\n",
       "      <td>1200</td>\n",
       "      <td>W 8TH AV</td>\n",
       "      <td>FAIRVIEW</td>\n",
       "      <td>EVEN</td>\n",
       "      <td>1</td>\n",
       "      <td>3.0</td>\n",
       "      <td>Y</td>\n",
       "      <td>NaN</td>\n",
       "      <td>{\"coordinates\": [-123.133161, 49.264339], \"typ...</td>\n",
       "    </tr>\n",
       "    <tr>\n",
       "      <th>1</th>\n",
       "      <td>7941</td>\n",
       "      <td>1286</td>\n",
       "      <td>W 8TH AV</td>\n",
       "      <td>ACER</td>\n",
       "      <td>PALMATUM</td>\n",
       "      <td>NaN</td>\n",
       "      <td>JAPANESE MAPLE</td>\n",
       "      <td>N</td>\n",
       "      <td>N</td>\n",
       "      <td>B</td>\n",
       "      <td>1200</td>\n",
       "      <td>W 8TH AV</td>\n",
       "      <td>FAIRVIEW</td>\n",
       "      <td>EVEN</td>\n",
       "      <td>1</td>\n",
       "      <td>3.0</td>\n",
       "      <td>Y</td>\n",
       "      <td>NaN</td>\n",
       "      <td>{\"coordinates\": [-123.133307, 49.264342], \"typ...</td>\n",
       "    </tr>\n",
       "    <tr>\n",
       "      <th>2</th>\n",
       "      <td>7975</td>\n",
       "      <td>1365</td>\n",
       "      <td>W 8TH AV</td>\n",
       "      <td>PRUNUS</td>\n",
       "      <td>SERRULATA</td>\n",
       "      <td>KWANZAN</td>\n",
       "      <td>KWANZAN FLOWERING CHERRY</td>\n",
       "      <td>N</td>\n",
       "      <td>N</td>\n",
       "      <td>3</td>\n",
       "      <td>1300</td>\n",
       "      <td>W 8TH AV</td>\n",
       "      <td>FAIRVIEW</td>\n",
       "      <td>ODD</td>\n",
       "      <td>2</td>\n",
       "      <td>22.0</td>\n",
       "      <td>Y</td>\n",
       "      <td>NaN</td>\n",
       "      <td>{\"coordinates\": [-123.135214, 49.264514], \"typ...</td>\n",
       "    </tr>\n",
       "    <tr>\n",
       "      <th>3</th>\n",
       "      <td>8002</td>\n",
       "      <td>1476</td>\n",
       "      <td>W 8TH AV</td>\n",
       "      <td>ACER</td>\n",
       "      <td>PLATANOIDES</td>\n",
       "      <td>CRIMSON SENTRY</td>\n",
       "      <td>CRIMSON SENTRY NORWAY MAPLE</td>\n",
       "      <td>N</td>\n",
       "      <td>N</td>\n",
       "      <td>C</td>\n",
       "      <td>1400</td>\n",
       "      <td>W 8TH AV</td>\n",
       "      <td>FAIRVIEW</td>\n",
       "      <td>EVEN</td>\n",
       "      <td>2</td>\n",
       "      <td>7.0</td>\n",
       "      <td>Y</td>\n",
       "      <td>1999-03-05</td>\n",
       "      <td>{\"coordinates\": [-123.137718, 49.264442], \"typ...</td>\n",
       "    </tr>\n",
       "    <tr>\n",
       "      <th>4</th>\n",
       "      <td>8008</td>\n",
       "      <td>1519</td>\n",
       "      <td>ROBSON ST</td>\n",
       "      <td>CHAMAECYPARIS</td>\n",
       "      <td>LAWSONIANA</td>\n",
       "      <td>NaN</td>\n",
       "      <td>LAWSON CYPRESS/PORT ORFORD CED</td>\n",
       "      <td>N</td>\n",
       "      <td>N</td>\n",
       "      <td>L</td>\n",
       "      <td>1500</td>\n",
       "      <td>ROBSON ST</td>\n",
       "      <td>WEST END</td>\n",
       "      <td>ODD</td>\n",
       "      <td>1</td>\n",
       "      <td>4.0</td>\n",
       "      <td>N</td>\n",
       "      <td>NaN</td>\n",
       "      <td>{\"coordinates\": [-123.131287, 49.289436], \"typ...</td>\n",
       "    </tr>\n",
       "  </tbody>\n",
       "</table>\n",
       "</div>"
      ],
      "text/plain": [
       "   TREE_ID  CIVIC_NUMBER STD_STREET     GENUS_NAME SPECIES_NAME  \\\n",
       "0     7937          1282   W 8TH AV           ACER     PALMATUM   \n",
       "1     7941          1286   W 8TH AV           ACER     PALMATUM   \n",
       "2     7975          1365   W 8TH AV         PRUNUS    SERRULATA   \n",
       "3     8002          1476   W 8TH AV           ACER  PLATANOIDES   \n",
       "4     8008          1519  ROBSON ST  CHAMAECYPARIS   LAWSONIANA   \n",
       "\n",
       "    CULTIVAR_NAME                     COMMON_NAME ASSIGNED ROOT_BARRIER  \\\n",
       "0             NaN                  JAPANESE MAPLE        N            N   \n",
       "1             NaN                  JAPANESE MAPLE        N            N   \n",
       "2         KWANZAN        KWANZAN FLOWERING CHERRY        N            N   \n",
       "3  CRIMSON SENTRY     CRIMSON SENTRY NORWAY MAPLE        N            N   \n",
       "4             NaN  LAWSON CYPRESS/PORT ORFORD CED        N            N   \n",
       "\n",
       "  PLANT_AREA  ON_STREET_BLOCK  ON_STREET NEIGHBOURHOOD_NAME STREET_SIDE_NAME  \\\n",
       "0          B             1200   W 8TH AV           FAIRVIEW             EVEN   \n",
       "1          B             1200   W 8TH AV           FAIRVIEW             EVEN   \n",
       "2          3             1300   W 8TH AV           FAIRVIEW              ODD   \n",
       "3          C             1400   W 8TH AV           FAIRVIEW             EVEN   \n",
       "4          L             1500  ROBSON ST           WEST END              ODD   \n",
       "\n",
       "   HEIGHT_RANGE_ID  DIAMETER CURB DATE_PLANTED  \\\n",
       "0                1       3.0    Y          NaN   \n",
       "1                1       3.0    Y          NaN   \n",
       "2                2      22.0    Y          NaN   \n",
       "3                2       7.0    Y   1999-03-05   \n",
       "4                1       4.0    N          NaN   \n",
       "\n",
       "                                                Geom  \n",
       "0  {\"coordinates\": [-123.133161, 49.264339], \"typ...  \n",
       "1  {\"coordinates\": [-123.133307, 49.264342], \"typ...  \n",
       "2  {\"coordinates\": [-123.135214, 49.264514], \"typ...  \n",
       "3  {\"coordinates\": [-123.137718, 49.264442], \"typ...  \n",
       "4  {\"coordinates\": [-123.131287, 49.289436], \"typ...  "
      ]
     },
     "execution_count": 14,
     "metadata": {},
     "output_type": "execute_result"
    }
   ],
   "source": [
    "import pandas as pd\n",
    "Trees = pd.read_csv('data/street-trees.csv',delimiter=';')\n",
    "\n",
    "print('Number of Records')\n",
    "print(Trees.shape)\n",
    "print()\n",
    "print('Neighbourhoods:')\n",
    "print(Trees['NEIGHBOURHOOD_NAME'].unique())\n",
    "\n",
    "print()\n",
    "print('Data Preview')\n",
    "Trees.head()"
   ]
  },
  {
   "cell_type": "markdown",
   "metadata": {},
   "source": [
    "# Querying Records\n",
    "\n",
    "* Select a specific Neighbourhood"
   ]
  },
  {
   "cell_type": "code",
   "execution_count": 15,
   "metadata": {},
   "outputs": [
    {
     "data": {
      "text/html": [
       "<div>\n",
       "<style scoped>\n",
       "    .dataframe tbody tr th:only-of-type {\n",
       "        vertical-align: middle;\n",
       "    }\n",
       "\n",
       "    .dataframe tbody tr th {\n",
       "        vertical-align: top;\n",
       "    }\n",
       "\n",
       "    .dataframe thead th {\n",
       "        text-align: right;\n",
       "    }\n",
       "</style>\n",
       "<table border=\"1\" class=\"dataframe\">\n",
       "  <thead>\n",
       "    <tr style=\"text-align: right;\">\n",
       "      <th></th>\n",
       "      <th>TREE_ID</th>\n",
       "      <th>CIVIC_NUMBER</th>\n",
       "      <th>STD_STREET</th>\n",
       "      <th>GENUS_NAME</th>\n",
       "      <th>SPECIES_NAME</th>\n",
       "      <th>CULTIVAR_NAME</th>\n",
       "      <th>COMMON_NAME</th>\n",
       "      <th>ASSIGNED</th>\n",
       "      <th>ROOT_BARRIER</th>\n",
       "      <th>PLANT_AREA</th>\n",
       "      <th>ON_STREET_BLOCK</th>\n",
       "      <th>ON_STREET</th>\n",
       "      <th>NEIGHBOURHOOD_NAME</th>\n",
       "      <th>STREET_SIDE_NAME</th>\n",
       "      <th>HEIGHT_RANGE_ID</th>\n",
       "      <th>DIAMETER</th>\n",
       "      <th>CURB</th>\n",
       "      <th>DATE_PLANTED</th>\n",
       "      <th>Geom</th>\n",
       "    </tr>\n",
       "  </thead>\n",
       "  <tbody>\n",
       "    <tr>\n",
       "      <th>12</th>\n",
       "      <td>8042</td>\n",
       "      <td>2200</td>\n",
       "      <td>ONTARIO ST</td>\n",
       "      <td>ACER</td>\n",
       "      <td>SPECIES</td>\n",
       "      <td>NaN</td>\n",
       "      <td>MAPLE SPECIES</td>\n",
       "      <td>N</td>\n",
       "      <td>N</td>\n",
       "      <td>B</td>\n",
       "      <td>2200</td>\n",
       "      <td>ONTARIO ST</td>\n",
       "      <td>MOUNT PLEASANT</td>\n",
       "      <td>EVEN</td>\n",
       "      <td>6</td>\n",
       "      <td>41.0</td>\n",
       "      <td>Y</td>\n",
       "      <td>NaN</td>\n",
       "      <td>NaN</td>\n",
       "    </tr>\n",
       "    <tr>\n",
       "      <th>13</th>\n",
       "      <td>8051</td>\n",
       "      <td>1077</td>\n",
       "      <td>GREAT NORTHERN WAY</td>\n",
       "      <td>FRAXINUS</td>\n",
       "      <td>ORNUS</td>\n",
       "      <td>NaN</td>\n",
       "      <td>FLOWERING ASH</td>\n",
       "      <td>N</td>\n",
       "      <td>N</td>\n",
       "      <td>3</td>\n",
       "      <td>1000</td>\n",
       "      <td>GREAT NORTHERN WAY</td>\n",
       "      <td>MOUNT PLEASANT</td>\n",
       "      <td>ODD</td>\n",
       "      <td>2</td>\n",
       "      <td>5.0</td>\n",
       "      <td>Y</td>\n",
       "      <td>NaN</td>\n",
       "      <td>NaN</td>\n",
       "    </tr>\n",
       "    <tr>\n",
       "      <th>145</th>\n",
       "      <td>9003</td>\n",
       "      <td>268</td>\n",
       "      <td>E 10TH AV</td>\n",
       "      <td>BETULA</td>\n",
       "      <td>PENDULA</td>\n",
       "      <td>NaN</td>\n",
       "      <td>EUROPEAN WHITE BIRCH</td>\n",
       "      <td>N</td>\n",
       "      <td>N</td>\n",
       "      <td>6</td>\n",
       "      <td>200</td>\n",
       "      <td>E 10TH AV</td>\n",
       "      <td>MOUNT PLEASANT</td>\n",
       "      <td>EVEN</td>\n",
       "      <td>4</td>\n",
       "      <td>18.0</td>\n",
       "      <td>Y</td>\n",
       "      <td>NaN</td>\n",
       "      <td>{\"coordinates\": [-123.099396, 49.261931], \"typ...</td>\n",
       "    </tr>\n",
       "    <tr>\n",
       "      <th>146</th>\n",
       "      <td>9010</td>\n",
       "      <td>423</td>\n",
       "      <td>E 10TH AV</td>\n",
       "      <td>FAGUS</td>\n",
       "      <td>SYLVATICA</td>\n",
       "      <td>NaN</td>\n",
       "      <td>EUROPEAN BEECH</td>\n",
       "      <td>N</td>\n",
       "      <td>N</td>\n",
       "      <td>7</td>\n",
       "      <td>400</td>\n",
       "      <td>E 10TH AV</td>\n",
       "      <td>MOUNT PLEASANT</td>\n",
       "      <td>ODD</td>\n",
       "      <td>1</td>\n",
       "      <td>4.0</td>\n",
       "      <td>Y</td>\n",
       "      <td>2005-04-13</td>\n",
       "      <td>NaN</td>\n",
       "    </tr>\n",
       "    <tr>\n",
       "      <th>147</th>\n",
       "      <td>9011</td>\n",
       "      <td>414</td>\n",
       "      <td>E 10TH AV</td>\n",
       "      <td>AESCULUS</td>\n",
       "      <td>HIPPOCASTANUM</td>\n",
       "      <td>NaN</td>\n",
       "      <td>COMMON HORSECHESTNUT</td>\n",
       "      <td>N</td>\n",
       "      <td>N</td>\n",
       "      <td>6</td>\n",
       "      <td>400</td>\n",
       "      <td>E 10TH AV</td>\n",
       "      <td>MOUNT PLEASANT</td>\n",
       "      <td>EVEN</td>\n",
       "      <td>4</td>\n",
       "      <td>23.0</td>\n",
       "      <td>Y</td>\n",
       "      <td>NaN</td>\n",
       "      <td>{\"coordinates\": [-123.095414, 49.261525], \"typ...</td>\n",
       "    </tr>\n",
       "    <tr>\n",
       "      <th>...</th>\n",
       "      <td>...</td>\n",
       "      <td>...</td>\n",
       "      <td>...</td>\n",
       "      <td>...</td>\n",
       "      <td>...</td>\n",
       "      <td>...</td>\n",
       "      <td>...</td>\n",
       "      <td>...</td>\n",
       "      <td>...</td>\n",
       "      <td>...</td>\n",
       "      <td>...</td>\n",
       "      <td>...</td>\n",
       "      <td>...</td>\n",
       "      <td>...</td>\n",
       "      <td>...</td>\n",
       "      <td>...</td>\n",
       "      <td>...</td>\n",
       "      <td>...</td>\n",
       "      <td>...</td>\n",
       "    </tr>\n",
       "    <tr>\n",
       "      <th>151101</th>\n",
       "      <td>278183</td>\n",
       "      <td>215</td>\n",
       "      <td>W 1ST AV</td>\n",
       "      <td>LIQUIDAMBAR</td>\n",
       "      <td>STYRACIFLUA</td>\n",
       "      <td>NaN</td>\n",
       "      <td>AMERICAN SWEETGUM</td>\n",
       "      <td>N</td>\n",
       "      <td>N</td>\n",
       "      <td>P</td>\n",
       "      <td>200</td>\n",
       "      <td>W 1ST AV</td>\n",
       "      <td>MOUNT PLEASANT</td>\n",
       "      <td>PARK</td>\n",
       "      <td>1</td>\n",
       "      <td>5.0</td>\n",
       "      <td>N</td>\n",
       "      <td>NaN</td>\n",
       "      <td>{\"coordinates\": [-123.110086, 49.270824], \"typ...</td>\n",
       "    </tr>\n",
       "    <tr>\n",
       "      <th>151102</th>\n",
       "      <td>278185</td>\n",
       "      <td>215</td>\n",
       "      <td>W 1ST AV</td>\n",
       "      <td>BETULA</td>\n",
       "      <td>NIGRA</td>\n",
       "      <td>NaN</td>\n",
       "      <td>RIVER BIRCH</td>\n",
       "      <td>N</td>\n",
       "      <td>N</td>\n",
       "      <td>P</td>\n",
       "      <td>200</td>\n",
       "      <td>W 1ST AV</td>\n",
       "      <td>MOUNT PLEASANT</td>\n",
       "      <td>PARK</td>\n",
       "      <td>3</td>\n",
       "      <td>7.0</td>\n",
       "      <td>N</td>\n",
       "      <td>NaN</td>\n",
       "      <td>{\"coordinates\": [-123.110414, 49.270974], \"typ...</td>\n",
       "    </tr>\n",
       "    <tr>\n",
       "      <th>151103</th>\n",
       "      <td>278188</td>\n",
       "      <td>215</td>\n",
       "      <td>W 1ST AV</td>\n",
       "      <td>PRUNUS</td>\n",
       "      <td>SPECIES</td>\n",
       "      <td>NaN</td>\n",
       "      <td>CHERRY, PLUM OR PEACH SPECIES</td>\n",
       "      <td>N</td>\n",
       "      <td>N</td>\n",
       "      <td>P</td>\n",
       "      <td>200</td>\n",
       "      <td>W 1ST AV</td>\n",
       "      <td>MOUNT PLEASANT</td>\n",
       "      <td>PARK</td>\n",
       "      <td>2</td>\n",
       "      <td>6.0</td>\n",
       "      <td>N</td>\n",
       "      <td>NaN</td>\n",
       "      <td>{\"coordinates\": [-123.110253, 49.270545], \"typ...</td>\n",
       "    </tr>\n",
       "    <tr>\n",
       "      <th>151254</th>\n",
       "      <td>278788</td>\n",
       "      <td>2140</td>\n",
       "      <td>MAIN ST</td>\n",
       "      <td>PARROTIA</td>\n",
       "      <td>PERSICA</td>\n",
       "      <td>PERSIAN SPIRE</td>\n",
       "      <td>PERSIAN SPIRE UPRIGHT IRONWOOD</td>\n",
       "      <td>N</td>\n",
       "      <td>N</td>\n",
       "      <td>G</td>\n",
       "      <td>2100</td>\n",
       "      <td>MAIN ST</td>\n",
       "      <td>MOUNT PLEASANT</td>\n",
       "      <td>EVEN</td>\n",
       "      <td>1</td>\n",
       "      <td>3.0</td>\n",
       "      <td>Y</td>\n",
       "      <td>NaN</td>\n",
       "      <td>{\"coordinates\": [-123.100704, 49.266004], \"typ...</td>\n",
       "    </tr>\n",
       "    <tr>\n",
       "      <th>151343</th>\n",
       "      <td>279531</td>\n",
       "      <td>233</td>\n",
       "      <td>KINGSWAY</td>\n",
       "      <td>PARROTIA</td>\n",
       "      <td>PERSICA</td>\n",
       "      <td>PERSIAN SPIRE</td>\n",
       "      <td>PERSIAN SPIRE UPRIGHT IRONWOOD</td>\n",
       "      <td>N</td>\n",
       "      <td>N</td>\n",
       "      <td>C</td>\n",
       "      <td>200</td>\n",
       "      <td>KINGSWAY</td>\n",
       "      <td>MOUNT PLEASANT</td>\n",
       "      <td>ODD</td>\n",
       "      <td>1</td>\n",
       "      <td>3.0</td>\n",
       "      <td>Y</td>\n",
       "      <td>NaN</td>\n",
       "      <td>NaN</td>\n",
       "    </tr>\n",
       "  </tbody>\n",
       "</table>\n",
       "<p>7158 rows × 19 columns</p>\n",
       "</div>"
      ],
      "text/plain": [
       "        TREE_ID  CIVIC_NUMBER          STD_STREET   GENUS_NAME   SPECIES_NAME  \\\n",
       "12         8042          2200          ONTARIO ST         ACER        SPECIES   \n",
       "13         8051          1077  GREAT NORTHERN WAY     FRAXINUS          ORNUS   \n",
       "145        9003           268           E 10TH AV       BETULA        PENDULA   \n",
       "146        9010           423           E 10TH AV        FAGUS      SYLVATICA   \n",
       "147        9011           414           E 10TH AV     AESCULUS  HIPPOCASTANUM   \n",
       "...         ...           ...                 ...          ...            ...   \n",
       "151101   278183           215            W 1ST AV  LIQUIDAMBAR    STYRACIFLUA   \n",
       "151102   278185           215            W 1ST AV       BETULA          NIGRA   \n",
       "151103   278188           215            W 1ST AV       PRUNUS        SPECIES   \n",
       "151254   278788          2140             MAIN ST     PARROTIA        PERSICA   \n",
       "151343   279531           233            KINGSWAY     PARROTIA        PERSICA   \n",
       "\n",
       "        CULTIVAR_NAME                     COMMON_NAME ASSIGNED ROOT_BARRIER  \\\n",
       "12                NaN                   MAPLE SPECIES        N            N   \n",
       "13                NaN                   FLOWERING ASH        N            N   \n",
       "145               NaN            EUROPEAN WHITE BIRCH        N            N   \n",
       "146               NaN                  EUROPEAN BEECH        N            N   \n",
       "147               NaN            COMMON HORSECHESTNUT        N            N   \n",
       "...               ...                             ...      ...          ...   \n",
       "151101            NaN               AMERICAN SWEETGUM        N            N   \n",
       "151102            NaN                     RIVER BIRCH        N            N   \n",
       "151103            NaN   CHERRY, PLUM OR PEACH SPECIES        N            N   \n",
       "151254  PERSIAN SPIRE  PERSIAN SPIRE UPRIGHT IRONWOOD        N            N   \n",
       "151343  PERSIAN SPIRE  PERSIAN SPIRE UPRIGHT IRONWOOD        N            N   \n",
       "\n",
       "       PLANT_AREA  ON_STREET_BLOCK           ON_STREET NEIGHBOURHOOD_NAME  \\\n",
       "12              B             2200          ONTARIO ST     MOUNT PLEASANT   \n",
       "13              3             1000  GREAT NORTHERN WAY     MOUNT PLEASANT   \n",
       "145             6              200           E 10TH AV     MOUNT PLEASANT   \n",
       "146             7              400           E 10TH AV     MOUNT PLEASANT   \n",
       "147             6              400           E 10TH AV     MOUNT PLEASANT   \n",
       "...           ...              ...                 ...                ...   \n",
       "151101          P              200            W 1ST AV     MOUNT PLEASANT   \n",
       "151102          P              200            W 1ST AV     MOUNT PLEASANT   \n",
       "151103          P              200            W 1ST AV     MOUNT PLEASANT   \n",
       "151254          G             2100             MAIN ST     MOUNT PLEASANT   \n",
       "151343          C              200            KINGSWAY     MOUNT PLEASANT   \n",
       "\n",
       "       STREET_SIDE_NAME  HEIGHT_RANGE_ID  DIAMETER CURB DATE_PLANTED  \\\n",
       "12                 EVEN                6      41.0    Y          NaN   \n",
       "13                  ODD                2       5.0    Y          NaN   \n",
       "145                EVEN                4      18.0    Y          NaN   \n",
       "146                 ODD                1       4.0    Y   2005-04-13   \n",
       "147                EVEN                4      23.0    Y          NaN   \n",
       "...                 ...              ...       ...  ...          ...   \n",
       "151101             PARK                1       5.0    N          NaN   \n",
       "151102             PARK                3       7.0    N          NaN   \n",
       "151103             PARK                2       6.0    N          NaN   \n",
       "151254             EVEN                1       3.0    Y          NaN   \n",
       "151343              ODD                1       3.0    Y          NaN   \n",
       "\n",
       "                                                     Geom  \n",
       "12                                                    NaN  \n",
       "13                                                    NaN  \n",
       "145     {\"coordinates\": [-123.099396, 49.261931], \"typ...  \n",
       "146                                                   NaN  \n",
       "147     {\"coordinates\": [-123.095414, 49.261525], \"typ...  \n",
       "...                                                   ...  \n",
       "151101  {\"coordinates\": [-123.110086, 49.270824], \"typ...  \n",
       "151102  {\"coordinates\": [-123.110414, 49.270974], \"typ...  \n",
       "151103  {\"coordinates\": [-123.110253, 49.270545], \"typ...  \n",
       "151254  {\"coordinates\": [-123.100704, 49.266004], \"typ...  \n",
       "151343                                                NaN  \n",
       "\n",
       "[7158 rows x 19 columns]"
      ]
     },
     "execution_count": 15,
     "metadata": {},
     "output_type": "execute_result"
    }
   ],
   "source": [
    "\n",
    "Your_Neighbourhood_Selection = 'MOUNT PLEASANT'\n",
    "\n",
    "Select_by_Neighbourhood = Trees.loc[\n",
    "    Trees['NEIGHBOURHOOD_NAME']==Your_Neighbourhood_Selection\n",
    "]\n",
    "\n",
    "Select_by_Neighbourhood"
   ]
  },
  {
   "cell_type": "markdown",
   "metadata": {},
   "source": [
    "## Find the most 50 most common trees in the selected neighbourhood\n",
    "\n",
    "# Quiz Question 14\n",
    "\n",
    "Select a specific neighborhood.\n",
    "\n",
    "- What is the most common street tree in Vancouver's Mount Pleasant neighbourhood?"
   ]
  },
  {
   "cell_type": "code",
   "execution_count": 16,
   "metadata": {},
   "outputs": [
    {
     "name": "stdout",
     "output_type": "stream",
     "text": [
      "COMMON_NAME\n",
      "JAPANESE MAPLE                  34\n",
      "BIGLEAF MAPLE                   34\n",
      "PAPERBARK MAPLE                 35\n",
      "EUROPEAN WHITE BIRCH            35\n",
      "EUROPEAN ASH                    38\n",
      "BLACK TUPELO                    39\n",
      "KOBUS MAGNOLIA                  39\n",
      "MAPLE SPECIES                   42\n",
      "AMERICAN SWEETGUM               42\n",
      "BASSWOOD                        44\n",
      "EUROPEAN HORNBEAM               44\n",
      "PYRAMIDAL ENGLISH OAK           47\n",
      "PINK PERFECTION CHERRY          47\n",
      "RED OAK                         47\n",
      "WESTERN RED CEDAR               48\n",
      "JAPANESE STEWARTIA              48\n",
      "ARISTOCRAT PEAR                 49\n",
      "REDBUD CRABAPPLE                50\n",
      "PACIFIC SUNSET MAPLE            52\n",
      "AMERICAN ELM                    53\n",
      "FLOWERING ASH                   55\n",
      "SYCAMORE MAPLE                  56\n",
      "RED SUNSET RED MAPLE            56\n",
      "RAYWOOD ASH                     61\n",
      "AKEBONO FLOWERING CHERRY        63\n",
      "TREE LILAC                      64\n",
      "AMERICAN HORNBEAM               65\n",
      "HEDGE MAPLE                     68\n",
      "JAPANESE SNOWBELL               70\n",
      "CALLERY PEAR                    72\n",
      "FREEMAN'S S.S. MAPLE            76\n",
      "DAWYCK'S BEECH                  81\n",
      "MORGAN RED MAPLE                84\n",
      "VANESSA PERSIAN IRONWOOD        93\n",
      "UKON JAPANESE CHERRY            96\n",
      "PIN OAK                         97\n",
      "COLUMNAR NORWAY MAPLE           97\n",
      "PISSARD PLUM                   116\n",
      "WORPLESDON SWEETGUM            126\n",
      "BOWHALL RED MAPLE              127\n",
      "EUROPEAN BEECH                 140\n",
      "ARMSTRONG RED MAPLE            147\n",
      "KATSURA TREE                   152\n",
      "CRIMEAN LINDEN                 219\n",
      "PYRAMIDAL EUROPEAN HORNBEAM    219\n",
      "COMMON HORSECHESTNUT           220\n",
      "CHANTICLEER PEAR               222\n",
      "NORWAY MAPLE                   242\n",
      "RED MAPLE                      338\n",
      "KWANZAN FLOWERING CHERRY       746\n",
      "Name: TREE_ID, dtype: int64\n"
     ]
    }
   ],
   "source": [
    "Most_Common_Trees = Select_by_Neighbourhood.groupby('COMMON_NAME').count()['TREE_ID'].sort_values()[-50:]\n",
    "\n",
    "print(Most_Common_Trees)\n"
   ]
  },
  {
   "cell_type": "markdown",
   "metadata": {},
   "source": [
    "## Find all the least common trees (species with only one tree!)"
   ]
  },
  {
   "cell_type": "code",
   "execution_count": 20,
   "metadata": {
    "scrolled": false
   },
   "outputs": [
    {
     "name": "stdout",
     "output_type": "stream",
     "text": [
      "Number of species with just one specimine in Mt. Pleasant:  59\n"
     ]
    }
   ],
   "source": [
    "Tree_Counts = Select_by_Neighbourhood.groupby('COMMON_NAME').count()['TREE_ID'].sort_values()\n",
    "\n",
    "Single_Trees = Tree_Counts.loc[Tree_Counts==1]\n",
    "\n",
    "print('Number of species with just one specimine in Mt. Pleasant: ',Single_Trees.count())\n",
    "# Your_Tree_Selection = \"\"\n",
    "\n",
    "Select_by_Tree = Select_by_Neighbourhood.loc[\n",
    "    Select_by_Neighbourhood['COMMON_NAME'].isin(Single_Trees.index)]\n",
    "\n",
    "\n",
    "# Select_by_Tree.head()\n",
    "# Select_by_Neighbourhood"
   ]
  },
  {
   "cell_type": "markdown",
   "metadata": {},
   "source": [
    "# Quiz Question 16\n",
    "\n",
    "\n",
    "## Make a Map of all the selected Trees in the selected Neighbourhood\n",
    "\n",
    "* Take a screenshot and submit it.\n",
    "* Just don't use the same example as lecture (Japanese Maples in Mt. Pleasant)"
   ]
  },
  {
   "cell_type": "code",
   "execution_count": 23,
   "metadata": {},
   "outputs": [
    {
     "data": {
      "application/vnd.jupyter.widget-view+json": {
       "model_id": "c373cc7017e84cecbee400401b848411",
       "version_major": 2,
       "version_minor": 0
      },
      "text/plain": [
       "FloatProgress(value=0.0, description='Progress:')"
      ]
     },
     "metadata": {},
     "output_type": "display_data"
    },
    {
     "data": {
      "text/html": [
       "<div style=\"width:100%;\"><div style=\"position:relative;width:100%;height:0;padding-bottom:60%;\"><span style=\"color:#565656\">Make this Notebook Trusted to load map: File -> Trust Notebook</span><iframe src=\"about:blank\" style=\"position:absolute;width:100%;height:100%;left:0;top:0;border:none !important;\" data-html=%3C%21DOCTYPE%20html%3E%0A%3Chead%3E%20%20%20%20%0A%20%20%20%20%3Cmeta%20http-equiv%3D%22content-type%22%20content%3D%22text/html%3B%20charset%3DUTF-8%22%20/%3E%0A%20%20%20%20%0A%20%20%20%20%20%20%20%20%3Cscript%3E%0A%20%20%20%20%20%20%20%20%20%20%20%20L_NO_TOUCH%20%3D%20false%3B%0A%20%20%20%20%20%20%20%20%20%20%20%20L_DISABLE_3D%20%3D%20false%3B%0A%20%20%20%20%20%20%20%20%3C/script%3E%0A%20%20%20%20%0A%20%20%20%20%3Cstyle%3Ehtml%2C%20body%20%7Bwidth%3A%20100%25%3Bheight%3A%20100%25%3Bmargin%3A%200%3Bpadding%3A%200%3B%7D%3C/style%3E%0A%20%20%20%20%3Cstyle%3E%23map%20%7Bposition%3Aabsolute%3Btop%3A0%3Bbottom%3A0%3Bright%3A0%3Bleft%3A0%3B%7D%3C/style%3E%0A%20%20%20%20%3Cscript%20src%3D%22https%3A//cdn.jsdelivr.net/npm/leaflet%401.6.0/dist/leaflet.js%22%3E%3C/script%3E%0A%20%20%20%20%3Cscript%20src%3D%22https%3A//code.jquery.com/jquery-1.12.4.min.js%22%3E%3C/script%3E%0A%20%20%20%20%3Cscript%20src%3D%22https%3A//maxcdn.bootstrapcdn.com/bootstrap/3.2.0/js/bootstrap.min.js%22%3E%3C/script%3E%0A%20%20%20%20%3Cscript%20src%3D%22https%3A//cdnjs.cloudflare.com/ajax/libs/Leaflet.awesome-markers/2.0.2/leaflet.awesome-markers.js%22%3E%3C/script%3E%0A%20%20%20%20%3Clink%20rel%3D%22stylesheet%22%20href%3D%22https%3A//cdn.jsdelivr.net/npm/leaflet%401.6.0/dist/leaflet.css%22/%3E%0A%20%20%20%20%3Clink%20rel%3D%22stylesheet%22%20href%3D%22https%3A//maxcdn.bootstrapcdn.com/bootstrap/3.2.0/css/bootstrap.min.css%22/%3E%0A%20%20%20%20%3Clink%20rel%3D%22stylesheet%22%20href%3D%22https%3A//maxcdn.bootstrapcdn.com/bootstrap/3.2.0/css/bootstrap-theme.min.css%22/%3E%0A%20%20%20%20%3Clink%20rel%3D%22stylesheet%22%20href%3D%22https%3A//maxcdn.bootstrapcdn.com/font-awesome/4.6.3/css/font-awesome.min.css%22/%3E%0A%20%20%20%20%3Clink%20rel%3D%22stylesheet%22%20href%3D%22https%3A//cdnjs.cloudflare.com/ajax/libs/Leaflet.awesome-markers/2.0.2/leaflet.awesome-markers.css%22/%3E%0A%20%20%20%20%3Clink%20rel%3D%22stylesheet%22%20href%3D%22https%3A//cdn.jsdelivr.net/gh/python-visualization/folium/folium/templates/leaflet.awesome.rotate.min.css%22/%3E%0A%20%20%20%20%0A%20%20%20%20%20%20%20%20%20%20%20%20%3Cmeta%20name%3D%22viewport%22%20content%3D%22width%3Ddevice-width%2C%0A%20%20%20%20%20%20%20%20%20%20%20%20%20%20%20%20initial-scale%3D1.0%2C%20maximum-scale%3D1.0%2C%20user-scalable%3Dno%22%20/%3E%0A%20%20%20%20%20%20%20%20%20%20%20%20%3Cstyle%3E%0A%20%20%20%20%20%20%20%20%20%20%20%20%20%20%20%20%23map_4d6930e57bae45fdbd37fbd8516e5ad4%20%7B%0A%20%20%20%20%20%20%20%20%20%20%20%20%20%20%20%20%20%20%20%20position%3A%20relative%3B%0A%20%20%20%20%20%20%20%20%20%20%20%20%20%20%20%20%20%20%20%20width%3A%20100.0%25%3B%0A%20%20%20%20%20%20%20%20%20%20%20%20%20%20%20%20%20%20%20%20height%3A%20100.0%25%3B%0A%20%20%20%20%20%20%20%20%20%20%20%20%20%20%20%20%20%20%20%20left%3A%200.0%25%3B%0A%20%20%20%20%20%20%20%20%20%20%20%20%20%20%20%20%20%20%20%20top%3A%200.0%25%3B%0A%20%20%20%20%20%20%20%20%20%20%20%20%20%20%20%20%7D%0A%20%20%20%20%20%20%20%20%20%20%20%20%3C/style%3E%0A%20%20%20%20%20%20%20%20%0A%3C/head%3E%0A%3Cbody%3E%20%20%20%20%0A%20%20%20%20%0A%20%20%20%20%20%20%20%20%20%20%20%20%3Cdiv%20class%3D%22folium-map%22%20id%3D%22map_4d6930e57bae45fdbd37fbd8516e5ad4%22%20%3E%3C/div%3E%0A%20%20%20%20%20%20%20%20%0A%3C/body%3E%0A%3Cscript%3E%20%20%20%20%0A%20%20%20%20%0A%20%20%20%20%20%20%20%20%20%20%20%20var%20map_4d6930e57bae45fdbd37fbd8516e5ad4%20%3D%20L.map%28%0A%20%20%20%20%20%20%20%20%20%20%20%20%20%20%20%20%22map_4d6930e57bae45fdbd37fbd8516e5ad4%22%2C%0A%20%20%20%20%20%20%20%20%20%20%20%20%20%20%20%20%7B%0A%20%20%20%20%20%20%20%20%20%20%20%20%20%20%20%20%20%20%20%20center%3A%20%5B49.279862%2C%20-123.116838%5D%2C%0A%20%20%20%20%20%20%20%20%20%20%20%20%20%20%20%20%20%20%20%20crs%3A%20L.CRS.EPSG3857%2C%0A%20%20%20%20%20%20%20%20%20%20%20%20%20%20%20%20%20%20%20%20zoom%3A%2011%2C%0A%20%20%20%20%20%20%20%20%20%20%20%20%20%20%20%20%20%20%20%20zoomControl%3A%20true%2C%0A%20%20%20%20%20%20%20%20%20%20%20%20%20%20%20%20%20%20%20%20preferCanvas%3A%20false%2C%0A%20%20%20%20%20%20%20%20%20%20%20%20%20%20%20%20%7D%0A%20%20%20%20%20%20%20%20%20%20%20%20%29%3B%0A%0A%20%20%20%20%20%20%20%20%20%20%20%20%0A%0A%20%20%20%20%20%20%20%20%0A%20%20%20%20%0A%20%20%20%20%20%20%20%20%20%20%20%20var%20tile_layer_6433208d01f142bdbc1b9ff799a4b69c%20%3D%20L.tileLayer%28%0A%20%20%20%20%20%20%20%20%20%20%20%20%20%20%20%20%22https%3A//%7Bs%7D.tile.openstreetmap.org/%7Bz%7D/%7Bx%7D/%7By%7D.png%22%2C%0A%20%20%20%20%20%20%20%20%20%20%20%20%20%20%20%20%7B%22attribution%22%3A%20%22Data%20by%20%5Cu0026copy%3B%20%5Cu003ca%20href%3D%5C%22http%3A//openstreetmap.org%5C%22%5Cu003eOpenStreetMap%5Cu003c/a%5Cu003e%2C%20under%20%5Cu003ca%20href%3D%5C%22http%3A//www.openstreetmap.org/copyright%5C%22%5Cu003eODbL%5Cu003c/a%5Cu003e.%22%2C%20%22detectRetina%22%3A%20false%2C%20%22maxNativeZoom%22%3A%2018%2C%20%22maxZoom%22%3A%2018%2C%20%22minZoom%22%3A%200%2C%20%22noWrap%22%3A%20false%2C%20%22opacity%22%3A%201%2C%20%22subdomains%22%3A%20%22abc%22%2C%20%22tms%22%3A%20false%7D%0A%20%20%20%20%20%20%20%20%20%20%20%20%29.addTo%28map_4d6930e57bae45fdbd37fbd8516e5ad4%29%3B%0A%20%20%20%20%20%20%20%20%0A%20%20%20%20%0A%20%20%20%20%20%20%20%20%20%20%20%20var%20circle_marker_f118a6b954754831921c1b3f0abcc76d%20%3D%20L.circleMarker%28%0A%20%20%20%20%20%20%20%20%20%20%20%20%20%20%20%20%5B49.258548%2C%20-123.10955%5D%2C%0A%20%20%20%20%20%20%20%20%20%20%20%20%20%20%20%20%7B%22bubblingMouseEvents%22%3A%20true%2C%20%22color%22%3A%20%22black%22%2C%20%22dashArray%22%3A%20null%2C%20%22dashOffset%22%3A%20null%2C%20%22fill%22%3A%20true%2C%20%22fillColor%22%3A%20%22%23EA0C5C%22%2C%20%22fillOpacity%22%3A%200.75%2C%20%22fillRule%22%3A%20%22evenodd%22%2C%20%22lineCap%22%3A%20%22round%22%2C%20%22lineJoin%22%3A%20%22round%22%2C%20%22opacity%22%3A%201.0%2C%20%22radius%22%3A%2015%2C%20%22stroke%22%3A%20true%2C%20%22weight%22%3A%203%7D%0A%20%20%20%20%20%20%20%20%20%20%20%20%29.addTo%28map_4d6930e57bae45fdbd37fbd8516e5ad4%29%3B%0A%20%20%20%20%20%20%20%20%0A%20%20%20%20%0A%20%20%20%20%20%20%20%20var%20popup_a03914afe26e4f54ae5368a67057fa6d%20%3D%20L.popup%28%7B%22maxHeight%22%3A%20500%2C%20%22maxWidth%22%3A%20500%2C%20%22minHeight%22%3A%20100%2C%20%22minWidth%22%3A%20500%7D%29%3B%0A%0A%20%20%20%20%20%20%20%20%0A%20%20%20%20%20%20%20%20%20%20%20%20var%20i_frame_b3ade93406de4f3fa22513252a50a515%20%3D%20%24%28%60%3Cdiv%20style%3D%22width%3A100%25%3B%22%3E%3Cdiv%20style%3D%22position%3Arelative%3Bwidth%3A100%25%3Bheight%3A0%3Bpadding-bottom%3A60%25%3B%22%3E%3Ciframe%20src%3D%22data%3Atext/html%3Bcharset%3Dutf-8%3Bbase64%2CCiAgICAKICAgIDxiPlNwZWNpZXMgTmFtZTo8YnI%2BIFdBVEVSRVIgR09MREVOQ0hBSU4gVFJFRQogICAgPGI%2BRGF0ZSBQbGFudGVkOjxicj4gbmFuCiAgICA8Yj5HZW9jb2RlIEF0dGVtcHQ6PGJyPiAyMDAgVyAxNFRIIEFWLCBWYW5jb3V2ZXIsIEJDLCBDYW5hZGEKICAgIDxiPkdlb2NvZGUgUmVzdWx0Ojxicj4gMjAwIFdlc3QgMTR0aCBBdmVudWUsIFZhbmNvdXZlciwgQnJpdGlzaCBDb2x1bWJpYSBWNVkgMVc5LCBDYW5hZGE%3D%22%20style%3D%22position%3Aabsolute%3Bwidth%3A100%25%3Bheight%3A100%25%3Bleft%3A0%3Btop%3A0%3Bborder%3Anone%20%21important%3B%22%3E%3C/iframe%3E%3C/div%3E%3C/div%3E%60%29%5B0%5D%3B%0A%20%20%20%20%20%20%20%20%20%20%20%20popup_a03914afe26e4f54ae5368a67057fa6d.setContent%28i_frame_b3ade93406de4f3fa22513252a50a515%29%3B%0A%20%20%20%20%20%20%20%20%0A%0A%20%20%20%20%20%20%20%20circle_marker_f118a6b954754831921c1b3f0abcc76d.bindPopup%28popup_a03914afe26e4f54ae5368a67057fa6d%29%0A%20%20%20%20%20%20%20%20%3B%0A%0A%20%20%20%20%20%20%20%20%0A%20%20%20%20%0A%20%20%20%20%0A%20%20%20%20%20%20%20%20%20%20%20%20var%20circle_marker_2b11a368227e4d7da232bf1b24faf297%20%3D%20L.circleMarker%28%0A%20%20%20%20%20%20%20%20%20%20%20%20%20%20%20%20%5B49.259409%2C%20-123.109601%5D%2C%0A%20%20%20%20%20%20%20%20%20%20%20%20%20%20%20%20%7B%22bubblingMouseEvents%22%3A%20true%2C%20%22color%22%3A%20%22black%22%2C%20%22dashArray%22%3A%20null%2C%20%22dashOffset%22%3A%20null%2C%20%22fill%22%3A%20true%2C%20%22fillColor%22%3A%20%22%23B8EB54%22%2C%20%22fillOpacity%22%3A%200.75%2C%20%22fillRule%22%3A%20%22evenodd%22%2C%20%22lineCap%22%3A%20%22round%22%2C%20%22lineJoin%22%3A%20%22round%22%2C%20%22opacity%22%3A%201.0%2C%20%22radius%22%3A%2015%2C%20%22stroke%22%3A%20true%2C%20%22weight%22%3A%203%7D%0A%20%20%20%20%20%20%20%20%20%20%20%20%29.addTo%28map_4d6930e57bae45fdbd37fbd8516e5ad4%29%3B%0A%20%20%20%20%20%20%20%20%0A%20%20%20%20%0A%20%20%20%20%20%20%20%20var%20popup_e39f792d3b114cdc89c7c370b949f61c%20%3D%20L.popup%28%7B%22maxHeight%22%3A%20500%2C%20%22maxWidth%22%3A%20500%2C%20%22minHeight%22%3A%20100%2C%20%22minWidth%22%3A%20500%7D%29%3B%0A%0A%20%20%20%20%20%20%20%20%0A%20%20%20%20%20%20%20%20%20%20%20%20var%20i_frame_081935ee2d944f4c864ea849f99063d8%20%3D%20%24%28%60%3Cdiv%20style%3D%22width%3A100%25%3B%22%3E%3Cdiv%20style%3D%22position%3Arelative%3Bwidth%3A100%25%3Bheight%3A0%3Bpadding-bottom%3A60%25%3B%22%3E%3Ciframe%20src%3D%22data%3Atext/html%3Bcharset%3Dutf-8%3Bbase64%2CCiAgICAKICAgIDxiPlNwZWNpZXMgTmFtZTo8YnI%2BIFRSSUNPTE9SIERPR1dPT0QKICAgIDxiPkRhdGUgUGxhbnRlZDo8YnI%2BIG5hbgogICAgPGI%2BR2VvY29kZSBBdHRlbXB0Ojxicj4gMjAwIFcgMTNUSCBBViwgVmFuY291dmVyLCBCQywgQ2FuYWRhCiAgICA8Yj5HZW9jb2RlIFJlc3VsdDo8YnI%2BIDIwMCBXZXN0IDEzdGggQXZlbnVlLCBWYW5jb3V2ZXIsIEJyaXRpc2ggQ29sdW1iaWEgVjVZIDNHNSwgQ2FuYWRh%22%20style%3D%22position%3Aabsolute%3Bwidth%3A100%25%3Bheight%3A100%25%3Bleft%3A0%3Btop%3A0%3Bborder%3Anone%20%21important%3B%22%3E%3C/iframe%3E%3C/div%3E%3C/div%3E%60%29%5B0%5D%3B%0A%20%20%20%20%20%20%20%20%20%20%20%20popup_e39f792d3b114cdc89c7c370b949f61c.setContent%28i_frame_081935ee2d944f4c864ea849f99063d8%29%3B%0A%20%20%20%20%20%20%20%20%0A%0A%20%20%20%20%20%20%20%20circle_marker_2b11a368227e4d7da232bf1b24faf297.bindPopup%28popup_e39f792d3b114cdc89c7c370b949f61c%29%0A%20%20%20%20%20%20%20%20%3B%0A%0A%20%20%20%20%20%20%20%20%0A%20%20%20%20%0A%20%20%20%20%0A%20%20%20%20%20%20%20%20%20%20%20%20var%20circle_marker_b8cd06d3c21943afbb02bc4d6917b641%20%3D%20L.circleMarker%28%0A%20%20%20%20%20%20%20%20%20%20%20%20%20%20%20%20%5B49.263694%2C%20-123.097006%5D%2C%0A%20%20%20%20%20%20%20%20%20%20%20%20%20%20%20%20%7B%22bubblingMouseEvents%22%3A%20true%2C%20%22color%22%3A%20%22black%22%2C%20%22dashArray%22%3A%20null%2C%20%22dashOffset%22%3A%20null%2C%20%22fill%22%3A%20true%2C%20%22fillColor%22%3A%20%22%23AAA12E%22%2C%20%22fillOpacity%22%3A%200.75%2C%20%22fillRule%22%3A%20%22evenodd%22%2C%20%22lineCap%22%3A%20%22round%22%2C%20%22lineJoin%22%3A%20%22round%22%2C%20%22opacity%22%3A%201.0%2C%20%22radius%22%3A%2015%2C%20%22stroke%22%3A%20true%2C%20%22weight%22%3A%203%7D%0A%20%20%20%20%20%20%20%20%20%20%20%20%29.addTo%28map_4d6930e57bae45fdbd37fbd8516e5ad4%29%3B%0A%20%20%20%20%20%20%20%20%0A%20%20%20%20%0A%20%20%20%20%20%20%20%20var%20popup_06e8c057dc3b43aa9a0ca39227badc5c%20%3D%20L.popup%28%7B%22maxHeight%22%3A%20500%2C%20%22maxWidth%22%3A%20500%2C%20%22minHeight%22%3A%20100%2C%20%22minWidth%22%3A%20500%7D%29%3B%0A%0A%20%20%20%20%20%20%20%20%0A%20%20%20%20%20%20%20%20%20%20%20%20var%20i_frame_29c2130121424bd09a0836037a998d4f%20%3D%20%24%28%60%3Cdiv%20style%3D%22width%3A100%25%3B%22%3E%3Cdiv%20style%3D%22position%3Arelative%3Bwidth%3A100%25%3Bheight%3A0%3Bpadding-bottom%3A60%25%3B%22%3E%3Ciframe%20src%3D%22data%3Atext/html%3Bcharset%3Dutf-8%3Bbase64%2CCiAgICAKICAgIDxiPlNwZWNpZXMgTmFtZTo8YnI%2BIENPTU1PTiBDQVRBTFBBCiAgICA8Yj5EYXRlIFBsYW50ZWQ6PGJyPiBuYW4KICAgIDxiPkdlb2NvZGUgQXR0ZW1wdDo8YnI%2BIDI0MDAgQlJVTlNXSUNLIFNULCBWYW5jb3V2ZXIsIEJDLCBDYW5hZGEKICAgIDxiPkdlb2NvZGUgUmVzdWx0Ojxicj4gMjQwMCBCcnVuc3dpY2sgU3RyZWV0LCBWYW5jb3V2ZXIsIEJyaXRpc2ggQ29sdW1iaWEgVjVUIDFTMSwgQ2FuYWRh%22%20style%3D%22position%3Aabsolute%3Bwidth%3A100%25%3Bheight%3A100%25%3Bleft%3A0%3Btop%3A0%3Bborder%3Anone%20%21important%3B%22%3E%3C/iframe%3E%3C/div%3E%3C/div%3E%60%29%5B0%5D%3B%0A%20%20%20%20%20%20%20%20%20%20%20%20popup_06e8c057dc3b43aa9a0ca39227badc5c.setContent%28i_frame_29c2130121424bd09a0836037a998d4f%29%3B%0A%20%20%20%20%20%20%20%20%0A%0A%20%20%20%20%20%20%20%20circle_marker_b8cd06d3c21943afbb02bc4d6917b641.bindPopup%28popup_06e8c057dc3b43aa9a0ca39227badc5c%29%0A%20%20%20%20%20%20%20%20%3B%0A%0A%20%20%20%20%20%20%20%20%0A%20%20%20%20%0A%20%20%20%20%0A%20%20%20%20%20%20%20%20%20%20%20%20var%20circle_marker_a7d9de212c174f21a4d1bf4d8d8219c6%20%3D%20L.circleMarker%28%0A%20%20%20%20%20%20%20%20%20%20%20%20%20%20%20%20%5B49.265133%2C%20-123.092957%5D%2C%0A%20%20%20%20%20%20%20%20%20%20%20%20%20%20%20%20%7B%22bubblingMouseEvents%22%3A%20true%2C%20%22color%22%3A%20%22black%22%2C%20%22dashArray%22%3A%20null%2C%20%22dashOffset%22%3A%20null%2C%20%22fill%22%3A%20true%2C%20%22fillColor%22%3A%20%22%233E0658%22%2C%20%22fillOpacity%22%3A%200.75%2C%20%22fillRule%22%3A%20%22evenodd%22%2C%20%22lineCap%22%3A%20%22round%22%2C%20%22lineJoin%22%3A%20%22round%22%2C%20%22opacity%22%3A%201.0%2C%20%22radius%22%3A%2015%2C%20%22stroke%22%3A%20true%2C%20%22weight%22%3A%203%7D%0A%20%20%20%20%20%20%20%20%20%20%20%20%29.addTo%28map_4d6930e57bae45fdbd37fbd8516e5ad4%29%3B%0A%20%20%20%20%20%20%20%20%0A%20%20%20%20%0A%20%20%20%20%20%20%20%20var%20popup_cece6bfcc8ac46379c562653174892af%20%3D%20L.popup%28%7B%22maxHeight%22%3A%20500%2C%20%22maxWidth%22%3A%20500%2C%20%22minHeight%22%3A%20100%2C%20%22minWidth%22%3A%20500%7D%29%3B%0A%0A%20%20%20%20%20%20%20%20%0A%20%20%20%20%20%20%20%20%20%20%20%20var%20i_frame_291bbdae7ae94f7c8a051064577463d4%20%3D%20%24%28%60%3Cdiv%20style%3D%22width%3A100%25%3B%22%3E%3Cdiv%20style%3D%22position%3Arelative%3Bwidth%3A100%25%3Bheight%3A0%3Bpadding-bottom%3A60%25%3B%22%3E%3Ciframe%20src%3D%22data%3Atext/html%3Bcharset%3Dutf-8%3Bbase64%2CCiAgICAKICAgIDxiPlNwZWNpZXMgTmFtZTo8YnI%2BIFJVR0dFRCBSSURHRSBNSVlBQkUgTUFQTEUKICAgIDxiPkRhdGUgUGxhbnRlZDo8YnI%2BIG5hbgogICAgPGI%2BR2VvY29kZSBBdHRlbXB0Ojxicj4gMjIwMCBTVC4gR0VPUkdFIFNULCBWYW5jb3V2ZXIsIEJDLCBDYW5hZGEKICAgIDxiPkdlb2NvZGUgUmVzdWx0Ojxicj4gMjIwMCBTYWludCBHZW9yZ2UgU3RyZWV0LCBWYW5jb3V2ZXIsIEJyaXRpc2ggQ29sdW1iaWEgVjVUIDNSMiwgQ2FuYWRh%22%20style%3D%22position%3Aabsolute%3Bwidth%3A100%25%3Bheight%3A100%25%3Bleft%3A0%3Btop%3A0%3Bborder%3Anone%20%21important%3B%22%3E%3C/iframe%3E%3C/div%3E%3C/div%3E%60%29%5B0%5D%3B%0A%20%20%20%20%20%20%20%20%20%20%20%20popup_cece6bfcc8ac46379c562653174892af.setContent%28i_frame_291bbdae7ae94f7c8a051064577463d4%29%3B%0A%20%20%20%20%20%20%20%20%0A%0A%20%20%20%20%20%20%20%20circle_marker_a7d9de212c174f21a4d1bf4d8d8219c6.bindPopup%28popup_cece6bfcc8ac46379c562653174892af%29%0A%20%20%20%20%20%20%20%20%3B%0A%0A%20%20%20%20%20%20%20%20%0A%20%20%20%20%0A%20%20%20%20%0A%20%20%20%20%20%20%20%20%20%20%20%20var%20circle_marker_67c062e8dc084c5d8ea3dbf651910f22%20%3D%20L.circleMarker%28%0A%20%20%20%20%20%20%20%20%20%20%20%20%20%20%20%20%5B49.257497%2C%20-123.100615%5D%2C%0A%20%20%20%20%20%20%20%20%20%20%20%20%20%20%20%20%7B%22bubblingMouseEvents%22%3A%20true%2C%20%22color%22%3A%20%22black%22%2C%20%22dashArray%22%3A%20null%2C%20%22dashOffset%22%3A%20null%2C%20%22fill%22%3A%20true%2C%20%22fillColor%22%3A%20%22%2348646D%22%2C%20%22fillOpacity%22%3A%200.75%2C%20%22fillRule%22%3A%20%22evenodd%22%2C%20%22lineCap%22%3A%20%22round%22%2C%20%22lineJoin%22%3A%20%22round%22%2C%20%22opacity%22%3A%201.0%2C%20%22radius%22%3A%2015%2C%20%22stroke%22%3A%20true%2C%20%22weight%22%3A%203%7D%0A%20%20%20%20%20%20%20%20%20%20%20%20%29.addTo%28map_4d6930e57bae45fdbd37fbd8516e5ad4%29%3B%0A%20%20%20%20%20%20%20%20%0A%20%20%20%20%0A%20%20%20%20%20%20%20%20var%20popup_bb989f3936644e99a1286b9d5d0111fb%20%3D%20L.popup%28%7B%22maxHeight%22%3A%20500%2C%20%22maxWidth%22%3A%20500%2C%20%22minHeight%22%3A%20100%2C%20%22minWidth%22%3A%20500%7D%29%3B%0A%0A%20%20%20%20%20%20%20%20%0A%20%20%20%20%20%20%20%20%20%20%20%20var%20i_frame_c318c6c63cb9443eb44c12e62627b81c%20%3D%20%24%28%60%3Cdiv%20style%3D%22width%3A100%25%3B%22%3E%3Cdiv%20style%3D%22position%3Arelative%3Bwidth%3A100%25%3Bheight%3A0%3Bpadding-bottom%3A60%25%3B%22%3E%3Ciframe%20src%3D%22data%3Atext/html%3Bcharset%3Dutf-8%3Bbase64%2CCiAgICAKICAgIDxiPlNwZWNpZXMgTmFtZTo8YnI%2BIEhVTkdBUklBTiBPQUsKICAgIDxiPkRhdGUgUGxhbnRlZDo8YnI%2BIDIwMDUtMTEtMDMKICAgIDxiPkdlb2NvZGUgQXR0ZW1wdDo8YnI%2BIDIwMCBFIDE1VEggQVYsIFZhbmNvdXZlciwgQkMsIENhbmFkYQogICAgPGI%2BR2VvY29kZSBSZXN1bHQ6PGJyPiAyMDAgRWFzdCAxNXRoIEF2ZW51ZSwgVmFuY291dmVyLCBCcml0aXNoIENvbHVtYmlhIFY1VCAyUDksIENhbmFkYQ%3D%3D%22%20style%3D%22position%3Aabsolute%3Bwidth%3A100%25%3Bheight%3A100%25%3Bleft%3A0%3Btop%3A0%3Bborder%3Anone%20%21important%3B%22%3E%3C/iframe%3E%3C/div%3E%3C/div%3E%60%29%5B0%5D%3B%0A%20%20%20%20%20%20%20%20%20%20%20%20popup_bb989f3936644e99a1286b9d5d0111fb.setContent%28i_frame_c318c6c63cb9443eb44c12e62627b81c%29%3B%0A%20%20%20%20%20%20%20%20%0A%0A%20%20%20%20%20%20%20%20circle_marker_67c062e8dc084c5d8ea3dbf651910f22.bindPopup%28popup_bb989f3936644e99a1286b9d5d0111fb%29%0A%20%20%20%20%20%20%20%20%3B%0A%0A%20%20%20%20%20%20%20%20%0A%20%20%20%20%0A%20%20%20%20%0A%20%20%20%20%20%20%20%20%20%20%20%20var%20circle_marker_737657fb23d047e3bec0ee55072f2319%20%3D%20L.circleMarker%28%0A%20%20%20%20%20%20%20%20%20%20%20%20%20%20%20%20%5B49.263632%2C%20-123.096904%5D%2C%0A%20%20%20%20%20%20%20%20%20%20%20%20%20%20%20%20%7B%22bubblingMouseEvents%22%3A%20true%2C%20%22color%22%3A%20%22black%22%2C%20%22dashArray%22%3A%20null%2C%20%22dashOffset%22%3A%20null%2C%20%22fill%22%3A%20true%2C%20%22fillColor%22%3A%20%22%235FB13F%22%2C%20%22fillOpacity%22%3A%200.75%2C%20%22fillRule%22%3A%20%22evenodd%22%2C%20%22lineCap%22%3A%20%22round%22%2C%20%22lineJoin%22%3A%20%22round%22%2C%20%22opacity%22%3A%201.0%2C%20%22radius%22%3A%2015%2C%20%22stroke%22%3A%20true%2C%20%22weight%22%3A%203%7D%0A%20%20%20%20%20%20%20%20%20%20%20%20%29.addTo%28map_4d6930e57bae45fdbd37fbd8516e5ad4%29%3B%0A%20%20%20%20%20%20%20%20%0A%20%20%20%20%0A%20%20%20%20%20%20%20%20var%20popup_552618e31e7d4c3c812af39d2c5b0323%20%3D%20L.popup%28%7B%22maxHeight%22%3A%20500%2C%20%22maxWidth%22%3A%20500%2C%20%22minHeight%22%3A%20100%2C%20%22minWidth%22%3A%20500%7D%29%3B%0A%0A%20%20%20%20%20%20%20%20%0A%20%20%20%20%20%20%20%20%20%20%20%20var%20i_frame_7543ce3a0d654a6298a81e236d633f78%20%3D%20%24%28%60%3Cdiv%20style%3D%22width%3A100%25%3B%22%3E%3Cdiv%20style%3D%22position%3Arelative%3Bwidth%3A100%25%3Bheight%3A0%3Bpadding-bottom%3A60%25%3B%22%3E%3Ciframe%20src%3D%22data%3Atext/html%3Bcharset%3Dutf-8%3Bbase64%2CCiAgICAKICAgIDxiPlNwZWNpZXMgTmFtZTo8YnI%2BIFBBUEVSQkFSSyBDSEVSUlkKICAgIDxiPkRhdGUgUGxhbnRlZDo8YnI%2BIG5hbgogICAgPGI%2BR2VvY29kZSBBdHRlbXB0Ojxicj4gNDAwIEUgOFRIIEFWLCBWYW5jb3V2ZXIsIEJDLCBDYW5hZGEKICAgIDxiPkdlb2NvZGUgUmVzdWx0Ojxicj4gNDAwIEVhc3QgOHRoIEF2ZW51ZSwgVmFuY291dmVyLCBCcml0aXNoIENvbHVtYmlhIFY1VCAxSzYsIENhbmFkYQ%3D%3D%22%20style%3D%22position%3Aabsolute%3Bwidth%3A100%25%3Bheight%3A100%25%3Bleft%3A0%3Btop%3A0%3Bborder%3Anone%20%21important%3B%22%3E%3C/iframe%3E%3C/div%3E%3C/div%3E%60%29%5B0%5D%3B%0A%20%20%20%20%20%20%20%20%20%20%20%20popup_552618e31e7d4c3c812af39d2c5b0323.setContent%28i_frame_7543ce3a0d654a6298a81e236d633f78%29%3B%0A%20%20%20%20%20%20%20%20%0A%0A%20%20%20%20%20%20%20%20circle_marker_737657fb23d047e3bec0ee55072f2319.bindPopup%28popup_552618e31e7d4c3c812af39d2c5b0323%29%0A%20%20%20%20%20%20%20%20%3B%0A%0A%20%20%20%20%20%20%20%20%0A%20%20%20%20%0A%20%20%20%20%0A%20%20%20%20%20%20%20%20%20%20%20%20var%20circle_marker_b5eb8b2a1aa64193aaf30b2e7fae8962%20%3D%20L.circleMarker%28%0A%20%20%20%20%20%20%20%20%20%20%20%20%20%20%20%20%5B49.265314%2C%20-123.079386%5D%2C%0A%20%20%20%20%20%20%20%20%20%20%20%20%20%20%20%20%7B%22bubblingMouseEvents%22%3A%20true%2C%20%22color%22%3A%20%22black%22%2C%20%22dashArray%22%3A%20null%2C%20%22dashOffset%22%3A%20null%2C%20%22fill%22%3A%20true%2C%20%22fillColor%22%3A%20%22%23DCE0D5%22%2C%20%22fillOpacity%22%3A%200.75%2C%20%22fillRule%22%3A%20%22evenodd%22%2C%20%22lineCap%22%3A%20%22round%22%2C%20%22lineJoin%22%3A%20%22round%22%2C%20%22opacity%22%3A%201.0%2C%20%22radius%22%3A%2015%2C%20%22stroke%22%3A%20true%2C%20%22weight%22%3A%203%7D%0A%20%20%20%20%20%20%20%20%20%20%20%20%29.addTo%28map_4d6930e57bae45fdbd37fbd8516e5ad4%29%3B%0A%20%20%20%20%20%20%20%20%0A%20%20%20%20%0A%20%20%20%20%20%20%20%20var%20popup_f15a72fe3334401f901b9e11a4efba3d%20%3D%20L.popup%28%7B%22maxHeight%22%3A%20500%2C%20%22maxWidth%22%3A%20500%2C%20%22minHeight%22%3A%20100%2C%20%22minWidth%22%3A%20500%7D%29%3B%0A%0A%20%20%20%20%20%20%20%20%0A%20%20%20%20%20%20%20%20%20%20%20%20var%20i_frame_4f82a4a8e2174229bd6a9395b855b764%20%3D%20%24%28%60%3Cdiv%20style%3D%22width%3A100%25%3B%22%3E%3Cdiv%20style%3D%22position%3Arelative%3Bwidth%3A100%25%3Bheight%3A0%3Bpadding-bottom%3A60%25%3B%22%3E%3Ciframe%20src%3D%22data%3Atext/html%3Bcharset%3Dutf-8%3Bbase64%2CCiAgICAKICAgIDxiPlNwZWNpZXMgTmFtZTo8YnI%2BIFBZUkFNSUQgQkxBQ0sgTE9DVVNUCiAgICA8Yj5EYXRlIFBsYW50ZWQ6PGJyPiBuYW4KICAgIDxiPkdlb2NvZGUgQXR0ZW1wdDo8YnI%2BIDI2MDAgS0VJVEggRFJJVkUsIFZhbmNvdXZlciwgQkMsIENhbmFkYQogICAgPGI%2BR2VvY29kZSBSZXN1bHQ6PGJyPiAyNjAwIEtlaXRoIERyaXZlLCBWYW5jb3V2ZXIsIEJyaXRpc2ggQ29sdW1iaWEgVjVUIDFFNywgQ2FuYWRh%22%20style%3D%22position%3Aabsolute%3Bwidth%3A100%25%3Bheight%3A100%25%3Bleft%3A0%3Btop%3A0%3Bborder%3Anone%20%21important%3B%22%3E%3C/iframe%3E%3C/div%3E%3C/div%3E%60%29%5B0%5D%3B%0A%20%20%20%20%20%20%20%20%20%20%20%20popup_f15a72fe3334401f901b9e11a4efba3d.setContent%28i_frame_4f82a4a8e2174229bd6a9395b855b764%29%3B%0A%20%20%20%20%20%20%20%20%0A%0A%20%20%20%20%20%20%20%20circle_marker_b5eb8b2a1aa64193aaf30b2e7fae8962.bindPopup%28popup_f15a72fe3334401f901b9e11a4efba3d%29%0A%20%20%20%20%20%20%20%20%3B%0A%0A%20%20%20%20%20%20%20%20%0A%20%20%20%20%0A%20%20%20%20%0A%20%20%20%20%20%20%20%20%20%20%20%20var%20circle_marker_751f61a827994284b2151d34c87bb2c4%20%3D%20L.circleMarker%28%0A%20%20%20%20%20%20%20%20%20%20%20%20%20%20%20%20%5B49.212981%2C%20-123.085701%5D%2C%0A%20%20%20%20%20%20%20%20%20%20%20%20%20%20%20%20%7B%22bubblingMouseEvents%22%3A%20true%2C%20%22color%22%3A%20%22black%22%2C%20%22dashArray%22%3A%20null%2C%20%22dashOffset%22%3A%20null%2C%20%22fill%22%3A%20true%2C%20%22fillColor%22%3A%20%22%23C5299F%22%2C%20%22fillOpacity%22%3A%200.75%2C%20%22fillRule%22%3A%20%22evenodd%22%2C%20%22lineCap%22%3A%20%22round%22%2C%20%22lineJoin%22%3A%20%22round%22%2C%20%22opacity%22%3A%201.0%2C%20%22radius%22%3A%2015%2C%20%22stroke%22%3A%20true%2C%20%22weight%22%3A%203%7D%0A%20%20%20%20%20%20%20%20%20%20%20%20%29.addTo%28map_4d6930e57bae45fdbd37fbd8516e5ad4%29%3B%0A%20%20%20%20%20%20%20%20%0A%20%20%20%20%0A%20%20%20%20%20%20%20%20var%20popup_ba96bd4f58154466a8cba969b1c9541d%20%3D%20L.popup%28%7B%22maxHeight%22%3A%20500%2C%20%22maxWidth%22%3A%20500%2C%20%22minHeight%22%3A%20100%2C%20%22minWidth%22%3A%20500%7D%29%3B%0A%0A%20%20%20%20%20%20%20%20%0A%20%20%20%20%20%20%20%20%20%20%20%20var%20i_frame_dedc62759a5c4f51a38d88f7e2a75380%20%3D%20%24%28%60%3Cdiv%20style%3D%22width%3A100%25%3B%22%3E%3Cdiv%20style%3D%22position%3Arelative%3Bwidth%3A100%25%3Bheight%3A0%3Bpadding-bottom%3A60%25%3B%22%3E%3Ciframe%20src%3D%22data%3Atext/html%3Bcharset%3Dutf-8%3Bbase64%2CCiAgICAKICAgIDxiPlNwZWNpZXMgTmFtZTo8YnI%2BIFBBQ0lGSUMgRE9HV09PRAogICAgPGI%2BRGF0ZSBQbGFudGVkOjxicj4gbmFuCiAgICA8Yj5HZW9jb2RlIEF0dGVtcHQ6PGJyPiA3ODAwIFdJTkRTT1IgU1QsIFZhbmNvdXZlciwgQkMsIENhbmFkYQogICAgPGI%2BR2VvY29kZSBSZXN1bHQ6PGJyPiA3ODAwIFdpbmRzb3IgU3RyZWV0LCBWYW5jb3V2ZXIsIEJyaXRpc2ggQ29sdW1iaWEgVjVYIDJMMiwgQ2FuYWRh%22%20style%3D%22position%3Aabsolute%3Bwidth%3A100%25%3Bheight%3A100%25%3Bleft%3A0%3Btop%3A0%3Bborder%3Anone%20%21important%3B%22%3E%3C/iframe%3E%3C/div%3E%3C/div%3E%60%29%5B0%5D%3B%0A%20%20%20%20%20%20%20%20%20%20%20%20popup_ba96bd4f58154466a8cba969b1c9541d.setContent%28i_frame_dedc62759a5c4f51a38d88f7e2a75380%29%3B%0A%20%20%20%20%20%20%20%20%0A%0A%20%20%20%20%20%20%20%20circle_marker_751f61a827994284b2151d34c87bb2c4.bindPopup%28popup_ba96bd4f58154466a8cba969b1c9541d%29%0A%20%20%20%20%20%20%20%20%3B%0A%0A%20%20%20%20%20%20%20%20%0A%20%20%20%20%0A%20%20%20%20%0A%20%20%20%20%20%20%20%20%20%20%20%20var%20circle_marker_dc5318f82345447b959a8453717c8e99%20%3D%20L.circleMarker%28%0A%20%20%20%20%20%20%20%20%20%20%20%20%20%20%20%20%5B49.263887%2C%20-123.111071%5D%2C%0A%20%20%20%20%20%20%20%20%20%20%20%20%20%20%20%20%7B%22bubblingMouseEvents%22%3A%20true%2C%20%22color%22%3A%20%22black%22%2C%20%22dashArray%22%3A%20null%2C%20%22dashOffset%22%3A%20null%2C%20%22fill%22%3A%20true%2C%20%22fillColor%22%3A%20%22%235AB54D%22%2C%20%22fillOpacity%22%3A%200.75%2C%20%22fillRule%22%3A%20%22evenodd%22%2C%20%22lineCap%22%3A%20%22round%22%2C%20%22lineJoin%22%3A%20%22round%22%2C%20%22opacity%22%3A%201.0%2C%20%22radius%22%3A%2015%2C%20%22stroke%22%3A%20true%2C%20%22weight%22%3A%203%7D%0A%20%20%20%20%20%20%20%20%20%20%20%20%29.addTo%28map_4d6930e57bae45fdbd37fbd8516e5ad4%29%3B%0A%20%20%20%20%20%20%20%20%0A%20%20%20%20%0A%20%20%20%20%20%20%20%20var%20popup_9cf880870943467e8bfc72cdefecff48%20%3D%20L.popup%28%7B%22maxHeight%22%3A%20500%2C%20%22maxWidth%22%3A%20500%2C%20%22minHeight%22%3A%20100%2C%20%22minWidth%22%3A%20500%7D%29%3B%0A%0A%20%20%20%20%20%20%20%20%0A%20%20%20%20%20%20%20%20%20%20%20%20var%20i_frame_85801cb0cca144bba9719df55da01ae8%20%3D%20%24%28%60%3Cdiv%20style%3D%22width%3A100%25%3B%22%3E%3Cdiv%20style%3D%22position%3Arelative%3Bwidth%3A100%25%3Bheight%3A0%3Bpadding-bottom%3A60%25%3B%22%3E%3Ciframe%20src%3D%22data%3Atext/html%3Bcharset%3Dutf-8%3Bbase64%2CCiAgICAKICAgIDxiPlNwZWNpZXMgTmFtZTo8YnI%2BIFNXRUVUR1VNIFNQRUNJRVMKICAgIDxiPkRhdGUgUGxhbnRlZDo8YnI%2BIG5hbgogICAgPGI%2BR2VvY29kZSBBdHRlbXB0Ojxicj4gNDAwIFcgOFRIIEFWLCBWYW5jb3V2ZXIsIEJDLCBDYW5hZGEKICAgIDxiPkdlb2NvZGUgUmVzdWx0Ojxicj4gNDAwIFdlc3QgOHRoIEF2ZW51ZSwgVmFuY291dmVyLCBCcml0aXNoIENvbHVtYmlhIFY1WSAxTjYsIENhbmFkYQ%3D%3D%22%20style%3D%22position%3Aabsolute%3Bwidth%3A100%25%3Bheight%3A100%25%3Bleft%3A0%3Btop%3A0%3Bborder%3Anone%20%21important%3B%22%3E%3C/iframe%3E%3C/div%3E%3C/div%3E%60%29%5B0%5D%3B%0A%20%20%20%20%20%20%20%20%20%20%20%20popup_9cf880870943467e8bfc72cdefecff48.setContent%28i_frame_85801cb0cca144bba9719df55da01ae8%29%3B%0A%20%20%20%20%20%20%20%20%0A%0A%20%20%20%20%20%20%20%20circle_marker_dc5318f82345447b959a8453717c8e99.bindPopup%28popup_9cf880870943467e8bfc72cdefecff48%29%0A%20%20%20%20%20%20%20%20%3B%0A%0A%20%20%20%20%20%20%20%20%0A%20%20%20%20%0A%20%20%20%20%0A%20%20%20%20%20%20%20%20%20%20%20%20var%20circle_marker_be1ae3f7e8194cf1838693f3635e3b05%20%3D%20L.circleMarker%28%0A%20%20%20%20%20%20%20%20%20%20%20%20%20%20%20%20%5B49.260092%2C%20-123.053324%5D%2C%0A%20%20%20%20%20%20%20%20%20%20%20%20%20%20%20%20%7B%22bubblingMouseEvents%22%3A%20true%2C%20%22color%22%3A%20%22black%22%2C%20%22dashArray%22%3A%20null%2C%20%22dashOffset%22%3A%20null%2C%20%22fill%22%3A%20true%2C%20%22fillColor%22%3A%20%22%23F660E0%22%2C%20%22fillOpacity%22%3A%200.75%2C%20%22fillRule%22%3A%20%22evenodd%22%2C%20%22lineCap%22%3A%20%22round%22%2C%20%22lineJoin%22%3A%20%22round%22%2C%20%22opacity%22%3A%201.0%2C%20%22radius%22%3A%2015%2C%20%22stroke%22%3A%20true%2C%20%22weight%22%3A%203%7D%0A%20%20%20%20%20%20%20%20%20%20%20%20%29.addTo%28map_4d6930e57bae45fdbd37fbd8516e5ad4%29%3B%0A%20%20%20%20%20%20%20%20%0A%20%20%20%20%0A%20%20%20%20%20%20%20%20var%20popup_3d6cf19cf9374ffcb8276e295679beeb%20%3D%20L.popup%28%7B%22maxHeight%22%3A%20500%2C%20%22maxWidth%22%3A%20500%2C%20%22minHeight%22%3A%20100%2C%20%22minWidth%22%3A%20500%7D%29%3B%0A%0A%20%20%20%20%20%20%20%20%0A%20%20%20%20%20%20%20%20%20%20%20%20var%20i_frame_70eec6eec8c44858b8240632fab2b9e8%20%3D%20%24%28%60%3Cdiv%20style%3D%22width%3A100%25%3B%22%3E%3Cdiv%20style%3D%22position%3Arelative%3Bwidth%3A100%25%3Bheight%3A0%3Bpadding-bottom%3A60%25%3B%22%3E%3Ciframe%20src%3D%22data%3Atext/html%3Bcharset%3Dutf-8%3Bbase64%2CCiAgICAKICAgIDxiPlNwZWNpZXMgTmFtZTo8YnI%2BIERPR1dPT0QgU1BFQ0lFUwogICAgPGI%2BRGF0ZSBQbGFudGVkOjxicj4gbmFuCiAgICA8Yj5HZW9jb2RlIEF0dGVtcHQ6PGJyPiAyNzA3IEUgMTFUSCBBViwgVmFuY291dmVyLCBCQywgQ2FuYWRhCiAgICA8Yj5HZW9jb2RlIFJlc3VsdDo8YnI%2BIDI3MDcgRWFzdCAxMXRoIEF2ZW51ZSwgVmFuY291dmVyLCBCcml0aXNoIENvbHVtYmlhIFY1TSAzQzMsIENhbmFkYQ%3D%3D%22%20style%3D%22position%3Aabsolute%3Bwidth%3A100%25%3Bheight%3A100%25%3Bleft%3A0%3Btop%3A0%3Bborder%3Anone%20%21important%3B%22%3E%3C/iframe%3E%3C/div%3E%3C/div%3E%60%29%5B0%5D%3B%0A%20%20%20%20%20%20%20%20%20%20%20%20popup_3d6cf19cf9374ffcb8276e295679beeb.setContent%28i_frame_70eec6eec8c44858b8240632fab2b9e8%29%3B%0A%20%20%20%20%20%20%20%20%0A%0A%20%20%20%20%20%20%20%20circle_marker_be1ae3f7e8194cf1838693f3635e3b05.bindPopup%28popup_3d6cf19cf9374ffcb8276e295679beeb%29%0A%20%20%20%20%20%20%20%20%3B%0A%0A%20%20%20%20%20%20%20%20%0A%20%20%20%20%0A%20%20%20%20%0A%20%20%20%20%20%20%20%20%20%20%20%20var%20circle_marker_3dcf8947f66e422f9417af584ecfc29a%20%3D%20L.circleMarker%28%0A%20%20%20%20%20%20%20%20%20%20%20%20%20%20%20%20%5B49.256919%2C%20-123.083595%5D%2C%0A%20%20%20%20%20%20%20%20%20%20%20%20%20%20%20%20%7B%22bubblingMouseEvents%22%3A%20true%2C%20%22color%22%3A%20%22black%22%2C%20%22dashArray%22%3A%20null%2C%20%22dashOffset%22%3A%20null%2C%20%22fill%22%3A%20true%2C%20%22fillColor%22%3A%20%22%2350EAE5%22%2C%20%22fillOpacity%22%3A%200.75%2C%20%22fillRule%22%3A%20%22evenodd%22%2C%20%22lineCap%22%3A%20%22round%22%2C%20%22lineJoin%22%3A%20%22round%22%2C%20%22opacity%22%3A%201.0%2C%20%22radius%22%3A%2015%2C%20%22stroke%22%3A%20true%2C%20%22weight%22%3A%203%7D%0A%20%20%20%20%20%20%20%20%20%20%20%20%29.addTo%28map_4d6930e57bae45fdbd37fbd8516e5ad4%29%3B%0A%20%20%20%20%20%20%20%20%0A%20%20%20%20%0A%20%20%20%20%20%20%20%20var%20popup_b866938daf9246c2b9ec5b77bd06720c%20%3D%20L.popup%28%7B%22maxHeight%22%3A%20500%2C%20%22maxWidth%22%3A%20500%2C%20%22minHeight%22%3A%20100%2C%20%22minWidth%22%3A%20500%7D%29%3B%0A%0A%20%20%20%20%20%20%20%20%0A%20%20%20%20%20%20%20%20%20%20%20%20var%20i_frame_93b50eecf5d64e47b22e1136da8c22dd%20%3D%20%24%28%60%3Cdiv%20style%3D%22width%3A100%25%3B%22%3E%3Cdiv%20style%3D%22position%3Arelative%3Bwidth%3A100%25%3Bheight%3A0%3Bpadding-bottom%3A60%25%3B%22%3E%3Ciframe%20src%3D%22data%3Atext/html%3Bcharset%3Dutf-8%3Bbase64%2CCiAgICAKICAgIDxiPlNwZWNpZXMgTmFtZTo8YnI%2BIENBVUNBU0lBTiBBU0gKICAgIDxiPkRhdGUgUGxhbnRlZDo8YnI%2BIG5hbgogICAgPGI%2BR2VvY29kZSBBdHRlbXB0Ojxicj4gMTAwMCBFIDE1VEggQVYsIFZhbmNvdXZlciwgQkMsIENhbmFkYQogICAgPGI%2BR2VvY29kZSBSZXN1bHQ6PGJyPiAxMDAwIEVhc3QgMTV0aCBBdmVudWUsIFZhbmNvdXZlciwgQnJpdGlzaCBDb2x1bWJpYSBWNVQgNEE5LCBDYW5hZGE%3D%22%20style%3D%22position%3Aabsolute%3Bwidth%3A100%25%3Bheight%3A100%25%3Bleft%3A0%3Btop%3A0%3Bborder%3Anone%20%21important%3B%22%3E%3C/iframe%3E%3C/div%3E%3C/div%3E%60%29%5B0%5D%3B%0A%20%20%20%20%20%20%20%20%20%20%20%20popup_b866938daf9246c2b9ec5b77bd06720c.setContent%28i_frame_93b50eecf5d64e47b22e1136da8c22dd%29%3B%0A%20%20%20%20%20%20%20%20%0A%0A%20%20%20%20%20%20%20%20circle_marker_3dcf8947f66e422f9417af584ecfc29a.bindPopup%28popup_b866938daf9246c2b9ec5b77bd06720c%29%0A%20%20%20%20%20%20%20%20%3B%0A%0A%20%20%20%20%20%20%20%20%0A%20%20%20%20%0A%20%20%20%20%0A%20%20%20%20%20%20%20%20%20%20%20%20var%20circle_marker_61a6dd2a8c7e4ee395b6e46f07fe99f1%20%3D%20L.circleMarker%28%0A%20%20%20%20%20%20%20%20%20%20%20%20%20%20%20%20%5B49.262859%2C%20-123.099415%5D%2C%0A%20%20%20%20%20%20%20%20%20%20%20%20%20%20%20%20%7B%22bubblingMouseEvents%22%3A%20true%2C%20%22color%22%3A%20%22black%22%2C%20%22dashArray%22%3A%20null%2C%20%22dashOffset%22%3A%20null%2C%20%22fill%22%3A%20true%2C%20%22fillColor%22%3A%20%22%2322A0B5%22%2C%20%22fillOpacity%22%3A%200.75%2C%20%22fillRule%22%3A%20%22evenodd%22%2C%20%22lineCap%22%3A%20%22round%22%2C%20%22lineJoin%22%3A%20%22round%22%2C%20%22opacity%22%3A%201.0%2C%20%22radius%22%3A%2015%2C%20%22stroke%22%3A%20true%2C%20%22weight%22%3A%203%7D%0A%20%20%20%20%20%20%20%20%20%20%20%20%29.addTo%28map_4d6930e57bae45fdbd37fbd8516e5ad4%29%3B%0A%20%20%20%20%20%20%20%20%0A%20%20%20%20%0A%20%20%20%20%20%20%20%20var%20popup_6f90a1d684294f4084f0866cc838a8a9%20%3D%20L.popup%28%7B%22maxHeight%22%3A%20500%2C%20%22maxWidth%22%3A%20500%2C%20%22minHeight%22%3A%20100%2C%20%22minWidth%22%3A%20500%7D%29%3B%0A%0A%20%20%20%20%20%20%20%20%0A%20%20%20%20%20%20%20%20%20%20%20%20var%20i_frame_6baf23603cc44142842884ca835b61c2%20%3D%20%24%28%60%3Cdiv%20style%3D%22width%3A100%25%3B%22%3E%3Cdiv%20style%3D%22position%3Arelative%3Bwidth%3A100%25%3Bheight%3A0%3Bpadding-bottom%3A60%25%3B%22%3E%3Ciframe%20src%3D%22data%3Atext/html%3Bcharset%3Dutf-8%3Bbase64%2CCiAgICAKICAgIDxiPlNwZWNpZXMgTmFtZTo8YnI%2BIFBSQUlSSUUgU1RBVFVSRSBPQUsKICAgIDxiPkRhdGUgUGxhbnRlZDo8YnI%2BIG5hbgogICAgPGI%2BR2VvY29kZSBBdHRlbXB0Ojxicj4gMzAwIEUgQlJPQURXQVksIFZhbmNvdXZlciwgQkMsIENhbmFkYQogICAgPGI%2BR2VvY29kZSBSZXN1bHQ6PGJyPiAzMDAgRWFzdCBCcm9hZHdheSwgVmFuY291dmVyLCBCcml0aXNoIENvbHVtYmlhIFY1VCAwSDcsIENhbmFkYQ%3D%3D%22%20style%3D%22position%3Aabsolute%3Bwidth%3A100%25%3Bheight%3A100%25%3Bleft%3A0%3Btop%3A0%3Bborder%3Anone%20%21important%3B%22%3E%3C/iframe%3E%3C/div%3E%3C/div%3E%60%29%5B0%5D%3B%0A%20%20%20%20%20%20%20%20%20%20%20%20popup_6f90a1d684294f4084f0866cc838a8a9.setContent%28i_frame_6baf23603cc44142842884ca835b61c2%29%3B%0A%20%20%20%20%20%20%20%20%0A%0A%20%20%20%20%20%20%20%20circle_marker_61a6dd2a8c7e4ee395b6e46f07fe99f1.bindPopup%28popup_6f90a1d684294f4084f0866cc838a8a9%29%0A%20%20%20%20%20%20%20%20%3B%0A%0A%20%20%20%20%20%20%20%20%0A%20%20%20%20%0A%20%20%20%20%0A%20%20%20%20%20%20%20%20%20%20%20%20var%20circle_marker_0230a2a3ce1f4b0b9120aacb08db3783%20%3D%20L.circleMarker%28%0A%20%20%20%20%20%20%20%20%20%20%20%20%20%20%20%20%5B49.261968%2C%20-123.098854%5D%2C%0A%20%20%20%20%20%20%20%20%20%20%20%20%20%20%20%20%7B%22bubblingMouseEvents%22%3A%20true%2C%20%22color%22%3A%20%22black%22%2C%20%22dashArray%22%3A%20null%2C%20%22dashOffset%22%3A%20null%2C%20%22fill%22%3A%20true%2C%20%22fillColor%22%3A%20%22%2385235C%22%2C%20%22fillOpacity%22%3A%200.75%2C%20%22fillRule%22%3A%20%22evenodd%22%2C%20%22lineCap%22%3A%20%22round%22%2C%20%22lineJoin%22%3A%20%22round%22%2C%20%22opacity%22%3A%201.0%2C%20%22radius%22%3A%2015%2C%20%22stroke%22%3A%20true%2C%20%22weight%22%3A%203%7D%0A%20%20%20%20%20%20%20%20%20%20%20%20%29.addTo%28map_4d6930e57bae45fdbd37fbd8516e5ad4%29%3B%0A%20%20%20%20%20%20%20%20%0A%20%20%20%20%0A%20%20%20%20%20%20%20%20var%20popup_aca9093bfe754810b8e04e24ed168261%20%3D%20L.popup%28%7B%22maxHeight%22%3A%20500%2C%20%22maxWidth%22%3A%20500%2C%20%22minHeight%22%3A%20100%2C%20%22minWidth%22%3A%20500%7D%29%3B%0A%0A%20%20%20%20%20%20%20%20%0A%20%20%20%20%20%20%20%20%20%20%20%20var%20i_frame_2783a468f49546ad9b1492ef513996af%20%3D%20%24%28%60%3Cdiv%20style%3D%22width%3A100%25%3B%22%3E%3Cdiv%20style%3D%22position%3Arelative%3Bwidth%3A100%25%3Bheight%3A0%3Bpadding-bottom%3A60%25%3B%22%3E%3Ciframe%20src%3D%22data%3Atext/html%3Bcharset%3Dutf-8%3Bbase64%2CCiAgICAKICAgIDxiPlNwZWNpZXMgTmFtZTo8YnI%2BIFZJTExBR0UgR1JFRU4gWkVMS09WQQogICAgPGI%2BRGF0ZSBQbGFudGVkOjxicj4gMjAwNS0xMS0yMwogICAgPGI%2BR2VvY29kZSBBdHRlbXB0Ojxicj4gMzAwIEUgMTBUSCBBViwgVmFuY291dmVyLCBCQywgQ2FuYWRhCiAgICA8Yj5HZW9jb2RlIFJlc3VsdDo8YnI%2BIDMwMCBFYXN0IDEwdGggQXZlbnVlLCBWYW5jb3V2ZXIsIEJyaXRpc2ggQ29sdW1iaWEgVjVUIDNKNCwgQ2FuYWRh%22%20style%3D%22position%3Aabsolute%3Bwidth%3A100%25%3Bheight%3A100%25%3Bleft%3A0%3Btop%3A0%3Bborder%3Anone%20%21important%3B%22%3E%3C/iframe%3E%3C/div%3E%3C/div%3E%60%29%5B0%5D%3B%0A%20%20%20%20%20%20%20%20%20%20%20%20popup_aca9093bfe754810b8e04e24ed168261.setContent%28i_frame_2783a468f49546ad9b1492ef513996af%29%3B%0A%20%20%20%20%20%20%20%20%0A%0A%20%20%20%20%20%20%20%20circle_marker_0230a2a3ce1f4b0b9120aacb08db3783.bindPopup%28popup_aca9093bfe754810b8e04e24ed168261%29%0A%20%20%20%20%20%20%20%20%3B%0A%0A%20%20%20%20%20%20%20%20%0A%20%20%20%20%0A%20%20%20%20%0A%20%20%20%20%20%20%20%20%20%20%20%20var%20circle_marker_e204a6fcc54643b483ba404f53053daf%20%3D%20L.circleMarker%28%0A%20%20%20%20%20%20%20%20%20%20%20%20%20%20%20%20%5B49.268431%2C%20-123.111199%5D%2C%0A%20%20%20%20%20%20%20%20%20%20%20%20%20%20%20%20%7B%22bubblingMouseEvents%22%3A%20true%2C%20%22color%22%3A%20%22black%22%2C%20%22dashArray%22%3A%20null%2C%20%22dashOffset%22%3A%20null%2C%20%22fill%22%3A%20true%2C%20%22fillColor%22%3A%20%22%232E7861%22%2C%20%22fillOpacity%22%3A%200.75%2C%20%22fillRule%22%3A%20%22evenodd%22%2C%20%22lineCap%22%3A%20%22round%22%2C%20%22lineJoin%22%3A%20%22round%22%2C%20%22opacity%22%3A%201.0%2C%20%22radius%22%3A%2015%2C%20%22stroke%22%3A%20true%2C%20%22weight%22%3A%203%7D%0A%20%20%20%20%20%20%20%20%20%20%20%20%29.addTo%28map_4d6930e57bae45fdbd37fbd8516e5ad4%29%3B%0A%20%20%20%20%20%20%20%20%0A%20%20%20%20%0A%20%20%20%20%20%20%20%20var%20popup_10b7240f6350404a9999e7debbd0dd51%20%3D%20L.popup%28%7B%22maxHeight%22%3A%20500%2C%20%22maxWidth%22%3A%20500%2C%20%22minHeight%22%3A%20100%2C%20%22minWidth%22%3A%20500%7D%29%3B%0A%0A%20%20%20%20%20%20%20%20%0A%20%20%20%20%20%20%20%20%20%20%20%20var%20i_frame_977c1bd6032946998304238240f4577a%20%3D%20%24%28%60%3Cdiv%20style%3D%22width%3A100%25%3B%22%3E%3Cdiv%20style%3D%22position%3Arelative%3Bwidth%3A100%25%3Bheight%3A0%3Bpadding-bottom%3A60%25%3B%22%3E%3Ciframe%20src%3D%22data%3Atext/html%3Bcharset%3Dutf-8%3Bbase64%2CCiAgICAKICAgIDxiPlNwZWNpZXMgTmFtZTo8YnI%2BIENPTU1PTSBDSE9LRUNIRVJSWQogICAgPGI%2BRGF0ZSBQbGFudGVkOjxicj4gbmFuCiAgICA8Yj5HZW9jb2RlIEF0dGVtcHQ6PGJyPiA2MDAgVyAyTkQgQVYsIFZhbmNvdXZlciwgQkMsIENhbmFkYQogICAgPGI%2BR2VvY29kZSBSZXN1bHQ6PGJyPiA2MDAgV2VzdCAybmQgQXZlbnVlLCBWYW5jb3V2ZXIsIEJyaXRpc2ggQ29sdW1iaWEgVjVZIDFDNywgQ2FuYWRh%22%20style%3D%22position%3Aabsolute%3Bwidth%3A100%25%3Bheight%3A100%25%3Bleft%3A0%3Btop%3A0%3Bborder%3Anone%20%21important%3B%22%3E%3C/iframe%3E%3C/div%3E%3C/div%3E%60%29%5B0%5D%3B%0A%20%20%20%20%20%20%20%20%20%20%20%20popup_10b7240f6350404a9999e7debbd0dd51.setContent%28i_frame_977c1bd6032946998304238240f4577a%29%3B%0A%20%20%20%20%20%20%20%20%0A%0A%20%20%20%20%20%20%20%20circle_marker_e204a6fcc54643b483ba404f53053daf.bindPopup%28popup_10b7240f6350404a9999e7debbd0dd51%29%0A%20%20%20%20%20%20%20%20%3B%0A%0A%20%20%20%20%20%20%20%20%0A%20%20%20%20%0A%20%20%20%20%0A%20%20%20%20%20%20%20%20%20%20%20%20var%20circle_marker_f2a92cd2a1e64772bc852572b6bf0346%20%3D%20L.circleMarker%28%0A%20%20%20%20%20%20%20%20%20%20%20%20%20%20%20%20%5B49.271203%2C%20-123.10457%5D%2C%0A%20%20%20%20%20%20%20%20%20%20%20%20%20%20%20%20%7B%22bubblingMouseEvents%22%3A%20true%2C%20%22color%22%3A%20%22black%22%2C%20%22dashArray%22%3A%20null%2C%20%22dashOffset%22%3A%20null%2C%20%22fill%22%3A%20true%2C%20%22fillColor%22%3A%20%22%23706556%22%2C%20%22fillOpacity%22%3A%200.75%2C%20%22fillRule%22%3A%20%22evenodd%22%2C%20%22lineCap%22%3A%20%22round%22%2C%20%22lineJoin%22%3A%20%22round%22%2C%20%22opacity%22%3A%201.0%2C%20%22radius%22%3A%2015%2C%20%22stroke%22%3A%20true%2C%20%22weight%22%3A%203%7D%0A%20%20%20%20%20%20%20%20%20%20%20%20%29.addTo%28map_4d6930e57bae45fdbd37fbd8516e5ad4%29%3B%0A%20%20%20%20%20%20%20%20%0A%20%20%20%20%0A%20%20%20%20%20%20%20%20var%20popup_aba5ec19d24e4e69875e5868fd4a68a6%20%3D%20L.popup%28%7B%22maxHeight%22%3A%20500%2C%20%22maxWidth%22%3A%20500%2C%20%22minHeight%22%3A%20100%2C%20%22minWidth%22%3A%20500%7D%29%3B%0A%0A%20%20%20%20%20%20%20%20%0A%20%20%20%20%20%20%20%20%20%20%20%20var%20i_frame_da4ec709a7cf495c93921e74031c9917%20%3D%20%24%28%60%3Cdiv%20style%3D%22width%3A100%25%3B%22%3E%3Cdiv%20style%3D%22position%3Arelative%3Bwidth%3A100%25%3Bheight%3A0%3Bpadding-bottom%3A60%25%3B%22%3E%3Ciframe%20src%3D%22data%3Atext/html%3Bcharset%3Dutf-8%3Bbase64%2CCiAgICAKICAgIDxiPlNwZWNpZXMgTmFtZTo8YnI%2BIEdPTERFTiBBU0gKICAgIDxiPkRhdGUgUGxhbnRlZDo8YnI%2BIDIwMDItMDQtMjMKICAgIDxiPkdlb2NvZGUgQXR0ZW1wdDo8YnI%2BIDExMDAgT05UQVJJTyBTVCwgVmFuY291dmVyLCBCQywgQ2FuYWRhCiAgICA8Yj5HZW9jb2RlIFJlc3VsdDo8YnI%2BIDExMDAgT250YXJpbyBTdHJlZXQsIFZhbmNvdXZlciwgQnJpdGlzaCBDb2x1bWJpYSBWNkEgMEg2LCBDYW5hZGE%3D%22%20style%3D%22position%3Aabsolute%3Bwidth%3A100%25%3Bheight%3A100%25%3Bleft%3A0%3Btop%3A0%3Bborder%3Anone%20%21important%3B%22%3E%3C/iframe%3E%3C/div%3E%3C/div%3E%60%29%5B0%5D%3B%0A%20%20%20%20%20%20%20%20%20%20%20%20popup_aba5ec19d24e4e69875e5868fd4a68a6.setContent%28i_frame_da4ec709a7cf495c93921e74031c9917%29%3B%0A%20%20%20%20%20%20%20%20%0A%0A%20%20%20%20%20%20%20%20circle_marker_f2a92cd2a1e64772bc852572b6bf0346.bindPopup%28popup_aba5ec19d24e4e69875e5868fd4a68a6%29%0A%20%20%20%20%20%20%20%20%3B%0A%0A%20%20%20%20%20%20%20%20%0A%20%20%20%20%0A%20%20%20%20%0A%20%20%20%20%20%20%20%20%20%20%20%20var%20circle_marker_43b24e5476f948dcbf8502092619e2e8%20%3D%20L.circleMarker%28%0A%20%20%20%20%20%20%20%20%20%20%20%20%20%20%20%20%5B49.256684%2C%20-123.077687%5D%2C%0A%20%20%20%20%20%20%20%20%20%20%20%20%20%20%20%20%7B%22bubblingMouseEvents%22%3A%20true%2C%20%22color%22%3A%20%22black%22%2C%20%22dashArray%22%3A%20null%2C%20%22dashOffset%22%3A%20null%2C%20%22fill%22%3A%20true%2C%20%22fillColor%22%3A%20%22%2317132D%22%2C%20%22fillOpacity%22%3A%200.75%2C%20%22fillRule%22%3A%20%22evenodd%22%2C%20%22lineCap%22%3A%20%22round%22%2C%20%22lineJoin%22%3A%20%22round%22%2C%20%22opacity%22%3A%201.0%2C%20%22radius%22%3A%2015%2C%20%22stroke%22%3A%20true%2C%20%22weight%22%3A%203%7D%0A%20%20%20%20%20%20%20%20%20%20%20%20%29.addTo%28map_4d6930e57bae45fdbd37fbd8516e5ad4%29%3B%0A%20%20%20%20%20%20%20%20%0A%20%20%20%20%0A%20%20%20%20%20%20%20%20var%20popup_629d97bc74b14dd88f1bc1e830ff0aba%20%3D%20L.popup%28%7B%22maxHeight%22%3A%20500%2C%20%22maxWidth%22%3A%20500%2C%20%22minHeight%22%3A%20100%2C%20%22minWidth%22%3A%20500%7D%29%3B%0A%0A%20%20%20%20%20%20%20%20%0A%20%20%20%20%20%20%20%20%20%20%20%20var%20i_frame_20dc3b129f664eddbbf0096ad85ba411%20%3D%20%24%28%60%3Cdiv%20style%3D%22width%3A100%25%3B%22%3E%3Cdiv%20style%3D%22position%3Arelative%3Bwidth%3A100%25%3Bheight%3A0%3Bpadding-bottom%3A60%25%3B%22%3E%3Ciframe%20src%3D%22data%3Atext/html%3Bcharset%3Dutf-8%3Bbase64%2CCiAgICAKICAgIDxiPlNwZWNpZXMgTmFtZTo8YnI%2BIFNVTU1JVCBBU0gKICAgIDxiPkRhdGUgUGxhbnRlZDo8YnI%2BIDIwMDQtMDEtMjkKICAgIDxiPkdlb2NvZGUgQXR0ZW1wdDo8YnI%2BIDMxMDAgQ0xBUksgRFJJVkUsIFZhbmNvdXZlciwgQkMsIENhbmFkYQogICAgPGI%2BR2VvY29kZSBSZXN1bHQ6PGJyPiAzMTAwIENsYXJrIERyaXZlLCBWYW5jb3V2ZXIsIEJyaXRpc2ggQ29sdW1iaWEgVjVOIDJFNCwgQ2FuYWRh%22%20style%3D%22position%3Aabsolute%3Bwidth%3A100%25%3Bheight%3A100%25%3Bleft%3A0%3Btop%3A0%3Bborder%3Anone%20%21important%3B%22%3E%3C/iframe%3E%3C/div%3E%3C/div%3E%60%29%5B0%5D%3B%0A%20%20%20%20%20%20%20%20%20%20%20%20popup_629d97bc74b14dd88f1bc1e830ff0aba.setContent%28i_frame_20dc3b129f664eddbbf0096ad85ba411%29%3B%0A%20%20%20%20%20%20%20%20%0A%0A%20%20%20%20%20%20%20%20circle_marker_43b24e5476f948dcbf8502092619e2e8.bindPopup%28popup_629d97bc74b14dd88f1bc1e830ff0aba%29%0A%20%20%20%20%20%20%20%20%3B%0A%0A%20%20%20%20%20%20%20%20%0A%20%20%20%20%0A%20%20%20%20%0A%20%20%20%20%20%20%20%20%20%20%20%20var%20circle_marker_60328d1857fd4d3097df7c428e5b50ff%20%3D%20L.circleMarker%28%0A%20%20%20%20%20%20%20%20%20%20%20%20%20%20%20%20%5B49.258456%2C%20-123.09838%5D%2C%0A%20%20%20%20%20%20%20%20%20%20%20%20%20%20%20%20%7B%22bubblingMouseEvents%22%3A%20true%2C%20%22color%22%3A%20%22black%22%2C%20%22dashArray%22%3A%20null%2C%20%22dashOffset%22%3A%20null%2C%20%22fill%22%3A%20true%2C%20%22fillColor%22%3A%20%22%23A6C684%22%2C%20%22fillOpacity%22%3A%200.75%2C%20%22fillRule%22%3A%20%22evenodd%22%2C%20%22lineCap%22%3A%20%22round%22%2C%20%22lineJoin%22%3A%20%22round%22%2C%20%22opacity%22%3A%201.0%2C%20%22radius%22%3A%2015%2C%20%22stroke%22%3A%20true%2C%20%22weight%22%3A%203%7D%0A%20%20%20%20%20%20%20%20%20%20%20%20%29.addTo%28map_4d6930e57bae45fdbd37fbd8516e5ad4%29%3B%0A%20%20%20%20%20%20%20%20%0A%20%20%20%20%0A%20%20%20%20%20%20%20%20var%20popup_28c71c7f54e5426da3da7ebee9ff38b7%20%3D%20L.popup%28%7B%22maxHeight%22%3A%20500%2C%20%22maxWidth%22%3A%20500%2C%20%22minHeight%22%3A%20100%2C%20%22minWidth%22%3A%20500%7D%29%3B%0A%0A%20%20%20%20%20%20%20%20%0A%20%20%20%20%20%20%20%20%20%20%20%20var%20i_frame_3f110b6c4035424e9813de36061d6911%20%3D%20%24%28%60%3Cdiv%20style%3D%22width%3A100%25%3B%22%3E%3Cdiv%20style%3D%22position%3Arelative%3Bwidth%3A100%25%3Bheight%3A0%3Bpadding-bottom%3A60%25%3B%22%3E%3Ciframe%20src%3D%22data%3Atext/html%3Bcharset%3Dutf-8%3Bbase64%2CCiAgICAKICAgIDxiPlNwZWNpZXMgTmFtZTo8YnI%2BIENPTFVNTkFSIFNBUkdFTlQgQ0hFUlJZCiAgICA8Yj5EYXRlIFBsYW50ZWQ6PGJyPiAxOTk5LTEyLTIxCiAgICA8Yj5HZW9jb2RlIEF0dGVtcHQ6PGJyPiAyOTAwIFNPUEhJQSBTVCwgVmFuY291dmVyLCBCQywgQ2FuYWRhCiAgICA8Yj5HZW9jb2RlIFJlc3VsdDo8YnI%2BIDI5MDAgU29waGlhIFN0cmVldCwgVmFuY291dmVyLCBCcml0aXNoIENvbHVtYmlhIFY1VCAyTTcsIENhbmFkYQ%3D%3D%22%20style%3D%22position%3Aabsolute%3Bwidth%3A100%25%3Bheight%3A100%25%3Bleft%3A0%3Btop%3A0%3Bborder%3Anone%20%21important%3B%22%3E%3C/iframe%3E%3C/div%3E%3C/div%3E%60%29%5B0%5D%3B%0A%20%20%20%20%20%20%20%20%20%20%20%20popup_28c71c7f54e5426da3da7ebee9ff38b7.setContent%28i_frame_3f110b6c4035424e9813de36061d6911%29%3B%0A%20%20%20%20%20%20%20%20%0A%0A%20%20%20%20%20%20%20%20circle_marker_60328d1857fd4d3097df7c428e5b50ff.bindPopup%28popup_28c71c7f54e5426da3da7ebee9ff38b7%29%0A%20%20%20%20%20%20%20%20%3B%0A%0A%20%20%20%20%20%20%20%20%0A%20%20%20%20%0A%20%20%20%20%0A%20%20%20%20%20%20%20%20%20%20%20%20var%20circle_marker_eab21c98dda149308fa3c7b9cdc0aabd%20%3D%20L.circleMarker%28%0A%20%20%20%20%20%20%20%20%20%20%20%20%20%20%20%20%5B49.260333%2C%20-123.112962%5D%2C%0A%20%20%20%20%20%20%20%20%20%20%20%20%20%20%20%20%7B%22bubblingMouseEvents%22%3A%20true%2C%20%22color%22%3A%20%22black%22%2C%20%22dashArray%22%3A%20null%2C%20%22dashOffset%22%3A%20null%2C%20%22fill%22%3A%20true%2C%20%22fillColor%22%3A%20%22%23BCA3C5%22%2C%20%22fillOpacity%22%3A%200.75%2C%20%22fillRule%22%3A%20%22evenodd%22%2C%20%22lineCap%22%3A%20%22round%22%2C%20%22lineJoin%22%3A%20%22round%22%2C%20%22opacity%22%3A%201.0%2C%20%22radius%22%3A%2015%2C%20%22stroke%22%3A%20true%2C%20%22weight%22%3A%203%7D%0A%20%20%20%20%20%20%20%20%20%20%20%20%29.addTo%28map_4d6930e57bae45fdbd37fbd8516e5ad4%29%3B%0A%20%20%20%20%20%20%20%20%0A%20%20%20%20%0A%20%20%20%20%20%20%20%20var%20popup_081c98afc78f4aa28b3cb4c89ed59bfc%20%3D%20L.popup%28%7B%22maxHeight%22%3A%20500%2C%20%22maxWidth%22%3A%20500%2C%20%22minHeight%22%3A%20100%2C%20%22minWidth%22%3A%20500%7D%29%3B%0A%0A%20%20%20%20%20%20%20%20%0A%20%20%20%20%20%20%20%20%20%20%20%20var%20i_frame_7b526c70cd864bafaab49a8579db8ecd%20%3D%20%24%28%60%3Cdiv%20style%3D%22width%3A100%25%3B%22%3E%3Cdiv%20style%3D%22position%3Arelative%3Bwidth%3A100%25%3Bheight%3A0%3Bpadding-bottom%3A60%25%3B%22%3E%3Ciframe%20src%3D%22data%3Atext/html%3Bcharset%3Dutf-8%3Bbase64%2CCiAgICAKICAgIDxiPlNwZWNpZXMgTmFtZTo8YnI%2BIFNJTFZFUiBMSU5ERU4KICAgIDxiPkRhdGUgUGxhbnRlZDo8YnI%2BIG5hbgogICAgPGI%2BR2VvY29kZSBBdHRlbXB0Ojxicj4gMjkwMCBZVUtPTiBTVCwgVmFuY291dmVyLCBCQywgQ2FuYWRhCiAgICA8Yj5HZW9jb2RlIFJlc3VsdDo8YnI%2BIDI5MDAgWXVrb24gU3RyZWV0LCBWYW5jb3V2ZXIsIEJyaXRpc2ggQ29sdW1iaWEgVjVZIDFWMiwgQ2FuYWRh%22%20style%3D%22position%3Aabsolute%3Bwidth%3A100%25%3Bheight%3A100%25%3Bleft%3A0%3Btop%3A0%3Bborder%3Anone%20%21important%3B%22%3E%3C/iframe%3E%3C/div%3E%3C/div%3E%60%29%5B0%5D%3B%0A%20%20%20%20%20%20%20%20%20%20%20%20popup_081c98afc78f4aa28b3cb4c89ed59bfc.setContent%28i_frame_7b526c70cd864bafaab49a8579db8ecd%29%3B%0A%20%20%20%20%20%20%20%20%0A%0A%20%20%20%20%20%20%20%20circle_marker_eab21c98dda149308fa3c7b9cdc0aabd.bindPopup%28popup_081c98afc78f4aa28b3cb4c89ed59bfc%29%0A%20%20%20%20%20%20%20%20%3B%0A%0A%20%20%20%20%20%20%20%20%0A%20%20%20%20%0A%20%20%20%20%0A%20%20%20%20%20%20%20%20%20%20%20%20var%20circle_marker_fddde4b79a884c3ebe483dc32599d6de%20%3D%20L.circleMarker%28%0A%20%20%20%20%20%20%20%20%20%20%20%20%20%20%20%20%5B49.257071%2C%20-123.087315%5D%2C%0A%20%20%20%20%20%20%20%20%20%20%20%20%20%20%20%20%7B%22bubblingMouseEvents%22%3A%20true%2C%20%22color%22%3A%20%22black%22%2C%20%22dashArray%22%3A%20null%2C%20%22dashOffset%22%3A%20null%2C%20%22fill%22%3A%20true%2C%20%22fillColor%22%3A%20%22%23A30247%22%2C%20%22fillOpacity%22%3A%200.75%2C%20%22fillRule%22%3A%20%22evenodd%22%2C%20%22lineCap%22%3A%20%22round%22%2C%20%22lineJoin%22%3A%20%22round%22%2C%20%22opacity%22%3A%201.0%2C%20%22radius%22%3A%2015%2C%20%22stroke%22%3A%20true%2C%20%22weight%22%3A%203%7D%0A%20%20%20%20%20%20%20%20%20%20%20%20%29.addTo%28map_4d6930e57bae45fdbd37fbd8516e5ad4%29%3B%0A%20%20%20%20%20%20%20%20%0A%20%20%20%20%0A%20%20%20%20%20%20%20%20var%20popup_8c9fea186e454216a2264df78bc69af3%20%3D%20L.popup%28%7B%22maxHeight%22%3A%20500%2C%20%22maxWidth%22%3A%20500%2C%20%22minHeight%22%3A%20100%2C%20%22minWidth%22%3A%20500%7D%29%3B%0A%0A%20%20%20%20%20%20%20%20%0A%20%20%20%20%20%20%20%20%20%20%20%20var%20i_frame_1c4967e314ee4cee94704efae0ec252e%20%3D%20%24%28%60%3Cdiv%20style%3D%22width%3A100%25%3B%22%3E%3Cdiv%20style%3D%22position%3Arelative%3Bwidth%3A100%25%3Bheight%3A0%3Bpadding-bottom%3A60%25%3B%22%3E%3Ciframe%20src%3D%22data%3Atext/html%3Bcharset%3Dutf-8%3Bbase64%2CCiAgICAKICAgIDxiPlNwZWNpZXMgTmFtZTo8YnI%2BIEdPTERFTlJBSU4gVFJFRQogICAgPGI%2BRGF0ZSBQbGFudGVkOjxicj4gbmFuCiAgICA8Yj5HZW9jb2RlIEF0dGVtcHQ6PGJyPiA4MDAgRSAxNVRIIEFWLCBWYW5jb3V2ZXIsIEJDLCBDYW5hZGEKICAgIDxiPkdlb2NvZGUgUmVzdWx0Ojxicj4gODAwIEVhc3QgMTV0aCBBdmVudWUsIFZhbmNvdXZlciwgQnJpdGlzaCBDb2x1bWJpYSBWNVQgMlI5LCBDYW5hZGE%3D%22%20style%3D%22position%3Aabsolute%3Bwidth%3A100%25%3Bheight%3A100%25%3Bleft%3A0%3Btop%3A0%3Bborder%3Anone%20%21important%3B%22%3E%3C/iframe%3E%3C/div%3E%3C/div%3E%60%29%5B0%5D%3B%0A%20%20%20%20%20%20%20%20%20%20%20%20popup_8c9fea186e454216a2264df78bc69af3.setContent%28i_frame_1c4967e314ee4cee94704efae0ec252e%29%3B%0A%20%20%20%20%20%20%20%20%0A%0A%20%20%20%20%20%20%20%20circle_marker_fddde4b79a884c3ebe483dc32599d6de.bindPopup%28popup_8c9fea186e454216a2264df78bc69af3%29%0A%20%20%20%20%20%20%20%20%3B%0A%0A%20%20%20%20%20%20%20%20%0A%20%20%20%20%0A%20%20%20%20%0A%20%20%20%20%20%20%20%20%20%20%20%20var%20circle_marker_a3fe8bbccc9e4b319d5376c9bf7e45d1%20%3D%20L.circleMarker%28%0A%20%20%20%20%20%20%20%20%20%20%20%20%20%20%20%20%5B49.331121%2C%20-123.159479%5D%2C%0A%20%20%20%20%20%20%20%20%20%20%20%20%20%20%20%20%7B%22bubblingMouseEvents%22%3A%20true%2C%20%22color%22%3A%20%22black%22%2C%20%22dashArray%22%3A%20null%2C%20%22dashOffset%22%3A%20null%2C%20%22fill%22%3A%20true%2C%20%22fillColor%22%3A%20%22%23DBE89A%22%2C%20%22fillOpacity%22%3A%200.75%2C%20%22fillRule%22%3A%20%22evenodd%22%2C%20%22lineCap%22%3A%20%22round%22%2C%20%22lineJoin%22%3A%20%22round%22%2C%20%22opacity%22%3A%201.0%2C%20%22radius%22%3A%2015%2C%20%22stroke%22%3A%20true%2C%20%22weight%22%3A%203%7D%0A%20%20%20%20%20%20%20%20%20%20%20%20%29.addTo%28map_4d6930e57bae45fdbd37fbd8516e5ad4%29%3B%0A%20%20%20%20%20%20%20%20%0A%20%20%20%20%0A%20%20%20%20%20%20%20%20var%20popup_b4cbd8f449a94abd92b52374bcc5c229%20%3D%20L.popup%28%7B%22maxHeight%22%3A%20500%2C%20%22maxWidth%22%3A%20500%2C%20%22minHeight%22%3A%20100%2C%20%22minWidth%22%3A%20500%7D%29%3B%0A%0A%20%20%20%20%20%20%20%20%0A%20%20%20%20%20%20%20%20%20%20%20%20var%20i_frame_730cd06410794b13964a874563089861%20%3D%20%24%28%60%3Cdiv%20style%3D%22width%3A100%25%3B%22%3E%3Cdiv%20style%3D%22position%3Arelative%3Bwidth%3A100%25%3Bheight%3A0%3Bpadding-bottom%3A60%25%3B%22%3E%3Ciframe%20src%3D%22data%3Atext/html%3Bcharset%3Dutf-8%3Bbase64%2CCiAgICAKICAgIDxiPlNwZWNpZXMgTmFtZTo8YnI%2BIFRSRUUgT0YgSEVBVkVOCiAgICA8Yj5EYXRlIFBsYW50ZWQ6PGJyPiBuYW4KICAgIDxiPkdlb2NvZGUgQXR0ZW1wdDo8YnI%2BIDMwMDAgUFJJTkNFIEFMQkVSVCBTVCwgVmFuY291dmVyLCBCQywgQ2FuYWRhCiAgICA8Yj5HZW9jb2RlIFJlc3VsdDo8YnI%2BIFdlc3QgVmFuY291dmVyLCBCcml0aXNoIENvbHVtYmlhLCBDYW5hZGE%3D%22%20style%3D%22position%3Aabsolute%3Bwidth%3A100%25%3Bheight%3A100%25%3Bleft%3A0%3Btop%3A0%3Bborder%3Anone%20%21important%3B%22%3E%3C/iframe%3E%3C/div%3E%3C/div%3E%60%29%5B0%5D%3B%0A%20%20%20%20%20%20%20%20%20%20%20%20popup_b4cbd8f449a94abd92b52374bcc5c229.setContent%28i_frame_730cd06410794b13964a874563089861%29%3B%0A%20%20%20%20%20%20%20%20%0A%0A%20%20%20%20%20%20%20%20circle_marker_a3fe8bbccc9e4b319d5376c9bf7e45d1.bindPopup%28popup_b4cbd8f449a94abd92b52374bcc5c229%29%0A%20%20%20%20%20%20%20%20%3B%0A%0A%20%20%20%20%20%20%20%20%0A%20%20%20%20%0A%20%20%20%20%0A%20%20%20%20%20%20%20%20%20%20%20%20var%20circle_marker_26ebf5affa794a36a9fac60e764d96ef%20%3D%20L.circleMarker%28%0A%20%20%20%20%20%20%20%20%20%20%20%20%20%20%20%20%5B49.331121%2C%20-123.159479%5D%2C%0A%20%20%20%20%20%20%20%20%20%20%20%20%20%20%20%20%7B%22bubblingMouseEvents%22%3A%20true%2C%20%22color%22%3A%20%22black%22%2C%20%22dashArray%22%3A%20null%2C%20%22dashOffset%22%3A%20null%2C%20%22fill%22%3A%20true%2C%20%22fillColor%22%3A%20%22%23BEF4C6%22%2C%20%22fillOpacity%22%3A%200.75%2C%20%22fillRule%22%3A%20%22evenodd%22%2C%20%22lineCap%22%3A%20%22round%22%2C%20%22lineJoin%22%3A%20%22round%22%2C%20%22opacity%22%3A%201.0%2C%20%22radius%22%3A%2015%2C%20%22stroke%22%3A%20true%2C%20%22weight%22%3A%203%7D%0A%20%20%20%20%20%20%20%20%20%20%20%20%29.addTo%28map_4d6930e57bae45fdbd37fbd8516e5ad4%29%3B%0A%20%20%20%20%20%20%20%20%0A%20%20%20%20%0A%20%20%20%20%20%20%20%20var%20popup_be2e4fbf98e34e54a444fff234ca2322%20%3D%20L.popup%28%7B%22maxHeight%22%3A%20500%2C%20%22maxWidth%22%3A%20500%2C%20%22minHeight%22%3A%20100%2C%20%22minWidth%22%3A%20500%7D%29%3B%0A%0A%20%20%20%20%20%20%20%20%0A%20%20%20%20%20%20%20%20%20%20%20%20var%20i_frame_3977994c9753453bbf886c57ebe0a8b3%20%3D%20%24%28%60%3Cdiv%20style%3D%22width%3A100%25%3B%22%3E%3Cdiv%20style%3D%22position%3Arelative%3Bwidth%3A100%25%3Bheight%3A0%3Bpadding-bottom%3A60%25%3B%22%3E%3Ciframe%20src%3D%22data%3Atext/html%3Bcharset%3Dutf-8%3Bbase64%2CCiAgICAKICAgIDxiPlNwZWNpZXMgTmFtZTo8YnI%2BIFlFTExPVyBCVUNLRVlFCiAgICA8Yj5EYXRlIFBsYW50ZWQ6PGJyPiAyMDA1LTA0LTEzCiAgICA8Yj5HZW9jb2RlIEF0dGVtcHQ6PGJyPiAyODAwIFBSSU5DRSBFRFdBUkQgU1QsIFZhbmNvdXZlciwgQkMsIENhbmFkYQogICAgPGI%2BR2VvY29kZSBSZXN1bHQ6PGJyPiBXZXN0IFZhbmNvdXZlciwgQnJpdGlzaCBDb2x1bWJpYSwgQ2FuYWRh%22%20style%3D%22position%3Aabsolute%3Bwidth%3A100%25%3Bheight%3A100%25%3Bleft%3A0%3Btop%3A0%3Bborder%3Anone%20%21important%3B%22%3E%3C/iframe%3E%3C/div%3E%3C/div%3E%60%29%5B0%5D%3B%0A%20%20%20%20%20%20%20%20%20%20%20%20popup_be2e4fbf98e34e54a444fff234ca2322.setContent%28i_frame_3977994c9753453bbf886c57ebe0a8b3%29%3B%0A%20%20%20%20%20%20%20%20%0A%0A%20%20%20%20%20%20%20%20circle_marker_26ebf5affa794a36a9fac60e764d96ef.bindPopup%28popup_be2e4fbf98e34e54a444fff234ca2322%29%0A%20%20%20%20%20%20%20%20%3B%0A%0A%20%20%20%20%20%20%20%20%0A%20%20%20%20%0A%20%20%20%20%0A%20%20%20%20%20%20%20%20%20%20%20%20var%20circle_marker_c121277727c14f5b876140379278744e%20%3D%20L.circleMarker%28%0A%20%20%20%20%20%20%20%20%20%20%20%20%20%20%20%20%5B49.257832%2C%20-123.079461%5D%2C%0A%20%20%20%20%20%20%20%20%20%20%20%20%20%20%20%20%7B%22bubblingMouseEvents%22%3A%20true%2C%20%22color%22%3A%20%22black%22%2C%20%22dashArray%22%3A%20null%2C%20%22dashOffset%22%3A%20null%2C%20%22fill%22%3A%20true%2C%20%22fillColor%22%3A%20%22%23A9183B%22%2C%20%22fillOpacity%22%3A%200.75%2C%20%22fillRule%22%3A%20%22evenodd%22%2C%20%22lineCap%22%3A%20%22round%22%2C%20%22lineJoin%22%3A%20%22round%22%2C%20%22opacity%22%3A%201.0%2C%20%22radius%22%3A%2015%2C%20%22stroke%22%3A%20true%2C%20%22weight%22%3A%203%7D%0A%20%20%20%20%20%20%20%20%20%20%20%20%29.addTo%28map_4d6930e57bae45fdbd37fbd8516e5ad4%29%3B%0A%20%20%20%20%20%20%20%20%0A%20%20%20%20%0A%20%20%20%20%20%20%20%20var%20popup_97ffe0010c97415db2de89a54204834e%20%3D%20L.popup%28%7B%22maxHeight%22%3A%20500%2C%20%22maxWidth%22%3A%20500%2C%20%22minHeight%22%3A%20100%2C%20%22minWidth%22%3A%20500%7D%29%3B%0A%0A%20%20%20%20%20%20%20%20%0A%20%20%20%20%20%20%20%20%20%20%20%20var%20i_frame_d08754d629a049f39e6b81ca5671c964%20%3D%20%24%28%60%3Cdiv%20style%3D%22width%3A100%25%3B%22%3E%3Cdiv%20style%3D%22position%3Arelative%3Bwidth%3A100%25%3Bheight%3A0%3Bpadding-bottom%3A60%25%3B%22%3E%3Ciframe%20src%3D%22data%3Atext/html%3Bcharset%3Dutf-8%3Bbase64%2CCiAgICAKICAgIDxiPlNwZWNpZXMgTmFtZTo8YnI%2BIEdJQU5UIEZJTEJFUlQKICAgIDxiPkRhdGUgUGxhbnRlZDo8YnI%2BIG5hbgogICAgPGI%2BR2VvY29kZSBBdHRlbXB0Ojxicj4gMTIwMCBFIDE0VEggQVYsIFZhbmNvdXZlciwgQkMsIENhbmFkYQogICAgPGI%2BR2VvY29kZSBSZXN1bHQ6PGJyPiAxMjAwIEVhc3QgMTR0aCBBdmVudWUsIFZhbmNvdXZlciwgQnJpdGlzaCBDb2x1bWJpYSBWNVQgMlAzLCBDYW5hZGE%3D%22%20style%3D%22position%3Aabsolute%3Bwidth%3A100%25%3Bheight%3A100%25%3Bleft%3A0%3Btop%3A0%3Bborder%3Anone%20%21important%3B%22%3E%3C/iframe%3E%3C/div%3E%3C/div%3E%60%29%5B0%5D%3B%0A%20%20%20%20%20%20%20%20%20%20%20%20popup_97ffe0010c97415db2de89a54204834e.setContent%28i_frame_d08754d629a049f39e6b81ca5671c964%29%3B%0A%20%20%20%20%20%20%20%20%0A%0A%20%20%20%20%20%20%20%20circle_marker_c121277727c14f5b876140379278744e.bindPopup%28popup_97ffe0010c97415db2de89a54204834e%29%0A%20%20%20%20%20%20%20%20%3B%0A%0A%20%20%20%20%20%20%20%20%0A%20%20%20%20%0A%20%20%20%20%0A%20%20%20%20%20%20%20%20%20%20%20%20var%20circle_marker_82d03cf728fb4ce78d4e1d9d2d1ec0cb%20%3D%20L.circleMarker%28%0A%20%20%20%20%20%20%20%20%20%20%20%20%20%20%20%20%5B49.266603%2C%20-123.110825%5D%2C%0A%20%20%20%20%20%20%20%20%20%20%20%20%20%20%20%20%7B%22bubblingMouseEvents%22%3A%20true%2C%20%22color%22%3A%20%22black%22%2C%20%22dashArray%22%3A%20null%2C%20%22dashOffset%22%3A%20null%2C%20%22fill%22%3A%20true%2C%20%22fillColor%22%3A%20%22%23496ABD%22%2C%20%22fillOpacity%22%3A%200.75%2C%20%22fillRule%22%3A%20%22evenodd%22%2C%20%22lineCap%22%3A%20%22round%22%2C%20%22lineJoin%22%3A%20%22round%22%2C%20%22opacity%22%3A%201.0%2C%20%22radius%22%3A%2015%2C%20%22stroke%22%3A%20true%2C%20%22weight%22%3A%203%7D%0A%20%20%20%20%20%20%20%20%20%20%20%20%29.addTo%28map_4d6930e57bae45fdbd37fbd8516e5ad4%29%3B%0A%20%20%20%20%20%20%20%20%0A%20%20%20%20%0A%20%20%20%20%20%20%20%20var%20popup_c74d8f7095b44f8f92f4288c530a2304%20%3D%20L.popup%28%7B%22maxHeight%22%3A%20500%2C%20%22maxWidth%22%3A%20500%2C%20%22minHeight%22%3A%20100%2C%20%22minWidth%22%3A%20500%7D%29%3B%0A%0A%20%20%20%20%20%20%20%20%0A%20%20%20%20%20%20%20%20%20%20%20%20var%20i_frame_59e81abcd5a74c42835c3c4ba68f9df9%20%3D%20%24%28%60%3Cdiv%20style%3D%22width%3A100%25%3B%22%3E%3Cdiv%20style%3D%22position%3Arelative%3Bwidth%3A100%25%3Bheight%3A0%3Bpadding-bottom%3A60%25%3B%22%3E%3Ciframe%20src%3D%22data%3Atext/html%3Bcharset%3Dutf-8%3Bbase64%2CCiAgICAKICAgIDxiPlNwZWNpZXMgTmFtZTo8YnI%2BIFBJTkUgU1BFQ0lFUwogICAgPGI%2BRGF0ZSBQbGFudGVkOjxicj4gbmFuCiAgICA8Yj5HZW9jb2RlIEF0dGVtcHQ6PGJyPiAzMDAgVyA1VEggQVYsIFZhbmNvdXZlciwgQkMsIENhbmFkYQogICAgPGI%2BR2VvY29kZSBSZXN1bHQ6PGJyPiAzMDAgV2VzdCA1dGggQXZlbnVlLCBWYW5jb3V2ZXIsIEJyaXRpc2ggQ29sdW1iaWEgVjVZIDNLMywgQ2FuYWRh%22%20style%3D%22position%3Aabsolute%3Bwidth%3A100%25%3Bheight%3A100%25%3Bleft%3A0%3Btop%3A0%3Bborder%3Anone%20%21important%3B%22%3E%3C/iframe%3E%3C/div%3E%3C/div%3E%60%29%5B0%5D%3B%0A%20%20%20%20%20%20%20%20%20%20%20%20popup_c74d8f7095b44f8f92f4288c530a2304.setContent%28i_frame_59e81abcd5a74c42835c3c4ba68f9df9%29%3B%0A%20%20%20%20%20%20%20%20%0A%0A%20%20%20%20%20%20%20%20circle_marker_82d03cf728fb4ce78d4e1d9d2d1ec0cb.bindPopup%28popup_c74d8f7095b44f8f92f4288c530a2304%29%0A%20%20%20%20%20%20%20%20%3B%0A%0A%20%20%20%20%20%20%20%20%0A%20%20%20%20%0A%20%20%20%20%0A%20%20%20%20%20%20%20%20%20%20%20%20var%20circle_marker_88c2e88c308a4fbf8633e26ef3962071%20%3D%20L.circleMarker%28%0A%20%20%20%20%20%20%20%20%20%20%20%20%20%20%20%20%5B49.261591%2C%20-123.096012%5D%2C%0A%20%20%20%20%20%20%20%20%20%20%20%20%20%20%20%20%7B%22bubblingMouseEvents%22%3A%20true%2C%20%22color%22%3A%20%22black%22%2C%20%22dashArray%22%3A%20null%2C%20%22dashOffset%22%3A%20null%2C%20%22fill%22%3A%20true%2C%20%22fillColor%22%3A%20%22%23C069BF%22%2C%20%22fillOpacity%22%3A%200.75%2C%20%22fillRule%22%3A%20%22evenodd%22%2C%20%22lineCap%22%3A%20%22round%22%2C%20%22lineJoin%22%3A%20%22round%22%2C%20%22opacity%22%3A%201.0%2C%20%22radius%22%3A%2015%2C%20%22stroke%22%3A%20true%2C%20%22weight%22%3A%203%7D%0A%20%20%20%20%20%20%20%20%20%20%20%20%29.addTo%28map_4d6930e57bae45fdbd37fbd8516e5ad4%29%3B%0A%20%20%20%20%20%20%20%20%0A%20%20%20%20%0A%20%20%20%20%20%20%20%20var%20popup_0d5b19226743475da0fb8729a78e9eda%20%3D%20L.popup%28%7B%22maxHeight%22%3A%20500%2C%20%22maxWidth%22%3A%20500%2C%20%22minHeight%22%3A%20100%2C%20%22minWidth%22%3A%20500%7D%29%3B%0A%0A%20%20%20%20%20%20%20%20%0A%20%20%20%20%20%20%20%20%20%20%20%20var%20i_frame_09579eabae484f8d90a31e90b962e6de%20%3D%20%24%28%60%3Cdiv%20style%3D%22width%3A100%25%3B%22%3E%3Cdiv%20style%3D%22position%3Arelative%3Bwidth%3A100%25%3Bheight%3A0%3Bpadding-bottom%3A60%25%3B%22%3E%3Ciframe%20src%3D%22data%3Atext/html%3Bcharset%3Dutf-8%3Bbase64%2CCiAgICAKICAgIDxiPlNwZWNpZXMgTmFtZTo8YnI%2BIEdPTERFTiBCRUVDSAogICAgPGI%2BRGF0ZSBQbGFudGVkOjxicj4gMTk5My0wMy0xMgogICAgPGI%2BR2VvY29kZSBBdHRlbXB0Ojxicj4gNDAwIEUgMTBUSCBBViwgVmFuY291dmVyLCBCQywgQ2FuYWRhCiAgICA8Yj5HZW9jb2RlIFJlc3VsdDo8YnI%2BIDQwMCBFYXN0IDEwdGggQXZlbnVlLCBWYW5jb3V2ZXIsIEJyaXRpc2ggQ29sdW1iaWEgVjVUIDRUMywgQ2FuYWRh%22%20style%3D%22position%3Aabsolute%3Bwidth%3A100%25%3Bheight%3A100%25%3Bleft%3A0%3Btop%3A0%3Bborder%3Anone%20%21important%3B%22%3E%3C/iframe%3E%3C/div%3E%3C/div%3E%60%29%5B0%5D%3B%0A%20%20%20%20%20%20%20%20%20%20%20%20popup_0d5b19226743475da0fb8729a78e9eda.setContent%28i_frame_09579eabae484f8d90a31e90b962e6de%29%3B%0A%20%20%20%20%20%20%20%20%0A%0A%20%20%20%20%20%20%20%20circle_marker_88c2e88c308a4fbf8633e26ef3962071.bindPopup%28popup_0d5b19226743475da0fb8729a78e9eda%29%0A%20%20%20%20%20%20%20%20%3B%0A%0A%20%20%20%20%20%20%20%20%0A%20%20%20%20%0A%20%20%20%20%0A%20%20%20%20%20%20%20%20%20%20%20%20var%20circle_marker_c1791ca8512a4bdab6baf516c4e965bf%20%3D%20L.circleMarker%28%0A%20%20%20%20%20%20%20%20%20%20%20%20%20%20%20%20%5B49.267544%2C%20-123.112874%5D%2C%0A%20%20%20%20%20%20%20%20%20%20%20%20%20%20%20%20%7B%22bubblingMouseEvents%22%3A%20true%2C%20%22color%22%3A%20%22black%22%2C%20%22dashArray%22%3A%20null%2C%20%22dashOffset%22%3A%20null%2C%20%22fill%22%3A%20true%2C%20%22fillColor%22%3A%20%22%236DCFE1%22%2C%20%22fillOpacity%22%3A%200.75%2C%20%22fillRule%22%3A%20%22evenodd%22%2C%20%22lineCap%22%3A%20%22round%22%2C%20%22lineJoin%22%3A%20%22round%22%2C%20%22opacity%22%3A%201.0%2C%20%22radius%22%3A%2015%2C%20%22stroke%22%3A%20true%2C%20%22weight%22%3A%203%7D%0A%20%20%20%20%20%20%20%20%20%20%20%20%29.addTo%28map_4d6930e57bae45fdbd37fbd8516e5ad4%29%3B%0A%20%20%20%20%20%20%20%20%0A%20%20%20%20%0A%20%20%20%20%20%20%20%20var%20popup_d46545970f0641159867093515bc2b97%20%3D%20L.popup%28%7B%22maxHeight%22%3A%20500%2C%20%22maxWidth%22%3A%20500%2C%20%22minHeight%22%3A%20100%2C%20%22minWidth%22%3A%20500%7D%29%3B%0A%0A%20%20%20%20%20%20%20%20%0A%20%20%20%20%20%20%20%20%20%20%20%20var%20i_frame_1876edf21b664186957126fadad57f49%20%3D%20%24%28%60%3Cdiv%20style%3D%22width%3A100%25%3B%22%3E%3Cdiv%20style%3D%22position%3Arelative%3Bwidth%3A100%25%3Bheight%3A0%3Bpadding-bottom%3A60%25%3B%22%3E%3Ciframe%20src%3D%22data%3Atext/html%3Bcharset%3Dutf-8%3Bbase64%2CCiAgICAKICAgIDxiPlNwZWNpZXMgTmFtZTo8YnI%2BIFdJTkRNSUxMIFBBTE0KICAgIDxiPkRhdGUgUGxhbnRlZDo8YnI%2BIG5hbgogICAgPGI%2BR2VvY29kZSBBdHRlbXB0Ojxicj4gMjAwMCBZVUtPTiBTVCwgVmFuY291dmVyLCBCQywgQ2FuYWRhCiAgICA8Yj5HZW9jb2RlIFJlc3VsdDo8YnI%2BIDIwMDAgWXVrb24gU3RyZWV0LCBWYW5jb3V2ZXIsIEJyaXRpc2ggQ29sdW1iaWEgVjVZIDFFMiwgQ2FuYWRh%22%20style%3D%22position%3Aabsolute%3Bwidth%3A100%25%3Bheight%3A100%25%3Bleft%3A0%3Btop%3A0%3Bborder%3Anone%20%21important%3B%22%3E%3C/iframe%3E%3C/div%3E%3C/div%3E%60%29%5B0%5D%3B%0A%20%20%20%20%20%20%20%20%20%20%20%20popup_d46545970f0641159867093515bc2b97.setContent%28i_frame_1876edf21b664186957126fadad57f49%29%3B%0A%20%20%20%20%20%20%20%20%0A%0A%20%20%20%20%20%20%20%20circle_marker_c1791ca8512a4bdab6baf516c4e965bf.bindPopup%28popup_d46545970f0641159867093515bc2b97%29%0A%20%20%20%20%20%20%20%20%3B%0A%0A%20%20%20%20%20%20%20%20%0A%20%20%20%20%0A%20%20%20%20%0A%20%20%20%20%20%20%20%20%20%20%20%20var%20circle_marker_c7e02f4e07fd4919b8bce7e9d6af7049%20%3D%20L.circleMarker%28%0A%20%20%20%20%20%20%20%20%20%20%20%20%20%20%20%20%5B49.262643%2C%20-123.096001%5D%2C%0A%20%20%20%20%20%20%20%20%20%20%20%20%20%20%20%20%7B%22bubblingMouseEvents%22%3A%20true%2C%20%22color%22%3A%20%22black%22%2C%20%22dashArray%22%3A%20null%2C%20%22dashOffset%22%3A%20null%2C%20%22fill%22%3A%20true%2C%20%22fillColor%22%3A%20%22%23CFD544%22%2C%20%22fillOpacity%22%3A%200.75%2C%20%22fillRule%22%3A%20%22evenodd%22%2C%20%22lineCap%22%3A%20%22round%22%2C%20%22lineJoin%22%3A%20%22round%22%2C%20%22opacity%22%3A%201.0%2C%20%22radius%22%3A%2015%2C%20%22stroke%22%3A%20true%2C%20%22weight%22%3A%203%7D%0A%20%20%20%20%20%20%20%20%20%20%20%20%29.addTo%28map_4d6930e57bae45fdbd37fbd8516e5ad4%29%3B%0A%20%20%20%20%20%20%20%20%0A%20%20%20%20%0A%20%20%20%20%20%20%20%20var%20popup_5d3d4e25415947d6ac6ca1bd49044e60%20%3D%20L.popup%28%7B%22maxHeight%22%3A%20500%2C%20%22maxWidth%22%3A%20500%2C%20%22minHeight%22%3A%20100%2C%20%22minWidth%22%3A%20500%7D%29%3B%0A%0A%20%20%20%20%20%20%20%20%0A%20%20%20%20%20%20%20%20%20%20%20%20var%20i_frame_182298b5f7b14cfd84316165f4ae9ba8%20%3D%20%24%28%60%3Cdiv%20style%3D%22width%3A100%25%3B%22%3E%3Cdiv%20style%3D%22position%3Arelative%3Bwidth%3A100%25%3Bheight%3A0%3Bpadding-bottom%3A60%25%3B%22%3E%3Ciframe%20src%3D%22data%3Atext/html%3Bcharset%3Dutf-8%3Bbase64%2CCiAgICAKICAgIDxiPlNwZWNpZXMgTmFtZTo8YnI%2BIFdJTERGSVJFIEJMQUNLR1VNCiAgICA8Yj5EYXRlIFBsYW50ZWQ6PGJyPiBuYW4KICAgIDxiPkdlb2NvZGUgQXR0ZW1wdDo8YnI%2BIDQwMCBFIEJST0FEV0FZLCBWYW5jb3V2ZXIsIEJDLCBDYW5hZGEKICAgIDxiPkdlb2NvZGUgUmVzdWx0Ojxicj4gNDAwIEVhc3QgQnJvYWR3YXksIFZhbmNvdXZlciwgQnJpdGlzaCBDb2x1bWJpYSBWNVQgM003LCBDYW5hZGE%3D%22%20style%3D%22position%3Aabsolute%3Bwidth%3A100%25%3Bheight%3A100%25%3Bleft%3A0%3Btop%3A0%3Bborder%3Anone%20%21important%3B%22%3E%3C/iframe%3E%3C/div%3E%3C/div%3E%60%29%5B0%5D%3B%0A%20%20%20%20%20%20%20%20%20%20%20%20popup_5d3d4e25415947d6ac6ca1bd49044e60.setContent%28i_frame_182298b5f7b14cfd84316165f4ae9ba8%29%3B%0A%20%20%20%20%20%20%20%20%0A%0A%20%20%20%20%20%20%20%20circle_marker_c7e02f4e07fd4919b8bce7e9d6af7049.bindPopup%28popup_5d3d4e25415947d6ac6ca1bd49044e60%29%0A%20%20%20%20%20%20%20%20%3B%0A%0A%20%20%20%20%20%20%20%20%0A%20%20%20%20%0A%20%20%20%20%0A%20%20%20%20%20%20%20%20%20%20%20%20var%20circle_marker_8fab2bcde4c54385a8d002648f2f01c7%20%3D%20L.circleMarker%28%0A%20%20%20%20%20%20%20%20%20%20%20%20%20%20%20%20%5B49.263929%2C%20-123.109452%5D%2C%0A%20%20%20%20%20%20%20%20%20%20%20%20%20%20%20%20%7B%22bubblingMouseEvents%22%3A%20true%2C%20%22color%22%3A%20%22black%22%2C%20%22dashArray%22%3A%20null%2C%20%22dashOffset%22%3A%20null%2C%20%22fill%22%3A%20true%2C%20%22fillColor%22%3A%20%22%23DA5BDF%22%2C%20%22fillOpacity%22%3A%200.75%2C%20%22fillRule%22%3A%20%22evenodd%22%2C%20%22lineCap%22%3A%20%22round%22%2C%20%22lineJoin%22%3A%20%22round%22%2C%20%22opacity%22%3A%201.0%2C%20%22radius%22%3A%2015%2C%20%22stroke%22%3A%20true%2C%20%22weight%22%3A%203%7D%0A%20%20%20%20%20%20%20%20%20%20%20%20%29.addTo%28map_4d6930e57bae45fdbd37fbd8516e5ad4%29%3B%0A%20%20%20%20%20%20%20%20%0A%20%20%20%20%0A%20%20%20%20%20%20%20%20var%20popup_2a02eab512a04c3ea74861a2674cfdd2%20%3D%20L.popup%28%7B%22maxHeight%22%3A%20500%2C%20%22maxWidth%22%3A%20500%2C%20%22minHeight%22%3A%20100%2C%20%22minWidth%22%3A%20500%7D%29%3B%0A%0A%20%20%20%20%20%20%20%20%0A%20%20%20%20%20%20%20%20%20%20%20%20var%20i_frame_fa7199d2b5bc4ee881862a341a971a44%20%3D%20%24%28%60%3Cdiv%20style%3D%22width%3A100%25%3B%22%3E%3Cdiv%20style%3D%22position%3Arelative%3Bwidth%3A100%25%3Bheight%3A0%3Bpadding-bottom%3A60%25%3B%22%3E%3Ciframe%20src%3D%22data%3Atext/html%3Bcharset%3Dutf-8%3Bbase64%2CCiAgICAKICAgIDxiPlNwZWNpZXMgTmFtZTo8YnI%2BIEFMREVSIFNQRUNJRVMKICAgIDxiPkRhdGUgUGxhbnRlZDo8YnI%2BIG5hbgogICAgPGI%2BR2VvY29kZSBBdHRlbXB0Ojxicj4gMjMwMCBDT0xVTUJJQSBTVCwgVmFuY291dmVyLCBCQywgQ2FuYWRhCiAgICA8Yj5HZW9jb2RlIFJlc3VsdDo8YnI%2BIDIzMDAgQ29sdW1iaWEgU3RyZWV0LCBWYW5jb3V2ZXIsIEJyaXRpc2ggQ29sdW1iaWEgVjVZIDFMNywgQ2FuYWRh%22%20style%3D%22position%3Aabsolute%3Bwidth%3A100%25%3Bheight%3A100%25%3Bleft%3A0%3Btop%3A0%3Bborder%3Anone%20%21important%3B%22%3E%3C/iframe%3E%3C/div%3E%3C/div%3E%60%29%5B0%5D%3B%0A%20%20%20%20%20%20%20%20%20%20%20%20popup_2a02eab512a04c3ea74861a2674cfdd2.setContent%28i_frame_fa7199d2b5bc4ee881862a341a971a44%29%3B%0A%20%20%20%20%20%20%20%20%0A%0A%20%20%20%20%20%20%20%20circle_marker_8fab2bcde4c54385a8d002648f2f01c7.bindPopup%28popup_2a02eab512a04c3ea74861a2674cfdd2%29%0A%20%20%20%20%20%20%20%20%3B%0A%0A%20%20%20%20%20%20%20%20%0A%20%20%20%20%0A%20%20%20%20%0A%20%20%20%20%20%20%20%20%20%20%20%20var%20circle_marker_df176af7f2f64c5cb526191d6cb65b1d%20%3D%20L.circleMarker%28%0A%20%20%20%20%20%20%20%20%20%20%20%20%20%20%20%20%5B49.257343%2C%20-123.093749%5D%2C%0A%20%20%20%20%20%20%20%20%20%20%20%20%20%20%20%20%7B%22bubblingMouseEvents%22%3A%20true%2C%20%22color%22%3A%20%22black%22%2C%20%22dashArray%22%3A%20null%2C%20%22dashOffset%22%3A%20null%2C%20%22fill%22%3A%20true%2C%20%22fillColor%22%3A%20%22%231C30A1%22%2C%20%22fillOpacity%22%3A%200.75%2C%20%22fillRule%22%3A%20%22evenodd%22%2C%20%22lineCap%22%3A%20%22round%22%2C%20%22lineJoin%22%3A%20%22round%22%2C%20%22opacity%22%3A%201.0%2C%20%22radius%22%3A%2015%2C%20%22stroke%22%3A%20true%2C%20%22weight%22%3A%203%7D%0A%20%20%20%20%20%20%20%20%20%20%20%20%29.addTo%28map_4d6930e57bae45fdbd37fbd8516e5ad4%29%3B%0A%20%20%20%20%20%20%20%20%0A%20%20%20%20%0A%20%20%20%20%20%20%20%20var%20popup_6398eea59b5c4f33a3d6b3ff5c2274b4%20%3D%20L.popup%28%7B%22maxHeight%22%3A%20500%2C%20%22maxWidth%22%3A%20500%2C%20%22minHeight%22%3A%20100%2C%20%22minWidth%22%3A%20500%7D%29%3B%0A%0A%20%20%20%20%20%20%20%20%0A%20%20%20%20%20%20%20%20%20%20%20%20var%20i_frame_78701ce7f64244ca9ffaaa7854f9d91d%20%3D%20%24%28%60%3Cdiv%20style%3D%22width%3A100%25%3B%22%3E%3Cdiv%20style%3D%22position%3Arelative%3Bwidth%3A100%25%3Bheight%3A0%3Bpadding-bottom%3A60%25%3B%22%3E%3Ciframe%20src%3D%22data%3Atext/html%3Bcharset%3Dutf-8%3Bbase64%2CCiAgICAKICAgIDxiPlNwZWNpZXMgTmFtZTo8YnI%2BIEpBUEFORVNFIFBBR09EQSBUUkVFCiAgICA8Yj5EYXRlIFBsYW50ZWQ6PGJyPiAyMDA1LTA0LTExCiAgICA8Yj5HZW9jb2RlIEF0dGVtcHQ6PGJyPiA1MDAgRSAxNVRIIEFWLCBWYW5jb3V2ZXIsIEJDLCBDYW5hZGEKICAgIDxiPkdlb2NvZGUgUmVzdWx0Ojxicj4gNTAwIEVhc3QgMTV0aCBBdmVudWUsIFZhbmNvdXZlciwgQnJpdGlzaCBDb2x1bWJpYSBWNVQgM0o5LCBDYW5hZGE%3D%22%20style%3D%22position%3Aabsolute%3Bwidth%3A100%25%3Bheight%3A100%25%3Bleft%3A0%3Btop%3A0%3Bborder%3Anone%20%21important%3B%22%3E%3C/iframe%3E%3C/div%3E%3C/div%3E%60%29%5B0%5D%3B%0A%20%20%20%20%20%20%20%20%20%20%20%20popup_6398eea59b5c4f33a3d6b3ff5c2274b4.setContent%28i_frame_78701ce7f64244ca9ffaaa7854f9d91d%29%3B%0A%20%20%20%20%20%20%20%20%0A%0A%20%20%20%20%20%20%20%20circle_marker_df176af7f2f64c5cb526191d6cb65b1d.bindPopup%28popup_6398eea59b5c4f33a3d6b3ff5c2274b4%29%0A%20%20%20%20%20%20%20%20%3B%0A%0A%20%20%20%20%20%20%20%20%0A%20%20%20%20%0A%20%20%20%20%0A%20%20%20%20%20%20%20%20%20%20%20%20var%20circle_marker_af157e70b7d1449cac7f35f71d47481b%20%3D%20L.circleMarker%28%0A%20%20%20%20%20%20%20%20%20%20%20%20%20%20%20%20%5B49.26339%2C%20-123.083301%5D%2C%0A%20%20%20%20%20%20%20%20%20%20%20%20%20%20%20%20%7B%22bubblingMouseEvents%22%3A%20true%2C%20%22color%22%3A%20%22black%22%2C%20%22dashArray%22%3A%20null%2C%20%22dashOffset%22%3A%20null%2C%20%22fill%22%3A%20true%2C%20%22fillColor%22%3A%20%22%2313BC4D%22%2C%20%22fillOpacity%22%3A%200.75%2C%20%22fillRule%22%3A%20%22evenodd%22%2C%20%22lineCap%22%3A%20%22round%22%2C%20%22lineJoin%22%3A%20%22round%22%2C%20%22opacity%22%3A%201.0%2C%20%22radius%22%3A%2015%2C%20%22stroke%22%3A%20true%2C%20%22weight%22%3A%203%7D%0A%20%20%20%20%20%20%20%20%20%20%20%20%29.addTo%28map_4d6930e57bae45fdbd37fbd8516e5ad4%29%3B%0A%20%20%20%20%20%20%20%20%0A%20%20%20%20%0A%20%20%20%20%20%20%20%20var%20popup_fba5b9f3c1504f97939d0d93f17aaa84%20%3D%20L.popup%28%7B%22maxHeight%22%3A%20500%2C%20%22maxWidth%22%3A%20500%2C%20%22minHeight%22%3A%20100%2C%20%22minWidth%22%3A%20500%7D%29%3B%0A%0A%20%20%20%20%20%20%20%20%0A%20%20%20%20%20%20%20%20%20%20%20%20var%20i_frame_c8a8bfb1d9d7468f957b43d4bdc32c4f%20%3D%20%24%28%60%3Cdiv%20style%3D%22width%3A100%25%3B%22%3E%3Cdiv%20style%3D%22position%3Arelative%3Bwidth%3A100%25%3Bheight%3A0%3Bpadding-bottom%3A60%25%3B%22%3E%3Ciframe%20src%3D%22data%3Atext/html%3Bcharset%3Dutf-8%3Bbase64%2CCiAgICAKICAgIDxiPlNwZWNpZXMgTmFtZTo8YnI%2BIEVMTSBTUEVDSUVTCiAgICA8Yj5EYXRlIFBsYW50ZWQ6PGJyPiBuYW4KICAgIDxiPkdlb2NvZGUgQXR0ZW1wdDo8YnI%2BIDIzMDAgV0lORFNPUiBTVCwgVmFuY291dmVyLCBCQywgQ2FuYWRhCiAgICA8Yj5HZW9jb2RlIFJlc3VsdDo8YnI%2BIDIzMDAgV2luZHNvciBTdHJlZXQsIFZhbmNvdXZlciwgQnJpdGlzaCBDb2x1bWJpYSBWNVQgMVYxLCBDYW5hZGE%3D%22%20style%3D%22position%3Aabsolute%3Bwidth%3A100%25%3Bheight%3A100%25%3Bleft%3A0%3Btop%3A0%3Bborder%3Anone%20%21important%3B%22%3E%3C/iframe%3E%3C/div%3E%3C/div%3E%60%29%5B0%5D%3B%0A%20%20%20%20%20%20%20%20%20%20%20%20popup_fba5b9f3c1504f97939d0d93f17aaa84.setContent%28i_frame_c8a8bfb1d9d7468f957b43d4bdc32c4f%29%3B%0A%20%20%20%20%20%20%20%20%0A%0A%20%20%20%20%20%20%20%20circle_marker_af157e70b7d1449cac7f35f71d47481b.bindPopup%28popup_fba5b9f3c1504f97939d0d93f17aaa84%29%0A%20%20%20%20%20%20%20%20%3B%0A%0A%20%20%20%20%20%20%20%20%0A%20%20%20%20%0A%20%20%20%20%0A%20%20%20%20%20%20%20%20%20%20%20%20var%20circle_marker_af88947730eb40769bfe50f294db2083%20%3D%20L.circleMarker%28%0A%20%20%20%20%20%20%20%20%20%20%20%20%20%20%20%20%5B49.260181%2C%20-123.098306%5D%2C%0A%20%20%20%20%20%20%20%20%20%20%20%20%20%20%20%20%7B%22bubblingMouseEvents%22%3A%20true%2C%20%22color%22%3A%20%22black%22%2C%20%22dashArray%22%3A%20null%2C%20%22dashOffset%22%3A%20null%2C%20%22fill%22%3A%20true%2C%20%22fillColor%22%3A%20%22%2327D941%22%2C%20%22fillOpacity%22%3A%200.75%2C%20%22fillRule%22%3A%20%22evenodd%22%2C%20%22lineCap%22%3A%20%22round%22%2C%20%22lineJoin%22%3A%20%22round%22%2C%20%22opacity%22%3A%201.0%2C%20%22radius%22%3A%2015%2C%20%22stroke%22%3A%20true%2C%20%22weight%22%3A%203%7D%0A%20%20%20%20%20%20%20%20%20%20%20%20%29.addTo%28map_4d6930e57bae45fdbd37fbd8516e5ad4%29%3B%0A%20%20%20%20%20%20%20%20%0A%20%20%20%20%0A%20%20%20%20%20%20%20%20var%20popup_6f7e9cb766074738bf496261211f1df0%20%3D%20L.popup%28%7B%22maxHeight%22%3A%20500%2C%20%22maxWidth%22%3A%20500%2C%20%22minHeight%22%3A%20100%2C%20%22minWidth%22%3A%20500%7D%29%3B%0A%0A%20%20%20%20%20%20%20%20%0A%20%20%20%20%20%20%20%20%20%20%20%20var%20i_frame_9dc3e0f0fe2e45109eaca36437ee3917%20%3D%20%24%28%60%3Cdiv%20style%3D%22width%3A100%25%3B%22%3E%3Cdiv%20style%3D%22position%3Arelative%3Bwidth%3A100%25%3Bheight%3A0%3Bpadding-bottom%3A60%25%3B%22%3E%3Ciframe%20src%3D%22data%3Atext/html%3Bcharset%3Dutf-8%3Bbase64%2CCiAgICAKICAgIDxiPlNwZWNpZXMgTmFtZTo8YnI%2BIFlVTEFOIE1BR05PTElBCiAgICA8Yj5EYXRlIFBsYW50ZWQ6PGJyPiAyMDAzLTAyLTE3CiAgICA8Yj5HZW9jb2RlIEF0dGVtcHQ6PGJyPiAyODAwIFNPUEhJQSBTVCwgVmFuY291dmVyLCBCQywgQ2FuYWRhCiAgICA8Yj5HZW9jb2RlIFJlc3VsdDo8YnI%2BIDI4MDAgU29waGlhIFN0cmVldCwgVmFuY291dmVyLCBCcml0aXNoIENvbHVtYmlhIFY1VCAySDIsIENhbmFkYQ%3D%3D%22%20style%3D%22position%3Aabsolute%3Bwidth%3A100%25%3Bheight%3A100%25%3Bleft%3A0%3Btop%3A0%3Bborder%3Anone%20%21important%3B%22%3E%3C/iframe%3E%3C/div%3E%3C/div%3E%60%29%5B0%5D%3B%0A%20%20%20%20%20%20%20%20%20%20%20%20popup_6f7e9cb766074738bf496261211f1df0.setContent%28i_frame_9dc3e0f0fe2e45109eaca36437ee3917%29%3B%0A%20%20%20%20%20%20%20%20%0A%0A%20%20%20%20%20%20%20%20circle_marker_af88947730eb40769bfe50f294db2083.bindPopup%28popup_6f7e9cb766074738bf496261211f1df0%29%0A%20%20%20%20%20%20%20%20%3B%0A%0A%20%20%20%20%20%20%20%20%0A%20%20%20%20%0A%20%20%20%20%0A%20%20%20%20%20%20%20%20%20%20%20%20var%20circle_marker_d302b8ebe20145fda80be9f270058695%20%3D%20L.circleMarker%28%0A%20%20%20%20%20%20%20%20%20%20%20%20%20%20%20%20%5B49.258347%2C%20-123.096392%5D%2C%0A%20%20%20%20%20%20%20%20%20%20%20%20%20%20%20%20%7B%22bubblingMouseEvents%22%3A%20true%2C%20%22color%22%3A%20%22black%22%2C%20%22dashArray%22%3A%20null%2C%20%22dashOffset%22%3A%20null%2C%20%22fill%22%3A%20true%2C%20%22fillColor%22%3A%20%22%23C65B97%22%2C%20%22fillOpacity%22%3A%200.75%2C%20%22fillRule%22%3A%20%22evenodd%22%2C%20%22lineCap%22%3A%20%22round%22%2C%20%22lineJoin%22%3A%20%22round%22%2C%20%22opacity%22%3A%201.0%2C%20%22radius%22%3A%2015%2C%20%22stroke%22%3A%20true%2C%20%22weight%22%3A%203%7D%0A%20%20%20%20%20%20%20%20%20%20%20%20%29.addTo%28map_4d6930e57bae45fdbd37fbd8516e5ad4%29%3B%0A%20%20%20%20%20%20%20%20%0A%20%20%20%20%0A%20%20%20%20%20%20%20%20var%20popup_4ccde6d5a724452183c477434f091471%20%3D%20L.popup%28%7B%22maxHeight%22%3A%20500%2C%20%22maxWidth%22%3A%20500%2C%20%22minHeight%22%3A%20100%2C%20%22minWidth%22%3A%20500%7D%29%3B%0A%0A%20%20%20%20%20%20%20%20%0A%20%20%20%20%20%20%20%20%20%20%20%20var%20i_frame_c77dba4be9ff4e6fb76fc769fbdc2ca3%20%3D%20%24%28%60%3Cdiv%20style%3D%22width%3A100%25%3B%22%3E%3Cdiv%20style%3D%22position%3Arelative%3Bwidth%3A100%25%3Bheight%3A0%3Bpadding-bottom%3A60%25%3B%22%3E%3Ciframe%20src%3D%22data%3Atext/html%3Bcharset%3Dutf-8%3Bbase64%2CCiAgICAKICAgIDxiPlNwZWNpZXMgTmFtZTo8YnI%2BIFBVUlBMRSBIQVpFIFBMVU0KICAgIDxiPkRhdGUgUGxhbnRlZDo8YnI%2BIDIwMTEtMDItMjUKICAgIDxiPkdlb2NvZGUgQXR0ZW1wdDo8YnI%2BIDEwMDAgRSAxNFRIIEFWLCBWYW5jb3V2ZXIsIEJDLCBDYW5hZGEKICAgIDxiPkdlb2NvZGUgUmVzdWx0Ojxicj4gMTAwMCBFYXN0IDE0dGggQXZlbnVlLCBWYW5jb3V2ZXIsIEJyaXRpc2ggQ29sdW1iaWEgVjVUIDNKOSwgQ2FuYWRh%22%20style%3D%22position%3Aabsolute%3Bwidth%3A100%25%3Bheight%3A100%25%3Bleft%3A0%3Btop%3A0%3Bborder%3Anone%20%21important%3B%22%3E%3C/iframe%3E%3C/div%3E%3C/div%3E%60%29%5B0%5D%3B%0A%20%20%20%20%20%20%20%20%20%20%20%20popup_4ccde6d5a724452183c477434f091471.setContent%28i_frame_c77dba4be9ff4e6fb76fc769fbdc2ca3%29%3B%0A%20%20%20%20%20%20%20%20%0A%0A%20%20%20%20%20%20%20%20circle_marker_d302b8ebe20145fda80be9f270058695.bindPopup%28popup_4ccde6d5a724452183c477434f091471%29%0A%20%20%20%20%20%20%20%20%3B%0A%0A%20%20%20%20%20%20%20%20%0A%20%20%20%20%0A%20%20%20%20%0A%20%20%20%20%20%20%20%20%20%20%20%20var%20circle_marker_a81dcdafd31341c6b191eeb07c03fd07%20%3D%20L.circleMarker%28%0A%20%20%20%20%20%20%20%20%20%20%20%20%20%20%20%20%5B49.257071%2C%20-123.087315%5D%2C%0A%20%20%20%20%20%20%20%20%20%20%20%20%20%20%20%20%7B%22bubblingMouseEvents%22%3A%20true%2C%20%22color%22%3A%20%22black%22%2C%20%22dashArray%22%3A%20null%2C%20%22dashOffset%22%3A%20null%2C%20%22fill%22%3A%20true%2C%20%22fillColor%22%3A%20%22%237B5654%22%2C%20%22fillOpacity%22%3A%200.75%2C%20%22fillRule%22%3A%20%22evenodd%22%2C%20%22lineCap%22%3A%20%22round%22%2C%20%22lineJoin%22%3A%20%22round%22%2C%20%22opacity%22%3A%201.0%2C%20%22radius%22%3A%2015%2C%20%22stroke%22%3A%20true%2C%20%22weight%22%3A%203%7D%0A%20%20%20%20%20%20%20%20%20%20%20%20%29.addTo%28map_4d6930e57bae45fdbd37fbd8516e5ad4%29%3B%0A%20%20%20%20%20%20%20%20%0A%20%20%20%20%0A%20%20%20%20%20%20%20%20var%20popup_5bc8af1384624581bdd835a73027ba3d%20%3D%20L.popup%28%7B%22maxHeight%22%3A%20500%2C%20%22maxWidth%22%3A%20500%2C%20%22minHeight%22%3A%20100%2C%20%22minWidth%22%3A%20500%7D%29%3B%0A%0A%20%20%20%20%20%20%20%20%0A%20%20%20%20%20%20%20%20%20%20%20%20var%20i_frame_660b4eab21a346c9b6af7c415aa3dc28%20%3D%20%24%28%60%3Cdiv%20style%3D%22width%3A100%25%3B%22%3E%3Cdiv%20style%3D%22position%3Arelative%3Bwidth%3A100%25%3Bheight%3A0%3Bpadding-bottom%3A60%25%3B%22%3E%3Ciframe%20src%3D%22data%3Atext/html%3Bcharset%3Dutf-8%3Bbase64%2CCiAgICAKICAgIDxiPlNwZWNpZXMgTmFtZTo8YnI%2BIENISU5FU0UgVFVMSVBUUkVFCiAgICA8Yj5EYXRlIFBsYW50ZWQ6PGJyPiAxOTk5LTA0LTIyCiAgICA8Yj5HZW9jb2RlIEF0dGVtcHQ6PGJyPiA4MDAgRSAxNVRIIEFWLCBWYW5jb3V2ZXIsIEJDLCBDYW5hZGEKICAgIDxiPkdlb2NvZGUgUmVzdWx0Ojxicj4gODAwIEVhc3QgMTV0aCBBdmVudWUsIFZhbmNvdXZlciwgQnJpdGlzaCBDb2x1bWJpYSBWNVQgMlI5LCBDYW5hZGE%3D%22%20style%3D%22position%3Aabsolute%3Bwidth%3A100%25%3Bheight%3A100%25%3Bleft%3A0%3Btop%3A0%3Bborder%3Anone%20%21important%3B%22%3E%3C/iframe%3E%3C/div%3E%3C/div%3E%60%29%5B0%5D%3B%0A%20%20%20%20%20%20%20%20%20%20%20%20popup_5bc8af1384624581bdd835a73027ba3d.setContent%28i_frame_660b4eab21a346c9b6af7c415aa3dc28%29%3B%0A%20%20%20%20%20%20%20%20%0A%0A%20%20%20%20%20%20%20%20circle_marker_a81dcdafd31341c6b191eeb07c03fd07.bindPopup%28popup_5bc8af1384624581bdd835a73027ba3d%29%0A%20%20%20%20%20%20%20%20%3B%0A%0A%20%20%20%20%20%20%20%20%0A%20%20%20%20%0A%20%20%20%20%0A%20%20%20%20%20%20%20%20%20%20%20%20var%20circle_marker_936e1a7305f2451bb6c89b4e1899af35%20%3D%20L.circleMarker%28%0A%20%20%20%20%20%20%20%20%20%20%20%20%20%20%20%20%5B49.256853%2C%20-123.113259%5D%2C%0A%20%20%20%20%20%20%20%20%20%20%20%20%20%20%20%20%7B%22bubblingMouseEvents%22%3A%20true%2C%20%22color%22%3A%20%22black%22%2C%20%22dashArray%22%3A%20null%2C%20%22dashOffset%22%3A%20null%2C%20%22fill%22%3A%20true%2C%20%22fillColor%22%3A%20%22%238BBF81%22%2C%20%22fillOpacity%22%3A%200.75%2C%20%22fillRule%22%3A%20%22evenodd%22%2C%20%22lineCap%22%3A%20%22round%22%2C%20%22lineJoin%22%3A%20%22round%22%2C%20%22opacity%22%3A%201.0%2C%20%22radius%22%3A%2015%2C%20%22stroke%22%3A%20true%2C%20%22weight%22%3A%203%7D%0A%20%20%20%20%20%20%20%20%20%20%20%20%29.addTo%28map_4d6930e57bae45fdbd37fbd8516e5ad4%29%3B%0A%20%20%20%20%20%20%20%20%0A%20%20%20%20%0A%20%20%20%20%20%20%20%20var%20popup_e9ff57ef84054ea885d38e4a3f4d9355%20%3D%20L.popup%28%7B%22maxHeight%22%3A%20500%2C%20%22maxWidth%22%3A%20500%2C%20%22minHeight%22%3A%20100%2C%20%22minWidth%22%3A%20500%7D%29%3B%0A%0A%20%20%20%20%20%20%20%20%0A%20%20%20%20%20%20%20%20%20%20%20%20var%20i_frame_5a91ce81bd2e4b0cb49f505b6e98fd82%20%3D%20%24%28%60%3Cdiv%20style%3D%22width%3A100%25%3B%22%3E%3Cdiv%20style%3D%22position%3Arelative%3Bwidth%3A100%25%3Bheight%3A0%3Bpadding-bottom%3A60%25%3B%22%3E%3Ciframe%20src%3D%22data%3Atext/html%3Bcharset%3Dutf-8%3Bbase64%2CCiAgICAKICAgIDxiPlNwZWNpZXMgTmFtZTo8YnI%2BIFRDSE9OT1NLSSBDUkFCQVBQTEUKICAgIDxiPkRhdGUgUGxhbnRlZDo8YnI%2BIDIwMDAtMDEtMDUKICAgIDxiPkdlb2NvZGUgQXR0ZW1wdDo8YnI%2BIDQwMCBXIDE2VEggQVYsIFZhbmNvdXZlciwgQkMsIENhbmFkYQogICAgPGI%2BR2VvY29kZSBSZXN1bHQ6PGJyPiA0MDAgV2VzdCAxNnRoIEF2ZW51ZSwgVmFuY291dmVyLCBCcml0aXNoIENvbHVtYmlhIFY1WSAzUjYsIENhbmFkYQ%3D%3D%22%20style%3D%22position%3Aabsolute%3Bwidth%3A100%25%3Bheight%3A100%25%3Bleft%3A0%3Btop%3A0%3Bborder%3Anone%20%21important%3B%22%3E%3C/iframe%3E%3C/div%3E%3C/div%3E%60%29%5B0%5D%3B%0A%20%20%20%20%20%20%20%20%20%20%20%20popup_e9ff57ef84054ea885d38e4a3f4d9355.setContent%28i_frame_5a91ce81bd2e4b0cb49f505b6e98fd82%29%3B%0A%20%20%20%20%20%20%20%20%0A%0A%20%20%20%20%20%20%20%20circle_marker_936e1a7305f2451bb6c89b4e1899af35.bindPopup%28popup_e9ff57ef84054ea885d38e4a3f4d9355%29%0A%20%20%20%20%20%20%20%20%3B%0A%0A%20%20%20%20%20%20%20%20%0A%20%20%20%20%0A%20%20%20%20%0A%20%20%20%20%20%20%20%20%20%20%20%20var%20circle_marker_4e9a094ec4fe48a684b7eec9103d9fdb%20%3D%20L.circleMarker%28%0A%20%20%20%20%20%20%20%20%20%20%20%20%20%20%20%20%5B49.256306%2C%20-123.081797%5D%2C%0A%20%20%20%20%20%20%20%20%20%20%20%20%20%20%20%20%7B%22bubblingMouseEvents%22%3A%20true%2C%20%22color%22%3A%20%22black%22%2C%20%22dashArray%22%3A%20null%2C%20%22dashOffset%22%3A%20null%2C%20%22fill%22%3A%20true%2C%20%22fillColor%22%3A%20%22%236FC6DD%22%2C%20%22fillOpacity%22%3A%200.75%2C%20%22fillRule%22%3A%20%22evenodd%22%2C%20%22lineCap%22%3A%20%22round%22%2C%20%22lineJoin%22%3A%20%22round%22%2C%20%22opacity%22%3A%201.0%2C%20%22radius%22%3A%2015%2C%20%22stroke%22%3A%20true%2C%20%22weight%22%3A%203%7D%0A%20%20%20%20%20%20%20%20%20%20%20%20%29.addTo%28map_4d6930e57bae45fdbd37fbd8516e5ad4%29%3B%0A%20%20%20%20%20%20%20%20%0A%20%20%20%20%0A%20%20%20%20%20%20%20%20var%20popup_e03128a0f5dd4b8981e9289e3db1b41f%20%3D%20L.popup%28%7B%22maxHeight%22%3A%20500%2C%20%22maxWidth%22%3A%20500%2C%20%22minHeight%22%3A%20100%2C%20%22minWidth%22%3A%20500%7D%29%3B%0A%0A%20%20%20%20%20%20%20%20%0A%20%20%20%20%20%20%20%20%20%20%20%20var%20i_frame_477e4939a3c04fe892e06ec772855a3f%20%3D%20%24%28%60%3Cdiv%20style%3D%22width%3A100%25%3B%22%3E%3Cdiv%20style%3D%22position%3Arelative%3Bwidth%3A100%25%3Bheight%3A0%3Bpadding-bottom%3A60%25%3B%22%3E%3Ciframe%20src%3D%22data%3Atext/html%3Bcharset%3Dutf-8%3Bbase64%2CCiAgICAKICAgIDxiPlNwZWNpZXMgTmFtZTo8YnI%2BIFJFRCBKQVBBTkVTRSBNQVBMRQogICAgPGI%2BRGF0ZSBQbGFudGVkOjxicj4gMjAwMi0wNC0xOAogICAgPGI%2BR2VvY29kZSBBdHRlbXB0Ojxicj4gMTAwMCBFIDE2VEggQVYsIFZhbmNvdXZlciwgQkMsIENhbmFkYQogICAgPGI%2BR2VvY29kZSBSZXN1bHQ6PGJyPiAxMDAwIEVhc3QgMTZ0aCBBdmVudWUsIFZhbmNvdXZlciwgQnJpdGlzaCBDb2x1bWJpYSBWNVYgNFMzLCBDYW5hZGE%3D%22%20style%3D%22position%3Aabsolute%3Bwidth%3A100%25%3Bheight%3A100%25%3Bleft%3A0%3Btop%3A0%3Bborder%3Anone%20%21important%3B%22%3E%3C/iframe%3E%3C/div%3E%3C/div%3E%60%29%5B0%5D%3B%0A%20%20%20%20%20%20%20%20%20%20%20%20popup_e03128a0f5dd4b8981e9289e3db1b41f.setContent%28i_frame_477e4939a3c04fe892e06ec772855a3f%29%3B%0A%20%20%20%20%20%20%20%20%0A%0A%20%20%20%20%20%20%20%20circle_marker_4e9a094ec4fe48a684b7eec9103d9fdb.bindPopup%28popup_e03128a0f5dd4b8981e9289e3db1b41f%29%0A%20%20%20%20%20%20%20%20%3B%0A%0A%20%20%20%20%20%20%20%20%0A%20%20%20%20%0A%20%20%20%20%0A%20%20%20%20%20%20%20%20%20%20%20%20var%20circle_marker_f7eb73519fa34db2bec214a4a892af79%20%3D%20L.circleMarker%28%0A%20%20%20%20%20%20%20%20%20%20%20%20%20%20%20%20%5B49.258456%2C%20-123.09838%5D%2C%0A%20%20%20%20%20%20%20%20%20%20%20%20%20%20%20%20%7B%22bubblingMouseEvents%22%3A%20true%2C%20%22color%22%3A%20%22black%22%2C%20%22dashArray%22%3A%20null%2C%20%22dashOffset%22%3A%20null%2C%20%22fill%22%3A%20true%2C%20%22fillColor%22%3A%20%22%23B1E9EB%22%2C%20%22fillOpacity%22%3A%200.75%2C%20%22fillRule%22%3A%20%22evenodd%22%2C%20%22lineCap%22%3A%20%22round%22%2C%20%22lineJoin%22%3A%20%22round%22%2C%20%22opacity%22%3A%201.0%2C%20%22radius%22%3A%2015%2C%20%22stroke%22%3A%20true%2C%20%22weight%22%3A%203%7D%0A%20%20%20%20%20%20%20%20%20%20%20%20%29.addTo%28map_4d6930e57bae45fdbd37fbd8516e5ad4%29%3B%0A%20%20%20%20%20%20%20%20%0A%20%20%20%20%0A%20%20%20%20%20%20%20%20var%20popup_41b7d0aa012a4812941b6e52aa987059%20%3D%20L.popup%28%7B%22maxHeight%22%3A%20500%2C%20%22maxWidth%22%3A%20500%2C%20%22minHeight%22%3A%20100%2C%20%22minWidth%22%3A%20500%7D%29%3B%0A%0A%20%20%20%20%20%20%20%20%0A%20%20%20%20%20%20%20%20%20%20%20%20var%20i_frame_212bc66fa72945168540e295d51eaf3b%20%3D%20%24%28%60%3Cdiv%20style%3D%22width%3A100%25%3B%22%3E%3Cdiv%20style%3D%22position%3Arelative%3Bwidth%3A100%25%3Bheight%3A0%3Bpadding-bottom%3A60%25%3B%22%3E%3Ciframe%20src%3D%22data%3Atext/html%3Bcharset%3Dutf-8%3Bbase64%2CCiAgICAKICAgIDxiPlNwZWNpZXMgTmFtZTo8YnI%2BIENISU5FU0UgS09VU0EgRE9HV09PRAogICAgPGI%2BRGF0ZSBQbGFudGVkOjxicj4gMTk5OS0xMi0yMQogICAgPGI%2BR2VvY29kZSBBdHRlbXB0Ojxicj4gMjkwMCBTT1BISUEgU1QsIFZhbmNvdXZlciwgQkMsIENhbmFkYQogICAgPGI%2BR2VvY29kZSBSZXN1bHQ6PGJyPiAyOTAwIFNvcGhpYSBTdHJlZXQsIFZhbmNvdXZlciwgQnJpdGlzaCBDb2x1bWJpYSBWNVQgMk03LCBDYW5hZGE%3D%22%20style%3D%22position%3Aabsolute%3Bwidth%3A100%25%3Bheight%3A100%25%3Bleft%3A0%3Btop%3A0%3Bborder%3Anone%20%21important%3B%22%3E%3C/iframe%3E%3C/div%3E%3C/div%3E%60%29%5B0%5D%3B%0A%20%20%20%20%20%20%20%20%20%20%20%20popup_41b7d0aa012a4812941b6e52aa987059.setContent%28i_frame_212bc66fa72945168540e295d51eaf3b%29%3B%0A%20%20%20%20%20%20%20%20%0A%0A%20%20%20%20%20%20%20%20circle_marker_f7eb73519fa34db2bec214a4a892af79.bindPopup%28popup_41b7d0aa012a4812941b6e52aa987059%29%0A%20%20%20%20%20%20%20%20%3B%0A%0A%20%20%20%20%20%20%20%20%0A%20%20%20%20%0A%20%20%20%20%0A%20%20%20%20%20%20%20%20%20%20%20%20var%20circle_marker_231ba1c4eeff4b4fa2b6e4cabaf80a8c%20%3D%20L.circleMarker%28%0A%20%20%20%20%20%20%20%20%20%20%20%20%20%20%20%20%5B49.254121%2C%20-123.048253%5D%2C%0A%20%20%20%20%20%20%20%20%20%20%20%20%20%20%20%20%7B%22bubblingMouseEvents%22%3A%20true%2C%20%22color%22%3A%20%22black%22%2C%20%22dashArray%22%3A%20null%2C%20%22dashOffset%22%3A%20null%2C%20%22fill%22%3A%20true%2C%20%22fillColor%22%3A%20%22%239812BF%22%2C%20%22fillOpacity%22%3A%200.75%2C%20%22fillRule%22%3A%20%22evenodd%22%2C%20%22lineCap%22%3A%20%22round%22%2C%20%22lineJoin%22%3A%20%22round%22%2C%20%22opacity%22%3A%201.0%2C%20%22radius%22%3A%2015%2C%20%22stroke%22%3A%20true%2C%20%22weight%22%3A%203%7D%0A%20%20%20%20%20%20%20%20%20%20%20%20%29.addTo%28map_4d6930e57bae45fdbd37fbd8516e5ad4%29%3B%0A%20%20%20%20%20%20%20%20%0A%20%20%20%20%0A%20%20%20%20%20%20%20%20var%20popup_8261d190a06a4fe5ac01e6ba72b6d7d2%20%3D%20L.popup%28%7B%22maxHeight%22%3A%20500%2C%20%22maxWidth%22%3A%20500%2C%20%22minHeight%22%3A%20100%2C%20%22minWidth%22%3A%20500%7D%29%3B%0A%0A%20%20%20%20%20%20%20%20%0A%20%20%20%20%20%20%20%20%20%20%20%20var%20i_frame_0f3daeee730b409b8fe4a08e0a2db244%20%3D%20%24%28%60%3Cdiv%20style%3D%22width%3A100%25%3B%22%3E%3Cdiv%20style%3D%22position%3Arelative%3Bwidth%3A100%25%3Bheight%3A0%3Bpadding-bottom%3A60%25%3B%22%3E%3Ciframe%20src%3D%22data%3Atext/html%3Bcharset%3Dutf-8%3Bbase64%2CCiAgICAKICAgIDxiPlNwZWNpZXMgTmFtZTo8YnI%2BIERXQVJGIEFMQkVSVEEgU1BSVUNFCiAgICA8Yj5EYXRlIFBsYW50ZWQ6PGJyPiBuYW4KICAgIDxiPkdlb2NvZGUgQXR0ZW1wdDo8YnI%2BIDMzMDAgV0lOTEFXIFBMQUNFLCBWYW5jb3V2ZXIsIEJDLCBDYW5hZGEKICAgIDxiPkdlb2NvZGUgUmVzdWx0Ojxicj4gMzMwMCBXaW5sYXcgUGxhY2UsIFZhbmNvdXZlciwgQnJpdGlzaCBDb2x1bWJpYSBWNU0gMlA5LCBDYW5hZGE%3D%22%20style%3D%22position%3Aabsolute%3Bwidth%3A100%25%3Bheight%3A100%25%3Bleft%3A0%3Btop%3A0%3Bborder%3Anone%20%21important%3B%22%3E%3C/iframe%3E%3C/div%3E%3C/div%3E%60%29%5B0%5D%3B%0A%20%20%20%20%20%20%20%20%20%20%20%20popup_8261d190a06a4fe5ac01e6ba72b6d7d2.setContent%28i_frame_0f3daeee730b409b8fe4a08e0a2db244%29%3B%0A%20%20%20%20%20%20%20%20%0A%0A%20%20%20%20%20%20%20%20circle_marker_231ba1c4eeff4b4fa2b6e4cabaf80a8c.bindPopup%28popup_8261d190a06a4fe5ac01e6ba72b6d7d2%29%0A%20%20%20%20%20%20%20%20%3B%0A%0A%20%20%20%20%20%20%20%20%0A%20%20%20%20%0A%20%20%20%20%0A%20%20%20%20%20%20%20%20%20%20%20%20var%20circle_marker_d220b621fc3f45e793019827228835ab%20%3D%20L.circleMarker%28%0A%20%20%20%20%20%20%20%20%20%20%20%20%20%20%20%20%5B49.257497%2C%20-123.100615%5D%2C%0A%20%20%20%20%20%20%20%20%20%20%20%20%20%20%20%20%7B%22bubblingMouseEvents%22%3A%20true%2C%20%22color%22%3A%20%22black%22%2C%20%22dashArray%22%3A%20null%2C%20%22dashOffset%22%3A%20null%2C%20%22fill%22%3A%20true%2C%20%22fillColor%22%3A%20%22%23FA5F29%22%2C%20%22fillOpacity%22%3A%200.75%2C%20%22fillRule%22%3A%20%22evenodd%22%2C%20%22lineCap%22%3A%20%22round%22%2C%20%22lineJoin%22%3A%20%22round%22%2C%20%22opacity%22%3A%201.0%2C%20%22radius%22%3A%2015%2C%20%22stroke%22%3A%20true%2C%20%22weight%22%3A%203%7D%0A%20%20%20%20%20%20%20%20%20%20%20%20%29.addTo%28map_4d6930e57bae45fdbd37fbd8516e5ad4%29%3B%0A%20%20%20%20%20%20%20%20%0A%20%20%20%20%0A%20%20%20%20%20%20%20%20var%20popup_b1a2d539194b4f8694de897175f5c525%20%3D%20L.popup%28%7B%22maxHeight%22%3A%20500%2C%20%22maxWidth%22%3A%20500%2C%20%22minHeight%22%3A%20100%2C%20%22minWidth%22%3A%20500%7D%29%3B%0A%0A%20%20%20%20%20%20%20%20%0A%20%20%20%20%20%20%20%20%20%20%20%20var%20i_frame_828084f72b1c4241948d03fcccbcb3aa%20%3D%20%24%28%60%3Cdiv%20style%3D%22width%3A100%25%3B%22%3E%3Cdiv%20style%3D%22position%3Arelative%3Bwidth%3A100%25%3Bheight%3A0%3Bpadding-bottom%3A60%25%3B%22%3E%3Ciframe%20src%3D%22data%3Atext/html%3Bcharset%3Dutf-8%3Bbase64%2CCiAgICAKICAgIDxiPlNwZWNpZXMgTmFtZTo8YnI%2BIFdISVRFIEJFQU0gTU9VTlRBSU4gQVNICiAgICA8Yj5EYXRlIFBsYW50ZWQ6PGJyPiBuYW4KICAgIDxiPkdlb2NvZGUgQXR0ZW1wdDo8YnI%2BIDIwMCBFIDE1VEggQVYsIFZhbmNvdXZlciwgQkMsIENhbmFkYQogICAgPGI%2BR2VvY29kZSBSZXN1bHQ6PGJyPiAyMDAgRWFzdCAxNXRoIEF2ZW51ZSwgVmFuY291dmVyLCBCcml0aXNoIENvbHVtYmlhIFY1VCAyUDksIENhbmFkYQ%3D%3D%22%20style%3D%22position%3Aabsolute%3Bwidth%3A100%25%3Bheight%3A100%25%3Bleft%3A0%3Btop%3A0%3Bborder%3Anone%20%21important%3B%22%3E%3C/iframe%3E%3C/div%3E%3C/div%3E%60%29%5B0%5D%3B%0A%20%20%20%20%20%20%20%20%20%20%20%20popup_b1a2d539194b4f8694de897175f5c525.setContent%28i_frame_828084f72b1c4241948d03fcccbcb3aa%29%3B%0A%20%20%20%20%20%20%20%20%0A%0A%20%20%20%20%20%20%20%20circle_marker_d220b621fc3f45e793019827228835ab.bindPopup%28popup_b1a2d539194b4f8694de897175f5c525%29%0A%20%20%20%20%20%20%20%20%3B%0A%0A%20%20%20%20%20%20%20%20%0A%20%20%20%20%0A%20%20%20%20%0A%20%20%20%20%20%20%20%20%20%20%20%20var%20circle_marker_9976a033f5bd4060aa1099821a58c634%20%3D%20L.circleMarker%28%0A%20%20%20%20%20%20%20%20%20%20%20%20%20%20%20%20%5B49.257497%2C%20-123.100615%5D%2C%0A%20%20%20%20%20%20%20%20%20%20%20%20%20%20%20%20%7B%22bubblingMouseEvents%22%3A%20true%2C%20%22color%22%3A%20%22black%22%2C%20%22dashArray%22%3A%20null%2C%20%22dashOffset%22%3A%20null%2C%20%22fill%22%3A%20true%2C%20%22fillColor%22%3A%20%22%23C87A03%22%2C%20%22fillOpacity%22%3A%200.75%2C%20%22fillRule%22%3A%20%22evenodd%22%2C%20%22lineCap%22%3A%20%22round%22%2C%20%22lineJoin%22%3A%20%22round%22%2C%20%22opacity%22%3A%201.0%2C%20%22radius%22%3A%2015%2C%20%22stroke%22%3A%20true%2C%20%22weight%22%3A%203%7D%0A%20%20%20%20%20%20%20%20%20%20%20%20%29.addTo%28map_4d6930e57bae45fdbd37fbd8516e5ad4%29%3B%0A%20%20%20%20%20%20%20%20%0A%20%20%20%20%0A%20%20%20%20%20%20%20%20var%20popup_241430fe49754b09b59553bb9f88facd%20%3D%20L.popup%28%7B%22maxHeight%22%3A%20500%2C%20%22maxWidth%22%3A%20500%2C%20%22minHeight%22%3A%20100%2C%20%22minWidth%22%3A%20500%7D%29%3B%0A%0A%20%20%20%20%20%20%20%20%0A%20%20%20%20%20%20%20%20%20%20%20%20var%20i_frame_99e73d3c33d5403e98f89cbaf39eb1e8%20%3D%20%24%28%60%3Cdiv%20style%3D%22width%3A100%25%3B%22%3E%3Cdiv%20style%3D%22position%3Arelative%3Bwidth%3A100%25%3Bheight%3A0%3Bpadding-bottom%3A60%25%3B%22%3E%3Ciframe%20src%3D%22data%3Atext/html%3Bcharset%3Dutf-8%3Bbase64%2CCiAgICAKICAgIDxiPlNwZWNpZXMgTmFtZTo8YnI%2BIERBV1NPTidTIE1BR05PTElBCiAgICA8Yj5EYXRlIFBsYW50ZWQ6PGJyPiBuYW4KICAgIDxiPkdlb2NvZGUgQXR0ZW1wdDo8YnI%2BIDIwMCBFIDE1VEggQVYsIFZhbmNvdXZlciwgQkMsIENhbmFkYQogICAgPGI%2BR2VvY29kZSBSZXN1bHQ6PGJyPiAyMDAgRWFzdCAxNXRoIEF2ZW51ZSwgVmFuY291dmVyLCBCcml0aXNoIENvbHVtYmlhIFY1VCAyUDksIENhbmFkYQ%3D%3D%22%20style%3D%22position%3Aabsolute%3Bwidth%3A100%25%3Bheight%3A100%25%3Bleft%3A0%3Btop%3A0%3Bborder%3Anone%20%21important%3B%22%3E%3C/iframe%3E%3C/div%3E%3C/div%3E%60%29%5B0%5D%3B%0A%20%20%20%20%20%20%20%20%20%20%20%20popup_241430fe49754b09b59553bb9f88facd.setContent%28i_frame_99e73d3c33d5403e98f89cbaf39eb1e8%29%3B%0A%20%20%20%20%20%20%20%20%0A%0A%20%20%20%20%20%20%20%20circle_marker_9976a033f5bd4060aa1099821a58c634.bindPopup%28popup_241430fe49754b09b59553bb9f88facd%29%0A%20%20%20%20%20%20%20%20%3B%0A%0A%20%20%20%20%20%20%20%20%0A%20%20%20%20%0A%20%20%20%20%0A%20%20%20%20%20%20%20%20%20%20%20%20var%20circle_marker_7429131569d547b88aea7e8413adb8d3%20%3D%20L.circleMarker%28%0A%20%20%20%20%20%20%20%20%20%20%20%20%20%20%20%20%5B49.257497%2C%20-123.100615%5D%2C%0A%20%20%20%20%20%20%20%20%20%20%20%20%20%20%20%20%7B%22bubblingMouseEvents%22%3A%20true%2C%20%22color%22%3A%20%22black%22%2C%20%22dashArray%22%3A%20null%2C%20%22dashOffset%22%3A%20null%2C%20%22fill%22%3A%20true%2C%20%22fillColor%22%3A%20%22%2333FF16%22%2C%20%22fillOpacity%22%3A%200.75%2C%20%22fillRule%22%3A%20%22evenodd%22%2C%20%22lineCap%22%3A%20%22round%22%2C%20%22lineJoin%22%3A%20%22round%22%2C%20%22opacity%22%3A%201.0%2C%20%22radius%22%3A%2015%2C%20%22stroke%22%3A%20true%2C%20%22weight%22%3A%203%7D%0A%20%20%20%20%20%20%20%20%20%20%20%20%29.addTo%28map_4d6930e57bae45fdbd37fbd8516e5ad4%29%3B%0A%20%20%20%20%20%20%20%20%0A%20%20%20%20%0A%20%20%20%20%20%20%20%20var%20popup_5a317e2abe404f23b6f8550d41abfc6b%20%3D%20L.popup%28%7B%22maxHeight%22%3A%20500%2C%20%22maxWidth%22%3A%20500%2C%20%22minHeight%22%3A%20100%2C%20%22minWidth%22%3A%20500%7D%29%3B%0A%0A%20%20%20%20%20%20%20%20%0A%20%20%20%20%20%20%20%20%20%20%20%20var%20i_frame_46180375a7064369bb57877428231cdc%20%3D%20%24%28%60%3Cdiv%20style%3D%22width%3A100%25%3B%22%3E%3Cdiv%20style%3D%22position%3Arelative%3Bwidth%3A100%25%3Bheight%3A0%3Bpadding-bottom%3A60%25%3B%22%3E%3Ciframe%20src%3D%22data%3Atext/html%3Bcharset%3Dutf-8%3Bbase64%2CCiAgICAKICAgIDxiPlNwZWNpZXMgTmFtZTo8YnI%2BIENPUktTQ1JFVyBXSUxMT1cKICAgIDxiPkRhdGUgUGxhbnRlZDo8YnI%2BIG5hbgogICAgPGI%2BR2VvY29kZSBBdHRlbXB0Ojxicj4gMjAwIEUgMTVUSCBBViwgVmFuY291dmVyLCBCQywgQ2FuYWRhCiAgICA8Yj5HZW9jb2RlIFJlc3VsdDo8YnI%2BIDIwMCBFYXN0IDE1dGggQXZlbnVlLCBWYW5jb3V2ZXIsIEJyaXRpc2ggQ29sdW1iaWEgVjVUIDJQOSwgQ2FuYWRh%22%20style%3D%22position%3Aabsolute%3Bwidth%3A100%25%3Bheight%3A100%25%3Bleft%3A0%3Btop%3A0%3Bborder%3Anone%20%21important%3B%22%3E%3C/iframe%3E%3C/div%3E%3C/div%3E%60%29%5B0%5D%3B%0A%20%20%20%20%20%20%20%20%20%20%20%20popup_5a317e2abe404f23b6f8550d41abfc6b.setContent%28i_frame_46180375a7064369bb57877428231cdc%29%3B%0A%20%20%20%20%20%20%20%20%0A%0A%20%20%20%20%20%20%20%20circle_marker_7429131569d547b88aea7e8413adb8d3.bindPopup%28popup_5a317e2abe404f23b6f8550d41abfc6b%29%0A%20%20%20%20%20%20%20%20%3B%0A%0A%20%20%20%20%20%20%20%20%0A%20%20%20%20%0A%20%20%20%20%0A%20%20%20%20%20%20%20%20%20%20%20%20var%20circle_marker_3c473ea5813f4661a04c27eef5692b30%20%3D%20L.circleMarker%28%0A%20%20%20%20%20%20%20%20%20%20%20%20%20%20%20%20%5B49.259622%2C%20-123.087241%5D%2C%0A%20%20%20%20%20%20%20%20%20%20%20%20%20%20%20%20%7B%22bubblingMouseEvents%22%3A%20true%2C%20%22color%22%3A%20%22black%22%2C%20%22dashArray%22%3A%20null%2C%20%22dashOffset%22%3A%20null%2C%20%22fill%22%3A%20true%2C%20%22fillColor%22%3A%20%22%23BC129D%22%2C%20%22fillOpacity%22%3A%200.75%2C%20%22fillRule%22%3A%20%22evenodd%22%2C%20%22lineCap%22%3A%20%22round%22%2C%20%22lineJoin%22%3A%20%22round%22%2C%20%22opacity%22%3A%201.0%2C%20%22radius%22%3A%2015%2C%20%22stroke%22%3A%20true%2C%20%22weight%22%3A%203%7D%0A%20%20%20%20%20%20%20%20%20%20%20%20%29.addTo%28map_4d6930e57bae45fdbd37fbd8516e5ad4%29%3B%0A%20%20%20%20%20%20%20%20%0A%20%20%20%20%0A%20%20%20%20%20%20%20%20var%20popup_cd16364ba7764dfd89284572217bacfb%20%3D%20L.popup%28%7B%22maxHeight%22%3A%20500%2C%20%22maxWidth%22%3A%20500%2C%20%22minHeight%22%3A%20100%2C%20%22minWidth%22%3A%20500%7D%29%3B%0A%0A%20%20%20%20%20%20%20%20%0A%20%20%20%20%20%20%20%20%20%20%20%20var%20i_frame_f1d48f659b2b476aa19e96e4e3dd93dc%20%3D%20%24%28%60%3Cdiv%20style%3D%22width%3A100%25%3B%22%3E%3Cdiv%20style%3D%22position%3Arelative%3Bwidth%3A100%25%3Bheight%3A0%3Bpadding-bottom%3A60%25%3B%22%3E%3Ciframe%20src%3D%22data%3Atext/html%3Bcharset%3Dutf-8%3Bbase64%2CCiAgICAKICAgIDxiPlNwZWNpZXMgTmFtZTo8YnI%2BIFNQRUNLTEVEIEFMREVSCiAgICA8Yj5EYXRlIFBsYW50ZWQ6PGJyPiBuYW4KICAgIDxiPkdlb2NvZGUgQXR0ZW1wdDo8YnI%2BIDI4MDAgUFJJTkNFIEFMQkVSVCBTVCwgVmFuY291dmVyLCBCQywgQ2FuYWRhCiAgICA8Yj5HZW9jb2RlIFJlc3VsdDo8YnI%2BIDI4MDAgUHJpbmNlIEFsYmVydCBTdHJlZXQsIFZhbmNvdXZlciwgQnJpdGlzaCBDb2x1bWJpYSBWNVQgMkg5LCBDYW5hZGE%3D%22%20style%3D%22position%3Aabsolute%3Bwidth%3A100%25%3Bheight%3A100%25%3Bleft%3A0%3Btop%3A0%3Bborder%3Anone%20%21important%3B%22%3E%3C/iframe%3E%3C/div%3E%3C/div%3E%60%29%5B0%5D%3B%0A%20%20%20%20%20%20%20%20%20%20%20%20popup_cd16364ba7764dfd89284572217bacfb.setContent%28i_frame_f1d48f659b2b476aa19e96e4e3dd93dc%29%3B%0A%20%20%20%20%20%20%20%20%0A%0A%20%20%20%20%20%20%20%20circle_marker_3c473ea5813f4661a04c27eef5692b30.bindPopup%28popup_cd16364ba7764dfd89284572217bacfb%29%0A%20%20%20%20%20%20%20%20%3B%0A%0A%20%20%20%20%20%20%20%20%0A%20%20%20%20%0A%20%20%20%20%0A%20%20%20%20%20%20%20%20%20%20%20%20var%20circle_marker_9528c310ec39473982086f5221776386%20%3D%20L.circleMarker%28%0A%20%20%20%20%20%20%20%20%20%20%20%20%20%20%20%20%5B49.267502%2C%20-123.106644%5D%2C%0A%20%20%20%20%20%20%20%20%20%20%20%20%20%20%20%20%7B%22bubblingMouseEvents%22%3A%20true%2C%20%22color%22%3A%20%22black%22%2C%20%22dashArray%22%3A%20null%2C%20%22dashOffset%22%3A%20null%2C%20%22fill%22%3A%20true%2C%20%22fillColor%22%3A%20%22%23E76B4C%22%2C%20%22fillOpacity%22%3A%200.75%2C%20%22fillRule%22%3A%20%22evenodd%22%2C%20%22lineCap%22%3A%20%22round%22%2C%20%22lineJoin%22%3A%20%22round%22%2C%20%22opacity%22%3A%201.0%2C%20%22radius%22%3A%2015%2C%20%22stroke%22%3A%20true%2C%20%22weight%22%3A%203%7D%0A%20%20%20%20%20%20%20%20%20%20%20%20%29.addTo%28map_4d6930e57bae45fdbd37fbd8516e5ad4%29%3B%0A%20%20%20%20%20%20%20%20%0A%20%20%20%20%0A%20%20%20%20%20%20%20%20var%20popup_b6f6b223aca743bdb755deef2484e2a0%20%3D%20L.popup%28%7B%22maxHeight%22%3A%20500%2C%20%22maxWidth%22%3A%20500%2C%20%22minHeight%22%3A%20100%2C%20%22minWidth%22%3A%20500%7D%29%3B%0A%0A%20%20%20%20%20%20%20%20%0A%20%20%20%20%20%20%20%20%20%20%20%20var%20i_frame_370f3800ae95482ba506f2e597cfc0c6%20%3D%20%24%28%60%3Cdiv%20style%3D%22width%3A100%25%3B%22%3E%3Cdiv%20style%3D%22position%3Arelative%3Bwidth%3A100%25%3Bheight%3A0%3Bpadding-bottom%3A60%25%3B%22%3E%3Ciframe%20src%3D%22data%3Atext/html%3Bcharset%3Dutf-8%3Bbase64%2CCiAgICAKICAgIDxiPlNwZWNpZXMgTmFtZTo8YnI%2BIEVWRUxZTiBIRURHRSBNQVBMRQogICAgPGI%2BRGF0ZSBQbGFudGVkOjxicj4gbmFuCiAgICA8Yj5HZW9jb2RlIEF0dGVtcHQ6PGJyPiAxOTAwIE1BTklUT0JBIFNULCBWYW5jb3V2ZXIsIEJDLCBDYW5hZGEKICAgIDxiPkdlb2NvZGUgUmVzdWx0Ojxicj4gMTkwMCBNYW5pdG9iYSBTdHJlZXQsIFZhbmNvdXZlciwgQnJpdGlzaCBDb2x1bWJpYSBWNVkgMUcyLCBDYW5hZGE%3D%22%20style%3D%22position%3Aabsolute%3Bwidth%3A100%25%3Bheight%3A100%25%3Bleft%3A0%3Btop%3A0%3Bborder%3Anone%20%21important%3B%22%3E%3C/iframe%3E%3C/div%3E%3C/div%3E%60%29%5B0%5D%3B%0A%20%20%20%20%20%20%20%20%20%20%20%20popup_b6f6b223aca743bdb755deef2484e2a0.setContent%28i_frame_370f3800ae95482ba506f2e597cfc0c6%29%3B%0A%20%20%20%20%20%20%20%20%0A%0A%20%20%20%20%20%20%20%20circle_marker_9528c310ec39473982086f5221776386.bindPopup%28popup_b6f6b223aca743bdb755deef2484e2a0%29%0A%20%20%20%20%20%20%20%20%3B%0A%0A%20%20%20%20%20%20%20%20%0A%20%20%20%20%0A%20%20%20%20%0A%20%20%20%20%20%20%20%20%20%20%20%20var%20circle_marker_67177a4a9691492aa15b5f19b6f79062%20%3D%20L.circleMarker%28%0A%20%20%20%20%20%20%20%20%20%20%20%20%20%20%20%20%5B49.266473%2C%20-123.104641%5D%2C%0A%20%20%20%20%20%20%20%20%20%20%20%20%20%20%20%20%7B%22bubblingMouseEvents%22%3A%20true%2C%20%22color%22%3A%20%22black%22%2C%20%22dashArray%22%3A%20null%2C%20%22dashOffset%22%3A%20null%2C%20%22fill%22%3A%20true%2C%20%22fillColor%22%3A%20%22%2337BE9A%22%2C%20%22fillOpacity%22%3A%200.75%2C%20%22fillRule%22%3A%20%22evenodd%22%2C%20%22lineCap%22%3A%20%22round%22%2C%20%22lineJoin%22%3A%20%22round%22%2C%20%22opacity%22%3A%201.0%2C%20%22radius%22%3A%2015%2C%20%22stroke%22%3A%20true%2C%20%22weight%22%3A%203%7D%0A%20%20%20%20%20%20%20%20%20%20%20%20%29.addTo%28map_4d6930e57bae45fdbd37fbd8516e5ad4%29%3B%0A%20%20%20%20%20%20%20%20%0A%20%20%20%20%0A%20%20%20%20%20%20%20%20var%20popup_8b0f7d00a7e84ba0b50d112fc3da868d%20%3D%20L.popup%28%7B%22maxHeight%22%3A%20500%2C%20%22maxWidth%22%3A%20500%2C%20%22minHeight%22%3A%20100%2C%20%22minWidth%22%3A%20500%7D%29%3B%0A%0A%20%20%20%20%20%20%20%20%0A%20%20%20%20%20%20%20%20%20%20%20%20var%20i_frame_9f5e8355cbe741a99e509217e2fb9747%20%3D%20%24%28%60%3Cdiv%20style%3D%22width%3A100%25%3B%22%3E%3Cdiv%20style%3D%22position%3Arelative%3Bwidth%3A100%25%3Bheight%3A0%3Bpadding-bottom%3A60%25%3B%22%3E%3Ciframe%20src%3D%22data%3Atext/html%3Bcharset%3Dutf-8%3Bbase64%2CCiAgICAKICAgIDxiPlNwZWNpZXMgTmFtZTo8YnI%2BIEZFUk5MRUFGIEJFRUNICiAgICA8Yj5EYXRlIFBsYW50ZWQ6PGJyPiBuYW4KICAgIDxiPkdlb2NvZGUgQXR0ZW1wdDo8YnI%2BIDAgRSA1VEggQVYsIFZhbmNvdXZlciwgQkMsIENhbmFkYQogICAgPGI%2BR2VvY29kZSBSZXN1bHQ6PGJyPiAwIEVhc3QgNXRoIEF2ZW51ZSwgVmFuY291dmVyLCBCcml0aXNoIENvbHVtYmlhIFY1VCAxRzgsIENhbmFkYQ%3D%3D%22%20style%3D%22position%3Aabsolute%3Bwidth%3A100%25%3Bheight%3A100%25%3Bleft%3A0%3Btop%3A0%3Bborder%3Anone%20%21important%3B%22%3E%3C/iframe%3E%3C/div%3E%3C/div%3E%60%29%5B0%5D%3B%0A%20%20%20%20%20%20%20%20%20%20%20%20popup_8b0f7d00a7e84ba0b50d112fc3da868d.setContent%28i_frame_9f5e8355cbe741a99e509217e2fb9747%29%3B%0A%20%20%20%20%20%20%20%20%0A%0A%20%20%20%20%20%20%20%20circle_marker_67177a4a9691492aa15b5f19b6f79062.bindPopup%28popup_8b0f7d00a7e84ba0b50d112fc3da868d%29%0A%20%20%20%20%20%20%20%20%3B%0A%0A%20%20%20%20%20%20%20%20%0A%20%20%20%20%0A%20%20%20%20%0A%20%20%20%20%20%20%20%20%20%20%20%20var%20circle_marker_84f8d319a89241038f284518b8545612%20%3D%20L.circleMarker%28%0A%20%20%20%20%20%20%20%20%20%20%20%20%20%20%20%20%5B49.263465%2C%20-123.094776%5D%2C%0A%20%20%20%20%20%20%20%20%20%20%20%20%20%20%20%20%7B%22bubblingMouseEvents%22%3A%20true%2C%20%22color%22%3A%20%22black%22%2C%20%22dashArray%22%3A%20null%2C%20%22dashOffset%22%3A%20null%2C%20%22fill%22%3A%20true%2C%20%22fillColor%22%3A%20%22%232F8853%22%2C%20%22fillOpacity%22%3A%200.75%2C%20%22fillRule%22%3A%20%22evenodd%22%2C%20%22lineCap%22%3A%20%22round%22%2C%20%22lineJoin%22%3A%20%22round%22%2C%20%22opacity%22%3A%201.0%2C%20%22radius%22%3A%2015%2C%20%22stroke%22%3A%20true%2C%20%22weight%22%3A%203%7D%0A%20%20%20%20%20%20%20%20%20%20%20%20%29.addTo%28map_4d6930e57bae45fdbd37fbd8516e5ad4%29%3B%0A%20%20%20%20%20%20%20%20%0A%20%20%20%20%0A%20%20%20%20%20%20%20%20var%20popup_7b464e9d22d34bf5b01fe694fea7d2bb%20%3D%20L.popup%28%7B%22maxHeight%22%3A%20500%2C%20%22maxWidth%22%3A%20500%2C%20%22minHeight%22%3A%20100%2C%20%22minWidth%22%3A%20500%7D%29%3B%0A%0A%20%20%20%20%20%20%20%20%0A%20%20%20%20%20%20%20%20%20%20%20%20var%20i_frame_447067d9027246a9a7bde4d5285ed518%20%3D%20%24%28%60%3Cdiv%20style%3D%22width%3A100%25%3B%22%3E%3Cdiv%20style%3D%22position%3Arelative%3Bwidth%3A100%25%3Bheight%3A0%3Bpadding-bottom%3A60%25%3B%22%3E%3Ciframe%20src%3D%22data%3Atext/html%3Bcharset%3Dutf-8%3Bbase64%2CCiAgICAKICAgIDxiPlNwZWNpZXMgTmFtZTo8YnI%2BIFBBVE1PUkUgQVNICiAgICA8Yj5EYXRlIFBsYW50ZWQ6PGJyPiAyMDAwLTAxLTI3CiAgICA8Yj5HZW9jb2RlIEF0dGVtcHQ6PGJyPiAyNDAwIEdVRUxQSCBTVCwgVmFuY291dmVyLCBCQywgQ2FuYWRhCiAgICA8Yj5HZW9jb2RlIFJlc3VsdDo8YnI%2BIDI0MDAgR3VlbHBoIFN0cmVldCwgVmFuY291dmVyLCBCcml0aXNoIENvbHVtYmlhIFY1VDNQMywgQ2FuYWRh%22%20style%3D%22position%3Aabsolute%3Bwidth%3A100%25%3Bheight%3A100%25%3Bleft%3A0%3Btop%3A0%3Bborder%3Anone%20%21important%3B%22%3E%3C/iframe%3E%3C/div%3E%3C/div%3E%60%29%5B0%5D%3B%0A%20%20%20%20%20%20%20%20%20%20%20%20popup_7b464e9d22d34bf5b01fe694fea7d2bb.setContent%28i_frame_447067d9027246a9a7bde4d5285ed518%29%3B%0A%20%20%20%20%20%20%20%20%0A%0A%20%20%20%20%20%20%20%20circle_marker_84f8d319a89241038f284518b8545612.bindPopup%28popup_7b464e9d22d34bf5b01fe694fea7d2bb%29%0A%20%20%20%20%20%20%20%20%3B%0A%0A%20%20%20%20%20%20%20%20%0A%20%20%20%20%0A%20%20%20%20%0A%20%20%20%20%20%20%20%20%20%20%20%20var%20circle_marker_93f3d183a27f4eaa90e4647f8456c39c%20%3D%20L.circleMarker%28%0A%20%20%20%20%20%20%20%20%20%20%20%20%20%20%20%20%5B49.262405%2C%20-123.079734%5D%2C%0A%20%20%20%20%20%20%20%20%20%20%20%20%20%20%20%20%7B%22bubblingMouseEvents%22%3A%20true%2C%20%22color%22%3A%20%22black%22%2C%20%22dashArray%22%3A%20null%2C%20%22dashOffset%22%3A%20null%2C%20%22fill%22%3A%20true%2C%20%22fillColor%22%3A%20%22%239EB5CA%22%2C%20%22fillOpacity%22%3A%200.75%2C%20%22fillRule%22%3A%20%22evenodd%22%2C%20%22lineCap%22%3A%20%22round%22%2C%20%22lineJoin%22%3A%20%22round%22%2C%20%22opacity%22%3A%201.0%2C%20%22radius%22%3A%2015%2C%20%22stroke%22%3A%20true%2C%20%22weight%22%3A%203%7D%0A%20%20%20%20%20%20%20%20%20%20%20%20%29.addTo%28map_4d6930e57bae45fdbd37fbd8516e5ad4%29%3B%0A%20%20%20%20%20%20%20%20%0A%20%20%20%20%0A%20%20%20%20%20%20%20%20var%20popup_665150a220a24e0d98ac3e93a726d28a%20%3D%20L.popup%28%7B%22maxHeight%22%3A%20500%2C%20%22maxWidth%22%3A%20500%2C%20%22minHeight%22%3A%20100%2C%20%22minWidth%22%3A%20500%7D%29%3B%0A%0A%20%20%20%20%20%20%20%20%0A%20%20%20%20%20%20%20%20%20%20%20%20var%20i_frame_beac2fa1d013413db842816d543d3c09%20%3D%20%24%28%60%3Cdiv%20style%3D%22width%3A100%25%3B%22%3E%3Cdiv%20style%3D%22position%3Arelative%3Bwidth%3A100%25%3Bheight%3A0%3Bpadding-bottom%3A60%25%3B%22%3E%3Ciframe%20src%3D%22data%3Atext/html%3Bcharset%3Dutf-8%3Bbase64%2CCiAgICAKICAgIDxiPlNwZWNpZXMgTmFtZTo8YnI%2BIEFSQk9SVklUQUUgU1BFQ0lFUwogICAgPGI%2BRGF0ZSBQbGFudGVkOjxicj4gbmFuCiAgICA8Yj5HZW9jb2RlIEF0dGVtcHQ6PGJyPiAxMjAwIEUgQlJPQURXQVksIFZhbmNvdXZlciwgQkMsIENhbmFkYQogICAgPGI%2BR2VvY29kZSBSZXN1bHQ6PGJyPiAxMjAwIEVhc3QgQnJvYWR3YXksIFZhbmNvdXZlciwgQnJpdGlzaCBDb2x1bWJpYSBWNVQgMVk3LCBDYW5hZGE%3D%22%20style%3D%22position%3Aabsolute%3Bwidth%3A100%25%3Bheight%3A100%25%3Bleft%3A0%3Btop%3A0%3Bborder%3Anone%20%21important%3B%22%3E%3C/iframe%3E%3C/div%3E%3C/div%3E%60%29%5B0%5D%3B%0A%20%20%20%20%20%20%20%20%20%20%20%20popup_665150a220a24e0d98ac3e93a726d28a.setContent%28i_frame_beac2fa1d013413db842816d543d3c09%29%3B%0A%20%20%20%20%20%20%20%20%0A%0A%20%20%20%20%20%20%20%20circle_marker_93f3d183a27f4eaa90e4647f8456c39c.bindPopup%28popup_665150a220a24e0d98ac3e93a726d28a%29%0A%20%20%20%20%20%20%20%20%3B%0A%0A%20%20%20%20%20%20%20%20%0A%20%20%20%20%0A%20%20%20%20%0A%20%20%20%20%20%20%20%20%20%20%20%20var%20circle_marker_202c634672ee4b4f8bb8901fa8fe3705%20%3D%20L.circleMarker%28%0A%20%20%20%20%20%20%20%20%20%20%20%20%20%20%20%20%5B49.271483%2C%20-123.10937%5D%2C%0A%20%20%20%20%20%20%20%20%20%20%20%20%20%20%20%20%7B%22bubblingMouseEvents%22%3A%20true%2C%20%22color%22%3A%20%22black%22%2C%20%22dashArray%22%3A%20null%2C%20%22dashOffset%22%3A%20null%2C%20%22fill%22%3A%20true%2C%20%22fillColor%22%3A%20%22%23A7A06D%22%2C%20%22fillOpacity%22%3A%200.75%2C%20%22fillRule%22%3A%20%22evenodd%22%2C%20%22lineCap%22%3A%20%22round%22%2C%20%22lineJoin%22%3A%20%22round%22%2C%20%22opacity%22%3A%201.0%2C%20%22radius%22%3A%2015%2C%20%22stroke%22%3A%20true%2C%20%22weight%22%3A%203%7D%0A%20%20%20%20%20%20%20%20%20%20%20%20%29.addTo%28map_4d6930e57bae45fdbd37fbd8516e5ad4%29%3B%0A%20%20%20%20%20%20%20%20%0A%20%20%20%20%0A%20%20%20%20%20%20%20%20var%20popup_8438e351126e4d04b8879a77dd44bf2c%20%3D%20L.popup%28%7B%22maxHeight%22%3A%20500%2C%20%22maxWidth%22%3A%20500%2C%20%22minHeight%22%3A%20100%2C%20%22minWidth%22%3A%20500%7D%29%3B%0A%0A%20%20%20%20%20%20%20%20%0A%20%20%20%20%20%20%20%20%20%20%20%20var%20i_frame_e9922fb41c6746ac86c11f987142e664%20%3D%20%24%28%60%3Cdiv%20style%3D%22width%3A100%25%3B%22%3E%3Cdiv%20style%3D%22position%3Arelative%3Bwidth%3A100%25%3Bheight%3A0%3Bpadding-bottom%3A60%25%3B%22%3E%3Ciframe%20src%3D%22data%3Atext/html%3Bcharset%3Dutf-8%3Bbase64%2CCiAgICAKICAgIDxiPlNwZWNpZXMgTmFtZTo8YnI%2BIEVVUk9QRUFOIEJMQUNLIEFMREVSCiAgICA8Yj5EYXRlIFBsYW50ZWQ6PGJyPiAyMDA5LTEyLTE2CiAgICA8Yj5HZW9jb2RlIEF0dGVtcHQ6PGJyPiAxNjAwIENPTFVNQklBIFNULCBWYW5jb3V2ZXIsIEJDLCBDYW5hZGEKICAgIDxiPkdlb2NvZGUgUmVzdWx0Ojxicj4gMTYwMCBDb2x1bWJpYSBTdHJlZXQsIFZhbmNvdXZlciwgQnJpdGlzaCBDb2x1bWJpYSBWNVkgMEI2LCBDYW5hZGE%3D%22%20style%3D%22position%3Aabsolute%3Bwidth%3A100%25%3Bheight%3A100%25%3Bleft%3A0%3Btop%3A0%3Bborder%3Anone%20%21important%3B%22%3E%3C/iframe%3E%3C/div%3E%3C/div%3E%60%29%5B0%5D%3B%0A%20%20%20%20%20%20%20%20%20%20%20%20popup_8438e351126e4d04b8879a77dd44bf2c.setContent%28i_frame_e9922fb41c6746ac86c11f987142e664%29%3B%0A%20%20%20%20%20%20%20%20%0A%0A%20%20%20%20%20%20%20%20circle_marker_202c634672ee4b4f8bb8901fa8fe3705.bindPopup%28popup_8438e351126e4d04b8879a77dd44bf2c%29%0A%20%20%20%20%20%20%20%20%3B%0A%0A%20%20%20%20%20%20%20%20%0A%20%20%20%20%0A%20%20%20%20%0A%20%20%20%20%20%20%20%20%20%20%20%20var%20circle_marker_fffaab2bba02458d8a91e3cdea8b6fa8%20%3D%20L.circleMarker%28%0A%20%20%20%20%20%20%20%20%20%20%20%20%20%20%20%20%5B49.259687%2C%20-123.085287%5D%2C%0A%20%20%20%20%20%20%20%20%20%20%20%20%20%20%20%20%7B%22bubblingMouseEvents%22%3A%20true%2C%20%22color%22%3A%20%22black%22%2C%20%22dashArray%22%3A%20null%2C%20%22dashOffset%22%3A%20null%2C%20%22fill%22%3A%20true%2C%20%22fillColor%22%3A%20%22%2345E661%22%2C%20%22fillOpacity%22%3A%200.75%2C%20%22fillRule%22%3A%20%22evenodd%22%2C%20%22lineCap%22%3A%20%22round%22%2C%20%22lineJoin%22%3A%20%22round%22%2C%20%22opacity%22%3A%201.0%2C%20%22radius%22%3A%2015%2C%20%22stroke%22%3A%20true%2C%20%22weight%22%3A%203%7D%0A%20%20%20%20%20%20%20%20%20%20%20%20%29.addTo%28map_4d6930e57bae45fdbd37fbd8516e5ad4%29%3B%0A%20%20%20%20%20%20%20%20%0A%20%20%20%20%0A%20%20%20%20%20%20%20%20var%20popup_07351107463643e4b99cec08705d34b3%20%3D%20L.popup%28%7B%22maxHeight%22%3A%20500%2C%20%22maxWidth%22%3A%20500%2C%20%22minHeight%22%3A%20100%2C%20%22minWidth%22%3A%20500%7D%29%3B%0A%0A%20%20%20%20%20%20%20%20%0A%20%20%20%20%20%20%20%20%20%20%20%20var%20i_frame_c59da399169c4e85bdf987407d04e3c1%20%3D%20%24%28%60%3Cdiv%20style%3D%22width%3A100%25%3B%22%3E%3Cdiv%20style%3D%22position%3Arelative%3Bwidth%3A100%25%3Bheight%3A0%3Bpadding-bottom%3A60%25%3B%22%3E%3Ciframe%20src%3D%22data%3Atext/html%3Bcharset%3Dutf-8%3Bbase64%2CCiAgICAKICAgIDxiPlNwZWNpZXMgTmFtZTo8YnI%2BIFNOT1cgR09PU0UgQ0hFUlJZCiAgICA8Yj5EYXRlIFBsYW50ZWQ6PGJyPiAyMDEwLTAzLTA5CiAgICA8Yj5HZW9jb2RlIEF0dGVtcHQ6PGJyPiAyODAwIFNULiBDQVRIRVJJTkVTIFNULCBWYW5jb3V2ZXIsIEJDLCBDYW5hZGEKICAgIDxiPkdlb2NvZGUgUmVzdWx0Ojxicj4gMjgwMCBTYWludCBDYXRoZXJpbmVzIFN0cmVldCwgVmFuY291dmVyLCBCcml0aXNoIENvbHVtYmlhIFY1VCAySjQsIENhbmFkYQ%3D%3D%22%20style%3D%22position%3Aabsolute%3Bwidth%3A100%25%3Bheight%3A100%25%3Bleft%3A0%3Btop%3A0%3Bborder%3Anone%20%21important%3B%22%3E%3C/iframe%3E%3C/div%3E%3C/div%3E%60%29%5B0%5D%3B%0A%20%20%20%20%20%20%20%20%20%20%20%20popup_07351107463643e4b99cec08705d34b3.setContent%28i_frame_c59da399169c4e85bdf987407d04e3c1%29%3B%0A%20%20%20%20%20%20%20%20%0A%0A%20%20%20%20%20%20%20%20circle_marker_fffaab2bba02458d8a91e3cdea8b6fa8.bindPopup%28popup_07351107463643e4b99cec08705d34b3%29%0A%20%20%20%20%20%20%20%20%3B%0A%0A%20%20%20%20%20%20%20%20%0A%20%20%20%20%0A%20%20%20%20%0A%20%20%20%20%20%20%20%20%20%20%20%20var%20circle_marker_c51aea6b184544089c69012ceb636d7e%20%3D%20L.circleMarker%28%0A%20%20%20%20%20%20%20%20%20%20%20%20%20%20%20%20%5B49.260278%2C%20-123.105036%5D%2C%0A%20%20%20%20%20%20%20%20%20%20%20%20%20%20%20%20%7B%22bubblingMouseEvents%22%3A%20true%2C%20%22color%22%3A%20%22black%22%2C%20%22dashArray%22%3A%20null%2C%20%22dashOffset%22%3A%20null%2C%20%22fill%22%3A%20true%2C%20%22fillColor%22%3A%20%22%23C9B529%22%2C%20%22fillOpacity%22%3A%200.75%2C%20%22fillRule%22%3A%20%22evenodd%22%2C%20%22lineCap%22%3A%20%22round%22%2C%20%22lineJoin%22%3A%20%22round%22%2C%20%22opacity%22%3A%201.0%2C%20%22radius%22%3A%2015%2C%20%22stroke%22%3A%20true%2C%20%22weight%22%3A%203%7D%0A%20%20%20%20%20%20%20%20%20%20%20%20%29.addTo%28map_4d6930e57bae45fdbd37fbd8516e5ad4%29%3B%0A%20%20%20%20%20%20%20%20%0A%20%20%20%20%0A%20%20%20%20%20%20%20%20var%20popup_a67afb89786542c1aa86cfedd7d9d456%20%3D%20L.popup%28%7B%22maxHeight%22%3A%20500%2C%20%22maxWidth%22%3A%20500%2C%20%22minHeight%22%3A%20100%2C%20%22minWidth%22%3A%20500%7D%29%3B%0A%0A%20%20%20%20%20%20%20%20%0A%20%20%20%20%20%20%20%20%20%20%20%20var%20i_frame_9a9a97127a9943f08458ebd0b56bd056%20%3D%20%24%28%60%3Cdiv%20style%3D%22width%3A100%25%3B%22%3E%3Cdiv%20style%3D%22position%3Arelative%3Bwidth%3A100%25%3Bheight%3A0%3Bpadding-bottom%3A60%25%3B%22%3E%3Ciframe%20src%3D%22data%3Atext/html%3Bcharset%3Dutf-8%3Bbase64%2CCiAgICAKICAgIDxiPlNwZWNpZXMgTmFtZTo8YnI%2BIEZSQU5aIEZPTlRBSU5FIEhPUk5CRUFNCiAgICA8Yj5EYXRlIFBsYW50ZWQ6PGJyPiAyMDE3LTAyLTI3CiAgICA8Yj5HZW9jb2RlIEF0dGVtcHQ6PGJyPiAyODAwIE9OVEFSSU8gU1QsIFZhbmNvdXZlciwgQkMsIENhbmFkYQogICAgPGI%2BR2VvY29kZSBSZXN1bHQ6PGJyPiAyODAwIE9udGFyaW8gU3RyZWV0LCBWYW5jb3V2ZXIsIEJyaXRpc2ggQ29sdW1iaWEgVjVUIDJZMiwgQ2FuYWRh%22%20style%3D%22position%3Aabsolute%3Bwidth%3A100%25%3Bheight%3A100%25%3Bleft%3A0%3Btop%3A0%3Bborder%3Anone%20%21important%3B%22%3E%3C/iframe%3E%3C/div%3E%3C/div%3E%60%29%5B0%5D%3B%0A%20%20%20%20%20%20%20%20%20%20%20%20popup_a67afb89786542c1aa86cfedd7d9d456.setContent%28i_frame_9a9a97127a9943f08458ebd0b56bd056%29%3B%0A%20%20%20%20%20%20%20%20%0A%0A%20%20%20%20%20%20%20%20circle_marker_c51aea6b184544089c69012ceb636d7e.bindPopup%28popup_a67afb89786542c1aa86cfedd7d9d456%29%0A%20%20%20%20%20%20%20%20%3B%0A%0A%20%20%20%20%20%20%20%20%0A%20%20%20%20%0A%20%20%20%20%0A%20%20%20%20%20%20%20%20%20%20%20%20var%20circle_marker_b1321c3ab7d64f1794120c4f74894413%20%3D%20L.circleMarker%28%0A%20%20%20%20%20%20%20%20%20%20%20%20%20%20%20%20%5B49.257401%2C%20-123.104876%5D%2C%0A%20%20%20%20%20%20%20%20%20%20%20%20%20%20%20%20%7B%22bubblingMouseEvents%22%3A%20true%2C%20%22color%22%3A%20%22black%22%2C%20%22dashArray%22%3A%20null%2C%20%22dashOffset%22%3A%20null%2C%20%22fill%22%3A%20true%2C%20%22fillColor%22%3A%20%22%23A52DC1%22%2C%20%22fillOpacity%22%3A%200.75%2C%20%22fillRule%22%3A%20%22evenodd%22%2C%20%22lineCap%22%3A%20%22round%22%2C%20%22lineJoin%22%3A%20%22round%22%2C%20%22opacity%22%3A%201.0%2C%20%22radius%22%3A%2015%2C%20%22stroke%22%3A%20true%2C%20%22weight%22%3A%203%7D%0A%20%20%20%20%20%20%20%20%20%20%20%20%29.addTo%28map_4d6930e57bae45fdbd37fbd8516e5ad4%29%3B%0A%20%20%20%20%20%20%20%20%0A%20%20%20%20%0A%20%20%20%20%20%20%20%20var%20popup_343c4b6270c64078be4123653bc0ee30%20%3D%20L.popup%28%7B%22maxHeight%22%3A%20500%2C%20%22maxWidth%22%3A%20500%2C%20%22minHeight%22%3A%20100%2C%20%22minWidth%22%3A%20500%7D%29%3B%0A%0A%20%20%20%20%20%20%20%20%0A%20%20%20%20%20%20%20%20%20%20%20%20var%20i_frame_c2f73c3a1f574c83be3a10f74c4242d8%20%3D%20%24%28%60%3Cdiv%20style%3D%22width%3A100%25%3B%22%3E%3Cdiv%20style%3D%22position%3Arelative%3Bwidth%3A100%25%3Bheight%3A0%3Bpadding-bottom%3A60%25%3B%22%3E%3Ciframe%20src%3D%22data%3Atext/html%3Bcharset%3Dutf-8%3Bbase64%2CCiAgICAKICAgIDxiPlNwZWNpZXMgTmFtZTo8YnI%2BIE1PTktFWSBQVVpaTEUgVFJFRQogICAgPGI%2BRGF0ZSBQbGFudGVkOjxicj4gbmFuCiAgICA8Yj5HZW9jb2RlIEF0dGVtcHQ6PGJyPiAzMTAwIE9OVEFSSU8gU1QsIFZhbmNvdXZlciwgQkMsIENhbmFkYQogICAgPGI%2BR2VvY29kZSBSZXN1bHQ6PGJyPiAzMTAwIE9udGFyaW8gU3RyZWV0LCBWYW5jb3V2ZXIsIEJyaXRpc2ggQ29sdW1iaWEgVjVUIDJZOSwgQ2FuYWRh%22%20style%3D%22position%3Aabsolute%3Bwidth%3A100%25%3Bheight%3A100%25%3Bleft%3A0%3Btop%3A0%3Bborder%3Anone%20%21important%3B%22%3E%3C/iframe%3E%3C/div%3E%3C/div%3E%60%29%5B0%5D%3B%0A%20%20%20%20%20%20%20%20%20%20%20%20popup_343c4b6270c64078be4123653bc0ee30.setContent%28i_frame_c2f73c3a1f574c83be3a10f74c4242d8%29%3B%0A%20%20%20%20%20%20%20%20%0A%0A%20%20%20%20%20%20%20%20circle_marker_b1321c3ab7d64f1794120c4f74894413.bindPopup%28popup_343c4b6270c64078be4123653bc0ee30%29%0A%20%20%20%20%20%20%20%20%3B%0A%0A%20%20%20%20%20%20%20%20%0A%20%20%20%20%0A%20%20%20%20%0A%20%20%20%20%20%20%20%20%20%20%20%20var%20circle_marker_d454082295274bda9ff49d07690493cb%20%3D%20L.circleMarker%28%0A%20%20%20%20%20%20%20%20%20%20%20%20%20%20%20%20%5B49.257401%2C%20-123.104876%5D%2C%0A%20%20%20%20%20%20%20%20%20%20%20%20%20%20%20%20%7B%22bubblingMouseEvents%22%3A%20true%2C%20%22color%22%3A%20%22black%22%2C%20%22dashArray%22%3A%20null%2C%20%22dashOffset%22%3A%20null%2C%20%22fill%22%3A%20true%2C%20%22fillColor%22%3A%20%22%23780558%22%2C%20%22fillOpacity%22%3A%200.75%2C%20%22fillRule%22%3A%20%22evenodd%22%2C%20%22lineCap%22%3A%20%22round%22%2C%20%22lineJoin%22%3A%20%22round%22%2C%20%22opacity%22%3A%201.0%2C%20%22radius%22%3A%2015%2C%20%22stroke%22%3A%20true%2C%20%22weight%22%3A%203%7D%0A%20%20%20%20%20%20%20%20%20%20%20%20%29.addTo%28map_4d6930e57bae45fdbd37fbd8516e5ad4%29%3B%0A%20%20%20%20%20%20%20%20%0A%20%20%20%20%0A%20%20%20%20%20%20%20%20var%20popup_d7c81af0996f4debb40455c72b2bd320%20%3D%20L.popup%28%7B%22maxHeight%22%3A%20500%2C%20%22maxWidth%22%3A%20500%2C%20%22minHeight%22%3A%20100%2C%20%22minWidth%22%3A%20500%7D%29%3B%0A%0A%20%20%20%20%20%20%20%20%0A%20%20%20%20%20%20%20%20%20%20%20%20var%20i_frame_81c4b58526f7418c816fc679edd84b5a%20%3D%20%24%28%60%3Cdiv%20style%3D%22width%3A100%25%3B%22%3E%3Cdiv%20style%3D%22position%3Arelative%3Bwidth%3A100%25%3Bheight%3A0%3Bpadding-bottom%3A60%25%3B%22%3E%3Ciframe%20src%3D%22data%3Atext/html%3Bcharset%3Dutf-8%3Bbase64%2CCiAgICAKICAgIDxiPlNwZWNpZXMgTmFtZTo8YnI%2BIFNDT1VMRVInUyBXSUxMT1cKICAgIDxiPkRhdGUgUGxhbnRlZDo8YnI%2BIG5hbgogICAgPGI%2BR2VvY29kZSBBdHRlbXB0Ojxicj4gMzEwMCBPTlRBUklPIFNULCBWYW5jb3V2ZXIsIEJDLCBDYW5hZGEKICAgIDxiPkdlb2NvZGUgUmVzdWx0Ojxicj4gMzEwMCBPbnRhcmlvIFN0cmVldCwgVmFuY291dmVyLCBCcml0aXNoIENvbHVtYmlhIFY1VCAyWTksIENhbmFkYQ%3D%3D%22%20style%3D%22position%3Aabsolute%3Bwidth%3A100%25%3Bheight%3A100%25%3Bleft%3A0%3Btop%3A0%3Bborder%3Anone%20%21important%3B%22%3E%3C/iframe%3E%3C/div%3E%3C/div%3E%60%29%5B0%5D%3B%0A%20%20%20%20%20%20%20%20%20%20%20%20popup_d7c81af0996f4debb40455c72b2bd320.setContent%28i_frame_81c4b58526f7418c816fc679edd84b5a%29%3B%0A%20%20%20%20%20%20%20%20%0A%0A%20%20%20%20%20%20%20%20circle_marker_d454082295274bda9ff49d07690493cb.bindPopup%28popup_d7c81af0996f4debb40455c72b2bd320%29%0A%20%20%20%20%20%20%20%20%3B%0A%0A%20%20%20%20%20%20%20%20%0A%20%20%20%20%0A%20%20%20%20%0A%20%20%20%20%20%20%20%20%20%20%20%20var%20circle_marker_ab1dcdd1388d4129a717b603c2f0be5b%20%3D%20L.circleMarker%28%0A%20%20%20%20%20%20%20%20%20%20%20%20%20%20%20%20%5B49.258376%2C%20-123.09429%5D%2C%0A%20%20%20%20%20%20%20%20%20%20%20%20%20%20%20%20%7B%22bubblingMouseEvents%22%3A%20true%2C%20%22color%22%3A%20%22black%22%2C%20%22dashArray%22%3A%20null%2C%20%22dashOffset%22%3A%20null%2C%20%22fill%22%3A%20true%2C%20%22fillColor%22%3A%20%22%2371E010%22%2C%20%22fillOpacity%22%3A%200.75%2C%20%22fillRule%22%3A%20%22evenodd%22%2C%20%22lineCap%22%3A%20%22round%22%2C%20%22lineJoin%22%3A%20%22round%22%2C%20%22opacity%22%3A%201.0%2C%20%22radius%22%3A%2015%2C%20%22stroke%22%3A%20true%2C%20%22weight%22%3A%203%7D%0A%20%20%20%20%20%20%20%20%20%20%20%20%29.addTo%28map_4d6930e57bae45fdbd37fbd8516e5ad4%29%3B%0A%20%20%20%20%20%20%20%20%0A%20%20%20%20%0A%20%20%20%20%20%20%20%20var%20popup_1e75ca5ff7314541aa2c8133f96172b3%20%3D%20L.popup%28%7B%22maxHeight%22%3A%20500%2C%20%22maxWidth%22%3A%20500%2C%20%22minHeight%22%3A%20100%2C%20%22minWidth%22%3A%20500%7D%29%3B%0A%0A%20%20%20%20%20%20%20%20%0A%20%20%20%20%20%20%20%20%20%20%20%20var%20i_frame_6fa4f81dbf6640ca98581b8a2ac43c08%20%3D%20%24%28%60%3Cdiv%20style%3D%22width%3A100%25%3B%22%3E%3Cdiv%20style%3D%22position%3Arelative%3Bwidth%3A100%25%3Bheight%3A0%3Bpadding-bottom%3A60%25%3B%22%3E%3Ciframe%20src%3D%22data%3Atext/html%3Bcharset%3Dutf-8%3Bbase64%2CCiAgICAKICAgIDxiPlNwZWNpZXMgTmFtZTo8YnI%2BIFNJVEtBIFNQUlVDRQogICAgPGI%2BRGF0ZSBQbGFudGVkOjxicj4gbmFuCiAgICA8Yj5HZW9jb2RlIEF0dGVtcHQ6PGJyPiA1MDAgS0lOR1NXQVksIFZhbmNvdXZlciwgQkMsIENhbmFkYQogICAgPGI%2BR2VvY29kZSBSZXN1bHQ6PGJyPiA1MDAgS2luZ3N3YXksIFZhbmNvdXZlciwgQnJpdGlzaCBDb2x1bWJpYSBWNVQgM0o5LCBDYW5hZGE%3D%22%20style%3D%22position%3Aabsolute%3Bwidth%3A100%25%3Bheight%3A100%25%3Bleft%3A0%3Btop%3A0%3Bborder%3Anone%20%21important%3B%22%3E%3C/iframe%3E%3C/div%3E%3C/div%3E%60%29%5B0%5D%3B%0A%20%20%20%20%20%20%20%20%20%20%20%20popup_1e75ca5ff7314541aa2c8133f96172b3.setContent%28i_frame_6fa4f81dbf6640ca98581b8a2ac43c08%29%3B%0A%20%20%20%20%20%20%20%20%0A%0A%20%20%20%20%20%20%20%20circle_marker_ab1dcdd1388d4129a717b603c2f0be5b.bindPopup%28popup_1e75ca5ff7314541aa2c8133f96172b3%29%0A%20%20%20%20%20%20%20%20%3B%0A%0A%20%20%20%20%20%20%20%20%0A%20%20%20%20%0A%20%20%20%20%0A%20%20%20%20%20%20%20%20%20%20%20%20var%20circle_marker_6db1ea37a83f44d892da7c2f40e460b9%20%3D%20L.circleMarker%28%0A%20%20%20%20%20%20%20%20%20%20%20%20%20%20%20%20%5B49.264238%2C%20-123.077484%5D%2C%0A%20%20%20%20%20%20%20%20%20%20%20%20%20%20%20%20%7B%22bubblingMouseEvents%22%3A%20true%2C%20%22color%22%3A%20%22black%22%2C%20%22dashArray%22%3A%20null%2C%20%22dashOffset%22%3A%20null%2C%20%22fill%22%3A%20true%2C%20%22fillColor%22%3A%20%22%23385921%22%2C%20%22fillOpacity%22%3A%200.75%2C%20%22fillRule%22%3A%20%22evenodd%22%2C%20%22lineCap%22%3A%20%22round%22%2C%20%22lineJoin%22%3A%20%22round%22%2C%20%22opacity%22%3A%201.0%2C%20%22radius%22%3A%2015%2C%20%22stroke%22%3A%20true%2C%20%22weight%22%3A%203%7D%0A%20%20%20%20%20%20%20%20%20%20%20%20%29.addTo%28map_4d6930e57bae45fdbd37fbd8516e5ad4%29%3B%0A%20%20%20%20%20%20%20%20%0A%20%20%20%20%0A%20%20%20%20%20%20%20%20var%20popup_99edc319092649569562b972c4211769%20%3D%20L.popup%28%7B%22maxHeight%22%3A%20500%2C%20%22maxWidth%22%3A%20500%2C%20%22minHeight%22%3A%20100%2C%20%22minWidth%22%3A%20500%7D%29%3B%0A%0A%20%20%20%20%20%20%20%20%0A%20%20%20%20%20%20%20%20%20%20%20%20var%20i_frame_7e55ec167c0a40beb98d3782f6e9b89e%20%3D%20%24%28%60%3Cdiv%20style%3D%22width%3A100%25%3B%22%3E%3Cdiv%20style%3D%22position%3Arelative%3Bwidth%3A100%25%3Bheight%3A0%3Bpadding-bottom%3A60%25%3B%22%3E%3Ciframe%20src%3D%22data%3Atext/html%3Bcharset%3Dutf-8%3Bbase64%2CCiAgICAKICAgIDxiPlNwZWNpZXMgTmFtZTo8YnI%2BIFJFRFBPSU5URSBNQVBMRSBGUkFOSyBKUgogICAgPGI%2BRGF0ZSBQbGFudGVkOjxicj4gbmFuCiAgICA8Yj5HZW9jb2RlIEF0dGVtcHQ6PGJyPiAyMzAwIENMQVJLIERSSVZFLCBWYW5jb3V2ZXIsIEJDLCBDYW5hZGEKICAgIDxiPkdlb2NvZGUgUmVzdWx0Ojxicj4gMjMwMCBDbGFyayBEcml2ZSwgVmFuY291dmVyLCBCcml0aXNoIENvbHVtYmlhIFY1TiAzRzgsIENhbmFkYQ%3D%3D%22%20style%3D%22position%3Aabsolute%3Bwidth%3A100%25%3Bheight%3A100%25%3Bleft%3A0%3Btop%3A0%3Bborder%3Anone%20%21important%3B%22%3E%3C/iframe%3E%3C/div%3E%3C/div%3E%60%29%5B0%5D%3B%0A%20%20%20%20%20%20%20%20%20%20%20%20popup_99edc319092649569562b972c4211769.setContent%28i_frame_7e55ec167c0a40beb98d3782f6e9b89e%29%3B%0A%20%20%20%20%20%20%20%20%0A%0A%20%20%20%20%20%20%20%20circle_marker_6db1ea37a83f44d892da7c2f40e460b9.bindPopup%28popup_99edc319092649569562b972c4211769%29%0A%20%20%20%20%20%20%20%20%3B%0A%0A%20%20%20%20%20%20%20%20%0A%20%20%20%20%0A%20%20%20%20%0A%20%20%20%20%20%20%20%20%20%20%20%20var%20circle_marker_66d175f59ca242358e49042df5457c73%20%3D%20L.circleMarker%28%0A%20%20%20%20%20%20%20%20%20%20%20%20%20%20%20%20%5B49.257497%2C%20-123.100615%5D%2C%0A%20%20%20%20%20%20%20%20%20%20%20%20%20%20%20%20%7B%22bubblingMouseEvents%22%3A%20true%2C%20%22color%22%3A%20%22black%22%2C%20%22dashArray%22%3A%20null%2C%20%22dashOffset%22%3A%20null%2C%20%22fill%22%3A%20true%2C%20%22fillColor%22%3A%20%22%236B280C%22%2C%20%22fillOpacity%22%3A%200.75%2C%20%22fillRule%22%3A%20%22evenodd%22%2C%20%22lineCap%22%3A%20%22round%22%2C%20%22lineJoin%22%3A%20%22round%22%2C%20%22opacity%22%3A%201.0%2C%20%22radius%22%3A%2015%2C%20%22stroke%22%3A%20true%2C%20%22weight%22%3A%203%7D%0A%20%20%20%20%20%20%20%20%20%20%20%20%29.addTo%28map_4d6930e57bae45fdbd37fbd8516e5ad4%29%3B%0A%20%20%20%20%20%20%20%20%0A%20%20%20%20%0A%20%20%20%20%20%20%20%20var%20popup_d05f0a0f401248ec8b16da048206058b%20%3D%20L.popup%28%7B%22maxHeight%22%3A%20500%2C%20%22maxWidth%22%3A%20500%2C%20%22minHeight%22%3A%20100%2C%20%22minWidth%22%3A%20500%7D%29%3B%0A%0A%20%20%20%20%20%20%20%20%0A%20%20%20%20%20%20%20%20%20%20%20%20var%20i_frame_3c821f1ffc0b41b1949af98d09a34327%20%3D%20%24%28%60%3Cdiv%20style%3D%22width%3A100%25%3B%22%3E%3Cdiv%20style%3D%22position%3Arelative%3Bwidth%3A100%25%3Bheight%3A0%3Bpadding-bottom%3A60%25%3B%22%3E%3Ciframe%20src%3D%22data%3Atext/html%3Bcharset%3Dutf-8%3Bbase64%2CCiAgICAKICAgIDxiPlNwZWNpZXMgTmFtZTo8YnI%2BIEhBUkRZIFJVQkJFUiBUUkVFCiAgICA8Yj5EYXRlIFBsYW50ZWQ6PGJyPiBuYW4KICAgIDxiPkdlb2NvZGUgQXR0ZW1wdDo8YnI%2BIDIwMCBFIDE1VEggQVYsIFZhbmNvdXZlciwgQkMsIENhbmFkYQogICAgPGI%2BR2VvY29kZSBSZXN1bHQ6PGJyPiAyMDAgRWFzdCAxNXRoIEF2ZW51ZSwgVmFuY291dmVyLCBCcml0aXNoIENvbHVtYmlhIFY1VCAyUDksIENhbmFkYQ%3D%3D%22%20style%3D%22position%3Aabsolute%3Bwidth%3A100%25%3Bheight%3A100%25%3Bleft%3A0%3Btop%3A0%3Bborder%3Anone%20%21important%3B%22%3E%3C/iframe%3E%3C/div%3E%3C/div%3E%60%29%5B0%5D%3B%0A%20%20%20%20%20%20%20%20%20%20%20%20popup_d05f0a0f401248ec8b16da048206058b.setContent%28i_frame_3c821f1ffc0b41b1949af98d09a34327%29%3B%0A%20%20%20%20%20%20%20%20%0A%0A%20%20%20%20%20%20%20%20circle_marker_66d175f59ca242358e49042df5457c73.bindPopup%28popup_d05f0a0f401248ec8b16da048206058b%29%0A%20%20%20%20%20%20%20%20%3B%0A%0A%20%20%20%20%20%20%20%20%0A%20%20%20%20%0A%20%20%20%20%0A%20%20%20%20%20%20%20%20%20%20%20%20var%20circle_marker_77d2bef1108748039f72ebdca0fd0af3%20%3D%20L.circleMarker%28%0A%20%20%20%20%20%20%20%20%20%20%20%20%20%20%20%20%5B49.265952%2C%20-123.095683%5D%2C%0A%20%20%20%20%20%20%20%20%20%20%20%20%20%20%20%20%7B%22bubblingMouseEvents%22%3A%20true%2C%20%22color%22%3A%20%22black%22%2C%20%22dashArray%22%3A%20null%2C%20%22dashOffset%22%3A%20null%2C%20%22fill%22%3A%20true%2C%20%22fillColor%22%3A%20%22%23216288%22%2C%20%22fillOpacity%22%3A%200.75%2C%20%22fillRule%22%3A%20%22evenodd%22%2C%20%22lineCap%22%3A%20%22round%22%2C%20%22lineJoin%22%3A%20%22round%22%2C%20%22opacity%22%3A%201.0%2C%20%22radius%22%3A%2015%2C%20%22stroke%22%3A%20true%2C%20%22weight%22%3A%203%7D%0A%20%20%20%20%20%20%20%20%20%20%20%20%29.addTo%28map_4d6930e57bae45fdbd37fbd8516e5ad4%29%3B%0A%20%20%20%20%20%20%20%20%0A%20%20%20%20%0A%20%20%20%20%20%20%20%20var%20popup_ffa9c803318542fcb0a625383002c72f%20%3D%20L.popup%28%7B%22maxHeight%22%3A%20500%2C%20%22maxWidth%22%3A%20500%2C%20%22minHeight%22%3A%20100%2C%20%22minWidth%22%3A%20500%7D%29%3B%0A%0A%20%20%20%20%20%20%20%20%0A%20%20%20%20%20%20%20%20%20%20%20%20var%20i_frame_79416bddfeb2431184b6b95adbbd65f7%20%3D%20%24%28%60%3Cdiv%20style%3D%22width%3A100%25%3B%22%3E%3Cdiv%20style%3D%22position%3Arelative%3Bwidth%3A100%25%3Bheight%3A0%3Bpadding-bottom%3A60%25%3B%22%3E%3Ciframe%20src%3D%22data%3Atext/html%3Bcharset%3Dutf-8%3Bbase64%2CCiAgICAKICAgIDxiPlNwZWNpZXMgTmFtZTo8YnI%2BIENFREFSIFNQRUNJRVMKICAgIDxiPkRhdGUgUGxhbnRlZDo8YnI%2BIG5hbgogICAgPGI%2BR2VvY29kZSBBdHRlbXB0Ojxicj4gMjEwMCBQUklOQ0UgRURXQVJEIFNULCBWYW5jb3V2ZXIsIEJDLCBDYW5hZGEKICAgIDxiPkdlb2NvZGUgUmVzdWx0Ojxicj4gMjEwMCBQcmluY2UgRWR3YXJkIFN0cmVldCwgVmFuY291dmVyLCBCcml0aXNoIENvbHVtYmlhIFY1VCAxSDcsIENhbmFkYQ%3D%3D%22%20style%3D%22position%3Aabsolute%3Bwidth%3A100%25%3Bheight%3A100%25%3Bleft%3A0%3Btop%3A0%3Bborder%3Anone%20%21important%3B%22%3E%3C/iframe%3E%3C/div%3E%3C/div%3E%60%29%5B0%5D%3B%0A%20%20%20%20%20%20%20%20%20%20%20%20popup_ffa9c803318542fcb0a625383002c72f.setContent%28i_frame_79416bddfeb2431184b6b95adbbd65f7%29%3B%0A%20%20%20%20%20%20%20%20%0A%0A%20%20%20%20%20%20%20%20circle_marker_77d2bef1108748039f72ebdca0fd0af3.bindPopup%28popup_ffa9c803318542fcb0a625383002c72f%29%0A%20%20%20%20%20%20%20%20%3B%0A%0A%20%20%20%20%20%20%20%20%0A%20%20%20%20%0A%20%20%20%20%0A%20%20%20%20%20%20%20%20%20%20%20%20var%20circle_marker_dbd1a9d24ef94597b9605972f755a3e7%20%3D%20L.circleMarker%28%0A%20%20%20%20%20%20%20%20%20%20%20%20%20%20%20%20%5B49.262018%2C%20-123.101068%5D%2C%0A%20%20%20%20%20%20%20%20%20%20%20%20%20%20%20%20%7B%22bubblingMouseEvents%22%3A%20true%2C%20%22color%22%3A%20%22black%22%2C%20%22dashArray%22%3A%20null%2C%20%22dashOffset%22%3A%20null%2C%20%22fill%22%3A%20true%2C%20%22fillColor%22%3A%20%22%23D11572%22%2C%20%22fillOpacity%22%3A%200.75%2C%20%22fillRule%22%3A%20%22evenodd%22%2C%20%22lineCap%22%3A%20%22round%22%2C%20%22lineJoin%22%3A%20%22round%22%2C%20%22opacity%22%3A%201.0%2C%20%22radius%22%3A%2015%2C%20%22stroke%22%3A%20true%2C%20%22weight%22%3A%203%7D%0A%20%20%20%20%20%20%20%20%20%20%20%20%29.addTo%28map_4d6930e57bae45fdbd37fbd8516e5ad4%29%3B%0A%20%20%20%20%20%20%20%20%0A%20%20%20%20%0A%20%20%20%20%20%20%20%20var%20popup_113d94e3fd3a484f9d030e7ff1152634%20%3D%20L.popup%28%7B%22maxHeight%22%3A%20500%2C%20%22maxWidth%22%3A%20500%2C%20%22minHeight%22%3A%20100%2C%20%22minWidth%22%3A%20500%7D%29%3B%0A%0A%20%20%20%20%20%20%20%20%0A%20%20%20%20%20%20%20%20%20%20%20%20var%20i_frame_f4ad63031004440fbbef4afe2b061636%20%3D%20%24%28%60%3Cdiv%20style%3D%22width%3A100%25%3B%22%3E%3Cdiv%20style%3D%22position%3Arelative%3Bwidth%3A100%25%3Bheight%3A0%3Bpadding-bottom%3A60%25%3B%22%3E%3Ciframe%20src%3D%22data%3Atext/html%3Bcharset%3Dutf-8%3Bbase64%2CCiAgICAKICAgIDxiPlNwZWNpZXMgTmFtZTo8YnI%2BIFRIVU5ERVJDTE9VRCBQVVJQTEUgUExVTQogICAgPGI%2BRGF0ZSBQbGFudGVkOjxicj4gMTk5OC0wNC0wMgogICAgPGI%2BR2VvY29kZSBBdHRlbXB0Ojxicj4gMTAwIEUgMTBUSCBBViwgVmFuY291dmVyLCBCQywgQ2FuYWRhCiAgICA8Yj5HZW9jb2RlIFJlc3VsdDo8YnI%2BIDEwMCBFYXN0IDEwdGggQXZlbnVlLCBWYW5jb3V2ZXIsIEJyaXRpc2ggQ29sdW1iaWEgVjVUIDFaNCwgQ2FuYWRh%22%20style%3D%22position%3Aabsolute%3Bwidth%3A100%25%3Bheight%3A100%25%3Bleft%3A0%3Btop%3A0%3Bborder%3Anone%20%21important%3B%22%3E%3C/iframe%3E%3C/div%3E%3C/div%3E%60%29%5B0%5D%3B%0A%20%20%20%20%20%20%20%20%20%20%20%20popup_113d94e3fd3a484f9d030e7ff1152634.setContent%28i_frame_f4ad63031004440fbbef4afe2b061636%29%3B%0A%20%20%20%20%20%20%20%20%0A%0A%20%20%20%20%20%20%20%20circle_marker_dbd1a9d24ef94597b9605972f755a3e7.bindPopup%28popup_113d94e3fd3a484f9d030e7ff1152634%29%0A%20%20%20%20%20%20%20%20%3B%0A%0A%20%20%20%20%20%20%20%20%0A%20%20%20%20%0A%20%20%20%20%0A%20%20%20%20%20%20%20%20%20%20%20%20var%20circle_marker_eeee20ba8bfe439aa35a612214af4d92%20%3D%20L.circleMarker%28%0A%20%20%20%20%20%20%20%20%20%20%20%20%20%20%20%20%5B49.258348%2C%20-123.096474%5D%2C%0A%20%20%20%20%20%20%20%20%20%20%20%20%20%20%20%20%7B%22bubblingMouseEvents%22%3A%20true%2C%20%22color%22%3A%20%22black%22%2C%20%22dashArray%22%3A%20null%2C%20%22dashOffset%22%3A%20null%2C%20%22fill%22%3A%20true%2C%20%22fillColor%22%3A%20%22%232C8D06%22%2C%20%22fillOpacity%22%3A%200.75%2C%20%22fillRule%22%3A%20%22evenodd%22%2C%20%22lineCap%22%3A%20%22round%22%2C%20%22lineJoin%22%3A%20%22round%22%2C%20%22opacity%22%3A%201.0%2C%20%22radius%22%3A%2015%2C%20%22stroke%22%3A%20true%2C%20%22weight%22%3A%203%7D%0A%20%20%20%20%20%20%20%20%20%20%20%20%29.addTo%28map_4d6930e57bae45fdbd37fbd8516e5ad4%29%3B%0A%20%20%20%20%20%20%20%20%0A%20%20%20%20%0A%20%20%20%20%20%20%20%20var%20popup_507ac1e93c944b32a1046c082e3f3a31%20%3D%20L.popup%28%7B%22maxHeight%22%3A%20500%2C%20%22maxWidth%22%3A%20500%2C%20%22minHeight%22%3A%20100%2C%20%22minWidth%22%3A%20500%7D%29%3B%0A%0A%20%20%20%20%20%20%20%20%0A%20%20%20%20%20%20%20%20%20%20%20%20var%20i_frame_84a8851aae894d76bb17a6f8c522f138%20%3D%20%24%28%60%3Cdiv%20style%3D%22width%3A100%25%3B%22%3E%3Cdiv%20style%3D%22position%3Arelative%3Bwidth%3A100%25%3Bheight%3A0%3Bpadding-bottom%3A60%25%3B%22%3E%3Ciframe%20src%3D%22data%3Atext/html%3Bcharset%3Dutf-8%3Bbase64%2CCiAgICAKICAgIDxiPlNwZWNpZXMgTmFtZTo8YnI%2BIFNIT0pPIEpBUEFORVNFIE1BUExFCiAgICA8Yj5EYXRlIFBsYW50ZWQ6PGJyPiAxOTk5LTAyLTAxCiAgICA8Yj5HZW9jb2RlIEF0dGVtcHQ6PGJyPiA5MDAgRSAxNFRIIEFWLCBWYW5jb3V2ZXIsIEJDLCBDYW5hZGEKICAgIDxiPkdlb2NvZGUgUmVzdWx0Ojxicj4gOTAwIEVhc3QgMTR0aCBBdmVudWUsIFZhbmNvdXZlciwgQnJpdGlzaCBDb2x1bWJpYSBWNVQgM04yLCBDYW5hZGE%3D%22%20style%3D%22position%3Aabsolute%3Bwidth%3A100%25%3Bheight%3A100%25%3Bleft%3A0%3Btop%3A0%3Bborder%3Anone%20%21important%3B%22%3E%3C/iframe%3E%3C/div%3E%3C/div%3E%60%29%5B0%5D%3B%0A%20%20%20%20%20%20%20%20%20%20%20%20popup_507ac1e93c944b32a1046c082e3f3a31.setContent%28i_frame_84a8851aae894d76bb17a6f8c522f138%29%3B%0A%20%20%20%20%20%20%20%20%0A%0A%20%20%20%20%20%20%20%20circle_marker_eeee20ba8bfe439aa35a612214af4d92.bindPopup%28popup_507ac1e93c944b32a1046c082e3f3a31%29%0A%20%20%20%20%20%20%20%20%3B%0A%0A%20%20%20%20%20%20%20%20%0A%20%20%20%20%0A%20%20%20%20%0A%20%20%20%20%20%20%20%20%20%20%20%20var%20circle_marker_be11ff3d857c4f9c8cd0fa48fbb1d625%20%3D%20L.circleMarker%28%0A%20%20%20%20%20%20%20%20%20%20%20%20%20%20%20%20%5B49.26457%2C%20-123.098895%5D%2C%0A%20%20%20%20%20%20%20%20%20%20%20%20%20%20%20%20%7B%22bubblingMouseEvents%22%3A%20true%2C%20%22color%22%3A%20%22black%22%2C%20%22dashArray%22%3A%20null%2C%20%22dashOffset%22%3A%20null%2C%20%22fill%22%3A%20true%2C%20%22fillColor%22%3A%20%22%239F69DF%22%2C%20%22fillOpacity%22%3A%200.75%2C%20%22fillRule%22%3A%20%22evenodd%22%2C%20%22lineCap%22%3A%20%22round%22%2C%20%22lineJoin%22%3A%20%22round%22%2C%20%22opacity%22%3A%201.0%2C%20%22radius%22%3A%2015%2C%20%22stroke%22%3A%20true%2C%20%22weight%22%3A%203%7D%0A%20%20%20%20%20%20%20%20%20%20%20%20%29.addTo%28map_4d6930e57bae45fdbd37fbd8516e5ad4%29%3B%0A%20%20%20%20%20%20%20%20%0A%20%20%20%20%0A%20%20%20%20%20%20%20%20var%20popup_0590f7765091461d9b9c36ec4a4233f9%20%3D%20L.popup%28%7B%22maxHeight%22%3A%20500%2C%20%22maxWidth%22%3A%20500%2C%20%22minHeight%22%3A%20100%2C%20%22minWidth%22%3A%20500%7D%29%3B%0A%0A%20%20%20%20%20%20%20%20%0A%20%20%20%20%20%20%20%20%20%20%20%20var%20i_frame_233c2aa89fdf44698621b0c2f7075a45%20%3D%20%24%28%60%3Cdiv%20style%3D%22width%3A100%25%3B%22%3E%3Cdiv%20style%3D%22position%3Arelative%3Bwidth%3A100%25%3Bheight%3A0%3Bpadding-bottom%3A60%25%3B%22%3E%3Ciframe%20src%3D%22data%3Atext/html%3Bcharset%3Dutf-8%3Bbase64%2CCiAgICAKICAgIDxiPlNwZWNpZXMgTmFtZTo8YnI%2BIE9SQU5HRUJBUksgU1RFV0FSVElBCiAgICA8Yj5EYXRlIFBsYW50ZWQ6PGJyPiAyMDE3LTA1LTI2CiAgICA8Yj5HZW9jb2RlIEF0dGVtcHQ6PGJyPiAyMzAwIFNDT1RJQSBTVCwgVmFuY291dmVyLCBCQywgQ2FuYWRhCiAgICA8Yj5HZW9jb2RlIFJlc3VsdDo8YnI%2BIDIzMDAgU2NvdGlhIFN0cmVldCwgVmFuY291dmVyLCBCcml0aXNoIENvbHVtYmlhIFY1VDBCMiwgQ2FuYWRh%22%20style%3D%22position%3Aabsolute%3Bwidth%3A100%25%3Bheight%3A100%25%3Bleft%3A0%3Btop%3A0%3Bborder%3Anone%20%21important%3B%22%3E%3C/iframe%3E%3C/div%3E%3C/div%3E%60%29%5B0%5D%3B%0A%20%20%20%20%20%20%20%20%20%20%20%20popup_0590f7765091461d9b9c36ec4a4233f9.setContent%28i_frame_233c2aa89fdf44698621b0c2f7075a45%29%3B%0A%20%20%20%20%20%20%20%20%0A%0A%20%20%20%20%20%20%20%20circle_marker_be11ff3d857c4f9c8cd0fa48fbb1d625.bindPopup%28popup_0590f7765091461d9b9c36ec4a4233f9%29%0A%20%20%20%20%20%20%20%20%3B%0A%0A%20%20%20%20%20%20%20%20%0A%20%20%20%20%0A%20%20%20%20%0A%20%20%20%20%20%20%20%20%20%20%20%20var%20circle_marker_2e01b387a1f4419e8c40eed78f15d7c5%20%3D%20L.circleMarker%28%0A%20%20%20%20%20%20%20%20%20%20%20%20%20%20%20%20%5B49.257401%2C%20-123.104876%5D%2C%0A%20%20%20%20%20%20%20%20%20%20%20%20%20%20%20%20%7B%22bubblingMouseEvents%22%3A%20true%2C%20%22color%22%3A%20%22black%22%2C%20%22dashArray%22%3A%20null%2C%20%22dashOffset%22%3A%20null%2C%20%22fill%22%3A%20true%2C%20%22fillColor%22%3A%20%22%23A679A6%22%2C%20%22fillOpacity%22%3A%200.75%2C%20%22fillRule%22%3A%20%22evenodd%22%2C%20%22lineCap%22%3A%20%22round%22%2C%20%22lineJoin%22%3A%20%22round%22%2C%20%22opacity%22%3A%201.0%2C%20%22radius%22%3A%2015%2C%20%22stroke%22%3A%20true%2C%20%22weight%22%3A%203%7D%0A%20%20%20%20%20%20%20%20%20%20%20%20%29.addTo%28map_4d6930e57bae45fdbd37fbd8516e5ad4%29%3B%0A%20%20%20%20%20%20%20%20%0A%20%20%20%20%0A%20%20%20%20%20%20%20%20var%20popup_8d03f61552284e4184b84411b1bc6091%20%3D%20L.popup%28%7B%22maxHeight%22%3A%20500%2C%20%22maxWidth%22%3A%20500%2C%20%22minHeight%22%3A%20100%2C%20%22minWidth%22%3A%20500%7D%29%3B%0A%0A%20%20%20%20%20%20%20%20%0A%20%20%20%20%20%20%20%20%20%20%20%20var%20i_frame_9dfeef99ae5f4a8889e18f3d6f209898%20%3D%20%24%28%60%3Cdiv%20style%3D%22width%3A100%25%3B%22%3E%3Cdiv%20style%3D%22position%3Arelative%3Bwidth%3A100%25%3Bheight%3A0%3Bpadding-bottom%3A60%25%3B%22%3E%3Ciframe%20src%3D%22data%3Atext/html%3Bcharset%3Dutf-8%3Bbase64%2CCiAgICAKICAgIDxiPlNwZWNpZXMgTmFtZTo8YnI%2BIENPTE9SQURPIFNQUlVDRQogICAgPGI%2BRGF0ZSBQbGFudGVkOjxicj4gbmFuCiAgICA8Yj5HZW9jb2RlIEF0dGVtcHQ6PGJyPiAzMTAwIE9OVEFSSU8gU1QsIFZhbmNvdXZlciwgQkMsIENhbmFkYQogICAgPGI%2BR2VvY29kZSBSZXN1bHQ6PGJyPiAzMTAwIE9udGFyaW8gU3RyZWV0LCBWYW5jb3V2ZXIsIEJyaXRpc2ggQ29sdW1iaWEgVjVUIDJZOSwgQ2FuYWRh%22%20style%3D%22position%3Aabsolute%3Bwidth%3A100%25%3Bheight%3A100%25%3Bleft%3A0%3Btop%3A0%3Bborder%3Anone%20%21important%3B%22%3E%3C/iframe%3E%3C/div%3E%3C/div%3E%60%29%5B0%5D%3B%0A%20%20%20%20%20%20%20%20%20%20%20%20popup_8d03f61552284e4184b84411b1bc6091.setContent%28i_frame_9dfeef99ae5f4a8889e18f3d6f209898%29%3B%0A%20%20%20%20%20%20%20%20%0A%0A%20%20%20%20%20%20%20%20circle_marker_2e01b387a1f4419e8c40eed78f15d7c5.bindPopup%28popup_8d03f61552284e4184b84411b1bc6091%29%0A%20%20%20%20%20%20%20%20%3B%0A%0A%20%20%20%20%20%20%20%20%0A%20%20%20%20%0A%20%20%20%20%0A%20%20%20%20%20%20%20%20%20%20%20%20var%20circle_marker_6c9299ea2f3c4c80a34815dd28b46a9b%20%3D%20L.circleMarker%28%0A%20%20%20%20%20%20%20%20%20%20%20%20%20%20%20%20%5B49.257497%2C%20-123.100615%5D%2C%0A%20%20%20%20%20%20%20%20%20%20%20%20%20%20%20%20%7B%22bubblingMouseEvents%22%3A%20true%2C%20%22color%22%3A%20%22black%22%2C%20%22dashArray%22%3A%20null%2C%20%22dashOffset%22%3A%20null%2C%20%22fill%22%3A%20true%2C%20%22fillColor%22%3A%20%22%235276BF%22%2C%20%22fillOpacity%22%3A%200.75%2C%20%22fillRule%22%3A%20%22evenodd%22%2C%20%22lineCap%22%3A%20%22round%22%2C%20%22lineJoin%22%3A%20%22round%22%2C%20%22opacity%22%3A%201.0%2C%20%22radius%22%3A%2015%2C%20%22stroke%22%3A%20true%2C%20%22weight%22%3A%203%7D%0A%20%20%20%20%20%20%20%20%20%20%20%20%29.addTo%28map_4d6930e57bae45fdbd37fbd8516e5ad4%29%3B%0A%20%20%20%20%20%20%20%20%0A%20%20%20%20%0A%20%20%20%20%20%20%20%20var%20popup_eda09a463fde4c3dafcf4abf5a8d4fe3%20%3D%20L.popup%28%7B%22maxHeight%22%3A%20500%2C%20%22maxWidth%22%3A%20500%2C%20%22minHeight%22%3A%20100%2C%20%22minWidth%22%3A%20500%7D%29%3B%0A%0A%20%20%20%20%20%20%20%20%0A%20%20%20%20%20%20%20%20%20%20%20%20var%20i_frame_dfdbe82f398e4db1848e4562c3c23c20%20%3D%20%24%28%60%3Cdiv%20style%3D%22width%3A100%25%3B%22%3E%3Cdiv%20style%3D%22position%3Arelative%3Bwidth%3A100%25%3Bheight%3A0%3Bpadding-bottom%3A60%25%3B%22%3E%3Ciframe%20src%3D%22data%3Atext/html%3Bcharset%3Dutf-8%3Bbase64%2CCiAgICAKICAgIDxiPlNwZWNpZXMgTmFtZTo8YnI%2BIEdJTkdFUiBHT0xEIEFQUExFCiAgICA8Yj5EYXRlIFBsYW50ZWQ6PGJyPiBuYW4KICAgIDxiPkdlb2NvZGUgQXR0ZW1wdDo8YnI%2BIDIwMCBFIDE1VEggQVYsIFZhbmNvdXZlciwgQkMsIENhbmFkYQogICAgPGI%2BR2VvY29kZSBSZXN1bHQ6PGJyPiAyMDAgRWFzdCAxNXRoIEF2ZW51ZSwgVmFuY291dmVyLCBCcml0aXNoIENvbHVtYmlhIFY1VCAyUDksIENhbmFkYQ%3D%3D%22%20style%3D%22position%3Aabsolute%3Bwidth%3A100%25%3Bheight%3A100%25%3Bleft%3A0%3Btop%3A0%3Bborder%3Anone%20%21important%3B%22%3E%3C/iframe%3E%3C/div%3E%3C/div%3E%60%29%5B0%5D%3B%0A%20%20%20%20%20%20%20%20%20%20%20%20popup_eda09a463fde4c3dafcf4abf5a8d4fe3.setContent%28i_frame_dfdbe82f398e4db1848e4562c3c23c20%29%3B%0A%20%20%20%20%20%20%20%20%0A%0A%20%20%20%20%20%20%20%20circle_marker_6c9299ea2f3c4c80a34815dd28b46a9b.bindPopup%28popup_eda09a463fde4c3dafcf4abf5a8d4fe3%29%0A%20%20%20%20%20%20%20%20%3B%0A%0A%20%20%20%20%20%20%20%20%0A%20%20%20%20%0A%20%20%20%20%0A%20%20%20%20%20%20%20%20%20%20%20%20var%20circle_marker_447d86910aa749e3b13b7c5e6c967403%20%3D%20L.circleMarker%28%0A%20%20%20%20%20%20%20%20%20%20%20%20%20%20%20%20%5B49.270365%2C%20-123.109536%5D%2C%0A%20%20%20%20%20%20%20%20%20%20%20%20%20%20%20%20%7B%22bubblingMouseEvents%22%3A%20true%2C%20%22color%22%3A%20%22black%22%2C%20%22dashArray%22%3A%20null%2C%20%22dashOffset%22%3A%20null%2C%20%22fill%22%3A%20true%2C%20%22fillColor%22%3A%20%22%231633AF%22%2C%20%22fillOpacity%22%3A%200.75%2C%20%22fillRule%22%3A%20%22evenodd%22%2C%20%22lineCap%22%3A%20%22round%22%2C%20%22lineJoin%22%3A%20%22round%22%2C%20%22opacity%22%3A%201.0%2C%20%22radius%22%3A%2015%2C%20%22stroke%22%3A%20true%2C%20%22weight%22%3A%203%7D%0A%20%20%20%20%20%20%20%20%20%20%20%20%29.addTo%28map_4d6930e57bae45fdbd37fbd8516e5ad4%29%3B%0A%20%20%20%20%20%20%20%20%0A%20%20%20%20%0A%20%20%20%20%20%20%20%20var%20popup_2186c88c8d744a2480c0356818a9e915%20%3D%20L.popup%28%7B%22maxHeight%22%3A%20500%2C%20%22maxWidth%22%3A%20500%2C%20%22minHeight%22%3A%20100%2C%20%22minWidth%22%3A%20500%7D%29%3B%0A%0A%20%20%20%20%20%20%20%20%0A%20%20%20%20%20%20%20%20%20%20%20%20var%20i_frame_9c24e566eeef4b7faeebff126d58a5a8%20%3D%20%24%28%60%3Cdiv%20style%3D%22width%3A100%25%3B%22%3E%3Cdiv%20style%3D%22position%3Arelative%3Bwidth%3A100%25%3Bheight%3A0%3Bpadding-bottom%3A60%25%3B%22%3E%3Ciframe%20src%3D%22data%3Atext/html%3Bcharset%3Dutf-8%3Bbase64%2CCiAgICAKICAgIDxiPlNwZWNpZXMgTmFtZTo8YnI%2BIENBU0NBUkEKICAgIDxiPkRhdGUgUGxhbnRlZDo8YnI%2BIG5hbgogICAgPGI%2BR2VvY29kZSBBdHRlbXB0Ojxicj4gMjAwIFcgMVNUIEFWLCBWYW5jb3V2ZXIsIEJDLCBDYW5hZGEKICAgIDxiPkdlb2NvZGUgUmVzdWx0Ojxicj4gMjAwIFdlc3QgMXN0IEF2ZW51ZSwgVmFuY291dmVyLCBCcml0aXNoIENvbHVtYmlhIFY1WSA0QTEsIENhbmFkYQ%3D%3D%22%20style%3D%22position%3Aabsolute%3Bwidth%3A100%25%3Bheight%3A100%25%3Bleft%3A0%3Btop%3A0%3Bborder%3Anone%20%21important%3B%22%3E%3C/iframe%3E%3C/div%3E%3C/div%3E%60%29%5B0%5D%3B%0A%20%20%20%20%20%20%20%20%20%20%20%20popup_2186c88c8d744a2480c0356818a9e915.setContent%28i_frame_9c24e566eeef4b7faeebff126d58a5a8%29%3B%0A%20%20%20%20%20%20%20%20%0A%0A%20%20%20%20%20%20%20%20circle_marker_447d86910aa749e3b13b7c5e6c967403.bindPopup%28popup_2186c88c8d744a2480c0356818a9e915%29%0A%20%20%20%20%20%20%20%20%3B%0A%0A%20%20%20%20%20%20%20%20%0A%20%20%20%20%0A%3C/script%3E onload=\"this.contentDocument.open();this.contentDocument.write(    decodeURIComponent(this.getAttribute('data-html')));this.contentDocument.close();\" allowfullscreen webkitallowfullscreen mozallowfullscreen></iframe></div></div>"
      ],
      "text/plain": [
       "<folium.folium.Map at 0x2a0dbebb9d0>"
      ]
     },
     "execution_count": 23,
     "metadata": {},
     "output_type": "execute_result"
    }
   ],
   "source": [
    "# This tool gives us a progress bar\n",
    "from ipywidgets import FloatProgress\n",
    "import random\n",
    "\n",
    "i = 0\n",
    "prog = FloatProgress(min=0, max=100,description='Progress:')\n",
    "prog.value=0\n",
    "display(prog)\n",
    "\n",
    "# Creat our Tree Map\n",
    "TreeMap = folium.Map(\n",
    "    location=[49.279862, -123.116838],\n",
    "    zoom_start=11,\n",
    ")\n",
    "\n",
    "\n",
    "for index, row in Select_by_Tree.iterrows():    \n",
    "    attempt = str(row['ON_STREET_BLOCK'])+' '+row['ON_STREET']+ ', Vancouver, BC, Canada'\n",
    "    g = geolocator.geocode(attempt)\n",
    "    \n",
    "    # Genrate a random color\n",
    "    rando = lambda: random.randint(0,255)\n",
    "    color = ('#%02X%02X%02X' % (rando(),rando(),rando()))\n",
    "    \n",
    "    HTML_Pop_up_Text = '''\n",
    "    <b>Species Name:</br> '''+row['COMMON_NAME']+'''\n",
    "    <b>Date Planted:</br> '''+str(row['DATE_PLANTED'])+'''\n",
    "    <b>Geocode Attempt:</br> '''+attempt+'''\n",
    "    <b>Geocode Result:</br> '''+g.address\n",
    "    \n",
    "    iframe = folium.IFrame(HTML_Pop_up_Text)\n",
    "    popup = folium.Popup(iframe,\n",
    "                     min_width=500,\n",
    "                     max_width=500,\n",
    "                     min_height=100,\n",
    "                     max_height=500)\n",
    "    \n",
    "    plot_point(TreeMap,g.latitude,g.longitude,popup,Color=color,Radius=15)\n",
    "    \n",
    "    ## Update the progress bar\n",
    "    i += 1\n",
    "    prog.value=i/len(Select_by_Tree)*100\n",
    "    \n",
    "TreeMap"
   ]
  },
  {
   "cell_type": "code",
   "execution_count": null,
   "metadata": {},
   "outputs": [],
   "source": [
    "TreeMap.save('MtPleasant_Trees.html')"
   ]
  },
  {
   "cell_type": "code",
   "execution_count": null,
   "metadata": {},
   "outputs": [],
   "source": []
  }
 ],
 "metadata": {
  "kernelspec": {
   "display_name": "geo-env",
   "language": "python",
   "name": "geo-env"
  },
  "language_info": {
   "codemirror_mode": {
    "name": "ipython",
    "version": 3
   },
   "file_extension": ".py",
   "mimetype": "text/x-python",
   "name": "python",
   "nbconvert_exporter": "python",
   "pygments_lexer": "ipython3",
   "version": "3.8.10"
  }
 },
 "nbformat": 4,
 "nbformat_minor": 4
}
