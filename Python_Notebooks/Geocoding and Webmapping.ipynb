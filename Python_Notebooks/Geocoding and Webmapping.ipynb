{
 "cells": [
  {
   "cell_type": "markdown",
   "metadata": {},
   "source": [
    "# Geocoding and Web Mapping\n",
    "\n",
    "Getting Started with Python\n",
    "\n",
    "## Import statements\n",
    "\n",
    "We are going to use [geopy](https://geopy.readthedocs.io/en/stable/) to interface with the mapbox geocoder and the [folium](http://python-visualization.github.io/folium/) to create some simple webmaps."
   ]
  },
  {
   "cell_type": "code",
   "execution_count": 1,
   "metadata": {},
   "outputs": [],
   "source": [
    "from geopy.geocoders import MapBox\n",
    "import folium"
   ]
  },
  {
   "cell_type": "markdown",
   "metadata": {},
   "source": [
    "## Using the geocoder\n",
    "First, you must find your [access token](https://account.mapbox.com/access-tokens/).  Copy and paste it into the code below."
   ]
  },
  {
   "cell_type": "code",
   "execution_count": 2,
   "metadata": {},
   "outputs": [
    {
     "name": "stdout",
     "output_type": "stream",
     "text": [
      "Mapbox Goelocator Loaded\n"
     ]
    }
   ],
   "source": [
    "access_token=\"\"\n",
    "\n",
    "if access_token == \"\":\n",
    "    print('Enter your access token to continue')\n",
    "else:\n",
    "    geolocator = MapBox(api_key=access_token)\n",
    "    print('Mapbox Goelocator Loaded')"
   ]
  },
  {
   "cell_type": "markdown",
   "metadata": {},
   "source": [
    "## A quick test\n",
    "\n",
    "Lets try a simple example first!  Type any address here and see what comes up!"
   ]
  },
  {
   "cell_type": "code",
   "execution_count": 3,
   "metadata": {},
   "outputs": [
    {
     "name": "stdout",
     "output_type": "stream",
     "text": [
      "The Westin Grand, 433 Robson Street, Vancouver, British Columbia V6B 6L9, Canada\n",
      "49.279862 -123.116838\n"
     ]
    }
   ],
   "source": [
    "Location = \"Vancouver, BC, Canada\"\n",
    "Vancouver = geolocator.geocode(Location)\n",
    "\n",
    "print(Vancouver)\n",
    "print(Vancouver.latitude,Vancouver.longitude)"
   ]
  },
  {
   "cell_type": "markdown",
   "metadata": {},
   "source": [
    "# Quiz Question 12\n",
    "\n",
    "- Search for the address of the UBC Geography Building (1984 west mall (city + prov, etc))\n",
    "\n",
    "* What are the lat, lon coordinates of the UBC geography building?"
   ]
  },
  {
   "cell_type": "code",
   "execution_count": 6,
   "metadata": {},
   "outputs": [
    {
     "name": "stdout",
     "output_type": "stream",
     "text": [
      "UBC Geography Building, 1984 West Mall, University Hill, British Columbia V6T 1Z2, Canada\n",
      "49.265772 -123.255976\n"
     ]
    }
   ],
   "source": [
    "Location = \"UBC Geography Building\"\n",
    "UBC_Geopgraphy = geolocator.geocode(Location)\n",
    "\n",
    "print(UBC_Geopgraphy)\n",
    "print(UBC_Geopgraphy.latitude,UBC_Geopgraphy.longitude)"
   ]
  },
  {
   "cell_type": "markdown",
   "metadata": {},
   "source": [
    "## Displaying our result on a web map"
   ]
  },
  {
   "cell_type": "code",
   "execution_count": 7,
   "metadata": {
    "scrolled": false
   },
   "outputs": [
    {
     "data": {
      "text/html": [
       "<div style=\"width:100%;\"><div style=\"position:relative;width:100%;height:0;padding-bottom:60%;\"><span style=\"color:#565656\">Make this Notebook Trusted to load map: File -> Trust Notebook</span><iframe src=\"about:blank\" style=\"position:absolute;width:100%;height:100%;left:0;top:0;border:none !important;\" data-html=%3C%21DOCTYPE%20html%3E%0A%3Chead%3E%20%20%20%20%0A%20%20%20%20%3Cmeta%20http-equiv%3D%22content-type%22%20content%3D%22text/html%3B%20charset%3DUTF-8%22%20/%3E%0A%20%20%20%20%0A%20%20%20%20%20%20%20%20%3Cscript%3E%0A%20%20%20%20%20%20%20%20%20%20%20%20L_NO_TOUCH%20%3D%20false%3B%0A%20%20%20%20%20%20%20%20%20%20%20%20L_DISABLE_3D%20%3D%20false%3B%0A%20%20%20%20%20%20%20%20%3C/script%3E%0A%20%20%20%20%0A%20%20%20%20%3Cstyle%3Ehtml%2C%20body%20%7Bwidth%3A%20100%25%3Bheight%3A%20100%25%3Bmargin%3A%200%3Bpadding%3A%200%3B%7D%3C/style%3E%0A%20%20%20%20%3Cstyle%3E%23map%20%7Bposition%3Aabsolute%3Btop%3A0%3Bbottom%3A0%3Bright%3A0%3Bleft%3A0%3B%7D%3C/style%3E%0A%20%20%20%20%3Cscript%20src%3D%22https%3A//cdn.jsdelivr.net/npm/leaflet%401.6.0/dist/leaflet.js%22%3E%3C/script%3E%0A%20%20%20%20%3Cscript%20src%3D%22https%3A//code.jquery.com/jquery-1.12.4.min.js%22%3E%3C/script%3E%0A%20%20%20%20%3Cscript%20src%3D%22https%3A//maxcdn.bootstrapcdn.com/bootstrap/3.2.0/js/bootstrap.min.js%22%3E%3C/script%3E%0A%20%20%20%20%3Cscript%20src%3D%22https%3A//cdnjs.cloudflare.com/ajax/libs/Leaflet.awesome-markers/2.0.2/leaflet.awesome-markers.js%22%3E%3C/script%3E%0A%20%20%20%20%3Clink%20rel%3D%22stylesheet%22%20href%3D%22https%3A//cdn.jsdelivr.net/npm/leaflet%401.6.0/dist/leaflet.css%22/%3E%0A%20%20%20%20%3Clink%20rel%3D%22stylesheet%22%20href%3D%22https%3A//maxcdn.bootstrapcdn.com/bootstrap/3.2.0/css/bootstrap.min.css%22/%3E%0A%20%20%20%20%3Clink%20rel%3D%22stylesheet%22%20href%3D%22https%3A//maxcdn.bootstrapcdn.com/bootstrap/3.2.0/css/bootstrap-theme.min.css%22/%3E%0A%20%20%20%20%3Clink%20rel%3D%22stylesheet%22%20href%3D%22https%3A//maxcdn.bootstrapcdn.com/font-awesome/4.6.3/css/font-awesome.min.css%22/%3E%0A%20%20%20%20%3Clink%20rel%3D%22stylesheet%22%20href%3D%22https%3A//cdnjs.cloudflare.com/ajax/libs/Leaflet.awesome-markers/2.0.2/leaflet.awesome-markers.css%22/%3E%0A%20%20%20%20%3Clink%20rel%3D%22stylesheet%22%20href%3D%22https%3A//cdn.jsdelivr.net/gh/python-visualization/folium/folium/templates/leaflet.awesome.rotate.min.css%22/%3E%0A%20%20%20%20%0A%20%20%20%20%20%20%20%20%20%20%20%20%3Cmeta%20name%3D%22viewport%22%20content%3D%22width%3Ddevice-width%2C%0A%20%20%20%20%20%20%20%20%20%20%20%20%20%20%20%20initial-scale%3D1.0%2C%20maximum-scale%3D1.0%2C%20user-scalable%3Dno%22%20/%3E%0A%20%20%20%20%20%20%20%20%20%20%20%20%3Cstyle%3E%0A%20%20%20%20%20%20%20%20%20%20%20%20%20%20%20%20%23map_d69bc0ce8219409591ed062394fd63e8%20%7B%0A%20%20%20%20%20%20%20%20%20%20%20%20%20%20%20%20%20%20%20%20position%3A%20relative%3B%0A%20%20%20%20%20%20%20%20%20%20%20%20%20%20%20%20%20%20%20%20width%3A%20100.0%25%3B%0A%20%20%20%20%20%20%20%20%20%20%20%20%20%20%20%20%20%20%20%20height%3A%20100.0%25%3B%0A%20%20%20%20%20%20%20%20%20%20%20%20%20%20%20%20%20%20%20%20left%3A%200.0%25%3B%0A%20%20%20%20%20%20%20%20%20%20%20%20%20%20%20%20%20%20%20%20top%3A%200.0%25%3B%0A%20%20%20%20%20%20%20%20%20%20%20%20%20%20%20%20%7D%0A%20%20%20%20%20%20%20%20%20%20%20%20%3C/style%3E%0A%20%20%20%20%20%20%20%20%0A%3C/head%3E%0A%3Cbody%3E%20%20%20%20%0A%20%20%20%20%0A%20%20%20%20%20%20%20%20%20%20%20%20%3Cdiv%20class%3D%22folium-map%22%20id%3D%22map_d69bc0ce8219409591ed062394fd63e8%22%20%3E%3C/div%3E%0A%20%20%20%20%20%20%20%20%0A%3C/body%3E%0A%3Cscript%3E%20%20%20%20%0A%20%20%20%20%0A%20%20%20%20%20%20%20%20%20%20%20%20var%20map_d69bc0ce8219409591ed062394fd63e8%20%3D%20L.map%28%0A%20%20%20%20%20%20%20%20%20%20%20%20%20%20%20%20%22map_d69bc0ce8219409591ed062394fd63e8%22%2C%0A%20%20%20%20%20%20%20%20%20%20%20%20%20%20%20%20%7B%0A%20%20%20%20%20%20%20%20%20%20%20%20%20%20%20%20%20%20%20%20center%3A%20%5B49.279862%2C%20-123.116838%5D%2C%0A%20%20%20%20%20%20%20%20%20%20%20%20%20%20%20%20%20%20%20%20crs%3A%20L.CRS.EPSG3857%2C%0A%20%20%20%20%20%20%20%20%20%20%20%20%20%20%20%20%20%20%20%20zoom%3A%2011%2C%0A%20%20%20%20%20%20%20%20%20%20%20%20%20%20%20%20%20%20%20%20zoomControl%3A%20true%2C%0A%20%20%20%20%20%20%20%20%20%20%20%20%20%20%20%20%20%20%20%20preferCanvas%3A%20false%2C%0A%20%20%20%20%20%20%20%20%20%20%20%20%20%20%20%20%7D%0A%20%20%20%20%20%20%20%20%20%20%20%20%29%3B%0A%0A%20%20%20%20%20%20%20%20%20%20%20%20%0A%0A%20%20%20%20%20%20%20%20%0A%20%20%20%20%0A%20%20%20%20%20%20%20%20%20%20%20%20var%20tile_layer_f900be5bd61849c1a9fd268debba7c5e%20%3D%20L.tileLayer%28%0A%20%20%20%20%20%20%20%20%20%20%20%20%20%20%20%20%22https%3A//%7Bs%7D.tile.openstreetmap.org/%7Bz%7D/%7Bx%7D/%7By%7D.png%22%2C%0A%20%20%20%20%20%20%20%20%20%20%20%20%20%20%20%20%7B%22attribution%22%3A%20%22Data%20by%20%5Cu0026copy%3B%20%5Cu003ca%20href%3D%5C%22http%3A//openstreetmap.org%5C%22%5Cu003eOpenStreetMap%5Cu003c/a%5Cu003e%2C%20under%20%5Cu003ca%20href%3D%5C%22http%3A//www.openstreetmap.org/copyright%5C%22%5Cu003eODbL%5Cu003c/a%5Cu003e.%22%2C%20%22detectRetina%22%3A%20false%2C%20%22maxNativeZoom%22%3A%2018%2C%20%22maxZoom%22%3A%2018%2C%20%22minZoom%22%3A%200%2C%20%22noWrap%22%3A%20false%2C%20%22opacity%22%3A%201%2C%20%22subdomains%22%3A%20%22abc%22%2C%20%22tms%22%3A%20false%7D%0A%20%20%20%20%20%20%20%20%20%20%20%20%29.addTo%28map_d69bc0ce8219409591ed062394fd63e8%29%3B%0A%20%20%20%20%20%20%20%20%0A%20%20%20%20%0A%20%20%20%20%20%20%20%20%20%20%20%20var%20circle_marker_9635ba2c815a4738b3c84eef6f9150cf%20%3D%20L.circleMarker%28%0A%20%20%20%20%20%20%20%20%20%20%20%20%20%20%20%20%5B49.279862%2C%20-123.116838%5D%2C%0A%20%20%20%20%20%20%20%20%20%20%20%20%20%20%20%20%7B%22bubblingMouseEvents%22%3A%20true%2C%20%22color%22%3A%20%22black%22%2C%20%22dashArray%22%3A%20null%2C%20%22dashOffset%22%3A%20null%2C%20%22fill%22%3A%20true%2C%20%22fillColor%22%3A%20%22blue%22%2C%20%22fillOpacity%22%3A%201%2C%20%22fillRule%22%3A%20%22evenodd%22%2C%20%22lineCap%22%3A%20%22round%22%2C%20%22lineJoin%22%3A%20%22round%22%2C%20%22opacity%22%3A%201.0%2C%20%22radius%22%3A%2010%2C%20%22stroke%22%3A%20true%2C%20%22weight%22%3A%203%7D%0A%20%20%20%20%20%20%20%20%20%20%20%20%29.addTo%28map_d69bc0ce8219409591ed062394fd63e8%29%3B%0A%20%20%20%20%20%20%20%20%0A%20%20%20%20%0A%20%20%20%20%20%20%20%20var%20popup_ed79d146b1e0419b812c25600f7a8e30%20%3D%20L.popup%28%7B%22maxWidth%22%3A%20%22100%25%22%7D%29%3B%0A%0A%20%20%20%20%20%20%20%20%0A%20%20%20%20%20%20%20%20%20%20%20%20var%20html_336ad3f64da64ed2a8253e08393f881a%20%3D%20%24%28%60%3Cdiv%20id%3D%22html_336ad3f64da64ed2a8253e08393f881a%22%20style%3D%22width%3A%20100.0%25%3B%20height%3A%20100.0%25%3B%22%3EThe%20Westin%20Grand%2C%20433%20Robson%20Street%2C%20Vancouver%2C%20British%20Columbia%20V6B%206L9%2C%20Canada%3C/div%3E%60%29%5B0%5D%3B%0A%20%20%20%20%20%20%20%20%20%20%20%20popup_ed79d146b1e0419b812c25600f7a8e30.setContent%28html_336ad3f64da64ed2a8253e08393f881a%29%3B%0A%20%20%20%20%20%20%20%20%0A%0A%20%20%20%20%20%20%20%20circle_marker_9635ba2c815a4738b3c84eef6f9150cf.bindPopup%28popup_ed79d146b1e0419b812c25600f7a8e30%29%0A%20%20%20%20%20%20%20%20%3B%0A%0A%20%20%20%20%20%20%20%20%0A%20%20%20%20%0A%3C/script%3E onload=\"this.contentDocument.open();this.contentDocument.write(    decodeURIComponent(this.getAttribute('data-html')));this.contentDocument.close();\" allowfullscreen webkitallowfullscreen mozallowfullscreen></iframe></div></div>"
      ],
      "text/plain": [
       "<folium.folium.Map at 0x2a0db11a190>"
      ]
     },
     "execution_count": 7,
     "metadata": {},
     "output_type": "execute_result"
    }
   ],
   "source": [
    "Map1 = folium.Map(\n",
    "    location=[Vancouver.latitude,Vancouver.longitude],\n",
    "    zoom_start=11,\n",
    ")\n",
    "\n",
    "point=folium.CircleMarker(\n",
    "        location=[Vancouver.latitude,Vancouver.longitude],\n",
    "        radius=10,\n",
    "        popup=Vancouver,\n",
    "        fill_opacity = 1,\n",
    "        fill=True,\n",
    "        color='black',\n",
    "        line_weight=.35,\n",
    "        fill_color='blue'\n",
    ")\n",
    "\n",
    "point.add_to(Map1)\n",
    "\n",
    "Map1"
   ]
  },
  {
   "cell_type": "markdown",
   "metadata": {},
   "source": [
    "## Chaning our basemap and zoom level"
   ]
  },
  {
   "cell_type": "code",
   "execution_count": 8,
   "metadata": {},
   "outputs": [
    {
     "data": {
      "text/html": [
       "<div style=\"width:100%;\"><div style=\"position:relative;width:100%;height:0;padding-bottom:60%;\"><span style=\"color:#565656\">Make this Notebook Trusted to load map: File -> Trust Notebook</span><iframe src=\"about:blank\" style=\"position:absolute;width:100%;height:100%;left:0;top:0;border:none !important;\" data-html=%3C%21DOCTYPE%20html%3E%0A%3Chead%3E%20%20%20%20%0A%20%20%20%20%3Cmeta%20http-equiv%3D%22content-type%22%20content%3D%22text/html%3B%20charset%3DUTF-8%22%20/%3E%0A%20%20%20%20%0A%20%20%20%20%20%20%20%20%3Cscript%3E%0A%20%20%20%20%20%20%20%20%20%20%20%20L_NO_TOUCH%20%3D%20false%3B%0A%20%20%20%20%20%20%20%20%20%20%20%20L_DISABLE_3D%20%3D%20false%3B%0A%20%20%20%20%20%20%20%20%3C/script%3E%0A%20%20%20%20%0A%20%20%20%20%3Cstyle%3Ehtml%2C%20body%20%7Bwidth%3A%20100%25%3Bheight%3A%20100%25%3Bmargin%3A%200%3Bpadding%3A%200%3B%7D%3C/style%3E%0A%20%20%20%20%3Cstyle%3E%23map%20%7Bposition%3Aabsolute%3Btop%3A0%3Bbottom%3A0%3Bright%3A0%3Bleft%3A0%3B%7D%3C/style%3E%0A%20%20%20%20%3Cscript%20src%3D%22https%3A//cdn.jsdelivr.net/npm/leaflet%401.6.0/dist/leaflet.js%22%3E%3C/script%3E%0A%20%20%20%20%3Cscript%20src%3D%22https%3A//code.jquery.com/jquery-1.12.4.min.js%22%3E%3C/script%3E%0A%20%20%20%20%3Cscript%20src%3D%22https%3A//maxcdn.bootstrapcdn.com/bootstrap/3.2.0/js/bootstrap.min.js%22%3E%3C/script%3E%0A%20%20%20%20%3Cscript%20src%3D%22https%3A//cdnjs.cloudflare.com/ajax/libs/Leaflet.awesome-markers/2.0.2/leaflet.awesome-markers.js%22%3E%3C/script%3E%0A%20%20%20%20%3Clink%20rel%3D%22stylesheet%22%20href%3D%22https%3A//cdn.jsdelivr.net/npm/leaflet%401.6.0/dist/leaflet.css%22/%3E%0A%20%20%20%20%3Clink%20rel%3D%22stylesheet%22%20href%3D%22https%3A//maxcdn.bootstrapcdn.com/bootstrap/3.2.0/css/bootstrap.min.css%22/%3E%0A%20%20%20%20%3Clink%20rel%3D%22stylesheet%22%20href%3D%22https%3A//maxcdn.bootstrapcdn.com/bootstrap/3.2.0/css/bootstrap-theme.min.css%22/%3E%0A%20%20%20%20%3Clink%20rel%3D%22stylesheet%22%20href%3D%22https%3A//maxcdn.bootstrapcdn.com/font-awesome/4.6.3/css/font-awesome.min.css%22/%3E%0A%20%20%20%20%3Clink%20rel%3D%22stylesheet%22%20href%3D%22https%3A//cdnjs.cloudflare.com/ajax/libs/Leaflet.awesome-markers/2.0.2/leaflet.awesome-markers.css%22/%3E%0A%20%20%20%20%3Clink%20rel%3D%22stylesheet%22%20href%3D%22https%3A//cdn.jsdelivr.net/gh/python-visualization/folium/folium/templates/leaflet.awesome.rotate.min.css%22/%3E%0A%20%20%20%20%0A%20%20%20%20%20%20%20%20%20%20%20%20%3Cmeta%20name%3D%22viewport%22%20content%3D%22width%3Ddevice-width%2C%0A%20%20%20%20%20%20%20%20%20%20%20%20%20%20%20%20initial-scale%3D1.0%2C%20maximum-scale%3D1.0%2C%20user-scalable%3Dno%22%20/%3E%0A%20%20%20%20%20%20%20%20%20%20%20%20%3Cstyle%3E%0A%20%20%20%20%20%20%20%20%20%20%20%20%20%20%20%20%23map_fd081bcaae8b46f3a3ac6d8354f8f307%20%7B%0A%20%20%20%20%20%20%20%20%20%20%20%20%20%20%20%20%20%20%20%20position%3A%20relative%3B%0A%20%20%20%20%20%20%20%20%20%20%20%20%20%20%20%20%20%20%20%20width%3A%20100.0%25%3B%0A%20%20%20%20%20%20%20%20%20%20%20%20%20%20%20%20%20%20%20%20height%3A%20100.0%25%3B%0A%20%20%20%20%20%20%20%20%20%20%20%20%20%20%20%20%20%20%20%20left%3A%200.0%25%3B%0A%20%20%20%20%20%20%20%20%20%20%20%20%20%20%20%20%20%20%20%20top%3A%200.0%25%3B%0A%20%20%20%20%20%20%20%20%20%20%20%20%20%20%20%20%7D%0A%20%20%20%20%20%20%20%20%20%20%20%20%3C/style%3E%0A%20%20%20%20%20%20%20%20%0A%3C/head%3E%0A%3Cbody%3E%20%20%20%20%0A%20%20%20%20%0A%20%20%20%20%20%20%20%20%20%20%20%20%3Cdiv%20class%3D%22folium-map%22%20id%3D%22map_fd081bcaae8b46f3a3ac6d8354f8f307%22%20%3E%3C/div%3E%0A%20%20%20%20%20%20%20%20%0A%3C/body%3E%0A%3Cscript%3E%20%20%20%20%0A%20%20%20%20%0A%20%20%20%20%20%20%20%20%20%20%20%20var%20map_fd081bcaae8b46f3a3ac6d8354f8f307%20%3D%20L.map%28%0A%20%20%20%20%20%20%20%20%20%20%20%20%20%20%20%20%22map_fd081bcaae8b46f3a3ac6d8354f8f307%22%2C%0A%20%20%20%20%20%20%20%20%20%20%20%20%20%20%20%20%7B%0A%20%20%20%20%20%20%20%20%20%20%20%20%20%20%20%20%20%20%20%20center%3A%20%5B49.279862%2C%20-123.116838%5D%2C%0A%20%20%20%20%20%20%20%20%20%20%20%20%20%20%20%20%20%20%20%20crs%3A%20L.CRS.EPSG3857%2C%0A%20%20%20%20%20%20%20%20%20%20%20%20%20%20%20%20%20%20%20%20zoom%3A%203%2C%0A%20%20%20%20%20%20%20%20%20%20%20%20%20%20%20%20%20%20%20%20zoomControl%3A%20true%2C%0A%20%20%20%20%20%20%20%20%20%20%20%20%20%20%20%20%20%20%20%20preferCanvas%3A%20false%2C%0A%20%20%20%20%20%20%20%20%20%20%20%20%20%20%20%20%7D%0A%20%20%20%20%20%20%20%20%20%20%20%20%29%3B%0A%0A%20%20%20%20%20%20%20%20%20%20%20%20%0A%0A%20%20%20%20%20%20%20%20%0A%20%20%20%20%0A%20%20%20%20%20%20%20%20%20%20%20%20var%20tile_layer_d05b7a9242824b0eaa190ec099a873aa%20%3D%20L.tileLayer%28%0A%20%20%20%20%20%20%20%20%20%20%20%20%20%20%20%20%22https%3A//stamen-tiles-%7Bs%7D.a.ssl.fastly.net/terrain/%7Bz%7D/%7Bx%7D/%7By%7D.jpg%22%2C%0A%20%20%20%20%20%20%20%20%20%20%20%20%20%20%20%20%7B%22attribution%22%3A%20%22Map%20tiles%20by%20%5Cu003ca%20href%3D%5C%22http%3A//stamen.com%5C%22%5Cu003eStamen%20Design%5Cu003c/a%5Cu003e%2C%20under%20%5Cu003ca%20href%3D%5C%22http%3A//creativecommons.org/licenses/by/3.0%5C%22%5Cu003eCC%20BY%203.0%5Cu003c/a%5Cu003e.%20Data%20by%20%5Cu0026copy%3B%20%5Cu003ca%20href%3D%5C%22http%3A//openstreetmap.org%5C%22%5Cu003eOpenStreetMap%5Cu003c/a%5Cu003e%2C%20under%20%5Cu003ca%20href%3D%5C%22http%3A//creativecommons.org/licenses/by-sa/3.0%5C%22%5Cu003eCC%20BY%20SA%5Cu003c/a%5Cu003e.%22%2C%20%22detectRetina%22%3A%20false%2C%20%22maxNativeZoom%22%3A%2018%2C%20%22maxZoom%22%3A%2018%2C%20%22minZoom%22%3A%200%2C%20%22noWrap%22%3A%20false%2C%20%22opacity%22%3A%201%2C%20%22subdomains%22%3A%20%22abc%22%2C%20%22tms%22%3A%20false%7D%0A%20%20%20%20%20%20%20%20%20%20%20%20%29.addTo%28map_fd081bcaae8b46f3a3ac6d8354f8f307%29%3B%0A%20%20%20%20%20%20%20%20%0A%20%20%20%20%0A%20%20%20%20%20%20%20%20%20%20%20%20var%20circle_marker_9635ba2c815a4738b3c84eef6f9150cf%20%3D%20L.circleMarker%28%0A%20%20%20%20%20%20%20%20%20%20%20%20%20%20%20%20%5B49.279862%2C%20-123.116838%5D%2C%0A%20%20%20%20%20%20%20%20%20%20%20%20%20%20%20%20%7B%22bubblingMouseEvents%22%3A%20true%2C%20%22color%22%3A%20%22black%22%2C%20%22dashArray%22%3A%20null%2C%20%22dashOffset%22%3A%20null%2C%20%22fill%22%3A%20true%2C%20%22fillColor%22%3A%20%22blue%22%2C%20%22fillOpacity%22%3A%201%2C%20%22fillRule%22%3A%20%22evenodd%22%2C%20%22lineCap%22%3A%20%22round%22%2C%20%22lineJoin%22%3A%20%22round%22%2C%20%22opacity%22%3A%201.0%2C%20%22radius%22%3A%2010%2C%20%22stroke%22%3A%20true%2C%20%22weight%22%3A%203%7D%0A%20%20%20%20%20%20%20%20%20%20%20%20%29.addTo%28map_fd081bcaae8b46f3a3ac6d8354f8f307%29%3B%0A%20%20%20%20%20%20%20%20%0A%20%20%20%20%0A%20%20%20%20%20%20%20%20var%20popup_ed79d146b1e0419b812c25600f7a8e30%20%3D%20L.popup%28%7B%22maxWidth%22%3A%20%22100%25%22%7D%29%3B%0A%0A%20%20%20%20%20%20%20%20%0A%20%20%20%20%20%20%20%20%20%20%20%20var%20html_336ad3f64da64ed2a8253e08393f881a%20%3D%20%24%28%60%3Cdiv%20id%3D%22html_336ad3f64da64ed2a8253e08393f881a%22%20style%3D%22width%3A%20100.0%25%3B%20height%3A%20100.0%25%3B%22%3EThe%20Westin%20Grand%2C%20433%20Robson%20Street%2C%20Vancouver%2C%20British%20Columbia%20V6B%206L9%2C%20Canada%3C/div%3E%60%29%5B0%5D%3B%0A%20%20%20%20%20%20%20%20%20%20%20%20popup_ed79d146b1e0419b812c25600f7a8e30.setContent%28html_336ad3f64da64ed2a8253e08393f881a%29%3B%0A%20%20%20%20%20%20%20%20%0A%0A%20%20%20%20%20%20%20%20circle_marker_9635ba2c815a4738b3c84eef6f9150cf.bindPopup%28popup_ed79d146b1e0419b812c25600f7a8e30%29%0A%20%20%20%20%20%20%20%20%3B%0A%0A%20%20%20%20%20%20%20%20%0A%20%20%20%20%0A%3C/script%3E onload=\"this.contentDocument.open();this.contentDocument.write(    decodeURIComponent(this.getAttribute('data-html')));this.contentDocument.close();\" allowfullscreen webkitallowfullscreen mozallowfullscreen></iframe></div></div>"
      ],
      "text/plain": [
       "<folium.folium.Map at 0x2a0db274bb0>"
      ]
     },
     "execution_count": 8,
     "metadata": {},
     "output_type": "execute_result"
    }
   ],
   "source": [
    "Map2 = folium.Map(\n",
    "    location=[Vancouver.latitude,Vancouver.longitude],\n",
    "    zoom_start=3,\n",
    "    tiles='Stamen Terrain'\n",
    ")\n",
    "\n",
    "point.add_to(Map2)\n",
    "\n",
    "Map2"
   ]
  },
  {
   "cell_type": "markdown",
   "metadata": {},
   "source": [
    "## Using Mapbox satelite tiles\n",
    "\n",
    "You can use your Mapbox account to access their satellite basemap layer."
   ]
  },
  {
   "cell_type": "code",
   "execution_count": 9,
   "metadata": {},
   "outputs": [
    {
     "data": {
      "text/html": [
       "<div style=\"width:100%;\"><div style=\"position:relative;width:100%;height:0;padding-bottom:60%;\"><span style=\"color:#565656\">Make this Notebook Trusted to load map: File -> Trust Notebook</span><iframe src=\"about:blank\" style=\"position:absolute;width:100%;height:100%;left:0;top:0;border:none !important;\" data-html=%3C%21DOCTYPE%20html%3E%0A%3Chead%3E%20%20%20%20%0A%20%20%20%20%3Cmeta%20http-equiv%3D%22content-type%22%20content%3D%22text/html%3B%20charset%3DUTF-8%22%20/%3E%0A%20%20%20%20%0A%20%20%20%20%20%20%20%20%3Cscript%3E%0A%20%20%20%20%20%20%20%20%20%20%20%20L_NO_TOUCH%20%3D%20false%3B%0A%20%20%20%20%20%20%20%20%20%20%20%20L_DISABLE_3D%20%3D%20false%3B%0A%20%20%20%20%20%20%20%20%3C/script%3E%0A%20%20%20%20%0A%20%20%20%20%3Cstyle%3Ehtml%2C%20body%20%7Bwidth%3A%20100%25%3Bheight%3A%20100%25%3Bmargin%3A%200%3Bpadding%3A%200%3B%7D%3C/style%3E%0A%20%20%20%20%3Cstyle%3E%23map%20%7Bposition%3Aabsolute%3Btop%3A0%3Bbottom%3A0%3Bright%3A0%3Bleft%3A0%3B%7D%3C/style%3E%0A%20%20%20%20%3Cscript%20src%3D%22https%3A//cdn.jsdelivr.net/npm/leaflet%401.6.0/dist/leaflet.js%22%3E%3C/script%3E%0A%20%20%20%20%3Cscript%20src%3D%22https%3A//code.jquery.com/jquery-1.12.4.min.js%22%3E%3C/script%3E%0A%20%20%20%20%3Cscript%20src%3D%22https%3A//maxcdn.bootstrapcdn.com/bootstrap/3.2.0/js/bootstrap.min.js%22%3E%3C/script%3E%0A%20%20%20%20%3Cscript%20src%3D%22https%3A//cdnjs.cloudflare.com/ajax/libs/Leaflet.awesome-markers/2.0.2/leaflet.awesome-markers.js%22%3E%3C/script%3E%0A%20%20%20%20%3Clink%20rel%3D%22stylesheet%22%20href%3D%22https%3A//cdn.jsdelivr.net/npm/leaflet%401.6.0/dist/leaflet.css%22/%3E%0A%20%20%20%20%3Clink%20rel%3D%22stylesheet%22%20href%3D%22https%3A//maxcdn.bootstrapcdn.com/bootstrap/3.2.0/css/bootstrap.min.css%22/%3E%0A%20%20%20%20%3Clink%20rel%3D%22stylesheet%22%20href%3D%22https%3A//maxcdn.bootstrapcdn.com/bootstrap/3.2.0/css/bootstrap-theme.min.css%22/%3E%0A%20%20%20%20%3Clink%20rel%3D%22stylesheet%22%20href%3D%22https%3A//maxcdn.bootstrapcdn.com/font-awesome/4.6.3/css/font-awesome.min.css%22/%3E%0A%20%20%20%20%3Clink%20rel%3D%22stylesheet%22%20href%3D%22https%3A//cdnjs.cloudflare.com/ajax/libs/Leaflet.awesome-markers/2.0.2/leaflet.awesome-markers.css%22/%3E%0A%20%20%20%20%3Clink%20rel%3D%22stylesheet%22%20href%3D%22https%3A//cdn.jsdelivr.net/gh/python-visualization/folium/folium/templates/leaflet.awesome.rotate.min.css%22/%3E%0A%20%20%20%20%0A%20%20%20%20%20%20%20%20%20%20%20%20%3Cmeta%20name%3D%22viewport%22%20content%3D%22width%3Ddevice-width%2C%0A%20%20%20%20%20%20%20%20%20%20%20%20%20%20%20%20initial-scale%3D1.0%2C%20maximum-scale%3D1.0%2C%20user-scalable%3Dno%22%20/%3E%0A%20%20%20%20%20%20%20%20%20%20%20%20%3Cstyle%3E%0A%20%20%20%20%20%20%20%20%20%20%20%20%20%20%20%20%23map_5b5ea080bcd641b292d046fb17ea420d%20%7B%0A%20%20%20%20%20%20%20%20%20%20%20%20%20%20%20%20%20%20%20%20position%3A%20relative%3B%0A%20%20%20%20%20%20%20%20%20%20%20%20%20%20%20%20%20%20%20%20width%3A%20100.0%25%3B%0A%20%20%20%20%20%20%20%20%20%20%20%20%20%20%20%20%20%20%20%20height%3A%20100.0%25%3B%0A%20%20%20%20%20%20%20%20%20%20%20%20%20%20%20%20%20%20%20%20left%3A%200.0%25%3B%0A%20%20%20%20%20%20%20%20%20%20%20%20%20%20%20%20%20%20%20%20top%3A%200.0%25%3B%0A%20%20%20%20%20%20%20%20%20%20%20%20%20%20%20%20%7D%0A%20%20%20%20%20%20%20%20%20%20%20%20%3C/style%3E%0A%20%20%20%20%20%20%20%20%0A%3C/head%3E%0A%3Cbody%3E%20%20%20%20%0A%20%20%20%20%0A%20%20%20%20%20%20%20%20%20%20%20%20%3Cdiv%20class%3D%22folium-map%22%20id%3D%22map_5b5ea080bcd641b292d046fb17ea420d%22%20%3E%3C/div%3E%0A%20%20%20%20%20%20%20%20%0A%3C/body%3E%0A%3Cscript%3E%20%20%20%20%0A%20%20%20%20%0A%20%20%20%20%20%20%20%20%20%20%20%20var%20map_5b5ea080bcd641b292d046fb17ea420d%20%3D%20L.map%28%0A%20%20%20%20%20%20%20%20%20%20%20%20%20%20%20%20%22map_5b5ea080bcd641b292d046fb17ea420d%22%2C%0A%20%20%20%20%20%20%20%20%20%20%20%20%20%20%20%20%7B%0A%20%20%20%20%20%20%20%20%20%20%20%20%20%20%20%20%20%20%20%20center%3A%20%5B49.279862%2C%20-123.116838%5D%2C%0A%20%20%20%20%20%20%20%20%20%20%20%20%20%20%20%20%20%20%20%20crs%3A%20L.CRS.EPSG3857%2C%0A%20%20%20%20%20%20%20%20%20%20%20%20%20%20%20%20%20%20%20%20zoom%3A%2012%2C%0A%20%20%20%20%20%20%20%20%20%20%20%20%20%20%20%20%20%20%20%20zoomControl%3A%20true%2C%0A%20%20%20%20%20%20%20%20%20%20%20%20%20%20%20%20%20%20%20%20preferCanvas%3A%20false%2C%0A%20%20%20%20%20%20%20%20%20%20%20%20%20%20%20%20%7D%0A%20%20%20%20%20%20%20%20%20%20%20%20%29%3B%0A%0A%20%20%20%20%20%20%20%20%20%20%20%20%0A%0A%20%20%20%20%20%20%20%20%0A%20%20%20%20%0A%20%20%20%20%20%20%20%20%20%20%20%20var%20tile_layer_ee970f449c444661bb9387611ed0656e%20%3D%20L.tileLayer%28%0A%20%20%20%20%20%20%20%20%20%20%20%20%20%20%20%20%22https%3A//api.mapbox.com/v4/mapbox.satellite/%7Bz%7D/%7Bx%7D/%7By%7D%402x.png%3Faccess_token%3Dpk.eyJ1IjoianVuZXNwYWNlYm9vdHMiLCJhIjoiY2twY3g4aXloMWFlcDJzbXN3aG95aG5uZiJ9.mFiJt0MIfL1MiJ2rB2xhKQ%22%2C%0A%20%20%20%20%20%20%20%20%20%20%20%20%20%20%20%20%7B%22attribution%22%3A%20%22Mapbox%22%2C%20%22detectRetina%22%3A%20false%2C%20%22maxNativeZoom%22%3A%2018%2C%20%22maxZoom%22%3A%2018%2C%20%22minZoom%22%3A%200%2C%20%22noWrap%22%3A%20false%2C%20%22opacity%22%3A%201%2C%20%22subdomains%22%3A%20%22abc%22%2C%20%22tms%22%3A%20false%7D%0A%20%20%20%20%20%20%20%20%20%20%20%20%29.addTo%28map_5b5ea080bcd641b292d046fb17ea420d%29%3B%0A%20%20%20%20%20%20%20%20%0A%20%20%20%20%0A%20%20%20%20%20%20%20%20%20%20%20%20var%20circle_marker_9635ba2c815a4738b3c84eef6f9150cf%20%3D%20L.circleMarker%28%0A%20%20%20%20%20%20%20%20%20%20%20%20%20%20%20%20%5B49.279862%2C%20-123.116838%5D%2C%0A%20%20%20%20%20%20%20%20%20%20%20%20%20%20%20%20%7B%22bubblingMouseEvents%22%3A%20true%2C%20%22color%22%3A%20%22black%22%2C%20%22dashArray%22%3A%20null%2C%20%22dashOffset%22%3A%20null%2C%20%22fill%22%3A%20true%2C%20%22fillColor%22%3A%20%22blue%22%2C%20%22fillOpacity%22%3A%201%2C%20%22fillRule%22%3A%20%22evenodd%22%2C%20%22lineCap%22%3A%20%22round%22%2C%20%22lineJoin%22%3A%20%22round%22%2C%20%22opacity%22%3A%201.0%2C%20%22radius%22%3A%2010%2C%20%22stroke%22%3A%20true%2C%20%22weight%22%3A%203%7D%0A%20%20%20%20%20%20%20%20%20%20%20%20%29.addTo%28map_5b5ea080bcd641b292d046fb17ea420d%29%3B%0A%20%20%20%20%20%20%20%20%0A%20%20%20%20%0A%20%20%20%20%20%20%20%20var%20popup_ed79d146b1e0419b812c25600f7a8e30%20%3D%20L.popup%28%7B%22maxWidth%22%3A%20%22100%25%22%7D%29%3B%0A%0A%20%20%20%20%20%20%20%20%0A%20%20%20%20%20%20%20%20%20%20%20%20var%20html_336ad3f64da64ed2a8253e08393f881a%20%3D%20%24%28%60%3Cdiv%20id%3D%22html_336ad3f64da64ed2a8253e08393f881a%22%20style%3D%22width%3A%20100.0%25%3B%20height%3A%20100.0%25%3B%22%3EThe%20Westin%20Grand%2C%20433%20Robson%20Street%2C%20Vancouver%2C%20British%20Columbia%20V6B%206L9%2C%20Canada%3C/div%3E%60%29%5B0%5D%3B%0A%20%20%20%20%20%20%20%20%20%20%20%20popup_ed79d146b1e0419b812c25600f7a8e30.setContent%28html_336ad3f64da64ed2a8253e08393f881a%29%3B%0A%20%20%20%20%20%20%20%20%0A%0A%20%20%20%20%20%20%20%20circle_marker_9635ba2c815a4738b3c84eef6f9150cf.bindPopup%28popup_ed79d146b1e0419b812c25600f7a8e30%29%0A%20%20%20%20%20%20%20%20%3B%0A%0A%20%20%20%20%20%20%20%20%0A%20%20%20%20%0A%3C/script%3E onload=\"this.contentDocument.open();this.contentDocument.write(    decodeURIComponent(this.getAttribute('data-html')));this.contentDocument.close();\" allowfullscreen webkitallowfullscreen mozallowfullscreen></iframe></div></div>"
      ],
      "text/plain": [
       "<folium.folium.Map at 0x2a0db282190>"
      ]
     },
     "execution_count": 9,
     "metadata": {},
     "output_type": "execute_result"
    }
   ],
   "source": [
    "tileurl = 'https://api.mapbox.com/v4/mapbox.satellite/{z}/{x}/{y}@2x.png?access_token=' + str(access_token)\n",
    "Map3 = folium.Map(location=[Vancouver.latitude,Vancouver.longitude],\n",
    "                 zoom_start=12,\n",
    "                 tiles=tileurl, \n",
    "                 attr='Mapbox')\n",
    "\n",
    "point.add_to(Map3)\n",
    "\n",
    "Map3"
   ]
  },
  {
   "cell_type": "markdown",
   "metadata": {},
   "source": [
    "## Using functions to avoid repetition\n",
    "\n",
    "If we have multiple points to map, it would be redundant to type out the same command repeatedly.  We can create a [function](https://www.w3schools.com/python/python_functions.asp) to take some inputs and repeat the task for us."
   ]
  },
  {
   "cell_type": "code",
   "execution_count": 10,
   "metadata": {},
   "outputs": [
    {
     "data": {
      "text/html": [
       "<div style=\"width:100%;\"><div style=\"position:relative;width:100%;height:0;padding-bottom:60%;\"><span style=\"color:#565656\">Make this Notebook Trusted to load map: File -> Trust Notebook</span><iframe src=\"about:blank\" style=\"position:absolute;width:100%;height:100%;left:0;top:0;border:none !important;\" data-html=%3C%21DOCTYPE%20html%3E%0A%3Chead%3E%20%20%20%20%0A%20%20%20%20%3Cmeta%20http-equiv%3D%22content-type%22%20content%3D%22text/html%3B%20charset%3DUTF-8%22%20/%3E%0A%20%20%20%20%0A%20%20%20%20%20%20%20%20%3Cscript%3E%0A%20%20%20%20%20%20%20%20%20%20%20%20L_NO_TOUCH%20%3D%20false%3B%0A%20%20%20%20%20%20%20%20%20%20%20%20L_DISABLE_3D%20%3D%20false%3B%0A%20%20%20%20%20%20%20%20%3C/script%3E%0A%20%20%20%20%0A%20%20%20%20%3Cstyle%3Ehtml%2C%20body%20%7Bwidth%3A%20100%25%3Bheight%3A%20100%25%3Bmargin%3A%200%3Bpadding%3A%200%3B%7D%3C/style%3E%0A%20%20%20%20%3Cstyle%3E%23map%20%7Bposition%3Aabsolute%3Btop%3A0%3Bbottom%3A0%3Bright%3A0%3Bleft%3A0%3B%7D%3C/style%3E%0A%20%20%20%20%3Cscript%20src%3D%22https%3A//cdn.jsdelivr.net/npm/leaflet%401.6.0/dist/leaflet.js%22%3E%3C/script%3E%0A%20%20%20%20%3Cscript%20src%3D%22https%3A//code.jquery.com/jquery-1.12.4.min.js%22%3E%3C/script%3E%0A%20%20%20%20%3Cscript%20src%3D%22https%3A//maxcdn.bootstrapcdn.com/bootstrap/3.2.0/js/bootstrap.min.js%22%3E%3C/script%3E%0A%20%20%20%20%3Cscript%20src%3D%22https%3A//cdnjs.cloudflare.com/ajax/libs/Leaflet.awesome-markers/2.0.2/leaflet.awesome-markers.js%22%3E%3C/script%3E%0A%20%20%20%20%3Clink%20rel%3D%22stylesheet%22%20href%3D%22https%3A//cdn.jsdelivr.net/npm/leaflet%401.6.0/dist/leaflet.css%22/%3E%0A%20%20%20%20%3Clink%20rel%3D%22stylesheet%22%20href%3D%22https%3A//maxcdn.bootstrapcdn.com/bootstrap/3.2.0/css/bootstrap.min.css%22/%3E%0A%20%20%20%20%3Clink%20rel%3D%22stylesheet%22%20href%3D%22https%3A//maxcdn.bootstrapcdn.com/bootstrap/3.2.0/css/bootstrap-theme.min.css%22/%3E%0A%20%20%20%20%3Clink%20rel%3D%22stylesheet%22%20href%3D%22https%3A//maxcdn.bootstrapcdn.com/font-awesome/4.6.3/css/font-awesome.min.css%22/%3E%0A%20%20%20%20%3Clink%20rel%3D%22stylesheet%22%20href%3D%22https%3A//cdnjs.cloudflare.com/ajax/libs/Leaflet.awesome-markers/2.0.2/leaflet.awesome-markers.css%22/%3E%0A%20%20%20%20%3Clink%20rel%3D%22stylesheet%22%20href%3D%22https%3A//cdn.jsdelivr.net/gh/python-visualization/folium/folium/templates/leaflet.awesome.rotate.min.css%22/%3E%0A%20%20%20%20%0A%20%20%20%20%20%20%20%20%20%20%20%20%3Cmeta%20name%3D%22viewport%22%20content%3D%22width%3Ddevice-width%2C%0A%20%20%20%20%20%20%20%20%20%20%20%20%20%20%20%20initial-scale%3D1.0%2C%20maximum-scale%3D1.0%2C%20user-scalable%3Dno%22%20/%3E%0A%20%20%20%20%20%20%20%20%20%20%20%20%3Cstyle%3E%0A%20%20%20%20%20%20%20%20%20%20%20%20%20%20%20%20%23map_a7d09eca106b4746888bffed061168bf%20%7B%0A%20%20%20%20%20%20%20%20%20%20%20%20%20%20%20%20%20%20%20%20position%3A%20relative%3B%0A%20%20%20%20%20%20%20%20%20%20%20%20%20%20%20%20%20%20%20%20width%3A%20100.0%25%3B%0A%20%20%20%20%20%20%20%20%20%20%20%20%20%20%20%20%20%20%20%20height%3A%20100.0%25%3B%0A%20%20%20%20%20%20%20%20%20%20%20%20%20%20%20%20%20%20%20%20left%3A%200.0%25%3B%0A%20%20%20%20%20%20%20%20%20%20%20%20%20%20%20%20%20%20%20%20top%3A%200.0%25%3B%0A%20%20%20%20%20%20%20%20%20%20%20%20%20%20%20%20%7D%0A%20%20%20%20%20%20%20%20%20%20%20%20%3C/style%3E%0A%20%20%20%20%20%20%20%20%0A%3C/head%3E%0A%3Cbody%3E%20%20%20%20%0A%20%20%20%20%0A%20%20%20%20%20%20%20%20%20%20%20%20%3Cdiv%20class%3D%22folium-map%22%20id%3D%22map_a7d09eca106b4746888bffed061168bf%22%20%3E%3C/div%3E%0A%20%20%20%20%20%20%20%20%0A%3C/body%3E%0A%3Cscript%3E%20%20%20%20%0A%20%20%20%20%0A%20%20%20%20%20%20%20%20%20%20%20%20var%20map_a7d09eca106b4746888bffed061168bf%20%3D%20L.map%28%0A%20%20%20%20%20%20%20%20%20%20%20%20%20%20%20%20%22map_a7d09eca106b4746888bffed061168bf%22%2C%0A%20%20%20%20%20%20%20%20%20%20%20%20%20%20%20%20%7B%0A%20%20%20%20%20%20%20%20%20%20%20%20%20%20%20%20%20%20%20%20center%3A%20%5B0.0%2C%200.0%5D%2C%0A%20%20%20%20%20%20%20%20%20%20%20%20%20%20%20%20%20%20%20%20crs%3A%20L.CRS.EPSG3857%2C%0A%20%20%20%20%20%20%20%20%20%20%20%20%20%20%20%20%20%20%20%20zoom%3A%202%2C%0A%20%20%20%20%20%20%20%20%20%20%20%20%20%20%20%20%20%20%20%20zoomControl%3A%20true%2C%0A%20%20%20%20%20%20%20%20%20%20%20%20%20%20%20%20%20%20%20%20preferCanvas%3A%20false%2C%0A%20%20%20%20%20%20%20%20%20%20%20%20%20%20%20%20%7D%0A%20%20%20%20%20%20%20%20%20%20%20%20%29%3B%0A%0A%20%20%20%20%20%20%20%20%20%20%20%20%0A%0A%20%20%20%20%20%20%20%20%0A%20%20%20%20%0A%20%20%20%20%20%20%20%20%20%20%20%20var%20tile_layer_0bd8e804ab574b1f88ec4bd90f6efeba%20%3D%20L.tileLayer%28%0A%20%20%20%20%20%20%20%20%20%20%20%20%20%20%20%20%22https%3A//%7Bs%7D.tile.openstreetmap.org/%7Bz%7D/%7Bx%7D/%7By%7D.png%22%2C%0A%20%20%20%20%20%20%20%20%20%20%20%20%20%20%20%20%7B%22attribution%22%3A%20%22Data%20by%20%5Cu0026copy%3B%20%5Cu003ca%20href%3D%5C%22http%3A//openstreetmap.org%5C%22%5Cu003eOpenStreetMap%5Cu003c/a%5Cu003e%2C%20under%20%5Cu003ca%20href%3D%5C%22http%3A//www.openstreetmap.org/copyright%5C%22%5Cu003eODbL%5Cu003c/a%5Cu003e.%22%2C%20%22detectRetina%22%3A%20false%2C%20%22maxNativeZoom%22%3A%2018%2C%20%22maxZoom%22%3A%2018%2C%20%22minZoom%22%3A%200%2C%20%22noWrap%22%3A%20false%2C%20%22opacity%22%3A%201%2C%20%22subdomains%22%3A%20%22abc%22%2C%20%22tms%22%3A%20false%7D%0A%20%20%20%20%20%20%20%20%20%20%20%20%29.addTo%28map_a7d09eca106b4746888bffed061168bf%29%3B%0A%20%20%20%20%20%20%20%20%0A%20%20%20%20%0A%20%20%20%20%20%20%20%20%20%20%20%20var%20circle_marker_802dd473a81248b5aa3f4166880d57fe%20%3D%20L.circleMarker%28%0A%20%20%20%20%20%20%20%20%20%20%20%20%20%20%20%20%5B30.05611%2C%2031.23944%5D%2C%0A%20%20%20%20%20%20%20%20%20%20%20%20%20%20%20%20%7B%22bubblingMouseEvents%22%3A%20true%2C%20%22color%22%3A%20%22black%22%2C%20%22dashArray%22%3A%20null%2C%20%22dashOffset%22%3A%20null%2C%20%22fill%22%3A%20true%2C%20%22fillColor%22%3A%20%22red%22%2C%20%22fillOpacity%22%3A%200.75%2C%20%22fillRule%22%3A%20%22evenodd%22%2C%20%22lineCap%22%3A%20%22round%22%2C%20%22lineJoin%22%3A%20%22round%22%2C%20%22opacity%22%3A%201.0%2C%20%22radius%22%3A%205%2C%20%22stroke%22%3A%20true%2C%20%22weight%22%3A%203%7D%0A%20%20%20%20%20%20%20%20%20%20%20%20%29.addTo%28map_a7d09eca106b4746888bffed061168bf%29%3B%0A%20%20%20%20%20%20%20%20%0A%20%20%20%20%0A%20%20%20%20%20%20%20%20var%20popup_cc8200b5ab4f43a5b599f76271aad982%20%3D%20L.popup%28%7B%22maxWidth%22%3A%20%22100%25%22%7D%29%3B%0A%0A%20%20%20%20%20%20%20%20%0A%20%20%20%20%20%20%20%20%20%20%20%20var%20html_fadb00ce55a24c81a4fc3f725f731258%20%3D%20%24%28%60%3Cdiv%20id%3D%22html_fadb00ce55a24c81a4fc3f725f731258%22%20style%3D%22width%3A%20100.0%25%3B%20height%3A%20100.0%25%3B%22%3ECairo%20EG%3C/div%3E%60%29%5B0%5D%3B%0A%20%20%20%20%20%20%20%20%20%20%20%20popup_cc8200b5ab4f43a5b599f76271aad982.setContent%28html_fadb00ce55a24c81a4fc3f725f731258%29%3B%0A%20%20%20%20%20%20%20%20%0A%0A%20%20%20%20%20%20%20%20circle_marker_802dd473a81248b5aa3f4166880d57fe.bindPopup%28popup_cc8200b5ab4f43a5b599f76271aad982%29%0A%20%20%20%20%20%20%20%20%3B%0A%0A%20%20%20%20%20%20%20%20%0A%20%20%20%20%0A%20%20%20%20%0A%20%20%20%20%20%20%20%20%20%20%20%20var%20circle_marker_b15a957bfcd9418d9ad943864636f9c4%20%3D%20L.circleMarker%28%0A%20%20%20%20%20%20%20%20%20%20%20%20%20%20%20%20%5B51.515618%2C%20-0.091998%5D%2C%0A%20%20%20%20%20%20%20%20%20%20%20%20%20%20%20%20%7B%22bubblingMouseEvents%22%3A%20true%2C%20%22color%22%3A%20%22black%22%2C%20%22dashArray%22%3A%20null%2C%20%22dashOffset%22%3A%20null%2C%20%22fill%22%3A%20true%2C%20%22fillColor%22%3A%20%22red%22%2C%20%22fillOpacity%22%3A%200.75%2C%20%22fillRule%22%3A%20%22evenodd%22%2C%20%22lineCap%22%3A%20%22round%22%2C%20%22lineJoin%22%3A%20%22round%22%2C%20%22opacity%22%3A%201.0%2C%20%22radius%22%3A%205%2C%20%22stroke%22%3A%20true%2C%20%22weight%22%3A%203%7D%0A%20%20%20%20%20%20%20%20%20%20%20%20%29.addTo%28map_a7d09eca106b4746888bffed061168bf%29%3B%0A%20%20%20%20%20%20%20%20%0A%20%20%20%20%0A%20%20%20%20%20%20%20%20var%20popup_01f9c7844f934b17bb0ab4ba680c5bf8%20%3D%20L.popup%28%7B%22maxWidth%22%3A%20%22100%25%22%7D%29%3B%0A%0A%20%20%20%20%20%20%20%20%0A%20%20%20%20%20%20%20%20%20%20%20%20var%20html_6c52739d62a04fe5b252b770a9ee63e2%20%3D%20%24%28%60%3Cdiv%20id%3D%22html_6c52739d62a04fe5b252b770a9ee63e2%22%20style%3D%22width%3A%20100.0%25%3B%20height%3A%20100.0%25%3B%22%3ELondon%20UK%3C/div%3E%60%29%5B0%5D%3B%0A%20%20%20%20%20%20%20%20%20%20%20%20popup_01f9c7844f934b17bb0ab4ba680c5bf8.setContent%28html_6c52739d62a04fe5b252b770a9ee63e2%29%3B%0A%20%20%20%20%20%20%20%20%0A%0A%20%20%20%20%20%20%20%20circle_marker_b15a957bfcd9418d9ad943864636f9c4.bindPopup%28popup_01f9c7844f934b17bb0ab4ba680c5bf8%29%0A%20%20%20%20%20%20%20%20%3B%0A%0A%20%20%20%20%20%20%20%20%0A%20%20%20%20%0A%20%20%20%20%0A%20%20%20%20%20%20%20%20%20%20%20%20var%20circle_marker_f4859825a924489f9cfee11423ec26eb%20%3D%20L.circleMarker%28%0A%20%20%20%20%20%20%20%20%20%20%20%20%20%20%20%20%5B43.653482%2C%20-79.383935%5D%2C%0A%20%20%20%20%20%20%20%20%20%20%20%20%20%20%20%20%7B%22bubblingMouseEvents%22%3A%20true%2C%20%22color%22%3A%20%22black%22%2C%20%22dashArray%22%3A%20null%2C%20%22dashOffset%22%3A%20null%2C%20%22fill%22%3A%20true%2C%20%22fillColor%22%3A%20%22red%22%2C%20%22fillOpacity%22%3A%200.75%2C%20%22fillRule%22%3A%20%22evenodd%22%2C%20%22lineCap%22%3A%20%22round%22%2C%20%22lineJoin%22%3A%20%22round%22%2C%20%22opacity%22%3A%201.0%2C%20%22radius%22%3A%205%2C%20%22stroke%22%3A%20true%2C%20%22weight%22%3A%203%7D%0A%20%20%20%20%20%20%20%20%20%20%20%20%29.addTo%28map_a7d09eca106b4746888bffed061168bf%29%3B%0A%20%20%20%20%20%20%20%20%0A%20%20%20%20%0A%20%20%20%20%20%20%20%20var%20popup_46738f1eec4348bdb126f4818ef9de3f%20%3D%20L.popup%28%7B%22maxWidth%22%3A%20%22100%25%22%7D%29%3B%0A%0A%20%20%20%20%20%20%20%20%0A%20%20%20%20%20%20%20%20%20%20%20%20var%20html_ad1dbcb64de94ba0b353839c32d2c887%20%3D%20%24%28%60%3Cdiv%20id%3D%22html_ad1dbcb64de94ba0b353839c32d2c887%22%20style%3D%22width%3A%20100.0%25%3B%20height%3A%20100.0%25%3B%22%3EToronto%20CA%3C/div%3E%60%29%5B0%5D%3B%0A%20%20%20%20%20%20%20%20%20%20%20%20popup_46738f1eec4348bdb126f4818ef9de3f.setContent%28html_ad1dbcb64de94ba0b353839c32d2c887%29%3B%0A%20%20%20%20%20%20%20%20%0A%0A%20%20%20%20%20%20%20%20circle_marker_f4859825a924489f9cfee11423ec26eb.bindPopup%28popup_46738f1eec4348bdb126f4818ef9de3f%29%0A%20%20%20%20%20%20%20%20%3B%0A%0A%20%20%20%20%20%20%20%20%0A%20%20%20%20%0A%20%20%20%20%0A%20%20%20%20%20%20%20%20%20%20%20%20var%20circle_marker_2dfdc688667c44809586ac6c45568829%20%3D%20L.circleMarker%28%0A%20%20%20%20%20%20%20%20%20%20%20%20%20%20%20%20%5B-23.5507%2C%20-46.6334%5D%2C%0A%20%20%20%20%20%20%20%20%20%20%20%20%20%20%20%20%7B%22bubblingMouseEvents%22%3A%20true%2C%20%22color%22%3A%20%22black%22%2C%20%22dashArray%22%3A%20null%2C%20%22dashOffset%22%3A%20null%2C%20%22fill%22%3A%20true%2C%20%22fillColor%22%3A%20%22red%22%2C%20%22fillOpacity%22%3A%200.75%2C%20%22fillRule%22%3A%20%22evenodd%22%2C%20%22lineCap%22%3A%20%22round%22%2C%20%22lineJoin%22%3A%20%22round%22%2C%20%22opacity%22%3A%201.0%2C%20%22radius%22%3A%205%2C%20%22stroke%22%3A%20true%2C%20%22weight%22%3A%203%7D%0A%20%20%20%20%20%20%20%20%20%20%20%20%29.addTo%28map_a7d09eca106b4746888bffed061168bf%29%3B%0A%20%20%20%20%20%20%20%20%0A%20%20%20%20%0A%20%20%20%20%20%20%20%20var%20popup_6afe71b0cfdd4c4c863567b8e749b778%20%3D%20L.popup%28%7B%22maxWidth%22%3A%20%22100%25%22%7D%29%3B%0A%0A%20%20%20%20%20%20%20%20%0A%20%20%20%20%20%20%20%20%20%20%20%20var%20html_1c090e210e7f45a9af5f012530bb7c2f%20%3D%20%24%28%60%3Cdiv%20id%3D%22html_1c090e210e7f45a9af5f012530bb7c2f%22%20style%3D%22width%3A%20100.0%25%3B%20height%3A%20100.0%25%3B%22%3ESao%20Palo%20BR%3C/div%3E%60%29%5B0%5D%3B%0A%20%20%20%20%20%20%20%20%20%20%20%20popup_6afe71b0cfdd4c4c863567b8e749b778.setContent%28html_1c090e210e7f45a9af5f012530bb7c2f%29%3B%0A%20%20%20%20%20%20%20%20%0A%0A%20%20%20%20%20%20%20%20circle_marker_2dfdc688667c44809586ac6c45568829.bindPopup%28popup_6afe71b0cfdd4c4c863567b8e749b778%29%0A%20%20%20%20%20%20%20%20%3B%0A%0A%20%20%20%20%20%20%20%20%0A%20%20%20%20%0A%3C/script%3E onload=\"this.contentDocument.open();this.contentDocument.write(    decodeURIComponent(this.getAttribute('data-html')));this.contentDocument.close();\" allowfullscreen webkitallowfullscreen mozallowfullscreen></iframe></div></div>"
      ],
      "text/plain": [
       "<folium.folium.Map at 0x2a0db29b670>"
      ]
     },
     "execution_count": 10,
     "metadata": {},
     "output_type": "execute_result"
    }
   ],
   "source": [
    "# \"def\" defines our function \"plot_point()\", which takes five \"arguments\":\n",
    "    # Map: The map you're working with\n",
    "    # X & Y: lattitude & longitude\n",
    "    # Popup_Text: What do we want the popup to say?\n",
    "    # Color: We'll set a defualt, but we can override with what colour do we want\n",
    "        # Everything else will remain the same for every point, so we can set them as default values\n",
    "    # Defaults can be over written by assigning them anoter value\n",
    "def plot_point(Map,X,Y,Popup_Text,Color='red',Radius=5,Opacity=.75,LineColor='black',LineWidth=.15):\n",
    "    folium.CircleMarker(\n",
    "        # The coordiatnates\n",
    "        location=[X,Y],\n",
    "        # Text description\n",
    "        popup=Popup_Text,\n",
    "        # sets the fill color for the point\n",
    "        fill_color=Color,\n",
    "        # Size of the marker\n",
    "        radius=Radius,\n",
    "        # Opacity of the circle\n",
    "        fill_opacity = Opacity,\n",
    "        # Sets the line color for the edge\n",
    "        color=LineColor,\n",
    "        # Width of the border line\n",
    "        line_weight=LineWidth,\n",
    "    ).add_to(Map)\n",
    "    \n",
    "Map4 = folium.Map(\n",
    "location=[0,0],\n",
    "zoom_start=2,\n",
    ")\n",
    "\n",
    "for city in ['Cairo EG','London UK','Toronto CA','Sao Palo BR']:\n",
    "    Result = geolocator.geocode(city)\n",
    "    point = plot_point(Map4,Result.latitude,Result.longitude,city)\n",
    "\n",
    "\n",
    "Map4"
   ]
  },
  {
   "cell_type": "markdown",
   "metadata": {},
   "source": [
    "## Reverse geocoding\n",
    "\n",
    "You can also go \"backwards\", starting with coordinates and getting an address *provided its somewhere with an address*\n",
    "\n",
    "# Quiz Question 13!\n",
    "\n",
    "Why do you think reverse geocoding the coordinates for \"Location2\" & \"Location2\" failed to return results?"
   ]
  },
  {
   "cell_type": "code",
   "execution_count": 11,
   "metadata": {},
   "outputs": [
    {
     "name": "stdout",
     "output_type": "stream",
     "text": [
      "2300 West Mall - Sme:Ntásəm, University Hill, British Columbia V6T 1Z4, Canada 2300 West Mall - Sme:Ntásəm, University Hill, British Columbia V6T 1Z4, Canada\n",
      "None None\n",
      "None None\n"
     ]
    }
   ],
   "source": [
    "Location1 = ['49.2618188', '-123.2534169']\n",
    "Point = geolocator.reverse(Location1)\n",
    "print(Point,Point)\n",
    "\n",
    "# Note the different latitude\n",
    "Location2 = ['-49.2618188', '-123.2534169']\n",
    "Point = geolocator.reverse(Location2)\n",
    "print(Point,Point)\n",
    "\n",
    "\n",
    "# Note the different latitude\n",
    "Location3 = ['49.2618188', '-181.2534169']\n",
    "Point = geolocator.reverse(Location3)\n",
    "print(Point,Point)"
   ]
  },
  {
   "cell_type": "markdown",
   "metadata": {},
   "source": [
    "## Watch out for typos\n",
    "\n",
    "The functionality is fairly robust, but typos can cause errors in your results"
   ]
  },
  {
   "cell_type": "code",
   "execution_count": 12,
   "metadata": {},
   "outputs": [
    {
     "name": "stdout",
     "output_type": "stream",
     "text": [
      "Search Term:  2710 Fraser Vancouver BC\n",
      "Result:  2710 Fraser Street, Vancouver, British Columbia V5T 3V7, Canada\n",
      "\n",
      "Search Term:  2710 Faser Vancouver DC\n",
      "Result:  2710 Fraser Street, Vancouver, British Columbia V5T 3V7, Canada\n",
      "\n",
      "Search Term:  2710 Faster Vancouver DC\n",
      "Result:  DC Motorworks, 1010 Clark Drive, Vancouver, British Columbia V5L 3K8, Canada\n",
      "\n"
     ]
    },
    {
     "data": {
      "text/html": [
       "<div style=\"width:100%;\"><div style=\"position:relative;width:100%;height:0;padding-bottom:60%;\"><span style=\"color:#565656\">Make this Notebook Trusted to load map: File -> Trust Notebook</span><iframe src=\"about:blank\" style=\"position:absolute;width:100%;height:100%;left:0;top:0;border:none !important;\" data-html=%3C%21DOCTYPE%20html%3E%0A%3Chead%3E%20%20%20%20%0A%20%20%20%20%3Cmeta%20http-equiv%3D%22content-type%22%20content%3D%22text/html%3B%20charset%3DUTF-8%22%20/%3E%0A%20%20%20%20%0A%20%20%20%20%20%20%20%20%3Cscript%3E%0A%20%20%20%20%20%20%20%20%20%20%20%20L_NO_TOUCH%20%3D%20false%3B%0A%20%20%20%20%20%20%20%20%20%20%20%20L_DISABLE_3D%20%3D%20false%3B%0A%20%20%20%20%20%20%20%20%3C/script%3E%0A%20%20%20%20%0A%20%20%20%20%3Cstyle%3Ehtml%2C%20body%20%7Bwidth%3A%20100%25%3Bheight%3A%20100%25%3Bmargin%3A%200%3Bpadding%3A%200%3B%7D%3C/style%3E%0A%20%20%20%20%3Cstyle%3E%23map%20%7Bposition%3Aabsolute%3Btop%3A0%3Bbottom%3A0%3Bright%3A0%3Bleft%3A0%3B%7D%3C/style%3E%0A%20%20%20%20%3Cscript%20src%3D%22https%3A//cdn.jsdelivr.net/npm/leaflet%401.6.0/dist/leaflet.js%22%3E%3C/script%3E%0A%20%20%20%20%3Cscript%20src%3D%22https%3A//code.jquery.com/jquery-1.12.4.min.js%22%3E%3C/script%3E%0A%20%20%20%20%3Cscript%20src%3D%22https%3A//maxcdn.bootstrapcdn.com/bootstrap/3.2.0/js/bootstrap.min.js%22%3E%3C/script%3E%0A%20%20%20%20%3Cscript%20src%3D%22https%3A//cdnjs.cloudflare.com/ajax/libs/Leaflet.awesome-markers/2.0.2/leaflet.awesome-markers.js%22%3E%3C/script%3E%0A%20%20%20%20%3Clink%20rel%3D%22stylesheet%22%20href%3D%22https%3A//cdn.jsdelivr.net/npm/leaflet%401.6.0/dist/leaflet.css%22/%3E%0A%20%20%20%20%3Clink%20rel%3D%22stylesheet%22%20href%3D%22https%3A//maxcdn.bootstrapcdn.com/bootstrap/3.2.0/css/bootstrap.min.css%22/%3E%0A%20%20%20%20%3Clink%20rel%3D%22stylesheet%22%20href%3D%22https%3A//maxcdn.bootstrapcdn.com/bootstrap/3.2.0/css/bootstrap-theme.min.css%22/%3E%0A%20%20%20%20%3Clink%20rel%3D%22stylesheet%22%20href%3D%22https%3A//maxcdn.bootstrapcdn.com/font-awesome/4.6.3/css/font-awesome.min.css%22/%3E%0A%20%20%20%20%3Clink%20rel%3D%22stylesheet%22%20href%3D%22https%3A//cdnjs.cloudflare.com/ajax/libs/Leaflet.awesome-markers/2.0.2/leaflet.awesome-markers.css%22/%3E%0A%20%20%20%20%3Clink%20rel%3D%22stylesheet%22%20href%3D%22https%3A//cdn.jsdelivr.net/gh/python-visualization/folium/folium/templates/leaflet.awesome.rotate.min.css%22/%3E%0A%20%20%20%20%0A%20%20%20%20%20%20%20%20%20%20%20%20%3Cmeta%20name%3D%22viewport%22%20content%3D%22width%3Ddevice-width%2C%0A%20%20%20%20%20%20%20%20%20%20%20%20%20%20%20%20initial-scale%3D1.0%2C%20maximum-scale%3D1.0%2C%20user-scalable%3Dno%22%20/%3E%0A%20%20%20%20%20%20%20%20%20%20%20%20%3Cstyle%3E%0A%20%20%20%20%20%20%20%20%20%20%20%20%20%20%20%20%23map_e89a8155ca104336b24b954fe734ce93%20%7B%0A%20%20%20%20%20%20%20%20%20%20%20%20%20%20%20%20%20%20%20%20position%3A%20relative%3B%0A%20%20%20%20%20%20%20%20%20%20%20%20%20%20%20%20%20%20%20%20width%3A%20100.0%25%3B%0A%20%20%20%20%20%20%20%20%20%20%20%20%20%20%20%20%20%20%20%20height%3A%20100.0%25%3B%0A%20%20%20%20%20%20%20%20%20%20%20%20%20%20%20%20%20%20%20%20left%3A%200.0%25%3B%0A%20%20%20%20%20%20%20%20%20%20%20%20%20%20%20%20%20%20%20%20top%3A%200.0%25%3B%0A%20%20%20%20%20%20%20%20%20%20%20%20%20%20%20%20%7D%0A%20%20%20%20%20%20%20%20%20%20%20%20%3C/style%3E%0A%20%20%20%20%20%20%20%20%0A%3C/head%3E%0A%3Cbody%3E%20%20%20%20%0A%20%20%20%20%0A%20%20%20%20%20%20%20%20%20%20%20%20%3Cdiv%20class%3D%22folium-map%22%20id%3D%22map_e89a8155ca104336b24b954fe734ce93%22%20%3E%3C/div%3E%0A%20%20%20%20%20%20%20%20%0A%3C/body%3E%0A%3Cscript%3E%20%20%20%20%0A%20%20%20%20%0A%20%20%20%20%20%20%20%20%20%20%20%20var%20map_e89a8155ca104336b24b954fe734ce93%20%3D%20L.map%28%0A%20%20%20%20%20%20%20%20%20%20%20%20%20%20%20%20%22map_e89a8155ca104336b24b954fe734ce93%22%2C%0A%20%20%20%20%20%20%20%20%20%20%20%20%20%20%20%20%7B%0A%20%20%20%20%20%20%20%20%20%20%20%20%20%20%20%20%20%20%20%20center%3A%20%5B49.279862%2C%20-123.116838%5D%2C%0A%20%20%20%20%20%20%20%20%20%20%20%20%20%20%20%20%20%20%20%20crs%3A%20L.CRS.EPSG3857%2C%0A%20%20%20%20%20%20%20%20%20%20%20%20%20%20%20%20%20%20%20%20zoom%3A%2011%2C%0A%20%20%20%20%20%20%20%20%20%20%20%20%20%20%20%20%20%20%20%20zoomControl%3A%20true%2C%0A%20%20%20%20%20%20%20%20%20%20%20%20%20%20%20%20%20%20%20%20preferCanvas%3A%20false%2C%0A%20%20%20%20%20%20%20%20%20%20%20%20%20%20%20%20%7D%0A%20%20%20%20%20%20%20%20%20%20%20%20%29%3B%0A%0A%20%20%20%20%20%20%20%20%20%20%20%20%0A%0A%20%20%20%20%20%20%20%20%0A%20%20%20%20%0A%20%20%20%20%20%20%20%20%20%20%20%20var%20tile_layer_545363a9d1734838a997015d16d4d5c6%20%3D%20L.tileLayer%28%0A%20%20%20%20%20%20%20%20%20%20%20%20%20%20%20%20%22https%3A//api.mapbox.com/v4/mapbox.satellite/%7Bz%7D/%7Bx%7D/%7By%7D%402x.png%3Faccess_token%3Dpk.eyJ1IjoianVuZXNwYWNlYm9vdHMiLCJhIjoiY2twY3g4aXloMWFlcDJzbXN3aG95aG5uZiJ9.mFiJt0MIfL1MiJ2rB2xhKQ%22%2C%0A%20%20%20%20%20%20%20%20%20%20%20%20%20%20%20%20%7B%22attribution%22%3A%20%22Mapbox%22%2C%20%22detectRetina%22%3A%20false%2C%20%22maxNativeZoom%22%3A%2018%2C%20%22maxZoom%22%3A%2018%2C%20%22minZoom%22%3A%200%2C%20%22noWrap%22%3A%20false%2C%20%22opacity%22%3A%201%2C%20%22subdomains%22%3A%20%22abc%22%2C%20%22tms%22%3A%20false%7D%0A%20%20%20%20%20%20%20%20%20%20%20%20%29.addTo%28map_e89a8155ca104336b24b954fe734ce93%29%3B%0A%20%20%20%20%20%20%20%20%0A%20%20%20%20%0A%20%20%20%20%20%20%20%20%20%20%20%20var%20circle_marker_d28aef4b01cc4d94961216676b841dbb%20%3D%20L.circleMarker%28%0A%20%20%20%20%20%20%20%20%20%20%20%20%20%20%20%20%5B49.260435%2C%20-123.088888%5D%2C%0A%20%20%20%20%20%20%20%20%20%20%20%20%20%20%20%20%7B%22bubblingMouseEvents%22%3A%20true%2C%20%22color%22%3A%20%22black%22%2C%20%22dashArray%22%3A%20null%2C%20%22dashOffset%22%3A%20null%2C%20%22fill%22%3A%20true%2C%20%22fillColor%22%3A%20%22red%22%2C%20%22fillOpacity%22%3A%200.75%2C%20%22fillRule%22%3A%20%22evenodd%22%2C%20%22lineCap%22%3A%20%22round%22%2C%20%22lineJoin%22%3A%20%22round%22%2C%20%22opacity%22%3A%201.0%2C%20%22radius%22%3A%205%2C%20%22stroke%22%3A%20true%2C%20%22weight%22%3A%203%7D%0A%20%20%20%20%20%20%20%20%20%20%20%20%29.addTo%28map_e89a8155ca104336b24b954fe734ce93%29%3B%0A%20%20%20%20%20%20%20%20%0A%20%20%20%20%0A%20%20%20%20%20%20%20%20var%20popup_56f39518b3be46d0b77fdd61723f5f06%20%3D%20L.popup%28%7B%22maxWidth%22%3A%20%22100%25%22%7D%29%3B%0A%0A%20%20%20%20%20%20%20%20%0A%20%20%20%20%20%20%20%20%20%20%20%20var%20html_885daa6bc3a74c86aec4422ee1e52906%20%3D%20%24%28%60%3Cdiv%20id%3D%22html_885daa6bc3a74c86aec4422ee1e52906%22%20style%3D%22width%3A%20100.0%25%3B%20height%3A%20100.0%25%3B%22%3E2710%20Fraser%20Street%2C%20Vancouver%2C%20British%20Columbia%20V5T%203V7%2C%20Canada%3C/div%3E%60%29%5B0%5D%3B%0A%20%20%20%20%20%20%20%20%20%20%20%20popup_56f39518b3be46d0b77fdd61723f5f06.setContent%28html_885daa6bc3a74c86aec4422ee1e52906%29%3B%0A%20%20%20%20%20%20%20%20%0A%0A%20%20%20%20%20%20%20%20circle_marker_d28aef4b01cc4d94961216676b841dbb.bindPopup%28popup_56f39518b3be46d0b77fdd61723f5f06%29%0A%20%20%20%20%20%20%20%20%3B%0A%0A%20%20%20%20%20%20%20%20%0A%20%20%20%20%0A%20%20%20%20%0A%20%20%20%20%20%20%20%20%20%20%20%20var%20circle_marker_a7354df6ced44c7da4576760d17c2bd1%20%3D%20L.circleMarker%28%0A%20%20%20%20%20%20%20%20%20%20%20%20%20%20%20%20%5B49.260435%2C%20-123.088888%5D%2C%0A%20%20%20%20%20%20%20%20%20%20%20%20%20%20%20%20%7B%22bubblingMouseEvents%22%3A%20true%2C%20%22color%22%3A%20%22black%22%2C%20%22dashArray%22%3A%20null%2C%20%22dashOffset%22%3A%20null%2C%20%22fill%22%3A%20true%2C%20%22fillColor%22%3A%20%22red%22%2C%20%22fillOpacity%22%3A%200.75%2C%20%22fillRule%22%3A%20%22evenodd%22%2C%20%22lineCap%22%3A%20%22round%22%2C%20%22lineJoin%22%3A%20%22round%22%2C%20%22opacity%22%3A%201.0%2C%20%22radius%22%3A%205%2C%20%22stroke%22%3A%20true%2C%20%22weight%22%3A%203%7D%0A%20%20%20%20%20%20%20%20%20%20%20%20%29.addTo%28map_e89a8155ca104336b24b954fe734ce93%29%3B%0A%20%20%20%20%20%20%20%20%0A%20%20%20%20%0A%20%20%20%20%20%20%20%20var%20popup_e6cdeea9f8b94c9187f356e5eec85e1a%20%3D%20L.popup%28%7B%22maxWidth%22%3A%20%22100%25%22%7D%29%3B%0A%0A%20%20%20%20%20%20%20%20%0A%20%20%20%20%20%20%20%20%20%20%20%20var%20html_7df917188aba4d0682197a7209521048%20%3D%20%24%28%60%3Cdiv%20id%3D%22html_7df917188aba4d0682197a7209521048%22%20style%3D%22width%3A%20100.0%25%3B%20height%3A%20100.0%25%3B%22%3E2710%20Fraser%20Street%2C%20Vancouver%2C%20British%20Columbia%20V5T%203V7%2C%20Canada%3C/div%3E%60%29%5B0%5D%3B%0A%20%20%20%20%20%20%20%20%20%20%20%20popup_e6cdeea9f8b94c9187f356e5eec85e1a.setContent%28html_7df917188aba4d0682197a7209521048%29%3B%0A%20%20%20%20%20%20%20%20%0A%0A%20%20%20%20%20%20%20%20circle_marker_a7354df6ced44c7da4576760d17c2bd1.bindPopup%28popup_e6cdeea9f8b94c9187f356e5eec85e1a%29%0A%20%20%20%20%20%20%20%20%3B%0A%0A%20%20%20%20%20%20%20%20%0A%20%20%20%20%0A%20%20%20%20%0A%20%20%20%20%20%20%20%20%20%20%20%20var%20circle_marker_0c212b8d41df4387add0b0dbf70e17f7%20%3D%20L.circleMarker%28%0A%20%20%20%20%20%20%20%20%20%20%20%20%20%20%20%20%5B49.272962%2C%20-123.076858%5D%2C%0A%20%20%20%20%20%20%20%20%20%20%20%20%20%20%20%20%7B%22bubblingMouseEvents%22%3A%20true%2C%20%22color%22%3A%20%22black%22%2C%20%22dashArray%22%3A%20null%2C%20%22dashOffset%22%3A%20null%2C%20%22fill%22%3A%20true%2C%20%22fillColor%22%3A%20%22red%22%2C%20%22fillOpacity%22%3A%200.75%2C%20%22fillRule%22%3A%20%22evenodd%22%2C%20%22lineCap%22%3A%20%22round%22%2C%20%22lineJoin%22%3A%20%22round%22%2C%20%22opacity%22%3A%201.0%2C%20%22radius%22%3A%205%2C%20%22stroke%22%3A%20true%2C%20%22weight%22%3A%203%7D%0A%20%20%20%20%20%20%20%20%20%20%20%20%29.addTo%28map_e89a8155ca104336b24b954fe734ce93%29%3B%0A%20%20%20%20%20%20%20%20%0A%20%20%20%20%0A%20%20%20%20%20%20%20%20var%20popup_2511c408dc38430fbecfdfc4bcbf36e1%20%3D%20L.popup%28%7B%22maxWidth%22%3A%20%22100%25%22%7D%29%3B%0A%0A%20%20%20%20%20%20%20%20%0A%20%20%20%20%20%20%20%20%20%20%20%20var%20html_a6341f50d43e41dd930e7812e5a9a8bd%20%3D%20%24%28%60%3Cdiv%20id%3D%22html_a6341f50d43e41dd930e7812e5a9a8bd%22%20style%3D%22width%3A%20100.0%25%3B%20height%3A%20100.0%25%3B%22%3EDC%20Motorworks%2C%201010%20Clark%20Drive%2C%20Vancouver%2C%20British%20Columbia%20V5L%203K8%2C%20Canada%3C/div%3E%60%29%5B0%5D%3B%0A%20%20%20%20%20%20%20%20%20%20%20%20popup_2511c408dc38430fbecfdfc4bcbf36e1.setContent%28html_a6341f50d43e41dd930e7812e5a9a8bd%29%3B%0A%20%20%20%20%20%20%20%20%0A%0A%20%20%20%20%20%20%20%20circle_marker_0c212b8d41df4387add0b0dbf70e17f7.bindPopup%28popup_2511c408dc38430fbecfdfc4bcbf36e1%29%0A%20%20%20%20%20%20%20%20%3B%0A%0A%20%20%20%20%20%20%20%20%0A%20%20%20%20%0A%3C/script%3E onload=\"this.contentDocument.open();this.contentDocument.write(    decodeURIComponent(this.getAttribute('data-html')));this.contentDocument.close();\" allowfullscreen webkitallowfullscreen mozallowfullscreen></iframe></div></div>"
      ],
      "text/plain": [
       "<folium.folium.Map at 0x2a0db282fa0>"
      ]
     },
     "execution_count": 12,
     "metadata": {},
     "output_type": "execute_result"
    }
   ],
   "source": [
    "Map5 = folium.Map(location=[Vancouver.latitude,Vancouver.longitude],\n",
    "                 zoom_start=11,\n",
    "                 tiles=tileurl, \n",
    "                 attr='Mapbox')\n",
    "\n",
    "for typo in [\"2710 Fraser Vancouver BC\",\n",
    "             \"2710 Faser Vancouver DC\",\n",
    "             \"2710 Faster Vancouver DC\"]:\n",
    "    UBC_Geography = geolocator.geocode(typo)\n",
    "\n",
    "    point = plot_point(Map5,UBC_Geography.latitude,UBC_Geography.longitude,UBC_Geography)\n",
    "\n",
    "    print('Search Term: ', typo)\n",
    "    print('Result: ', UBC_Geography)\n",
    "    print()\n",
    "\n",
    "Map5"
   ]
  },
  {
   "cell_type": "markdown",
   "metadata": {},
   "source": [
    "## Ambiguity\n",
    "\n",
    "It is important to be specific when submitting queries.  The more information the geocoder has to work with, the more accurate your result.\n",
    "\n",
    "### Can anyone think of any other cities to try?"
   ]
  },
  {
   "cell_type": "code",
   "execution_count": 13,
   "metadata": {},
   "outputs": [
    {
     "name": "stdout",
     "output_type": "stream",
     "text": [
      "Search Term:  Surrey, England, United Kingdom\n",
      "Result:  Surrey, England, United Kingdom\n",
      "\n",
      "Search Term:  Surrey, British Columbia, Canada\n",
      "Result:  Surrey, British Columbia, Canada\n",
      "\n",
      "Search Term:  Victoria, Australia\n",
      "Result:  Victoria, Australia\n",
      "\n",
      "Search Term:  Victoria, British Columbia, Canada\n",
      "Result:  Victoria, British Columbia, Canada\n",
      "\n"
     ]
    },
    {
     "data": {
      "text/html": [
       "<div style=\"width:100%;\"><div style=\"position:relative;width:100%;height:0;padding-bottom:60%;\"><span style=\"color:#565656\">Make this Notebook Trusted to load map: File -> Trust Notebook</span><iframe src=\"about:blank\" style=\"position:absolute;width:100%;height:100%;left:0;top:0;border:none !important;\" data-html=%3C%21DOCTYPE%20html%3E%0A%3Chead%3E%20%20%20%20%0A%20%20%20%20%3Cmeta%20http-equiv%3D%22content-type%22%20content%3D%22text/html%3B%20charset%3DUTF-8%22%20/%3E%0A%20%20%20%20%0A%20%20%20%20%20%20%20%20%3Cscript%3E%0A%20%20%20%20%20%20%20%20%20%20%20%20L_NO_TOUCH%20%3D%20false%3B%0A%20%20%20%20%20%20%20%20%20%20%20%20L_DISABLE_3D%20%3D%20false%3B%0A%20%20%20%20%20%20%20%20%3C/script%3E%0A%20%20%20%20%0A%20%20%20%20%3Cstyle%3Ehtml%2C%20body%20%7Bwidth%3A%20100%25%3Bheight%3A%20100%25%3Bmargin%3A%200%3Bpadding%3A%200%3B%7D%3C/style%3E%0A%20%20%20%20%3Cstyle%3E%23map%20%7Bposition%3Aabsolute%3Btop%3A0%3Bbottom%3A0%3Bright%3A0%3Bleft%3A0%3B%7D%3C/style%3E%0A%20%20%20%20%3Cscript%20src%3D%22https%3A//cdn.jsdelivr.net/npm/leaflet%401.6.0/dist/leaflet.js%22%3E%3C/script%3E%0A%20%20%20%20%3Cscript%20src%3D%22https%3A//code.jquery.com/jquery-1.12.4.min.js%22%3E%3C/script%3E%0A%20%20%20%20%3Cscript%20src%3D%22https%3A//maxcdn.bootstrapcdn.com/bootstrap/3.2.0/js/bootstrap.min.js%22%3E%3C/script%3E%0A%20%20%20%20%3Cscript%20src%3D%22https%3A//cdnjs.cloudflare.com/ajax/libs/Leaflet.awesome-markers/2.0.2/leaflet.awesome-markers.js%22%3E%3C/script%3E%0A%20%20%20%20%3Clink%20rel%3D%22stylesheet%22%20href%3D%22https%3A//cdn.jsdelivr.net/npm/leaflet%401.6.0/dist/leaflet.css%22/%3E%0A%20%20%20%20%3Clink%20rel%3D%22stylesheet%22%20href%3D%22https%3A//maxcdn.bootstrapcdn.com/bootstrap/3.2.0/css/bootstrap.min.css%22/%3E%0A%20%20%20%20%3Clink%20rel%3D%22stylesheet%22%20href%3D%22https%3A//maxcdn.bootstrapcdn.com/bootstrap/3.2.0/css/bootstrap-theme.min.css%22/%3E%0A%20%20%20%20%3Clink%20rel%3D%22stylesheet%22%20href%3D%22https%3A//maxcdn.bootstrapcdn.com/font-awesome/4.6.3/css/font-awesome.min.css%22/%3E%0A%20%20%20%20%3Clink%20rel%3D%22stylesheet%22%20href%3D%22https%3A//cdnjs.cloudflare.com/ajax/libs/Leaflet.awesome-markers/2.0.2/leaflet.awesome-markers.css%22/%3E%0A%20%20%20%20%3Clink%20rel%3D%22stylesheet%22%20href%3D%22https%3A//cdn.jsdelivr.net/gh/python-visualization/folium/folium/templates/leaflet.awesome.rotate.min.css%22/%3E%0A%20%20%20%20%0A%20%20%20%20%20%20%20%20%20%20%20%20%3Cmeta%20name%3D%22viewport%22%20content%3D%22width%3Ddevice-width%2C%0A%20%20%20%20%20%20%20%20%20%20%20%20%20%20%20%20initial-scale%3D1.0%2C%20maximum-scale%3D1.0%2C%20user-scalable%3Dno%22%20/%3E%0A%20%20%20%20%20%20%20%20%20%20%20%20%3Cstyle%3E%0A%20%20%20%20%20%20%20%20%20%20%20%20%20%20%20%20%23map_cac5d842cd4a444aaea703b33759a320%20%7B%0A%20%20%20%20%20%20%20%20%20%20%20%20%20%20%20%20%20%20%20%20position%3A%20relative%3B%0A%20%20%20%20%20%20%20%20%20%20%20%20%20%20%20%20%20%20%20%20width%3A%20100.0%25%3B%0A%20%20%20%20%20%20%20%20%20%20%20%20%20%20%20%20%20%20%20%20height%3A%20100.0%25%3B%0A%20%20%20%20%20%20%20%20%20%20%20%20%20%20%20%20%20%20%20%20left%3A%200.0%25%3B%0A%20%20%20%20%20%20%20%20%20%20%20%20%20%20%20%20%20%20%20%20top%3A%200.0%25%3B%0A%20%20%20%20%20%20%20%20%20%20%20%20%20%20%20%20%7D%0A%20%20%20%20%20%20%20%20%20%20%20%20%3C/style%3E%0A%20%20%20%20%20%20%20%20%0A%3C/head%3E%0A%3Cbody%3E%20%20%20%20%0A%20%20%20%20%0A%20%20%20%20%20%20%20%20%20%20%20%20%3Cdiv%20class%3D%22folium-map%22%20id%3D%22map_cac5d842cd4a444aaea703b33759a320%22%20%3E%3C/div%3E%0A%20%20%20%20%20%20%20%20%0A%3C/body%3E%0A%3Cscript%3E%20%20%20%20%0A%20%20%20%20%0A%20%20%20%20%20%20%20%20%20%20%20%20var%20map_cac5d842cd4a444aaea703b33759a320%20%3D%20L.map%28%0A%20%20%20%20%20%20%20%20%20%20%20%20%20%20%20%20%22map_cac5d842cd4a444aaea703b33759a320%22%2C%0A%20%20%20%20%20%20%20%20%20%20%20%20%20%20%20%20%7B%0A%20%20%20%20%20%20%20%20%20%20%20%20%20%20%20%20%20%20%20%20center%3A%20%5B0.0%2C%200.0%5D%2C%0A%20%20%20%20%20%20%20%20%20%20%20%20%20%20%20%20%20%20%20%20crs%3A%20L.CRS.EPSG3857%2C%0A%20%20%20%20%20%20%20%20%20%20%20%20%20%20%20%20%20%20%20%20zoom%3A%202%2C%0A%20%20%20%20%20%20%20%20%20%20%20%20%20%20%20%20%20%20%20%20zoomControl%3A%20true%2C%0A%20%20%20%20%20%20%20%20%20%20%20%20%20%20%20%20%20%20%20%20preferCanvas%3A%20false%2C%0A%20%20%20%20%20%20%20%20%20%20%20%20%20%20%20%20%7D%0A%20%20%20%20%20%20%20%20%20%20%20%20%29%3B%0A%0A%20%20%20%20%20%20%20%20%20%20%20%20%0A%0A%20%20%20%20%20%20%20%20%0A%20%20%20%20%0A%20%20%20%20%20%20%20%20%20%20%20%20var%20tile_layer_63923639f6584d6595b1f9cbc9d3aa9e%20%3D%20L.tileLayer%28%0A%20%20%20%20%20%20%20%20%20%20%20%20%20%20%20%20%22https%3A//stamen-tiles-%7Bs%7D.a.ssl.fastly.net/toner/%7Bz%7D/%7Bx%7D/%7By%7D.png%22%2C%0A%20%20%20%20%20%20%20%20%20%20%20%20%20%20%20%20%7B%22attribution%22%3A%20%22Map%20tiles%20by%20%5Cu003ca%20href%3D%5C%22http%3A//stamen.com%5C%22%5Cu003eStamen%20Design%5Cu003c/a%5Cu003e%2C%20under%20%5Cu003ca%20href%3D%5C%22http%3A//creativecommons.org/licenses/by/3.0%5C%22%5Cu003eCC%20BY%203.0%5Cu003c/a%5Cu003e.%20Data%20by%20%5Cu0026copy%3B%20%5Cu003ca%20href%3D%5C%22http%3A//openstreetmap.org%5C%22%5Cu003eOpenStreetMap%5Cu003c/a%5Cu003e%2C%20under%20%5Cu003ca%20href%3D%5C%22http%3A//www.openstreetmap.org/copyright%5C%22%5Cu003eODbL%5Cu003c/a%5Cu003e.%22%2C%20%22detectRetina%22%3A%20false%2C%20%22maxNativeZoom%22%3A%2018%2C%20%22maxZoom%22%3A%2018%2C%20%22minZoom%22%3A%200%2C%20%22noWrap%22%3A%20false%2C%20%22opacity%22%3A%201%2C%20%22subdomains%22%3A%20%22abc%22%2C%20%22tms%22%3A%20false%7D%0A%20%20%20%20%20%20%20%20%20%20%20%20%29.addTo%28map_cac5d842cd4a444aaea703b33759a320%29%3B%0A%20%20%20%20%20%20%20%20%0A%20%20%20%20%0A%20%20%20%20%20%20%20%20%20%20%20%20var%20circle_marker_279109de9d1f404bb498a05b709c514e%20%3D%20L.circleMarker%28%0A%20%20%20%20%20%20%20%20%20%20%20%20%20%20%20%20%5B51.25%2C%20-0.3333%5D%2C%0A%20%20%20%20%20%20%20%20%20%20%20%20%20%20%20%20%7B%22bubblingMouseEvents%22%3A%20true%2C%20%22color%22%3A%20%22black%22%2C%20%22dashArray%22%3A%20null%2C%20%22dashOffset%22%3A%20null%2C%20%22fill%22%3A%20true%2C%20%22fillColor%22%3A%20%22red%22%2C%20%22fillOpacity%22%3A%200.75%2C%20%22fillRule%22%3A%20%22evenodd%22%2C%20%22lineCap%22%3A%20%22round%22%2C%20%22lineJoin%22%3A%20%22round%22%2C%20%22opacity%22%3A%201.0%2C%20%22radius%22%3A%2015%2C%20%22stroke%22%3A%20true%2C%20%22weight%22%3A%203%7D%0A%20%20%20%20%20%20%20%20%20%20%20%20%29.addTo%28map_cac5d842cd4a444aaea703b33759a320%29%3B%0A%20%20%20%20%20%20%20%20%0A%20%20%20%20%0A%20%20%20%20%20%20%20%20var%20popup_44712aebf93a42718116689bd1196b7e%20%3D%20L.popup%28%7B%22maxWidth%22%3A%20%22100%25%22%7D%29%3B%0A%0A%20%20%20%20%20%20%20%20%0A%20%20%20%20%20%20%20%20%20%20%20%20var%20html_0390f6ede8f94caeb247f1be546fa79e%20%3D%20%24%28%60%3Cdiv%20id%3D%22html_0390f6ede8f94caeb247f1be546fa79e%22%20style%3D%22width%3A%20100.0%25%3B%20height%3A%20100.0%25%3B%22%3ESurrey%2C%20England%2C%20United%20Kingdom%3C/div%3E%60%29%5B0%5D%3B%0A%20%20%20%20%20%20%20%20%20%20%20%20popup_44712aebf93a42718116689bd1196b7e.setContent%28html_0390f6ede8f94caeb247f1be546fa79e%29%3B%0A%20%20%20%20%20%20%20%20%0A%0A%20%20%20%20%20%20%20%20circle_marker_279109de9d1f404bb498a05b709c514e.bindPopup%28popup_44712aebf93a42718116689bd1196b7e%29%0A%20%20%20%20%20%20%20%20%3B%0A%0A%20%20%20%20%20%20%20%20%0A%20%20%20%20%0A%20%20%20%20%0A%20%20%20%20%20%20%20%20%20%20%20%20var%20circle_marker_89100e981b7c4e7f9b0dbcda23e7f630%20%3D%20L.circleMarker%28%0A%20%20%20%20%20%20%20%20%20%20%20%20%20%20%20%20%5B49.191303%2C%20-122.849144%5D%2C%0A%20%20%20%20%20%20%20%20%20%20%20%20%20%20%20%20%7B%22bubblingMouseEvents%22%3A%20true%2C%20%22color%22%3A%20%22black%22%2C%20%22dashArray%22%3A%20null%2C%20%22dashOffset%22%3A%20null%2C%20%22fill%22%3A%20true%2C%20%22fillColor%22%3A%20%22red%22%2C%20%22fillOpacity%22%3A%200.75%2C%20%22fillRule%22%3A%20%22evenodd%22%2C%20%22lineCap%22%3A%20%22round%22%2C%20%22lineJoin%22%3A%20%22round%22%2C%20%22opacity%22%3A%201.0%2C%20%22radius%22%3A%2015%2C%20%22stroke%22%3A%20true%2C%20%22weight%22%3A%203%7D%0A%20%20%20%20%20%20%20%20%20%20%20%20%29.addTo%28map_cac5d842cd4a444aaea703b33759a320%29%3B%0A%20%20%20%20%20%20%20%20%0A%20%20%20%20%0A%20%20%20%20%20%20%20%20var%20popup_b03a43d39fc44323803c408af239567c%20%3D%20L.popup%28%7B%22maxWidth%22%3A%20%22100%25%22%7D%29%3B%0A%0A%20%20%20%20%20%20%20%20%0A%20%20%20%20%20%20%20%20%20%20%20%20var%20html_23d87ac5126c4f3a9f10b9faa80e9c12%20%3D%20%24%28%60%3Cdiv%20id%3D%22html_23d87ac5126c4f3a9f10b9faa80e9c12%22%20style%3D%22width%3A%20100.0%25%3B%20height%3A%20100.0%25%3B%22%3ESurrey%2C%20British%20Columbia%2C%20Canada%3C/div%3E%60%29%5B0%5D%3B%0A%20%20%20%20%20%20%20%20%20%20%20%20popup_b03a43d39fc44323803c408af239567c.setContent%28html_23d87ac5126c4f3a9f10b9faa80e9c12%29%3B%0A%20%20%20%20%20%20%20%20%0A%0A%20%20%20%20%20%20%20%20circle_marker_89100e981b7c4e7f9b0dbcda23e7f630.bindPopup%28popup_b03a43d39fc44323803c408af239567c%29%0A%20%20%20%20%20%20%20%20%3B%0A%0A%20%20%20%20%20%20%20%20%0A%20%20%20%20%0A%20%20%20%20%0A%20%20%20%20%20%20%20%20%20%20%20%20var%20circle_marker_e45b89adaf954db5aa4db096c4abbd38%20%3D%20L.circleMarker%28%0A%20%20%20%20%20%20%20%20%20%20%20%20%20%20%20%20%5B-37.0%2C%20144.0%5D%2C%0A%20%20%20%20%20%20%20%20%20%20%20%20%20%20%20%20%7B%22bubblingMouseEvents%22%3A%20true%2C%20%22color%22%3A%20%22black%22%2C%20%22dashArray%22%3A%20null%2C%20%22dashOffset%22%3A%20null%2C%20%22fill%22%3A%20true%2C%20%22fillColor%22%3A%20%22red%22%2C%20%22fillOpacity%22%3A%200.75%2C%20%22fillRule%22%3A%20%22evenodd%22%2C%20%22lineCap%22%3A%20%22round%22%2C%20%22lineJoin%22%3A%20%22round%22%2C%20%22opacity%22%3A%201.0%2C%20%22radius%22%3A%2015%2C%20%22stroke%22%3A%20true%2C%20%22weight%22%3A%203%7D%0A%20%20%20%20%20%20%20%20%20%20%20%20%29.addTo%28map_cac5d842cd4a444aaea703b33759a320%29%3B%0A%20%20%20%20%20%20%20%20%0A%20%20%20%20%0A%20%20%20%20%20%20%20%20var%20popup_97af1a95953b4122b805bf94434f78b0%20%3D%20L.popup%28%7B%22maxWidth%22%3A%20%22100%25%22%7D%29%3B%0A%0A%20%20%20%20%20%20%20%20%0A%20%20%20%20%20%20%20%20%20%20%20%20var%20html_1f48dca1e974420890835b5b5dd23836%20%3D%20%24%28%60%3Cdiv%20id%3D%22html_1f48dca1e974420890835b5b5dd23836%22%20style%3D%22width%3A%20100.0%25%3B%20height%3A%20100.0%25%3B%22%3EVictoria%2C%20Australia%3C/div%3E%60%29%5B0%5D%3B%0A%20%20%20%20%20%20%20%20%20%20%20%20popup_97af1a95953b4122b805bf94434f78b0.setContent%28html_1f48dca1e974420890835b5b5dd23836%29%3B%0A%20%20%20%20%20%20%20%20%0A%0A%20%20%20%20%20%20%20%20circle_marker_e45b89adaf954db5aa4db096c4abbd38.bindPopup%28popup_97af1a95953b4122b805bf94434f78b0%29%0A%20%20%20%20%20%20%20%20%3B%0A%0A%20%20%20%20%20%20%20%20%0A%20%20%20%20%0A%20%20%20%20%0A%20%20%20%20%20%20%20%20%20%20%20%20var%20circle_marker_8d1b494b11724d448267e5a63a38c18f%20%3D%20L.circleMarker%28%0A%20%20%20%20%20%20%20%20%20%20%20%20%20%20%20%20%5B48.428318%2C%20-123.364953%5D%2C%0A%20%20%20%20%20%20%20%20%20%20%20%20%20%20%20%20%7B%22bubblingMouseEvents%22%3A%20true%2C%20%22color%22%3A%20%22black%22%2C%20%22dashArray%22%3A%20null%2C%20%22dashOffset%22%3A%20null%2C%20%22fill%22%3A%20true%2C%20%22fillColor%22%3A%20%22red%22%2C%20%22fillOpacity%22%3A%200.75%2C%20%22fillRule%22%3A%20%22evenodd%22%2C%20%22lineCap%22%3A%20%22round%22%2C%20%22lineJoin%22%3A%20%22round%22%2C%20%22opacity%22%3A%201.0%2C%20%22radius%22%3A%2015%2C%20%22stroke%22%3A%20true%2C%20%22weight%22%3A%203%7D%0A%20%20%20%20%20%20%20%20%20%20%20%20%29.addTo%28map_cac5d842cd4a444aaea703b33759a320%29%3B%0A%20%20%20%20%20%20%20%20%0A%20%20%20%20%0A%20%20%20%20%20%20%20%20var%20popup_f434ee896f9f4bfdac0cc02a343f9270%20%3D%20L.popup%28%7B%22maxWidth%22%3A%20%22100%25%22%7D%29%3B%0A%0A%20%20%20%20%20%20%20%20%0A%20%20%20%20%20%20%20%20%20%20%20%20var%20html_3ae3764e046047f3bd9df9cb62b69548%20%3D%20%24%28%60%3Cdiv%20id%3D%22html_3ae3764e046047f3bd9df9cb62b69548%22%20style%3D%22width%3A%20100.0%25%3B%20height%3A%20100.0%25%3B%22%3EVictoria%2C%20British%20Columbia%2C%20Canada%3C/div%3E%60%29%5B0%5D%3B%0A%20%20%20%20%20%20%20%20%20%20%20%20popup_f434ee896f9f4bfdac0cc02a343f9270.setContent%28html_3ae3764e046047f3bd9df9cb62b69548%29%3B%0A%20%20%20%20%20%20%20%20%0A%0A%20%20%20%20%20%20%20%20circle_marker_8d1b494b11724d448267e5a63a38c18f.bindPopup%28popup_f434ee896f9f4bfdac0cc02a343f9270%29%0A%20%20%20%20%20%20%20%20%3B%0A%0A%20%20%20%20%20%20%20%20%0A%20%20%20%20%0A%3C/script%3E onload=\"this.contentDocument.open();this.contentDocument.write(    decodeURIComponent(this.getAttribute('data-html')));this.contentDocument.close();\" allowfullscreen webkitallowfullscreen mozallowfullscreen></iframe></div></div>"
      ],
      "text/plain": [
       "<folium.folium.Map at 0x2a0db282a30>"
      ]
     },
     "execution_count": 13,
     "metadata": {},
     "output_type": "execute_result"
    }
   ],
   "source": [
    "ExampleMap = folium.Map(\n",
    "    location=[0,0],\n",
    "    zoom_start=2,\n",
    "    tiles='Stamen Toner'\n",
    ")\n",
    "\n",
    "for search in ['Surrey','Surrey BC','Victoria','Victoria BC']:\n",
    "    City = geolocator.geocode(search)\n",
    "    plot_point(ExampleMap,City.latitude,City.longitude,City,Radius=15)\n",
    "    print('Search Term: ', City)\n",
    "    print('Result: ', City)\n",
    "    print()\n",
    "    \n",
    "ExampleMap"
   ]
  },
  {
   "cell_type": "markdown",
   "metadata": {},
   "source": [
    "# Vancouver Street Trees\n",
    "\n"
   ]
  },
  {
   "cell_type": "code",
   "execution_count": 14,
   "metadata": {},
   "outputs": [
    {
     "name": "stdout",
     "output_type": "stream",
     "text": [
      "Number of Records\n",
      "(151355, 19)\n",
      "\n",
      "Neighbourhoods:\n",
      "['FAIRVIEW' 'WEST END' 'MOUNT PLEASANT' 'KITSILANO' 'MARPOLE'\n",
      " 'WEST POINT GREY' 'OAKRIDGE' 'STRATHCONA' 'KENSINGTON-CEDAR COTTAGE'\n",
      " 'RENFREW-COLLINGWOOD' 'DOWNTOWN' 'HASTINGS-SUNRISE' 'SUNSET'\n",
      " 'GRANDVIEW-WOODLAND' 'VICTORIA-FRASERVIEW' 'RILEY PARK' 'ARBUTUS-RIDGE'\n",
      " 'KERRISDALE' 'KILLARNEY' 'DUNBAR-SOUTHLANDS' 'SHAUGHNESSY' 'SOUTH CAMBIE']\n",
      "\n",
      "Data Preview\n"
     ]
    },
    {
     "data": {
      "text/html": [
       "<div>\n",
       "<style scoped>\n",
       "    .dataframe tbody tr th:only-of-type {\n",
       "        vertical-align: middle;\n",
       "    }\n",
       "\n",
       "    .dataframe tbody tr th {\n",
       "        vertical-align: top;\n",
       "    }\n",
       "\n",
       "    .dataframe thead th {\n",
       "        text-align: right;\n",
       "    }\n",
       "</style>\n",
       "<table border=\"1\" class=\"dataframe\">\n",
       "  <thead>\n",
       "    <tr style=\"text-align: right;\">\n",
       "      <th></th>\n",
       "      <th>TREE_ID</th>\n",
       "      <th>CIVIC_NUMBER</th>\n",
       "      <th>STD_STREET</th>\n",
       "      <th>GENUS_NAME</th>\n",
       "      <th>SPECIES_NAME</th>\n",
       "      <th>CULTIVAR_NAME</th>\n",
       "      <th>COMMON_NAME</th>\n",
       "      <th>ASSIGNED</th>\n",
       "      <th>ROOT_BARRIER</th>\n",
       "      <th>PLANT_AREA</th>\n",
       "      <th>ON_STREET_BLOCK</th>\n",
       "      <th>ON_STREET</th>\n",
       "      <th>NEIGHBOURHOOD_NAME</th>\n",
       "      <th>STREET_SIDE_NAME</th>\n",
       "      <th>HEIGHT_RANGE_ID</th>\n",
       "      <th>DIAMETER</th>\n",
       "      <th>CURB</th>\n",
       "      <th>DATE_PLANTED</th>\n",
       "      <th>Geom</th>\n",
       "    </tr>\n",
       "  </thead>\n",
       "  <tbody>\n",
       "    <tr>\n",
       "      <th>0</th>\n",
       "      <td>7937</td>\n",
       "      <td>1282</td>\n",
       "      <td>W 8TH AV</td>\n",
       "      <td>ACER</td>\n",
       "      <td>PALMATUM</td>\n",
       "      <td>NaN</td>\n",
       "      <td>JAPANESE MAPLE</td>\n",
       "      <td>N</td>\n",
       "      <td>N</td>\n",
       "      <td>B</td>\n",
       "      <td>1200</td>\n",
       "      <td>W 8TH AV</td>\n",
       "      <td>FAIRVIEW</td>\n",
       "      <td>EVEN</td>\n",
       "      <td>1</td>\n",
       "      <td>3.0</td>\n",
       "      <td>Y</td>\n",
       "      <td>NaN</td>\n",
       "      <td>{\"coordinates\": [-123.133161, 49.264339], \"typ...</td>\n",
       "    </tr>\n",
       "    <tr>\n",
       "      <th>1</th>\n",
       "      <td>7941</td>\n",
       "      <td>1286</td>\n",
       "      <td>W 8TH AV</td>\n",
       "      <td>ACER</td>\n",
       "      <td>PALMATUM</td>\n",
       "      <td>NaN</td>\n",
       "      <td>JAPANESE MAPLE</td>\n",
       "      <td>N</td>\n",
       "      <td>N</td>\n",
       "      <td>B</td>\n",
       "      <td>1200</td>\n",
       "      <td>W 8TH AV</td>\n",
       "      <td>FAIRVIEW</td>\n",
       "      <td>EVEN</td>\n",
       "      <td>1</td>\n",
       "      <td>3.0</td>\n",
       "      <td>Y</td>\n",
       "      <td>NaN</td>\n",
       "      <td>{\"coordinates\": [-123.133307, 49.264342], \"typ...</td>\n",
       "    </tr>\n",
       "    <tr>\n",
       "      <th>2</th>\n",
       "      <td>7975</td>\n",
       "      <td>1365</td>\n",
       "      <td>W 8TH AV</td>\n",
       "      <td>PRUNUS</td>\n",
       "      <td>SERRULATA</td>\n",
       "      <td>KWANZAN</td>\n",
       "      <td>KWANZAN FLOWERING CHERRY</td>\n",
       "      <td>N</td>\n",
       "      <td>N</td>\n",
       "      <td>3</td>\n",
       "      <td>1300</td>\n",
       "      <td>W 8TH AV</td>\n",
       "      <td>FAIRVIEW</td>\n",
       "      <td>ODD</td>\n",
       "      <td>2</td>\n",
       "      <td>22.0</td>\n",
       "      <td>Y</td>\n",
       "      <td>NaN</td>\n",
       "      <td>{\"coordinates\": [-123.135214, 49.264514], \"typ...</td>\n",
       "    </tr>\n",
       "    <tr>\n",
       "      <th>3</th>\n",
       "      <td>8002</td>\n",
       "      <td>1476</td>\n",
       "      <td>W 8TH AV</td>\n",
       "      <td>ACER</td>\n",
       "      <td>PLATANOIDES</td>\n",
       "      <td>CRIMSON SENTRY</td>\n",
       "      <td>CRIMSON SENTRY NORWAY MAPLE</td>\n",
       "      <td>N</td>\n",
       "      <td>N</td>\n",
       "      <td>C</td>\n",
       "      <td>1400</td>\n",
       "      <td>W 8TH AV</td>\n",
       "      <td>FAIRVIEW</td>\n",
       "      <td>EVEN</td>\n",
       "      <td>2</td>\n",
       "      <td>7.0</td>\n",
       "      <td>Y</td>\n",
       "      <td>1999-03-05</td>\n",
       "      <td>{\"coordinates\": [-123.137718, 49.264442], \"typ...</td>\n",
       "    </tr>\n",
       "    <tr>\n",
       "      <th>4</th>\n",
       "      <td>8008</td>\n",
       "      <td>1519</td>\n",
       "      <td>ROBSON ST</td>\n",
       "      <td>CHAMAECYPARIS</td>\n",
       "      <td>LAWSONIANA</td>\n",
       "      <td>NaN</td>\n",
       "      <td>LAWSON CYPRESS/PORT ORFORD CED</td>\n",
       "      <td>N</td>\n",
       "      <td>N</td>\n",
       "      <td>L</td>\n",
       "      <td>1500</td>\n",
       "      <td>ROBSON ST</td>\n",
       "      <td>WEST END</td>\n",
       "      <td>ODD</td>\n",
       "      <td>1</td>\n",
       "      <td>4.0</td>\n",
       "      <td>N</td>\n",
       "      <td>NaN</td>\n",
       "      <td>{\"coordinates\": [-123.131287, 49.289436], \"typ...</td>\n",
       "    </tr>\n",
       "  </tbody>\n",
       "</table>\n",
       "</div>"
      ],
      "text/plain": [
       "   TREE_ID  CIVIC_NUMBER STD_STREET     GENUS_NAME SPECIES_NAME  \\\n",
       "0     7937          1282   W 8TH AV           ACER     PALMATUM   \n",
       "1     7941          1286   W 8TH AV           ACER     PALMATUM   \n",
       "2     7975          1365   W 8TH AV         PRUNUS    SERRULATA   \n",
       "3     8002          1476   W 8TH AV           ACER  PLATANOIDES   \n",
       "4     8008          1519  ROBSON ST  CHAMAECYPARIS   LAWSONIANA   \n",
       "\n",
       "    CULTIVAR_NAME                     COMMON_NAME ASSIGNED ROOT_BARRIER  \\\n",
       "0             NaN                  JAPANESE MAPLE        N            N   \n",
       "1             NaN                  JAPANESE MAPLE        N            N   \n",
       "2         KWANZAN        KWANZAN FLOWERING CHERRY        N            N   \n",
       "3  CRIMSON SENTRY     CRIMSON SENTRY NORWAY MAPLE        N            N   \n",
       "4             NaN  LAWSON CYPRESS/PORT ORFORD CED        N            N   \n",
       "\n",
       "  PLANT_AREA  ON_STREET_BLOCK  ON_STREET NEIGHBOURHOOD_NAME STREET_SIDE_NAME  \\\n",
       "0          B             1200   W 8TH AV           FAIRVIEW             EVEN   \n",
       "1          B             1200   W 8TH AV           FAIRVIEW             EVEN   \n",
       "2          3             1300   W 8TH AV           FAIRVIEW              ODD   \n",
       "3          C             1400   W 8TH AV           FAIRVIEW             EVEN   \n",
       "4          L             1500  ROBSON ST           WEST END              ODD   \n",
       "\n",
       "   HEIGHT_RANGE_ID  DIAMETER CURB DATE_PLANTED  \\\n",
       "0                1       3.0    Y          NaN   \n",
       "1                1       3.0    Y          NaN   \n",
       "2                2      22.0    Y          NaN   \n",
       "3                2       7.0    Y   1999-03-05   \n",
       "4                1       4.0    N          NaN   \n",
       "\n",
       "                                                Geom  \n",
       "0  {\"coordinates\": [-123.133161, 49.264339], \"typ...  \n",
       "1  {\"coordinates\": [-123.133307, 49.264342], \"typ...  \n",
       "2  {\"coordinates\": [-123.135214, 49.264514], \"typ...  \n",
       "3  {\"coordinates\": [-123.137718, 49.264442], \"typ...  \n",
       "4  {\"coordinates\": [-123.131287, 49.289436], \"typ...  "
      ]
     },
     "execution_count": 14,
     "metadata": {},
     "output_type": "execute_result"
    }
   ],
   "source": [
    "import pandas as pd\n",
    "Trees = pd.read_csv('data/street-trees.csv',delimiter=';')\n",
    "\n",
    "print('Number of Records')\n",
    "print(Trees.shape)\n",
    "print()\n",
    "print('Neighbourhoods:')\n",
    "print(Trees['NEIGHBOURHOOD_NAME'].unique())\n",
    "\n",
    "print()\n",
    "print('Data Preview')\n",
    "Trees.head()"
   ]
  },
  {
   "cell_type": "markdown",
   "metadata": {},
   "source": [
    "# Querying Records\n",
    "\n",
    "* Select a specific Neighbourhood"
   ]
  },
  {
   "cell_type": "code",
   "execution_count": 15,
   "metadata": {},
   "outputs": [
    {
     "data": {
      "text/html": [
       "<div>\n",
       "<style scoped>\n",
       "    .dataframe tbody tr th:only-of-type {\n",
       "        vertical-align: middle;\n",
       "    }\n",
       "\n",
       "    .dataframe tbody tr th {\n",
       "        vertical-align: top;\n",
       "    }\n",
       "\n",
       "    .dataframe thead th {\n",
       "        text-align: right;\n",
       "    }\n",
       "</style>\n",
       "<table border=\"1\" class=\"dataframe\">\n",
       "  <thead>\n",
       "    <tr style=\"text-align: right;\">\n",
       "      <th></th>\n",
       "      <th>TREE_ID</th>\n",
       "      <th>CIVIC_NUMBER</th>\n",
       "      <th>STD_STREET</th>\n",
       "      <th>GENUS_NAME</th>\n",
       "      <th>SPECIES_NAME</th>\n",
       "      <th>CULTIVAR_NAME</th>\n",
       "      <th>COMMON_NAME</th>\n",
       "      <th>ASSIGNED</th>\n",
       "      <th>ROOT_BARRIER</th>\n",
       "      <th>PLANT_AREA</th>\n",
       "      <th>ON_STREET_BLOCK</th>\n",
       "      <th>ON_STREET</th>\n",
       "      <th>NEIGHBOURHOOD_NAME</th>\n",
       "      <th>STREET_SIDE_NAME</th>\n",
       "      <th>HEIGHT_RANGE_ID</th>\n",
       "      <th>DIAMETER</th>\n",
       "      <th>CURB</th>\n",
       "      <th>DATE_PLANTED</th>\n",
       "      <th>Geom</th>\n",
       "    </tr>\n",
       "  </thead>\n",
       "  <tbody>\n",
       "    <tr>\n",
       "      <th>12</th>\n",
       "      <td>8042</td>\n",
       "      <td>2200</td>\n",
       "      <td>ONTARIO ST</td>\n",
       "      <td>ACER</td>\n",
       "      <td>SPECIES</td>\n",
       "      <td>NaN</td>\n",
       "      <td>MAPLE SPECIES</td>\n",
       "      <td>N</td>\n",
       "      <td>N</td>\n",
       "      <td>B</td>\n",
       "      <td>2200</td>\n",
       "      <td>ONTARIO ST</td>\n",
       "      <td>MOUNT PLEASANT</td>\n",
       "      <td>EVEN</td>\n",
       "      <td>6</td>\n",
       "      <td>41.0</td>\n",
       "      <td>Y</td>\n",
       "      <td>NaN</td>\n",
       "      <td>NaN</td>\n",
       "    </tr>\n",
       "    <tr>\n",
       "      <th>13</th>\n",
       "      <td>8051</td>\n",
       "      <td>1077</td>\n",
       "      <td>GREAT NORTHERN WAY</td>\n",
       "      <td>FRAXINUS</td>\n",
       "      <td>ORNUS</td>\n",
       "      <td>NaN</td>\n",
       "      <td>FLOWERING ASH</td>\n",
       "      <td>N</td>\n",
       "      <td>N</td>\n",
       "      <td>3</td>\n",
       "      <td>1000</td>\n",
       "      <td>GREAT NORTHERN WAY</td>\n",
       "      <td>MOUNT PLEASANT</td>\n",
       "      <td>ODD</td>\n",
       "      <td>2</td>\n",
       "      <td>5.0</td>\n",
       "      <td>Y</td>\n",
       "      <td>NaN</td>\n",
       "      <td>NaN</td>\n",
       "    </tr>\n",
       "    <tr>\n",
       "      <th>145</th>\n",
       "      <td>9003</td>\n",
       "      <td>268</td>\n",
       "      <td>E 10TH AV</td>\n",
       "      <td>BETULA</td>\n",
       "      <td>PENDULA</td>\n",
       "      <td>NaN</td>\n",
       "      <td>EUROPEAN WHITE BIRCH</td>\n",
       "      <td>N</td>\n",
       "      <td>N</td>\n",
       "      <td>6</td>\n",
       "      <td>200</td>\n",
       "      <td>E 10TH AV</td>\n",
       "      <td>MOUNT PLEASANT</td>\n",
       "      <td>EVEN</td>\n",
       "      <td>4</td>\n",
       "      <td>18.0</td>\n",
       "      <td>Y</td>\n",
       "      <td>NaN</td>\n",
       "      <td>{\"coordinates\": [-123.099396, 49.261931], \"typ...</td>\n",
       "    </tr>\n",
       "    <tr>\n",
       "      <th>146</th>\n",
       "      <td>9010</td>\n",
       "      <td>423</td>\n",
       "      <td>E 10TH AV</td>\n",
       "      <td>FAGUS</td>\n",
       "      <td>SYLVATICA</td>\n",
       "      <td>NaN</td>\n",
       "      <td>EUROPEAN BEECH</td>\n",
       "      <td>N</td>\n",
       "      <td>N</td>\n",
       "      <td>7</td>\n",
       "      <td>400</td>\n",
       "      <td>E 10TH AV</td>\n",
       "      <td>MOUNT PLEASANT</td>\n",
       "      <td>ODD</td>\n",
       "      <td>1</td>\n",
       "      <td>4.0</td>\n",
       "      <td>Y</td>\n",
       "      <td>2005-04-13</td>\n",
       "      <td>NaN</td>\n",
       "    </tr>\n",
       "    <tr>\n",
       "      <th>147</th>\n",
       "      <td>9011</td>\n",
       "      <td>414</td>\n",
       "      <td>E 10TH AV</td>\n",
       "      <td>AESCULUS</td>\n",
       "      <td>HIPPOCASTANUM</td>\n",
       "      <td>NaN</td>\n",
       "      <td>COMMON HORSECHESTNUT</td>\n",
       "      <td>N</td>\n",
       "      <td>N</td>\n",
       "      <td>6</td>\n",
       "      <td>400</td>\n",
       "      <td>E 10TH AV</td>\n",
       "      <td>MOUNT PLEASANT</td>\n",
       "      <td>EVEN</td>\n",
       "      <td>4</td>\n",
       "      <td>23.0</td>\n",
       "      <td>Y</td>\n",
       "      <td>NaN</td>\n",
       "      <td>{\"coordinates\": [-123.095414, 49.261525], \"typ...</td>\n",
       "    </tr>\n",
       "    <tr>\n",
       "      <th>...</th>\n",
       "      <td>...</td>\n",
       "      <td>...</td>\n",
       "      <td>...</td>\n",
       "      <td>...</td>\n",
       "      <td>...</td>\n",
       "      <td>...</td>\n",
       "      <td>...</td>\n",
       "      <td>...</td>\n",
       "      <td>...</td>\n",
       "      <td>...</td>\n",
       "      <td>...</td>\n",
       "      <td>...</td>\n",
       "      <td>...</td>\n",
       "      <td>...</td>\n",
       "      <td>...</td>\n",
       "      <td>...</td>\n",
       "      <td>...</td>\n",
       "      <td>...</td>\n",
       "      <td>...</td>\n",
       "    </tr>\n",
       "    <tr>\n",
       "      <th>151101</th>\n",
       "      <td>278183</td>\n",
       "      <td>215</td>\n",
       "      <td>W 1ST AV</td>\n",
       "      <td>LIQUIDAMBAR</td>\n",
       "      <td>STYRACIFLUA</td>\n",
       "      <td>NaN</td>\n",
       "      <td>AMERICAN SWEETGUM</td>\n",
       "      <td>N</td>\n",
       "      <td>N</td>\n",
       "      <td>P</td>\n",
       "      <td>200</td>\n",
       "      <td>W 1ST AV</td>\n",
       "      <td>MOUNT PLEASANT</td>\n",
       "      <td>PARK</td>\n",
       "      <td>1</td>\n",
       "      <td>5.0</td>\n",
       "      <td>N</td>\n",
       "      <td>NaN</td>\n",
       "      <td>{\"coordinates\": [-123.110086, 49.270824], \"typ...</td>\n",
       "    </tr>\n",
       "    <tr>\n",
       "      <th>151102</th>\n",
       "      <td>278185</td>\n",
       "      <td>215</td>\n",
       "      <td>W 1ST AV</td>\n",
       "      <td>BETULA</td>\n",
       "      <td>NIGRA</td>\n",
       "      <td>NaN</td>\n",
       "      <td>RIVER BIRCH</td>\n",
       "      <td>N</td>\n",
       "      <td>N</td>\n",
       "      <td>P</td>\n",
       "      <td>200</td>\n",
       "      <td>W 1ST AV</td>\n",
       "      <td>MOUNT PLEASANT</td>\n",
       "      <td>PARK</td>\n",
       "      <td>3</td>\n",
       "      <td>7.0</td>\n",
       "      <td>N</td>\n",
       "      <td>NaN</td>\n",
       "      <td>{\"coordinates\": [-123.110414, 49.270974], \"typ...</td>\n",
       "    </tr>\n",
       "    <tr>\n",
       "      <th>151103</th>\n",
       "      <td>278188</td>\n",
       "      <td>215</td>\n",
       "      <td>W 1ST AV</td>\n",
       "      <td>PRUNUS</td>\n",
       "      <td>SPECIES</td>\n",
       "      <td>NaN</td>\n",
       "      <td>CHERRY, PLUM OR PEACH SPECIES</td>\n",
       "      <td>N</td>\n",
       "      <td>N</td>\n",
       "      <td>P</td>\n",
       "      <td>200</td>\n",
       "      <td>W 1ST AV</td>\n",
       "      <td>MOUNT PLEASANT</td>\n",
       "      <td>PARK</td>\n",
       "      <td>2</td>\n",
       "      <td>6.0</td>\n",
       "      <td>N</td>\n",
       "      <td>NaN</td>\n",
       "      <td>{\"coordinates\": [-123.110253, 49.270545], \"typ...</td>\n",
       "    </tr>\n",
       "    <tr>\n",
       "      <th>151254</th>\n",
       "      <td>278788</td>\n",
       "      <td>2140</td>\n",
       "      <td>MAIN ST</td>\n",
       "      <td>PARROTIA</td>\n",
       "      <td>PERSICA</td>\n",
       "      <td>PERSIAN SPIRE</td>\n",
       "      <td>PERSIAN SPIRE UPRIGHT IRONWOOD</td>\n",
       "      <td>N</td>\n",
       "      <td>N</td>\n",
       "      <td>G</td>\n",
       "      <td>2100</td>\n",
       "      <td>MAIN ST</td>\n",
       "      <td>MOUNT PLEASANT</td>\n",
       "      <td>EVEN</td>\n",
       "      <td>1</td>\n",
       "      <td>3.0</td>\n",
       "      <td>Y</td>\n",
       "      <td>NaN</td>\n",
       "      <td>{\"coordinates\": [-123.100704, 49.266004], \"typ...</td>\n",
       "    </tr>\n",
       "    <tr>\n",
       "      <th>151343</th>\n",
       "      <td>279531</td>\n",
       "      <td>233</td>\n",
       "      <td>KINGSWAY</td>\n",
       "      <td>PARROTIA</td>\n",
       "      <td>PERSICA</td>\n",
       "      <td>PERSIAN SPIRE</td>\n",
       "      <td>PERSIAN SPIRE UPRIGHT IRONWOOD</td>\n",
       "      <td>N</td>\n",
       "      <td>N</td>\n",
       "      <td>C</td>\n",
       "      <td>200</td>\n",
       "      <td>KINGSWAY</td>\n",
       "      <td>MOUNT PLEASANT</td>\n",
       "      <td>ODD</td>\n",
       "      <td>1</td>\n",
       "      <td>3.0</td>\n",
       "      <td>Y</td>\n",
       "      <td>NaN</td>\n",
       "      <td>NaN</td>\n",
       "    </tr>\n",
       "  </tbody>\n",
       "</table>\n",
       "<p>7158 rows × 19 columns</p>\n",
       "</div>"
      ],
      "text/plain": [
       "        TREE_ID  CIVIC_NUMBER          STD_STREET   GENUS_NAME   SPECIES_NAME  \\\n",
       "12         8042          2200          ONTARIO ST         ACER        SPECIES   \n",
       "13         8051          1077  GREAT NORTHERN WAY     FRAXINUS          ORNUS   \n",
       "145        9003           268           E 10TH AV       BETULA        PENDULA   \n",
       "146        9010           423           E 10TH AV        FAGUS      SYLVATICA   \n",
       "147        9011           414           E 10TH AV     AESCULUS  HIPPOCASTANUM   \n",
       "...         ...           ...                 ...          ...            ...   \n",
       "151101   278183           215            W 1ST AV  LIQUIDAMBAR    STYRACIFLUA   \n",
       "151102   278185           215            W 1ST AV       BETULA          NIGRA   \n",
       "151103   278188           215            W 1ST AV       PRUNUS        SPECIES   \n",
       "151254   278788          2140             MAIN ST     PARROTIA        PERSICA   \n",
       "151343   279531           233            KINGSWAY     PARROTIA        PERSICA   \n",
       "\n",
       "        CULTIVAR_NAME                     COMMON_NAME ASSIGNED ROOT_BARRIER  \\\n",
       "12                NaN                   MAPLE SPECIES        N            N   \n",
       "13                NaN                   FLOWERING ASH        N            N   \n",
       "145               NaN            EUROPEAN WHITE BIRCH        N            N   \n",
       "146               NaN                  EUROPEAN BEECH        N            N   \n",
       "147               NaN            COMMON HORSECHESTNUT        N            N   \n",
       "...               ...                             ...      ...          ...   \n",
       "151101            NaN               AMERICAN SWEETGUM        N            N   \n",
       "151102            NaN                     RIVER BIRCH        N            N   \n",
       "151103            NaN   CHERRY, PLUM OR PEACH SPECIES        N            N   \n",
       "151254  PERSIAN SPIRE  PERSIAN SPIRE UPRIGHT IRONWOOD        N            N   \n",
       "151343  PERSIAN SPIRE  PERSIAN SPIRE UPRIGHT IRONWOOD        N            N   \n",
       "\n",
       "       PLANT_AREA  ON_STREET_BLOCK           ON_STREET NEIGHBOURHOOD_NAME  \\\n",
       "12              B             2200          ONTARIO ST     MOUNT PLEASANT   \n",
       "13              3             1000  GREAT NORTHERN WAY     MOUNT PLEASANT   \n",
       "145             6              200           E 10TH AV     MOUNT PLEASANT   \n",
       "146             7              400           E 10TH AV     MOUNT PLEASANT   \n",
       "147             6              400           E 10TH AV     MOUNT PLEASANT   \n",
       "...           ...              ...                 ...                ...   \n",
       "151101          P              200            W 1ST AV     MOUNT PLEASANT   \n",
       "151102          P              200            W 1ST AV     MOUNT PLEASANT   \n",
       "151103          P              200            W 1ST AV     MOUNT PLEASANT   \n",
       "151254          G             2100             MAIN ST     MOUNT PLEASANT   \n",
       "151343          C              200            KINGSWAY     MOUNT PLEASANT   \n",
       "\n",
       "       STREET_SIDE_NAME  HEIGHT_RANGE_ID  DIAMETER CURB DATE_PLANTED  \\\n",
       "12                 EVEN                6      41.0    Y          NaN   \n",
       "13                  ODD                2       5.0    Y          NaN   \n",
       "145                EVEN                4      18.0    Y          NaN   \n",
       "146                 ODD                1       4.0    Y   2005-04-13   \n",
       "147                EVEN                4      23.0    Y          NaN   \n",
       "...                 ...              ...       ...  ...          ...   \n",
       "151101             PARK                1       5.0    N          NaN   \n",
       "151102             PARK                3       7.0    N          NaN   \n",
       "151103             PARK                2       6.0    N          NaN   \n",
       "151254             EVEN                1       3.0    Y          NaN   \n",
       "151343              ODD                1       3.0    Y          NaN   \n",
       "\n",
       "                                                     Geom  \n",
       "12                                                    NaN  \n",
       "13                                                    NaN  \n",
       "145     {\"coordinates\": [-123.099396, 49.261931], \"typ...  \n",
       "146                                                   NaN  \n",
       "147     {\"coordinates\": [-123.095414, 49.261525], \"typ...  \n",
       "...                                                   ...  \n",
       "151101  {\"coordinates\": [-123.110086, 49.270824], \"typ...  \n",
       "151102  {\"coordinates\": [-123.110414, 49.270974], \"typ...  \n",
       "151103  {\"coordinates\": [-123.110253, 49.270545], \"typ...  \n",
       "151254  {\"coordinates\": [-123.100704, 49.266004], \"typ...  \n",
       "151343                                                NaN  \n",
       "\n",
       "[7158 rows x 19 columns]"
      ]
     },
     "execution_count": 15,
     "metadata": {},
     "output_type": "execute_result"
    }
   ],
   "source": [
    "\n",
    "Your_Neighbourhood_Selection = 'MOUNT PLEASANT'\n",
    "\n",
    "Select_by_Neighbourhood = Trees.loc[\n",
    "    Trees['NEIGHBOURHOOD_NAME']==Your_Neighbourhood_Selection\n",
    "]\n",
    "\n",
    "Select_by_Neighbourhood"
   ]
  },
  {
   "cell_type": "markdown",
   "metadata": {},
   "source": [
    "## Find the most 50 most common trees in the selected neighbourhood\n",
    "\n",
    "# Quiz Question 14\n",
    "\n",
    "Select a specific neighborhood.\n",
    "\n",
    "- What is the most common street tree in Vancouver's Mount Pleasant neighbourhood?"
   ]
  },
  {
   "cell_type": "code",
   "execution_count": 16,
   "metadata": {},
   "outputs": [
    {
     "name": "stdout",
     "output_type": "stream",
     "text": [
      "COMMON_NAME\n",
      "JAPANESE MAPLE                  34\n",
      "BIGLEAF MAPLE                   34\n",
      "PAPERBARK MAPLE                 35\n",
      "EUROPEAN WHITE BIRCH            35\n",
      "EUROPEAN ASH                    38\n",
      "BLACK TUPELO                    39\n",
      "KOBUS MAGNOLIA                  39\n",
      "MAPLE SPECIES                   42\n",
      "AMERICAN SWEETGUM               42\n",
      "BASSWOOD                        44\n",
      "EUROPEAN HORNBEAM               44\n",
      "PYRAMIDAL ENGLISH OAK           47\n",
      "PINK PERFECTION CHERRY          47\n",
      "RED OAK                         47\n",
      "WESTERN RED CEDAR               48\n",
      "JAPANESE STEWARTIA              48\n",
      "ARISTOCRAT PEAR                 49\n",
      "REDBUD CRABAPPLE                50\n",
      "PACIFIC SUNSET MAPLE            52\n",
      "AMERICAN ELM                    53\n",
      "FLOWERING ASH                   55\n",
      "SYCAMORE MAPLE                  56\n",
      "RED SUNSET RED MAPLE            56\n",
      "RAYWOOD ASH                     61\n",
      "AKEBONO FLOWERING CHERRY        63\n",
      "TREE LILAC                      64\n",
      "AMERICAN HORNBEAM               65\n",
      "HEDGE MAPLE                     68\n",
      "JAPANESE SNOWBELL               70\n",
      "CALLERY PEAR                    72\n",
      "FREEMAN'S S.S. MAPLE            76\n",
      "DAWYCK'S BEECH                  81\n",
      "MORGAN RED MAPLE                84\n",
      "VANESSA PERSIAN IRONWOOD        93\n",
      "UKON JAPANESE CHERRY            96\n",
      "PIN OAK                         97\n",
      "COLUMNAR NORWAY MAPLE           97\n",
      "PISSARD PLUM                   116\n",
      "WORPLESDON SWEETGUM            126\n",
      "BOWHALL RED MAPLE              127\n",
      "EUROPEAN BEECH                 140\n",
      "ARMSTRONG RED MAPLE            147\n",
      "KATSURA TREE                   152\n",
      "CRIMEAN LINDEN                 219\n",
      "PYRAMIDAL EUROPEAN HORNBEAM    219\n",
      "COMMON HORSECHESTNUT           220\n",
      "CHANTICLEER PEAR               222\n",
      "NORWAY MAPLE                   242\n",
      "RED MAPLE                      338\n",
      "KWANZAN FLOWERING CHERRY       746\n",
      "Name: TREE_ID, dtype: int64\n"
     ]
    }
   ],
   "source": [
    "Most_Common_Trees = Select_by_Neighbourhood.groupby('COMMON_NAME').count()['TREE_ID'].sort_values()[-50:]\n",
    "\n",
    "print(Most_Common_Trees)\n"
   ]
  },
  {
   "cell_type": "markdown",
   "metadata": {},
   "source": [
    "## Find all the least common trees (species with only one tree!)"
   ]
  },
  {
   "cell_type": "code",
   "execution_count": 20,
   "metadata": {
    "scrolled": false
   },
   "outputs": [
    {
     "name": "stdout",
     "output_type": "stream",
     "text": [
      "Number of species with just one specimine in Mt. Pleasant:  59\n"
     ]
    }
   ],
   "source": [
    "Tree_Counts = Select_by_Neighbourhood.groupby('COMMON_NAME').count()['TREE_ID'].sort_values()\n",
    "\n",
    "Single_Trees = Tree_Counts.loc[Tree_Counts==1]\n",
    "\n",
    "print('Number of species with just one specimine in Mt. Pleasant: ',Single_Trees.count())\n",
    "# Your_Tree_Selection = \"\"\n",
    "\n",
    "Select_by_Tree = Select_by_Neighbourhood.loc[\n",
    "    Select_by_Neighbourhood['COMMON_NAME'].isin(Single_Trees.index)]\n",
    "\n",
    "\n",
    "# Select_by_Tree.head()\n",
    "# Select_by_Neighbourhood"
   ]
  },
  {
   "cell_type": "markdown",
   "metadata": {},
   "source": [
    "# Quiz Question 16\n",
    "\n",
    "\n",
    "## Make a Map of all the selected Trees in the selected Neighbourhood\n",
    "\n",
    "* Take a screenshot and submit it.\n",
    "* Just don't use the same example as lecture (Japanese Maples in Mt. Pleasant)"
   ]
  },
  {
   "cell_type": "code",
   "execution_count": 26,
   "metadata": {},
   "outputs": [
    {
     "data": {
      "application/vnd.jupyter.widget-view+json": {
       "model_id": "ef265e9b41c84d718c6fe1919146767f",
       "version_major": 2,
       "version_minor": 0
      },
      "text/plain": [
       "FloatProgress(value=0.0, description='Progress:')"
      ]
     },
     "metadata": {},
     "output_type": "display_data"
    },
    {
     "data": {
      "text/html": [
       "<div style=\"width:100%;\"><div style=\"position:relative;width:100%;height:0;padding-bottom:60%;\"><span style=\"color:#565656\">Make this Notebook Trusted to load map: File -> Trust Notebook</span><iframe src=\"about:blank\" style=\"position:absolute;width:100%;height:100%;left:0;top:0;border:none !important;\" data-html=%3C%21DOCTYPE%20html%3E%0A%3Chead%3E%20%20%20%20%0A%20%20%20%20%3Cmeta%20http-equiv%3D%22content-type%22%20content%3D%22text/html%3B%20charset%3DUTF-8%22%20/%3E%0A%20%20%20%20%0A%20%20%20%20%20%20%20%20%3Cscript%3E%0A%20%20%20%20%20%20%20%20%20%20%20%20L_NO_TOUCH%20%3D%20false%3B%0A%20%20%20%20%20%20%20%20%20%20%20%20L_DISABLE_3D%20%3D%20false%3B%0A%20%20%20%20%20%20%20%20%3C/script%3E%0A%20%20%20%20%0A%20%20%20%20%3Cstyle%3Ehtml%2C%20body%20%7Bwidth%3A%20100%25%3Bheight%3A%20100%25%3Bmargin%3A%200%3Bpadding%3A%200%3B%7D%3C/style%3E%0A%20%20%20%20%3Cstyle%3E%23map%20%7Bposition%3Aabsolute%3Btop%3A0%3Bbottom%3A0%3Bright%3A0%3Bleft%3A0%3B%7D%3C/style%3E%0A%20%20%20%20%3Cscript%20src%3D%22https%3A//cdn.jsdelivr.net/npm/leaflet%401.6.0/dist/leaflet.js%22%3E%3C/script%3E%0A%20%20%20%20%3Cscript%20src%3D%22https%3A//code.jquery.com/jquery-1.12.4.min.js%22%3E%3C/script%3E%0A%20%20%20%20%3Cscript%20src%3D%22https%3A//maxcdn.bootstrapcdn.com/bootstrap/3.2.0/js/bootstrap.min.js%22%3E%3C/script%3E%0A%20%20%20%20%3Cscript%20src%3D%22https%3A//cdnjs.cloudflare.com/ajax/libs/Leaflet.awesome-markers/2.0.2/leaflet.awesome-markers.js%22%3E%3C/script%3E%0A%20%20%20%20%3Clink%20rel%3D%22stylesheet%22%20href%3D%22https%3A//cdn.jsdelivr.net/npm/leaflet%401.6.0/dist/leaflet.css%22/%3E%0A%20%20%20%20%3Clink%20rel%3D%22stylesheet%22%20href%3D%22https%3A//maxcdn.bootstrapcdn.com/bootstrap/3.2.0/css/bootstrap.min.css%22/%3E%0A%20%20%20%20%3Clink%20rel%3D%22stylesheet%22%20href%3D%22https%3A//maxcdn.bootstrapcdn.com/bootstrap/3.2.0/css/bootstrap-theme.min.css%22/%3E%0A%20%20%20%20%3Clink%20rel%3D%22stylesheet%22%20href%3D%22https%3A//maxcdn.bootstrapcdn.com/font-awesome/4.6.3/css/font-awesome.min.css%22/%3E%0A%20%20%20%20%3Clink%20rel%3D%22stylesheet%22%20href%3D%22https%3A//cdnjs.cloudflare.com/ajax/libs/Leaflet.awesome-markers/2.0.2/leaflet.awesome-markers.css%22/%3E%0A%20%20%20%20%3Clink%20rel%3D%22stylesheet%22%20href%3D%22https%3A//cdn.jsdelivr.net/gh/python-visualization/folium/folium/templates/leaflet.awesome.rotate.min.css%22/%3E%0A%20%20%20%20%0A%20%20%20%20%20%20%20%20%20%20%20%20%3Cmeta%20name%3D%22viewport%22%20content%3D%22width%3Ddevice-width%2C%0A%20%20%20%20%20%20%20%20%20%20%20%20%20%20%20%20initial-scale%3D1.0%2C%20maximum-scale%3D1.0%2C%20user-scalable%3Dno%22%20/%3E%0A%20%20%20%20%20%20%20%20%20%20%20%20%3Cstyle%3E%0A%20%20%20%20%20%20%20%20%20%20%20%20%20%20%20%20%23map_815924b648b64e1eb2df2a4409776558%20%7B%0A%20%20%20%20%20%20%20%20%20%20%20%20%20%20%20%20%20%20%20%20position%3A%20relative%3B%0A%20%20%20%20%20%20%20%20%20%20%20%20%20%20%20%20%20%20%20%20width%3A%20100.0%25%3B%0A%20%20%20%20%20%20%20%20%20%20%20%20%20%20%20%20%20%20%20%20height%3A%20100.0%25%3B%0A%20%20%20%20%20%20%20%20%20%20%20%20%20%20%20%20%20%20%20%20left%3A%200.0%25%3B%0A%20%20%20%20%20%20%20%20%20%20%20%20%20%20%20%20%20%20%20%20top%3A%200.0%25%3B%0A%20%20%20%20%20%20%20%20%20%20%20%20%20%20%20%20%7D%0A%20%20%20%20%20%20%20%20%20%20%20%20%3C/style%3E%0A%20%20%20%20%20%20%20%20%0A%3C/head%3E%0A%3Cbody%3E%20%20%20%20%0A%20%20%20%20%0A%20%20%20%20%20%20%20%20%20%20%20%20%3Cdiv%20class%3D%22folium-map%22%20id%3D%22map_815924b648b64e1eb2df2a4409776558%22%20%3E%3C/div%3E%0A%20%20%20%20%20%20%20%20%0A%3C/body%3E%0A%3Cscript%3E%20%20%20%20%0A%20%20%20%20%0A%20%20%20%20%20%20%20%20%20%20%20%20var%20map_815924b648b64e1eb2df2a4409776558%20%3D%20L.map%28%0A%20%20%20%20%20%20%20%20%20%20%20%20%20%20%20%20%22map_815924b648b64e1eb2df2a4409776558%22%2C%0A%20%20%20%20%20%20%20%20%20%20%20%20%20%20%20%20%7B%0A%20%20%20%20%20%20%20%20%20%20%20%20%20%20%20%20%20%20%20%20center%3A%20%5B49.279862%2C%20-123.116838%5D%2C%0A%20%20%20%20%20%20%20%20%20%20%20%20%20%20%20%20%20%20%20%20crs%3A%20L.CRS.EPSG3857%2C%0A%20%20%20%20%20%20%20%20%20%20%20%20%20%20%20%20%20%20%20%20zoom%3A%2011%2C%0A%20%20%20%20%20%20%20%20%20%20%20%20%20%20%20%20%20%20%20%20zoomControl%3A%20true%2C%0A%20%20%20%20%20%20%20%20%20%20%20%20%20%20%20%20%20%20%20%20preferCanvas%3A%20false%2C%0A%20%20%20%20%20%20%20%20%20%20%20%20%20%20%20%20%7D%0A%20%20%20%20%20%20%20%20%20%20%20%20%29%3B%0A%0A%20%20%20%20%20%20%20%20%20%20%20%20%0A%0A%20%20%20%20%20%20%20%20%0A%20%20%20%20%0A%20%20%20%20%20%20%20%20%20%20%20%20var%20tile_layer_1cb8e6f213714ba5afe78994d5ab9116%20%3D%20L.tileLayer%28%0A%20%20%20%20%20%20%20%20%20%20%20%20%20%20%20%20%22https%3A//%7Bs%7D.tile.openstreetmap.org/%7Bz%7D/%7Bx%7D/%7By%7D.png%22%2C%0A%20%20%20%20%20%20%20%20%20%20%20%20%20%20%20%20%7B%22attribution%22%3A%20%22Data%20by%20%5Cu0026copy%3B%20%5Cu003ca%20href%3D%5C%22http%3A//openstreetmap.org%5C%22%5Cu003eOpenStreetMap%5Cu003c/a%5Cu003e%2C%20under%20%5Cu003ca%20href%3D%5C%22http%3A//www.openstreetmap.org/copyright%5C%22%5Cu003eODbL%5Cu003c/a%5Cu003e.%22%2C%20%22detectRetina%22%3A%20false%2C%20%22maxNativeZoom%22%3A%2018%2C%20%22maxZoom%22%3A%2018%2C%20%22minZoom%22%3A%200%2C%20%22noWrap%22%3A%20false%2C%20%22opacity%22%3A%201%2C%20%22subdomains%22%3A%20%22abc%22%2C%20%22tms%22%3A%20false%7D%0A%20%20%20%20%20%20%20%20%20%20%20%20%29.addTo%28map_815924b648b64e1eb2df2a4409776558%29%3B%0A%20%20%20%20%20%20%20%20%0A%20%20%20%20%0A%20%20%20%20%20%20%20%20%20%20%20%20var%20circle_marker_cb4c10c8a2a648ff92d856ff82583e25%20%3D%20L.circleMarker%28%0A%20%20%20%20%20%20%20%20%20%20%20%20%20%20%20%20%5B49.258548%2C%20-123.10955%5D%2C%0A%20%20%20%20%20%20%20%20%20%20%20%20%20%20%20%20%7B%22bubblingMouseEvents%22%3A%20true%2C%20%22color%22%3A%20%22black%22%2C%20%22dashArray%22%3A%20null%2C%20%22dashOffset%22%3A%20null%2C%20%22fill%22%3A%20true%2C%20%22fillColor%22%3A%20%22%23C9CC39%22%2C%20%22fillOpacity%22%3A%200.75%2C%20%22fillRule%22%3A%20%22evenodd%22%2C%20%22lineCap%22%3A%20%22round%22%2C%20%22lineJoin%22%3A%20%22round%22%2C%20%22opacity%22%3A%201.0%2C%20%22radius%22%3A%2015%2C%20%22stroke%22%3A%20true%2C%20%22weight%22%3A%203%7D%0A%20%20%20%20%20%20%20%20%20%20%20%20%29.addTo%28map_815924b648b64e1eb2df2a4409776558%29%3B%0A%20%20%20%20%20%20%20%20%0A%20%20%20%20%0A%20%20%20%20%20%20%20%20var%20popup_97c0282f094744aab1f1fbb314005932%20%3D%20L.popup%28%7B%22maxHeight%22%3A%20500%2C%20%22maxWidth%22%3A%20500%2C%20%22minHeight%22%3A%20100%2C%20%22minWidth%22%3A%20500%7D%29%3B%0A%0A%20%20%20%20%20%20%20%20%0A%20%20%20%20%20%20%20%20%20%20%20%20var%20i_frame_67eed1b80c8f49d0a94268156c0307ff%20%3D%20%24%28%60%3Cdiv%20style%3D%22width%3A100%25%3B%22%3E%3Cdiv%20style%3D%22position%3Arelative%3Bwidth%3A100%25%3Bheight%3A0%3Bpadding-bottom%3A60%25%3B%22%3E%3Ciframe%20src%3D%22data%3Atext/html%3Bcharset%3Dutf-8%3Bbase64%2CCiAgICAKICAgIDxiPlNwZWNpZXMgTmFtZTo8L2I%2BIFdBVEVSRVIgR09MREVOQ0hBSU4gVFJFRTxicj4KICAgIDxiPkRhdGUgUGxhbnRlZDo8L2I%2BIG5hbjxicj4KICAgIDxiPkdlb2NvZGUgQXR0ZW1wdDo8L2I%2BIDIwMCBXIDE0VEggQVYsIFZhbmNvdXZlciwgQkMsIENhbmFkYTxicj4KICAgIDxiPkdlb2NvZGUgUmVzdWx0OjwvYj4gMjAwIFdlc3QgMTR0aCBBdmVudWUsIFZhbmNvdXZlciwgQnJpdGlzaCBDb2x1bWJpYSBWNVkgMVc5LCBDYW5hZGE%3D%22%20style%3D%22position%3Aabsolute%3Bwidth%3A100%25%3Bheight%3A100%25%3Bleft%3A0%3Btop%3A0%3Bborder%3Anone%20%21important%3B%22%3E%3C/iframe%3E%3C/div%3E%3C/div%3E%60%29%5B0%5D%3B%0A%20%20%20%20%20%20%20%20%20%20%20%20popup_97c0282f094744aab1f1fbb314005932.setContent%28i_frame_67eed1b80c8f49d0a94268156c0307ff%29%3B%0A%20%20%20%20%20%20%20%20%0A%0A%20%20%20%20%20%20%20%20circle_marker_cb4c10c8a2a648ff92d856ff82583e25.bindPopup%28popup_97c0282f094744aab1f1fbb314005932%29%0A%20%20%20%20%20%20%20%20%3B%0A%0A%20%20%20%20%20%20%20%20%0A%20%20%20%20%0A%20%20%20%20%0A%20%20%20%20%20%20%20%20%20%20%20%20var%20circle_marker_a62b43de27d74a898300e2dd052d7a6a%20%3D%20L.circleMarker%28%0A%20%20%20%20%20%20%20%20%20%20%20%20%20%20%20%20%5B49.259409%2C%20-123.109601%5D%2C%0A%20%20%20%20%20%20%20%20%20%20%20%20%20%20%20%20%7B%22bubblingMouseEvents%22%3A%20true%2C%20%22color%22%3A%20%22black%22%2C%20%22dashArray%22%3A%20null%2C%20%22dashOffset%22%3A%20null%2C%20%22fill%22%3A%20true%2C%20%22fillColor%22%3A%20%22%23707518%22%2C%20%22fillOpacity%22%3A%200.75%2C%20%22fillRule%22%3A%20%22evenodd%22%2C%20%22lineCap%22%3A%20%22round%22%2C%20%22lineJoin%22%3A%20%22round%22%2C%20%22opacity%22%3A%201.0%2C%20%22radius%22%3A%2015%2C%20%22stroke%22%3A%20true%2C%20%22weight%22%3A%203%7D%0A%20%20%20%20%20%20%20%20%20%20%20%20%29.addTo%28map_815924b648b64e1eb2df2a4409776558%29%3B%0A%20%20%20%20%20%20%20%20%0A%20%20%20%20%0A%20%20%20%20%20%20%20%20var%20popup_65c646f7fbbd443386aa30178b145d1a%20%3D%20L.popup%28%7B%22maxHeight%22%3A%20500%2C%20%22maxWidth%22%3A%20500%2C%20%22minHeight%22%3A%20100%2C%20%22minWidth%22%3A%20500%7D%29%3B%0A%0A%20%20%20%20%20%20%20%20%0A%20%20%20%20%20%20%20%20%20%20%20%20var%20i_frame_be25a352b7084f1cb45a44abd0940af8%20%3D%20%24%28%60%3Cdiv%20style%3D%22width%3A100%25%3B%22%3E%3Cdiv%20style%3D%22position%3Arelative%3Bwidth%3A100%25%3Bheight%3A0%3Bpadding-bottom%3A60%25%3B%22%3E%3Ciframe%20src%3D%22data%3Atext/html%3Bcharset%3Dutf-8%3Bbase64%2CCiAgICAKICAgIDxiPlNwZWNpZXMgTmFtZTo8L2I%2BIFRSSUNPTE9SIERPR1dPT0Q8YnI%2BCiAgICA8Yj5EYXRlIFBsYW50ZWQ6PC9iPiBuYW48YnI%2BCiAgICA8Yj5HZW9jb2RlIEF0dGVtcHQ6PC9iPiAyMDAgVyAxM1RIIEFWLCBWYW5jb3V2ZXIsIEJDLCBDYW5hZGE8YnI%2BCiAgICA8Yj5HZW9jb2RlIFJlc3VsdDo8L2I%2BIDIwMCBXZXN0IDEzdGggQXZlbnVlLCBWYW5jb3V2ZXIsIEJyaXRpc2ggQ29sdW1iaWEgVjVZIDNHNSwgQ2FuYWRh%22%20style%3D%22position%3Aabsolute%3Bwidth%3A100%25%3Bheight%3A100%25%3Bleft%3A0%3Btop%3A0%3Bborder%3Anone%20%21important%3B%22%3E%3C/iframe%3E%3C/div%3E%3C/div%3E%60%29%5B0%5D%3B%0A%20%20%20%20%20%20%20%20%20%20%20%20popup_65c646f7fbbd443386aa30178b145d1a.setContent%28i_frame_be25a352b7084f1cb45a44abd0940af8%29%3B%0A%20%20%20%20%20%20%20%20%0A%0A%20%20%20%20%20%20%20%20circle_marker_a62b43de27d74a898300e2dd052d7a6a.bindPopup%28popup_65c646f7fbbd443386aa30178b145d1a%29%0A%20%20%20%20%20%20%20%20%3B%0A%0A%20%20%20%20%20%20%20%20%0A%20%20%20%20%0A%20%20%20%20%0A%20%20%20%20%20%20%20%20%20%20%20%20var%20circle_marker_f3d1f7668473451fa7b1f3092c9e129e%20%3D%20L.circleMarker%28%0A%20%20%20%20%20%20%20%20%20%20%20%20%20%20%20%20%5B49.263694%2C%20-123.097006%5D%2C%0A%20%20%20%20%20%20%20%20%20%20%20%20%20%20%20%20%7B%22bubblingMouseEvents%22%3A%20true%2C%20%22color%22%3A%20%22black%22%2C%20%22dashArray%22%3A%20null%2C%20%22dashOffset%22%3A%20null%2C%20%22fill%22%3A%20true%2C%20%22fillColor%22%3A%20%22%23AA8D80%22%2C%20%22fillOpacity%22%3A%200.75%2C%20%22fillRule%22%3A%20%22evenodd%22%2C%20%22lineCap%22%3A%20%22round%22%2C%20%22lineJoin%22%3A%20%22round%22%2C%20%22opacity%22%3A%201.0%2C%20%22radius%22%3A%2015%2C%20%22stroke%22%3A%20true%2C%20%22weight%22%3A%203%7D%0A%20%20%20%20%20%20%20%20%20%20%20%20%29.addTo%28map_815924b648b64e1eb2df2a4409776558%29%3B%0A%20%20%20%20%20%20%20%20%0A%20%20%20%20%0A%20%20%20%20%20%20%20%20var%20popup_75a0f0de1d844a509cd0dc75e0594e1a%20%3D%20L.popup%28%7B%22maxHeight%22%3A%20500%2C%20%22maxWidth%22%3A%20500%2C%20%22minHeight%22%3A%20100%2C%20%22minWidth%22%3A%20500%7D%29%3B%0A%0A%20%20%20%20%20%20%20%20%0A%20%20%20%20%20%20%20%20%20%20%20%20var%20i_frame_9881d7106e62491db0d046f7a30822bf%20%3D%20%24%28%60%3Cdiv%20style%3D%22width%3A100%25%3B%22%3E%3Cdiv%20style%3D%22position%3Arelative%3Bwidth%3A100%25%3Bheight%3A0%3Bpadding-bottom%3A60%25%3B%22%3E%3Ciframe%20src%3D%22data%3Atext/html%3Bcharset%3Dutf-8%3Bbase64%2CCiAgICAKICAgIDxiPlNwZWNpZXMgTmFtZTo8L2I%2BIENPTU1PTiBDQVRBTFBBPGJyPgogICAgPGI%2BRGF0ZSBQbGFudGVkOjwvYj4gbmFuPGJyPgogICAgPGI%2BR2VvY29kZSBBdHRlbXB0OjwvYj4gMjQwMCBCUlVOU1dJQ0sgU1QsIFZhbmNvdXZlciwgQkMsIENhbmFkYTxicj4KICAgIDxiPkdlb2NvZGUgUmVzdWx0OjwvYj4gMjQwMCBCcnVuc3dpY2sgU3RyZWV0LCBWYW5jb3V2ZXIsIEJyaXRpc2ggQ29sdW1iaWEgVjVUIDFTMSwgQ2FuYWRh%22%20style%3D%22position%3Aabsolute%3Bwidth%3A100%25%3Bheight%3A100%25%3Bleft%3A0%3Btop%3A0%3Bborder%3Anone%20%21important%3B%22%3E%3C/iframe%3E%3C/div%3E%3C/div%3E%60%29%5B0%5D%3B%0A%20%20%20%20%20%20%20%20%20%20%20%20popup_75a0f0de1d844a509cd0dc75e0594e1a.setContent%28i_frame_9881d7106e62491db0d046f7a30822bf%29%3B%0A%20%20%20%20%20%20%20%20%0A%0A%20%20%20%20%20%20%20%20circle_marker_f3d1f7668473451fa7b1f3092c9e129e.bindPopup%28popup_75a0f0de1d844a509cd0dc75e0594e1a%29%0A%20%20%20%20%20%20%20%20%3B%0A%0A%20%20%20%20%20%20%20%20%0A%20%20%20%20%0A%20%20%20%20%0A%20%20%20%20%20%20%20%20%20%20%20%20var%20circle_marker_f62b617f745b401c886efe1fa3ff906b%20%3D%20L.circleMarker%28%0A%20%20%20%20%20%20%20%20%20%20%20%20%20%20%20%20%5B49.265133%2C%20-123.092957%5D%2C%0A%20%20%20%20%20%20%20%20%20%20%20%20%20%20%20%20%7B%22bubblingMouseEvents%22%3A%20true%2C%20%22color%22%3A%20%22black%22%2C%20%22dashArray%22%3A%20null%2C%20%22dashOffset%22%3A%20null%2C%20%22fill%22%3A%20true%2C%20%22fillColor%22%3A%20%22%23C6356E%22%2C%20%22fillOpacity%22%3A%200.75%2C%20%22fillRule%22%3A%20%22evenodd%22%2C%20%22lineCap%22%3A%20%22round%22%2C%20%22lineJoin%22%3A%20%22round%22%2C%20%22opacity%22%3A%201.0%2C%20%22radius%22%3A%2015%2C%20%22stroke%22%3A%20true%2C%20%22weight%22%3A%203%7D%0A%20%20%20%20%20%20%20%20%20%20%20%20%29.addTo%28map_815924b648b64e1eb2df2a4409776558%29%3B%0A%20%20%20%20%20%20%20%20%0A%20%20%20%20%0A%20%20%20%20%20%20%20%20var%20popup_e295acf2651a42e1aaff3afa261930dc%20%3D%20L.popup%28%7B%22maxHeight%22%3A%20500%2C%20%22maxWidth%22%3A%20500%2C%20%22minHeight%22%3A%20100%2C%20%22minWidth%22%3A%20500%7D%29%3B%0A%0A%20%20%20%20%20%20%20%20%0A%20%20%20%20%20%20%20%20%20%20%20%20var%20i_frame_3dbc915a1da24db9829dd0caf3827a6b%20%3D%20%24%28%60%3Cdiv%20style%3D%22width%3A100%25%3B%22%3E%3Cdiv%20style%3D%22position%3Arelative%3Bwidth%3A100%25%3Bheight%3A0%3Bpadding-bottom%3A60%25%3B%22%3E%3Ciframe%20src%3D%22data%3Atext/html%3Bcharset%3Dutf-8%3Bbase64%2CCiAgICAKICAgIDxiPlNwZWNpZXMgTmFtZTo8L2I%2BIFJVR0dFRCBSSURHRSBNSVlBQkUgTUFQTEU8YnI%2BCiAgICA8Yj5EYXRlIFBsYW50ZWQ6PC9iPiBuYW48YnI%2BCiAgICA8Yj5HZW9jb2RlIEF0dGVtcHQ6PC9iPiAyMjAwIFNULiBHRU9SR0UgU1QsIFZhbmNvdXZlciwgQkMsIENhbmFkYTxicj4KICAgIDxiPkdlb2NvZGUgUmVzdWx0OjwvYj4gMjIwMCBTYWludCBHZW9yZ2UgU3RyZWV0LCBWYW5jb3V2ZXIsIEJyaXRpc2ggQ29sdW1iaWEgVjVUIDNSMiwgQ2FuYWRh%22%20style%3D%22position%3Aabsolute%3Bwidth%3A100%25%3Bheight%3A100%25%3Bleft%3A0%3Btop%3A0%3Bborder%3Anone%20%21important%3B%22%3E%3C/iframe%3E%3C/div%3E%3C/div%3E%60%29%5B0%5D%3B%0A%20%20%20%20%20%20%20%20%20%20%20%20popup_e295acf2651a42e1aaff3afa261930dc.setContent%28i_frame_3dbc915a1da24db9829dd0caf3827a6b%29%3B%0A%20%20%20%20%20%20%20%20%0A%0A%20%20%20%20%20%20%20%20circle_marker_f62b617f745b401c886efe1fa3ff906b.bindPopup%28popup_e295acf2651a42e1aaff3afa261930dc%29%0A%20%20%20%20%20%20%20%20%3B%0A%0A%20%20%20%20%20%20%20%20%0A%20%20%20%20%0A%20%20%20%20%0A%20%20%20%20%20%20%20%20%20%20%20%20var%20circle_marker_664a51960ca048768360bfebbcc59991%20%3D%20L.circleMarker%28%0A%20%20%20%20%20%20%20%20%20%20%20%20%20%20%20%20%5B49.257497%2C%20-123.100615%5D%2C%0A%20%20%20%20%20%20%20%20%20%20%20%20%20%20%20%20%7B%22bubblingMouseEvents%22%3A%20true%2C%20%22color%22%3A%20%22black%22%2C%20%22dashArray%22%3A%20null%2C%20%22dashOffset%22%3A%20null%2C%20%22fill%22%3A%20true%2C%20%22fillColor%22%3A%20%22%239D51B4%22%2C%20%22fillOpacity%22%3A%200.75%2C%20%22fillRule%22%3A%20%22evenodd%22%2C%20%22lineCap%22%3A%20%22round%22%2C%20%22lineJoin%22%3A%20%22round%22%2C%20%22opacity%22%3A%201.0%2C%20%22radius%22%3A%2015%2C%20%22stroke%22%3A%20true%2C%20%22weight%22%3A%203%7D%0A%20%20%20%20%20%20%20%20%20%20%20%20%29.addTo%28map_815924b648b64e1eb2df2a4409776558%29%3B%0A%20%20%20%20%20%20%20%20%0A%20%20%20%20%0A%20%20%20%20%20%20%20%20var%20popup_7325d43ee7ee40409996a0830547dc03%20%3D%20L.popup%28%7B%22maxHeight%22%3A%20500%2C%20%22maxWidth%22%3A%20500%2C%20%22minHeight%22%3A%20100%2C%20%22minWidth%22%3A%20500%7D%29%3B%0A%0A%20%20%20%20%20%20%20%20%0A%20%20%20%20%20%20%20%20%20%20%20%20var%20i_frame_296d2fbafd2b4f619ed215e30b549224%20%3D%20%24%28%60%3Cdiv%20style%3D%22width%3A100%25%3B%22%3E%3Cdiv%20style%3D%22position%3Arelative%3Bwidth%3A100%25%3Bheight%3A0%3Bpadding-bottom%3A60%25%3B%22%3E%3Ciframe%20src%3D%22data%3Atext/html%3Bcharset%3Dutf-8%3Bbase64%2CCiAgICAKICAgIDxiPlNwZWNpZXMgTmFtZTo8L2I%2BIEhVTkdBUklBTiBPQUs8YnI%2BCiAgICA8Yj5EYXRlIFBsYW50ZWQ6PC9iPiAyMDA1LTExLTAzPGJyPgogICAgPGI%2BR2VvY29kZSBBdHRlbXB0OjwvYj4gMjAwIEUgMTVUSCBBViwgVmFuY291dmVyLCBCQywgQ2FuYWRhPGJyPgogICAgPGI%2BR2VvY29kZSBSZXN1bHQ6PC9iPiAyMDAgRWFzdCAxNXRoIEF2ZW51ZSwgVmFuY291dmVyLCBCcml0aXNoIENvbHVtYmlhIFY1VCAyUDksIENhbmFkYQ%3D%3D%22%20style%3D%22position%3Aabsolute%3Bwidth%3A100%25%3Bheight%3A100%25%3Bleft%3A0%3Btop%3A0%3Bborder%3Anone%20%21important%3B%22%3E%3C/iframe%3E%3C/div%3E%3C/div%3E%60%29%5B0%5D%3B%0A%20%20%20%20%20%20%20%20%20%20%20%20popup_7325d43ee7ee40409996a0830547dc03.setContent%28i_frame_296d2fbafd2b4f619ed215e30b549224%29%3B%0A%20%20%20%20%20%20%20%20%0A%0A%20%20%20%20%20%20%20%20circle_marker_664a51960ca048768360bfebbcc59991.bindPopup%28popup_7325d43ee7ee40409996a0830547dc03%29%0A%20%20%20%20%20%20%20%20%3B%0A%0A%20%20%20%20%20%20%20%20%0A%20%20%20%20%0A%20%20%20%20%0A%20%20%20%20%20%20%20%20%20%20%20%20var%20circle_marker_8adbc8c33dfd435a8cd9a909d4420322%20%3D%20L.circleMarker%28%0A%20%20%20%20%20%20%20%20%20%20%20%20%20%20%20%20%5B49.263632%2C%20-123.096904%5D%2C%0A%20%20%20%20%20%20%20%20%20%20%20%20%20%20%20%20%7B%22bubblingMouseEvents%22%3A%20true%2C%20%22color%22%3A%20%22black%22%2C%20%22dashArray%22%3A%20null%2C%20%22dashOffset%22%3A%20null%2C%20%22fill%22%3A%20true%2C%20%22fillColor%22%3A%20%22%2336C844%22%2C%20%22fillOpacity%22%3A%200.75%2C%20%22fillRule%22%3A%20%22evenodd%22%2C%20%22lineCap%22%3A%20%22round%22%2C%20%22lineJoin%22%3A%20%22round%22%2C%20%22opacity%22%3A%201.0%2C%20%22radius%22%3A%2015%2C%20%22stroke%22%3A%20true%2C%20%22weight%22%3A%203%7D%0A%20%20%20%20%20%20%20%20%20%20%20%20%29.addTo%28map_815924b648b64e1eb2df2a4409776558%29%3B%0A%20%20%20%20%20%20%20%20%0A%20%20%20%20%0A%20%20%20%20%20%20%20%20var%20popup_3b09b5ed02be4eb18fb512460c0b4fad%20%3D%20L.popup%28%7B%22maxHeight%22%3A%20500%2C%20%22maxWidth%22%3A%20500%2C%20%22minHeight%22%3A%20100%2C%20%22minWidth%22%3A%20500%7D%29%3B%0A%0A%20%20%20%20%20%20%20%20%0A%20%20%20%20%20%20%20%20%20%20%20%20var%20i_frame_950fe00d3e514a4e8a842a40f51e0b39%20%3D%20%24%28%60%3Cdiv%20style%3D%22width%3A100%25%3B%22%3E%3Cdiv%20style%3D%22position%3Arelative%3Bwidth%3A100%25%3Bheight%3A0%3Bpadding-bottom%3A60%25%3B%22%3E%3Ciframe%20src%3D%22data%3Atext/html%3Bcharset%3Dutf-8%3Bbase64%2CCiAgICAKICAgIDxiPlNwZWNpZXMgTmFtZTo8L2I%2BIFBBUEVSQkFSSyBDSEVSUlk8YnI%2BCiAgICA8Yj5EYXRlIFBsYW50ZWQ6PC9iPiBuYW48YnI%2BCiAgICA8Yj5HZW9jb2RlIEF0dGVtcHQ6PC9iPiA0MDAgRSA4VEggQVYsIFZhbmNvdXZlciwgQkMsIENhbmFkYTxicj4KICAgIDxiPkdlb2NvZGUgUmVzdWx0OjwvYj4gNDAwIEVhc3QgOHRoIEF2ZW51ZSwgVmFuY291dmVyLCBCcml0aXNoIENvbHVtYmlhIFY1VCAxSzYsIENhbmFkYQ%3D%3D%22%20style%3D%22position%3Aabsolute%3Bwidth%3A100%25%3Bheight%3A100%25%3Bleft%3A0%3Btop%3A0%3Bborder%3Anone%20%21important%3B%22%3E%3C/iframe%3E%3C/div%3E%3C/div%3E%60%29%5B0%5D%3B%0A%20%20%20%20%20%20%20%20%20%20%20%20popup_3b09b5ed02be4eb18fb512460c0b4fad.setContent%28i_frame_950fe00d3e514a4e8a842a40f51e0b39%29%3B%0A%20%20%20%20%20%20%20%20%0A%0A%20%20%20%20%20%20%20%20circle_marker_8adbc8c33dfd435a8cd9a909d4420322.bindPopup%28popup_3b09b5ed02be4eb18fb512460c0b4fad%29%0A%20%20%20%20%20%20%20%20%3B%0A%0A%20%20%20%20%20%20%20%20%0A%20%20%20%20%0A%20%20%20%20%0A%20%20%20%20%20%20%20%20%20%20%20%20var%20circle_marker_5140754558534310a2d5ac33461d7ff7%20%3D%20L.circleMarker%28%0A%20%20%20%20%20%20%20%20%20%20%20%20%20%20%20%20%5B49.265314%2C%20-123.079386%5D%2C%0A%20%20%20%20%20%20%20%20%20%20%20%20%20%20%20%20%7B%22bubblingMouseEvents%22%3A%20true%2C%20%22color%22%3A%20%22black%22%2C%20%22dashArray%22%3A%20null%2C%20%22dashOffset%22%3A%20null%2C%20%22fill%22%3A%20true%2C%20%22fillColor%22%3A%20%22%232A7061%22%2C%20%22fillOpacity%22%3A%200.75%2C%20%22fillRule%22%3A%20%22evenodd%22%2C%20%22lineCap%22%3A%20%22round%22%2C%20%22lineJoin%22%3A%20%22round%22%2C%20%22opacity%22%3A%201.0%2C%20%22radius%22%3A%2015%2C%20%22stroke%22%3A%20true%2C%20%22weight%22%3A%203%7D%0A%20%20%20%20%20%20%20%20%20%20%20%20%29.addTo%28map_815924b648b64e1eb2df2a4409776558%29%3B%0A%20%20%20%20%20%20%20%20%0A%20%20%20%20%0A%20%20%20%20%20%20%20%20var%20popup_54db27e8932645888d96bc4698aab0fb%20%3D%20L.popup%28%7B%22maxHeight%22%3A%20500%2C%20%22maxWidth%22%3A%20500%2C%20%22minHeight%22%3A%20100%2C%20%22minWidth%22%3A%20500%7D%29%3B%0A%0A%20%20%20%20%20%20%20%20%0A%20%20%20%20%20%20%20%20%20%20%20%20var%20i_frame_c855bce4933240cbb4fc2611728a19d4%20%3D%20%24%28%60%3Cdiv%20style%3D%22width%3A100%25%3B%22%3E%3Cdiv%20style%3D%22position%3Arelative%3Bwidth%3A100%25%3Bheight%3A0%3Bpadding-bottom%3A60%25%3B%22%3E%3Ciframe%20src%3D%22data%3Atext/html%3Bcharset%3Dutf-8%3Bbase64%2CCiAgICAKICAgIDxiPlNwZWNpZXMgTmFtZTo8L2I%2BIFBZUkFNSUQgQkxBQ0sgTE9DVVNUPGJyPgogICAgPGI%2BRGF0ZSBQbGFudGVkOjwvYj4gbmFuPGJyPgogICAgPGI%2BR2VvY29kZSBBdHRlbXB0OjwvYj4gMjYwMCBLRUlUSCBEUklWRSwgVmFuY291dmVyLCBCQywgQ2FuYWRhPGJyPgogICAgPGI%2BR2VvY29kZSBSZXN1bHQ6PC9iPiAyNjAwIEtlaXRoIERyaXZlLCBWYW5jb3V2ZXIsIEJyaXRpc2ggQ29sdW1iaWEgVjVUIDFFNywgQ2FuYWRh%22%20style%3D%22position%3Aabsolute%3Bwidth%3A100%25%3Bheight%3A100%25%3Bleft%3A0%3Btop%3A0%3Bborder%3Anone%20%21important%3B%22%3E%3C/iframe%3E%3C/div%3E%3C/div%3E%60%29%5B0%5D%3B%0A%20%20%20%20%20%20%20%20%20%20%20%20popup_54db27e8932645888d96bc4698aab0fb.setContent%28i_frame_c855bce4933240cbb4fc2611728a19d4%29%3B%0A%20%20%20%20%20%20%20%20%0A%0A%20%20%20%20%20%20%20%20circle_marker_5140754558534310a2d5ac33461d7ff7.bindPopup%28popup_54db27e8932645888d96bc4698aab0fb%29%0A%20%20%20%20%20%20%20%20%3B%0A%0A%20%20%20%20%20%20%20%20%0A%20%20%20%20%0A%20%20%20%20%0A%20%20%20%20%20%20%20%20%20%20%20%20var%20circle_marker_895887712d16423697bfbbc0939971ef%20%3D%20L.circleMarker%28%0A%20%20%20%20%20%20%20%20%20%20%20%20%20%20%20%20%5B49.212981%2C%20-123.085701%5D%2C%0A%20%20%20%20%20%20%20%20%20%20%20%20%20%20%20%20%7B%22bubblingMouseEvents%22%3A%20true%2C%20%22color%22%3A%20%22black%22%2C%20%22dashArray%22%3A%20null%2C%20%22dashOffset%22%3A%20null%2C%20%22fill%22%3A%20true%2C%20%22fillColor%22%3A%20%22%2348F872%22%2C%20%22fillOpacity%22%3A%200.75%2C%20%22fillRule%22%3A%20%22evenodd%22%2C%20%22lineCap%22%3A%20%22round%22%2C%20%22lineJoin%22%3A%20%22round%22%2C%20%22opacity%22%3A%201.0%2C%20%22radius%22%3A%2015%2C%20%22stroke%22%3A%20true%2C%20%22weight%22%3A%203%7D%0A%20%20%20%20%20%20%20%20%20%20%20%20%29.addTo%28map_815924b648b64e1eb2df2a4409776558%29%3B%0A%20%20%20%20%20%20%20%20%0A%20%20%20%20%0A%20%20%20%20%20%20%20%20var%20popup_57b9c8bae26744b5b37d3ab9fdbe8d7c%20%3D%20L.popup%28%7B%22maxHeight%22%3A%20500%2C%20%22maxWidth%22%3A%20500%2C%20%22minHeight%22%3A%20100%2C%20%22minWidth%22%3A%20500%7D%29%3B%0A%0A%20%20%20%20%20%20%20%20%0A%20%20%20%20%20%20%20%20%20%20%20%20var%20i_frame_ba28c7792247469286a5be0b8247b85c%20%3D%20%24%28%60%3Cdiv%20style%3D%22width%3A100%25%3B%22%3E%3Cdiv%20style%3D%22position%3Arelative%3Bwidth%3A100%25%3Bheight%3A0%3Bpadding-bottom%3A60%25%3B%22%3E%3Ciframe%20src%3D%22data%3Atext/html%3Bcharset%3Dutf-8%3Bbase64%2CCiAgICAKICAgIDxiPlNwZWNpZXMgTmFtZTo8L2I%2BIFBBQ0lGSUMgRE9HV09PRDxicj4KICAgIDxiPkRhdGUgUGxhbnRlZDo8L2I%2BIG5hbjxicj4KICAgIDxiPkdlb2NvZGUgQXR0ZW1wdDo8L2I%2BIDc4MDAgV0lORFNPUiBTVCwgVmFuY291dmVyLCBCQywgQ2FuYWRhPGJyPgogICAgPGI%2BR2VvY29kZSBSZXN1bHQ6PC9iPiA3ODAwIFdpbmRzb3IgU3RyZWV0LCBWYW5jb3V2ZXIsIEJyaXRpc2ggQ29sdW1iaWEgVjVYIDJMMiwgQ2FuYWRh%22%20style%3D%22position%3Aabsolute%3Bwidth%3A100%25%3Bheight%3A100%25%3Bleft%3A0%3Btop%3A0%3Bborder%3Anone%20%21important%3B%22%3E%3C/iframe%3E%3C/div%3E%3C/div%3E%60%29%5B0%5D%3B%0A%20%20%20%20%20%20%20%20%20%20%20%20popup_57b9c8bae26744b5b37d3ab9fdbe8d7c.setContent%28i_frame_ba28c7792247469286a5be0b8247b85c%29%3B%0A%20%20%20%20%20%20%20%20%0A%0A%20%20%20%20%20%20%20%20circle_marker_895887712d16423697bfbbc0939971ef.bindPopup%28popup_57b9c8bae26744b5b37d3ab9fdbe8d7c%29%0A%20%20%20%20%20%20%20%20%3B%0A%0A%20%20%20%20%20%20%20%20%0A%20%20%20%20%0A%20%20%20%20%0A%20%20%20%20%20%20%20%20%20%20%20%20var%20circle_marker_89c5c1eb7ba649cc88ec3e1100a7db07%20%3D%20L.circleMarker%28%0A%20%20%20%20%20%20%20%20%20%20%20%20%20%20%20%20%5B49.263887%2C%20-123.111071%5D%2C%0A%20%20%20%20%20%20%20%20%20%20%20%20%20%20%20%20%7B%22bubblingMouseEvents%22%3A%20true%2C%20%22color%22%3A%20%22black%22%2C%20%22dashArray%22%3A%20null%2C%20%22dashOffset%22%3A%20null%2C%20%22fill%22%3A%20true%2C%20%22fillColor%22%3A%20%22%232A876C%22%2C%20%22fillOpacity%22%3A%200.75%2C%20%22fillRule%22%3A%20%22evenodd%22%2C%20%22lineCap%22%3A%20%22round%22%2C%20%22lineJoin%22%3A%20%22round%22%2C%20%22opacity%22%3A%201.0%2C%20%22radius%22%3A%2015%2C%20%22stroke%22%3A%20true%2C%20%22weight%22%3A%203%7D%0A%20%20%20%20%20%20%20%20%20%20%20%20%29.addTo%28map_815924b648b64e1eb2df2a4409776558%29%3B%0A%20%20%20%20%20%20%20%20%0A%20%20%20%20%0A%20%20%20%20%20%20%20%20var%20popup_48624f81fee24afdb4d0ff50d03fe0f0%20%3D%20L.popup%28%7B%22maxHeight%22%3A%20500%2C%20%22maxWidth%22%3A%20500%2C%20%22minHeight%22%3A%20100%2C%20%22minWidth%22%3A%20500%7D%29%3B%0A%0A%20%20%20%20%20%20%20%20%0A%20%20%20%20%20%20%20%20%20%20%20%20var%20i_frame_6fd880b0fea445eb83d2c7ec3d7b0ac1%20%3D%20%24%28%60%3Cdiv%20style%3D%22width%3A100%25%3B%22%3E%3Cdiv%20style%3D%22position%3Arelative%3Bwidth%3A100%25%3Bheight%3A0%3Bpadding-bottom%3A60%25%3B%22%3E%3Ciframe%20src%3D%22data%3Atext/html%3Bcharset%3Dutf-8%3Bbase64%2CCiAgICAKICAgIDxiPlNwZWNpZXMgTmFtZTo8L2I%2BIFNXRUVUR1VNIFNQRUNJRVM8YnI%2BCiAgICA8Yj5EYXRlIFBsYW50ZWQ6PC9iPiBuYW48YnI%2BCiAgICA8Yj5HZW9jb2RlIEF0dGVtcHQ6PC9iPiA0MDAgVyA4VEggQVYsIFZhbmNvdXZlciwgQkMsIENhbmFkYTxicj4KICAgIDxiPkdlb2NvZGUgUmVzdWx0OjwvYj4gNDAwIFdlc3QgOHRoIEF2ZW51ZSwgVmFuY291dmVyLCBCcml0aXNoIENvbHVtYmlhIFY1WSAxTjYsIENhbmFkYQ%3D%3D%22%20style%3D%22position%3Aabsolute%3Bwidth%3A100%25%3Bheight%3A100%25%3Bleft%3A0%3Btop%3A0%3Bborder%3Anone%20%21important%3B%22%3E%3C/iframe%3E%3C/div%3E%3C/div%3E%60%29%5B0%5D%3B%0A%20%20%20%20%20%20%20%20%20%20%20%20popup_48624f81fee24afdb4d0ff50d03fe0f0.setContent%28i_frame_6fd880b0fea445eb83d2c7ec3d7b0ac1%29%3B%0A%20%20%20%20%20%20%20%20%0A%0A%20%20%20%20%20%20%20%20circle_marker_89c5c1eb7ba649cc88ec3e1100a7db07.bindPopup%28popup_48624f81fee24afdb4d0ff50d03fe0f0%29%0A%20%20%20%20%20%20%20%20%3B%0A%0A%20%20%20%20%20%20%20%20%0A%20%20%20%20%0A%20%20%20%20%0A%20%20%20%20%20%20%20%20%20%20%20%20var%20circle_marker_ff595289cc254955865dbf1131a2e1dc%20%3D%20L.circleMarker%28%0A%20%20%20%20%20%20%20%20%20%20%20%20%20%20%20%20%5B49.260092%2C%20-123.053324%5D%2C%0A%20%20%20%20%20%20%20%20%20%20%20%20%20%20%20%20%7B%22bubblingMouseEvents%22%3A%20true%2C%20%22color%22%3A%20%22black%22%2C%20%22dashArray%22%3A%20null%2C%20%22dashOffset%22%3A%20null%2C%20%22fill%22%3A%20true%2C%20%22fillColor%22%3A%20%22%23E0516A%22%2C%20%22fillOpacity%22%3A%200.75%2C%20%22fillRule%22%3A%20%22evenodd%22%2C%20%22lineCap%22%3A%20%22round%22%2C%20%22lineJoin%22%3A%20%22round%22%2C%20%22opacity%22%3A%201.0%2C%20%22radius%22%3A%2015%2C%20%22stroke%22%3A%20true%2C%20%22weight%22%3A%203%7D%0A%20%20%20%20%20%20%20%20%20%20%20%20%29.addTo%28map_815924b648b64e1eb2df2a4409776558%29%3B%0A%20%20%20%20%20%20%20%20%0A%20%20%20%20%0A%20%20%20%20%20%20%20%20var%20popup_05233c00e1ab4fe69cdfe0b9f0b11ccc%20%3D%20L.popup%28%7B%22maxHeight%22%3A%20500%2C%20%22maxWidth%22%3A%20500%2C%20%22minHeight%22%3A%20100%2C%20%22minWidth%22%3A%20500%7D%29%3B%0A%0A%20%20%20%20%20%20%20%20%0A%20%20%20%20%20%20%20%20%20%20%20%20var%20i_frame_521add05a8594971b87b1844a1971bb9%20%3D%20%24%28%60%3Cdiv%20style%3D%22width%3A100%25%3B%22%3E%3Cdiv%20style%3D%22position%3Arelative%3Bwidth%3A100%25%3Bheight%3A0%3Bpadding-bottom%3A60%25%3B%22%3E%3Ciframe%20src%3D%22data%3Atext/html%3Bcharset%3Dutf-8%3Bbase64%2CCiAgICAKICAgIDxiPlNwZWNpZXMgTmFtZTo8L2I%2BIERPR1dPT0QgU1BFQ0lFUzxicj4KICAgIDxiPkRhdGUgUGxhbnRlZDo8L2I%2BIG5hbjxicj4KICAgIDxiPkdlb2NvZGUgQXR0ZW1wdDo8L2I%2BIDI3MDcgRSAxMVRIIEFWLCBWYW5jb3V2ZXIsIEJDLCBDYW5hZGE8YnI%2BCiAgICA8Yj5HZW9jb2RlIFJlc3VsdDo8L2I%2BIDI3MDcgRWFzdCAxMXRoIEF2ZW51ZSwgVmFuY291dmVyLCBCcml0aXNoIENvbHVtYmlhIFY1TSAzQzMsIENhbmFkYQ%3D%3D%22%20style%3D%22position%3Aabsolute%3Bwidth%3A100%25%3Bheight%3A100%25%3Bleft%3A0%3Btop%3A0%3Bborder%3Anone%20%21important%3B%22%3E%3C/iframe%3E%3C/div%3E%3C/div%3E%60%29%5B0%5D%3B%0A%20%20%20%20%20%20%20%20%20%20%20%20popup_05233c00e1ab4fe69cdfe0b9f0b11ccc.setContent%28i_frame_521add05a8594971b87b1844a1971bb9%29%3B%0A%20%20%20%20%20%20%20%20%0A%0A%20%20%20%20%20%20%20%20circle_marker_ff595289cc254955865dbf1131a2e1dc.bindPopup%28popup_05233c00e1ab4fe69cdfe0b9f0b11ccc%29%0A%20%20%20%20%20%20%20%20%3B%0A%0A%20%20%20%20%20%20%20%20%0A%20%20%20%20%0A%20%20%20%20%0A%20%20%20%20%20%20%20%20%20%20%20%20var%20circle_marker_827e3482e4ba4f31bc0184d8236a5993%20%3D%20L.circleMarker%28%0A%20%20%20%20%20%20%20%20%20%20%20%20%20%20%20%20%5B49.256919%2C%20-123.083595%5D%2C%0A%20%20%20%20%20%20%20%20%20%20%20%20%20%20%20%20%7B%22bubblingMouseEvents%22%3A%20true%2C%20%22color%22%3A%20%22black%22%2C%20%22dashArray%22%3A%20null%2C%20%22dashOffset%22%3A%20null%2C%20%22fill%22%3A%20true%2C%20%22fillColor%22%3A%20%22%2322F4C6%22%2C%20%22fillOpacity%22%3A%200.75%2C%20%22fillRule%22%3A%20%22evenodd%22%2C%20%22lineCap%22%3A%20%22round%22%2C%20%22lineJoin%22%3A%20%22round%22%2C%20%22opacity%22%3A%201.0%2C%20%22radius%22%3A%2015%2C%20%22stroke%22%3A%20true%2C%20%22weight%22%3A%203%7D%0A%20%20%20%20%20%20%20%20%20%20%20%20%29.addTo%28map_815924b648b64e1eb2df2a4409776558%29%3B%0A%20%20%20%20%20%20%20%20%0A%20%20%20%20%0A%20%20%20%20%20%20%20%20var%20popup_b74c7ed06e99444e90286b89ffada27d%20%3D%20L.popup%28%7B%22maxHeight%22%3A%20500%2C%20%22maxWidth%22%3A%20500%2C%20%22minHeight%22%3A%20100%2C%20%22minWidth%22%3A%20500%7D%29%3B%0A%0A%20%20%20%20%20%20%20%20%0A%20%20%20%20%20%20%20%20%20%20%20%20var%20i_frame_139cf50fb79345a79e797b93c376dd69%20%3D%20%24%28%60%3Cdiv%20style%3D%22width%3A100%25%3B%22%3E%3Cdiv%20style%3D%22position%3Arelative%3Bwidth%3A100%25%3Bheight%3A0%3Bpadding-bottom%3A60%25%3B%22%3E%3Ciframe%20src%3D%22data%3Atext/html%3Bcharset%3Dutf-8%3Bbase64%2CCiAgICAKICAgIDxiPlNwZWNpZXMgTmFtZTo8L2I%2BIENBVUNBU0lBTiBBU0g8YnI%2BCiAgICA8Yj5EYXRlIFBsYW50ZWQ6PC9iPiBuYW48YnI%2BCiAgICA8Yj5HZW9jb2RlIEF0dGVtcHQ6PC9iPiAxMDAwIEUgMTVUSCBBViwgVmFuY291dmVyLCBCQywgQ2FuYWRhPGJyPgogICAgPGI%2BR2VvY29kZSBSZXN1bHQ6PC9iPiAxMDAwIEVhc3QgMTV0aCBBdmVudWUsIFZhbmNvdXZlciwgQnJpdGlzaCBDb2x1bWJpYSBWNVQgNEE5LCBDYW5hZGE%3D%22%20style%3D%22position%3Aabsolute%3Bwidth%3A100%25%3Bheight%3A100%25%3Bleft%3A0%3Btop%3A0%3Bborder%3Anone%20%21important%3B%22%3E%3C/iframe%3E%3C/div%3E%3C/div%3E%60%29%5B0%5D%3B%0A%20%20%20%20%20%20%20%20%20%20%20%20popup_b74c7ed06e99444e90286b89ffada27d.setContent%28i_frame_139cf50fb79345a79e797b93c376dd69%29%3B%0A%20%20%20%20%20%20%20%20%0A%0A%20%20%20%20%20%20%20%20circle_marker_827e3482e4ba4f31bc0184d8236a5993.bindPopup%28popup_b74c7ed06e99444e90286b89ffada27d%29%0A%20%20%20%20%20%20%20%20%3B%0A%0A%20%20%20%20%20%20%20%20%0A%20%20%20%20%0A%20%20%20%20%0A%20%20%20%20%20%20%20%20%20%20%20%20var%20circle_marker_c09a62034e3d4c2eb107160f3ea03b27%20%3D%20L.circleMarker%28%0A%20%20%20%20%20%20%20%20%20%20%20%20%20%20%20%20%5B49.262859%2C%20-123.099415%5D%2C%0A%20%20%20%20%20%20%20%20%20%20%20%20%20%20%20%20%7B%22bubblingMouseEvents%22%3A%20true%2C%20%22color%22%3A%20%22black%22%2C%20%22dashArray%22%3A%20null%2C%20%22dashOffset%22%3A%20null%2C%20%22fill%22%3A%20true%2C%20%22fillColor%22%3A%20%22%23BA1472%22%2C%20%22fillOpacity%22%3A%200.75%2C%20%22fillRule%22%3A%20%22evenodd%22%2C%20%22lineCap%22%3A%20%22round%22%2C%20%22lineJoin%22%3A%20%22round%22%2C%20%22opacity%22%3A%201.0%2C%20%22radius%22%3A%2015%2C%20%22stroke%22%3A%20true%2C%20%22weight%22%3A%203%7D%0A%20%20%20%20%20%20%20%20%20%20%20%20%29.addTo%28map_815924b648b64e1eb2df2a4409776558%29%3B%0A%20%20%20%20%20%20%20%20%0A%20%20%20%20%0A%20%20%20%20%20%20%20%20var%20popup_3545b85eb1784b3e81efafdde85dea2a%20%3D%20L.popup%28%7B%22maxHeight%22%3A%20500%2C%20%22maxWidth%22%3A%20500%2C%20%22minHeight%22%3A%20100%2C%20%22minWidth%22%3A%20500%7D%29%3B%0A%0A%20%20%20%20%20%20%20%20%0A%20%20%20%20%20%20%20%20%20%20%20%20var%20i_frame_55ef019c472f476a838d9ec3d3f4c260%20%3D%20%24%28%60%3Cdiv%20style%3D%22width%3A100%25%3B%22%3E%3Cdiv%20style%3D%22position%3Arelative%3Bwidth%3A100%25%3Bheight%3A0%3Bpadding-bottom%3A60%25%3B%22%3E%3Ciframe%20src%3D%22data%3Atext/html%3Bcharset%3Dutf-8%3Bbase64%2CCiAgICAKICAgIDxiPlNwZWNpZXMgTmFtZTo8L2I%2BIFBSQUlSSUUgU1RBVFVSRSBPQUs8YnI%2BCiAgICA8Yj5EYXRlIFBsYW50ZWQ6PC9iPiBuYW48YnI%2BCiAgICA8Yj5HZW9jb2RlIEF0dGVtcHQ6PC9iPiAzMDAgRSBCUk9BRFdBWSwgVmFuY291dmVyLCBCQywgQ2FuYWRhPGJyPgogICAgPGI%2BR2VvY29kZSBSZXN1bHQ6PC9iPiAzMDAgRWFzdCBCcm9hZHdheSwgVmFuY291dmVyLCBCcml0aXNoIENvbHVtYmlhIFY1VCAwSDcsIENhbmFkYQ%3D%3D%22%20style%3D%22position%3Aabsolute%3Bwidth%3A100%25%3Bheight%3A100%25%3Bleft%3A0%3Btop%3A0%3Bborder%3Anone%20%21important%3B%22%3E%3C/iframe%3E%3C/div%3E%3C/div%3E%60%29%5B0%5D%3B%0A%20%20%20%20%20%20%20%20%20%20%20%20popup_3545b85eb1784b3e81efafdde85dea2a.setContent%28i_frame_55ef019c472f476a838d9ec3d3f4c260%29%3B%0A%20%20%20%20%20%20%20%20%0A%0A%20%20%20%20%20%20%20%20circle_marker_c09a62034e3d4c2eb107160f3ea03b27.bindPopup%28popup_3545b85eb1784b3e81efafdde85dea2a%29%0A%20%20%20%20%20%20%20%20%3B%0A%0A%20%20%20%20%20%20%20%20%0A%20%20%20%20%0A%20%20%20%20%0A%20%20%20%20%20%20%20%20%20%20%20%20var%20circle_marker_9d7bc47b8046493897a8a7ef92f7cc74%20%3D%20L.circleMarker%28%0A%20%20%20%20%20%20%20%20%20%20%20%20%20%20%20%20%5B49.261968%2C%20-123.098854%5D%2C%0A%20%20%20%20%20%20%20%20%20%20%20%20%20%20%20%20%7B%22bubblingMouseEvents%22%3A%20true%2C%20%22color%22%3A%20%22black%22%2C%20%22dashArray%22%3A%20null%2C%20%22dashOffset%22%3A%20null%2C%20%22fill%22%3A%20true%2C%20%22fillColor%22%3A%20%22%236117B1%22%2C%20%22fillOpacity%22%3A%200.75%2C%20%22fillRule%22%3A%20%22evenodd%22%2C%20%22lineCap%22%3A%20%22round%22%2C%20%22lineJoin%22%3A%20%22round%22%2C%20%22opacity%22%3A%201.0%2C%20%22radius%22%3A%2015%2C%20%22stroke%22%3A%20true%2C%20%22weight%22%3A%203%7D%0A%20%20%20%20%20%20%20%20%20%20%20%20%29.addTo%28map_815924b648b64e1eb2df2a4409776558%29%3B%0A%20%20%20%20%20%20%20%20%0A%20%20%20%20%0A%20%20%20%20%20%20%20%20var%20popup_0a4ae8eaf0654d89901f927b4518ad27%20%3D%20L.popup%28%7B%22maxHeight%22%3A%20500%2C%20%22maxWidth%22%3A%20500%2C%20%22minHeight%22%3A%20100%2C%20%22minWidth%22%3A%20500%7D%29%3B%0A%0A%20%20%20%20%20%20%20%20%0A%20%20%20%20%20%20%20%20%20%20%20%20var%20i_frame_1a39fc06abbd431abe70d2cc08cf4e84%20%3D%20%24%28%60%3Cdiv%20style%3D%22width%3A100%25%3B%22%3E%3Cdiv%20style%3D%22position%3Arelative%3Bwidth%3A100%25%3Bheight%3A0%3Bpadding-bottom%3A60%25%3B%22%3E%3Ciframe%20src%3D%22data%3Atext/html%3Bcharset%3Dutf-8%3Bbase64%2CCiAgICAKICAgIDxiPlNwZWNpZXMgTmFtZTo8L2I%2BIFZJTExBR0UgR1JFRU4gWkVMS09WQTxicj4KICAgIDxiPkRhdGUgUGxhbnRlZDo8L2I%2BIDIwMDUtMTEtMjM8YnI%2BCiAgICA8Yj5HZW9jb2RlIEF0dGVtcHQ6PC9iPiAzMDAgRSAxMFRIIEFWLCBWYW5jb3V2ZXIsIEJDLCBDYW5hZGE8YnI%2BCiAgICA8Yj5HZW9jb2RlIFJlc3VsdDo8L2I%2BIDMwMCBFYXN0IDEwdGggQXZlbnVlLCBWYW5jb3V2ZXIsIEJyaXRpc2ggQ29sdW1iaWEgVjVUIDNKNCwgQ2FuYWRh%22%20style%3D%22position%3Aabsolute%3Bwidth%3A100%25%3Bheight%3A100%25%3Bleft%3A0%3Btop%3A0%3Bborder%3Anone%20%21important%3B%22%3E%3C/iframe%3E%3C/div%3E%3C/div%3E%60%29%5B0%5D%3B%0A%20%20%20%20%20%20%20%20%20%20%20%20popup_0a4ae8eaf0654d89901f927b4518ad27.setContent%28i_frame_1a39fc06abbd431abe70d2cc08cf4e84%29%3B%0A%20%20%20%20%20%20%20%20%0A%0A%20%20%20%20%20%20%20%20circle_marker_9d7bc47b8046493897a8a7ef92f7cc74.bindPopup%28popup_0a4ae8eaf0654d89901f927b4518ad27%29%0A%20%20%20%20%20%20%20%20%3B%0A%0A%20%20%20%20%20%20%20%20%0A%20%20%20%20%0A%20%20%20%20%0A%20%20%20%20%20%20%20%20%20%20%20%20var%20circle_marker_03ca741342cd426aae0f3304b9c95dcb%20%3D%20L.circleMarker%28%0A%20%20%20%20%20%20%20%20%20%20%20%20%20%20%20%20%5B49.268431%2C%20-123.111199%5D%2C%0A%20%20%20%20%20%20%20%20%20%20%20%20%20%20%20%20%7B%22bubblingMouseEvents%22%3A%20true%2C%20%22color%22%3A%20%22black%22%2C%20%22dashArray%22%3A%20null%2C%20%22dashOffset%22%3A%20null%2C%20%22fill%22%3A%20true%2C%20%22fillColor%22%3A%20%22%2399D525%22%2C%20%22fillOpacity%22%3A%200.75%2C%20%22fillRule%22%3A%20%22evenodd%22%2C%20%22lineCap%22%3A%20%22round%22%2C%20%22lineJoin%22%3A%20%22round%22%2C%20%22opacity%22%3A%201.0%2C%20%22radius%22%3A%2015%2C%20%22stroke%22%3A%20true%2C%20%22weight%22%3A%203%7D%0A%20%20%20%20%20%20%20%20%20%20%20%20%29.addTo%28map_815924b648b64e1eb2df2a4409776558%29%3B%0A%20%20%20%20%20%20%20%20%0A%20%20%20%20%0A%20%20%20%20%20%20%20%20var%20popup_59f1b98dc98f484fa4fb07c34e3d1ef9%20%3D%20L.popup%28%7B%22maxHeight%22%3A%20500%2C%20%22maxWidth%22%3A%20500%2C%20%22minHeight%22%3A%20100%2C%20%22minWidth%22%3A%20500%7D%29%3B%0A%0A%20%20%20%20%20%20%20%20%0A%20%20%20%20%20%20%20%20%20%20%20%20var%20i_frame_ebc4cfcc34234878951e9ee4c4a5eb06%20%3D%20%24%28%60%3Cdiv%20style%3D%22width%3A100%25%3B%22%3E%3Cdiv%20style%3D%22position%3Arelative%3Bwidth%3A100%25%3Bheight%3A0%3Bpadding-bottom%3A60%25%3B%22%3E%3Ciframe%20src%3D%22data%3Atext/html%3Bcharset%3Dutf-8%3Bbase64%2CCiAgICAKICAgIDxiPlNwZWNpZXMgTmFtZTo8L2I%2BIENPTU1PTSBDSE9LRUNIRVJSWTxicj4KICAgIDxiPkRhdGUgUGxhbnRlZDo8L2I%2BIG5hbjxicj4KICAgIDxiPkdlb2NvZGUgQXR0ZW1wdDo8L2I%2BIDYwMCBXIDJORCBBViwgVmFuY291dmVyLCBCQywgQ2FuYWRhPGJyPgogICAgPGI%2BR2VvY29kZSBSZXN1bHQ6PC9iPiA2MDAgV2VzdCAybmQgQXZlbnVlLCBWYW5jb3V2ZXIsIEJyaXRpc2ggQ29sdW1iaWEgVjVZIDFDNywgQ2FuYWRh%22%20style%3D%22position%3Aabsolute%3Bwidth%3A100%25%3Bheight%3A100%25%3Bleft%3A0%3Btop%3A0%3Bborder%3Anone%20%21important%3B%22%3E%3C/iframe%3E%3C/div%3E%3C/div%3E%60%29%5B0%5D%3B%0A%20%20%20%20%20%20%20%20%20%20%20%20popup_59f1b98dc98f484fa4fb07c34e3d1ef9.setContent%28i_frame_ebc4cfcc34234878951e9ee4c4a5eb06%29%3B%0A%20%20%20%20%20%20%20%20%0A%0A%20%20%20%20%20%20%20%20circle_marker_03ca741342cd426aae0f3304b9c95dcb.bindPopup%28popup_59f1b98dc98f484fa4fb07c34e3d1ef9%29%0A%20%20%20%20%20%20%20%20%3B%0A%0A%20%20%20%20%20%20%20%20%0A%20%20%20%20%0A%20%20%20%20%0A%20%20%20%20%20%20%20%20%20%20%20%20var%20circle_marker_a4d8eb858f994a0797b546fe817936e4%20%3D%20L.circleMarker%28%0A%20%20%20%20%20%20%20%20%20%20%20%20%20%20%20%20%5B49.271203%2C%20-123.10457%5D%2C%0A%20%20%20%20%20%20%20%20%20%20%20%20%20%20%20%20%7B%22bubblingMouseEvents%22%3A%20true%2C%20%22color%22%3A%20%22black%22%2C%20%22dashArray%22%3A%20null%2C%20%22dashOffset%22%3A%20null%2C%20%22fill%22%3A%20true%2C%20%22fillColor%22%3A%20%22%2349C515%22%2C%20%22fillOpacity%22%3A%200.75%2C%20%22fillRule%22%3A%20%22evenodd%22%2C%20%22lineCap%22%3A%20%22round%22%2C%20%22lineJoin%22%3A%20%22round%22%2C%20%22opacity%22%3A%201.0%2C%20%22radius%22%3A%2015%2C%20%22stroke%22%3A%20true%2C%20%22weight%22%3A%203%7D%0A%20%20%20%20%20%20%20%20%20%20%20%20%29.addTo%28map_815924b648b64e1eb2df2a4409776558%29%3B%0A%20%20%20%20%20%20%20%20%0A%20%20%20%20%0A%20%20%20%20%20%20%20%20var%20popup_34b68865a1bb4aa48a2b2cd0526ae634%20%3D%20L.popup%28%7B%22maxHeight%22%3A%20500%2C%20%22maxWidth%22%3A%20500%2C%20%22minHeight%22%3A%20100%2C%20%22minWidth%22%3A%20500%7D%29%3B%0A%0A%20%20%20%20%20%20%20%20%0A%20%20%20%20%20%20%20%20%20%20%20%20var%20i_frame_26dca0220a4848549c94493cf61a6ae5%20%3D%20%24%28%60%3Cdiv%20style%3D%22width%3A100%25%3B%22%3E%3Cdiv%20style%3D%22position%3Arelative%3Bwidth%3A100%25%3Bheight%3A0%3Bpadding-bottom%3A60%25%3B%22%3E%3Ciframe%20src%3D%22data%3Atext/html%3Bcharset%3Dutf-8%3Bbase64%2CCiAgICAKICAgIDxiPlNwZWNpZXMgTmFtZTo8L2I%2BIEdPTERFTiBBU0g8YnI%2BCiAgICA8Yj5EYXRlIFBsYW50ZWQ6PC9iPiAyMDAyLTA0LTIzPGJyPgogICAgPGI%2BR2VvY29kZSBBdHRlbXB0OjwvYj4gMTEwMCBPTlRBUklPIFNULCBWYW5jb3V2ZXIsIEJDLCBDYW5hZGE8YnI%2BCiAgICA8Yj5HZW9jb2RlIFJlc3VsdDo8L2I%2BIDExMDAgT250YXJpbyBTdHJlZXQsIFZhbmNvdXZlciwgQnJpdGlzaCBDb2x1bWJpYSBWNkEgMEg2LCBDYW5hZGE%3D%22%20style%3D%22position%3Aabsolute%3Bwidth%3A100%25%3Bheight%3A100%25%3Bleft%3A0%3Btop%3A0%3Bborder%3Anone%20%21important%3B%22%3E%3C/iframe%3E%3C/div%3E%3C/div%3E%60%29%5B0%5D%3B%0A%20%20%20%20%20%20%20%20%20%20%20%20popup_34b68865a1bb4aa48a2b2cd0526ae634.setContent%28i_frame_26dca0220a4848549c94493cf61a6ae5%29%3B%0A%20%20%20%20%20%20%20%20%0A%0A%20%20%20%20%20%20%20%20circle_marker_a4d8eb858f994a0797b546fe817936e4.bindPopup%28popup_34b68865a1bb4aa48a2b2cd0526ae634%29%0A%20%20%20%20%20%20%20%20%3B%0A%0A%20%20%20%20%20%20%20%20%0A%20%20%20%20%0A%20%20%20%20%0A%20%20%20%20%20%20%20%20%20%20%20%20var%20circle_marker_ac0bf0014ca9472d948cf36d25326fa8%20%3D%20L.circleMarker%28%0A%20%20%20%20%20%20%20%20%20%20%20%20%20%20%20%20%5B49.256684%2C%20-123.077687%5D%2C%0A%20%20%20%20%20%20%20%20%20%20%20%20%20%20%20%20%7B%22bubblingMouseEvents%22%3A%20true%2C%20%22color%22%3A%20%22black%22%2C%20%22dashArray%22%3A%20null%2C%20%22dashOffset%22%3A%20null%2C%20%22fill%22%3A%20true%2C%20%22fillColor%22%3A%20%22%23475DA5%22%2C%20%22fillOpacity%22%3A%200.75%2C%20%22fillRule%22%3A%20%22evenodd%22%2C%20%22lineCap%22%3A%20%22round%22%2C%20%22lineJoin%22%3A%20%22round%22%2C%20%22opacity%22%3A%201.0%2C%20%22radius%22%3A%2015%2C%20%22stroke%22%3A%20true%2C%20%22weight%22%3A%203%7D%0A%20%20%20%20%20%20%20%20%20%20%20%20%29.addTo%28map_815924b648b64e1eb2df2a4409776558%29%3B%0A%20%20%20%20%20%20%20%20%0A%20%20%20%20%0A%20%20%20%20%20%20%20%20var%20popup_8e5da549656e4d3b97ac6a1cd9bf298a%20%3D%20L.popup%28%7B%22maxHeight%22%3A%20500%2C%20%22maxWidth%22%3A%20500%2C%20%22minHeight%22%3A%20100%2C%20%22minWidth%22%3A%20500%7D%29%3B%0A%0A%20%20%20%20%20%20%20%20%0A%20%20%20%20%20%20%20%20%20%20%20%20var%20i_frame_445fce81dbae4001956a52a89d9841f4%20%3D%20%24%28%60%3Cdiv%20style%3D%22width%3A100%25%3B%22%3E%3Cdiv%20style%3D%22position%3Arelative%3Bwidth%3A100%25%3Bheight%3A0%3Bpadding-bottom%3A60%25%3B%22%3E%3Ciframe%20src%3D%22data%3Atext/html%3Bcharset%3Dutf-8%3Bbase64%2CCiAgICAKICAgIDxiPlNwZWNpZXMgTmFtZTo8L2I%2BIFNVTU1JVCBBU0g8YnI%2BCiAgICA8Yj5EYXRlIFBsYW50ZWQ6PC9iPiAyMDA0LTAxLTI5PGJyPgogICAgPGI%2BR2VvY29kZSBBdHRlbXB0OjwvYj4gMzEwMCBDTEFSSyBEUklWRSwgVmFuY291dmVyLCBCQywgQ2FuYWRhPGJyPgogICAgPGI%2BR2VvY29kZSBSZXN1bHQ6PC9iPiAzMTAwIENsYXJrIERyaXZlLCBWYW5jb3V2ZXIsIEJyaXRpc2ggQ29sdW1iaWEgVjVOIDJFNCwgQ2FuYWRh%22%20style%3D%22position%3Aabsolute%3Bwidth%3A100%25%3Bheight%3A100%25%3Bleft%3A0%3Btop%3A0%3Bborder%3Anone%20%21important%3B%22%3E%3C/iframe%3E%3C/div%3E%3C/div%3E%60%29%5B0%5D%3B%0A%20%20%20%20%20%20%20%20%20%20%20%20popup_8e5da549656e4d3b97ac6a1cd9bf298a.setContent%28i_frame_445fce81dbae4001956a52a89d9841f4%29%3B%0A%20%20%20%20%20%20%20%20%0A%0A%20%20%20%20%20%20%20%20circle_marker_ac0bf0014ca9472d948cf36d25326fa8.bindPopup%28popup_8e5da549656e4d3b97ac6a1cd9bf298a%29%0A%20%20%20%20%20%20%20%20%3B%0A%0A%20%20%20%20%20%20%20%20%0A%20%20%20%20%0A%20%20%20%20%0A%20%20%20%20%20%20%20%20%20%20%20%20var%20circle_marker_b9d4e68c78a64716b890c00f28fe2185%20%3D%20L.circleMarker%28%0A%20%20%20%20%20%20%20%20%20%20%20%20%20%20%20%20%5B49.258456%2C%20-123.09838%5D%2C%0A%20%20%20%20%20%20%20%20%20%20%20%20%20%20%20%20%7B%22bubblingMouseEvents%22%3A%20true%2C%20%22color%22%3A%20%22black%22%2C%20%22dashArray%22%3A%20null%2C%20%22dashOffset%22%3A%20null%2C%20%22fill%22%3A%20true%2C%20%22fillColor%22%3A%20%22%232B42D2%22%2C%20%22fillOpacity%22%3A%200.75%2C%20%22fillRule%22%3A%20%22evenodd%22%2C%20%22lineCap%22%3A%20%22round%22%2C%20%22lineJoin%22%3A%20%22round%22%2C%20%22opacity%22%3A%201.0%2C%20%22radius%22%3A%2015%2C%20%22stroke%22%3A%20true%2C%20%22weight%22%3A%203%7D%0A%20%20%20%20%20%20%20%20%20%20%20%20%29.addTo%28map_815924b648b64e1eb2df2a4409776558%29%3B%0A%20%20%20%20%20%20%20%20%0A%20%20%20%20%0A%20%20%20%20%20%20%20%20var%20popup_4212885a77f044d397b5263bc8c0bc4d%20%3D%20L.popup%28%7B%22maxHeight%22%3A%20500%2C%20%22maxWidth%22%3A%20500%2C%20%22minHeight%22%3A%20100%2C%20%22minWidth%22%3A%20500%7D%29%3B%0A%0A%20%20%20%20%20%20%20%20%0A%20%20%20%20%20%20%20%20%20%20%20%20var%20i_frame_716784dc1b954ec19d4361965dbb521b%20%3D%20%24%28%60%3Cdiv%20style%3D%22width%3A100%25%3B%22%3E%3Cdiv%20style%3D%22position%3Arelative%3Bwidth%3A100%25%3Bheight%3A0%3Bpadding-bottom%3A60%25%3B%22%3E%3Ciframe%20src%3D%22data%3Atext/html%3Bcharset%3Dutf-8%3Bbase64%2CCiAgICAKICAgIDxiPlNwZWNpZXMgTmFtZTo8L2I%2BIENPTFVNTkFSIFNBUkdFTlQgQ0hFUlJZPGJyPgogICAgPGI%2BRGF0ZSBQbGFudGVkOjwvYj4gMTk5OS0xMi0yMTxicj4KICAgIDxiPkdlb2NvZGUgQXR0ZW1wdDo8L2I%2BIDI5MDAgU09QSElBIFNULCBWYW5jb3V2ZXIsIEJDLCBDYW5hZGE8YnI%2BCiAgICA8Yj5HZW9jb2RlIFJlc3VsdDo8L2I%2BIDI5MDAgU29waGlhIFN0cmVldCwgVmFuY291dmVyLCBCcml0aXNoIENvbHVtYmlhIFY1VCAyTTcsIENhbmFkYQ%3D%3D%22%20style%3D%22position%3Aabsolute%3Bwidth%3A100%25%3Bheight%3A100%25%3Bleft%3A0%3Btop%3A0%3Bborder%3Anone%20%21important%3B%22%3E%3C/iframe%3E%3C/div%3E%3C/div%3E%60%29%5B0%5D%3B%0A%20%20%20%20%20%20%20%20%20%20%20%20popup_4212885a77f044d397b5263bc8c0bc4d.setContent%28i_frame_716784dc1b954ec19d4361965dbb521b%29%3B%0A%20%20%20%20%20%20%20%20%0A%0A%20%20%20%20%20%20%20%20circle_marker_b9d4e68c78a64716b890c00f28fe2185.bindPopup%28popup_4212885a77f044d397b5263bc8c0bc4d%29%0A%20%20%20%20%20%20%20%20%3B%0A%0A%20%20%20%20%20%20%20%20%0A%20%20%20%20%0A%20%20%20%20%0A%20%20%20%20%20%20%20%20%20%20%20%20var%20circle_marker_a1e3c56e8bcb407f9687ab32f8d9dde0%20%3D%20L.circleMarker%28%0A%20%20%20%20%20%20%20%20%20%20%20%20%20%20%20%20%5B49.260333%2C%20-123.112962%5D%2C%0A%20%20%20%20%20%20%20%20%20%20%20%20%20%20%20%20%7B%22bubblingMouseEvents%22%3A%20true%2C%20%22color%22%3A%20%22black%22%2C%20%22dashArray%22%3A%20null%2C%20%22dashOffset%22%3A%20null%2C%20%22fill%22%3A%20true%2C%20%22fillColor%22%3A%20%22%2317B237%22%2C%20%22fillOpacity%22%3A%200.75%2C%20%22fillRule%22%3A%20%22evenodd%22%2C%20%22lineCap%22%3A%20%22round%22%2C%20%22lineJoin%22%3A%20%22round%22%2C%20%22opacity%22%3A%201.0%2C%20%22radius%22%3A%2015%2C%20%22stroke%22%3A%20true%2C%20%22weight%22%3A%203%7D%0A%20%20%20%20%20%20%20%20%20%20%20%20%29.addTo%28map_815924b648b64e1eb2df2a4409776558%29%3B%0A%20%20%20%20%20%20%20%20%0A%20%20%20%20%0A%20%20%20%20%20%20%20%20var%20popup_7591efc07cf549a5a34f32ae7248b606%20%3D%20L.popup%28%7B%22maxHeight%22%3A%20500%2C%20%22maxWidth%22%3A%20500%2C%20%22minHeight%22%3A%20100%2C%20%22minWidth%22%3A%20500%7D%29%3B%0A%0A%20%20%20%20%20%20%20%20%0A%20%20%20%20%20%20%20%20%20%20%20%20var%20i_frame_62a644545e45451e8b16a63fdda9edbb%20%3D%20%24%28%60%3Cdiv%20style%3D%22width%3A100%25%3B%22%3E%3Cdiv%20style%3D%22position%3Arelative%3Bwidth%3A100%25%3Bheight%3A0%3Bpadding-bottom%3A60%25%3B%22%3E%3Ciframe%20src%3D%22data%3Atext/html%3Bcharset%3Dutf-8%3Bbase64%2CCiAgICAKICAgIDxiPlNwZWNpZXMgTmFtZTo8L2I%2BIFNJTFZFUiBMSU5ERU48YnI%2BCiAgICA8Yj5EYXRlIFBsYW50ZWQ6PC9iPiBuYW48YnI%2BCiAgICA8Yj5HZW9jb2RlIEF0dGVtcHQ6PC9iPiAyOTAwIFlVS09OIFNULCBWYW5jb3V2ZXIsIEJDLCBDYW5hZGE8YnI%2BCiAgICA8Yj5HZW9jb2RlIFJlc3VsdDo8L2I%2BIDI5MDAgWXVrb24gU3RyZWV0LCBWYW5jb3V2ZXIsIEJyaXRpc2ggQ29sdW1iaWEgVjVZIDFWMiwgQ2FuYWRh%22%20style%3D%22position%3Aabsolute%3Bwidth%3A100%25%3Bheight%3A100%25%3Bleft%3A0%3Btop%3A0%3Bborder%3Anone%20%21important%3B%22%3E%3C/iframe%3E%3C/div%3E%3C/div%3E%60%29%5B0%5D%3B%0A%20%20%20%20%20%20%20%20%20%20%20%20popup_7591efc07cf549a5a34f32ae7248b606.setContent%28i_frame_62a644545e45451e8b16a63fdda9edbb%29%3B%0A%20%20%20%20%20%20%20%20%0A%0A%20%20%20%20%20%20%20%20circle_marker_a1e3c56e8bcb407f9687ab32f8d9dde0.bindPopup%28popup_7591efc07cf549a5a34f32ae7248b606%29%0A%20%20%20%20%20%20%20%20%3B%0A%0A%20%20%20%20%20%20%20%20%0A%20%20%20%20%0A%20%20%20%20%0A%20%20%20%20%20%20%20%20%20%20%20%20var%20circle_marker_c4049f9c1a7141b489bbb13aa6795842%20%3D%20L.circleMarker%28%0A%20%20%20%20%20%20%20%20%20%20%20%20%20%20%20%20%5B49.257071%2C%20-123.087315%5D%2C%0A%20%20%20%20%20%20%20%20%20%20%20%20%20%20%20%20%7B%22bubblingMouseEvents%22%3A%20true%2C%20%22color%22%3A%20%22black%22%2C%20%22dashArray%22%3A%20null%2C%20%22dashOffset%22%3A%20null%2C%20%22fill%22%3A%20true%2C%20%22fillColor%22%3A%20%22%23AB5C76%22%2C%20%22fillOpacity%22%3A%200.75%2C%20%22fillRule%22%3A%20%22evenodd%22%2C%20%22lineCap%22%3A%20%22round%22%2C%20%22lineJoin%22%3A%20%22round%22%2C%20%22opacity%22%3A%201.0%2C%20%22radius%22%3A%2015%2C%20%22stroke%22%3A%20true%2C%20%22weight%22%3A%203%7D%0A%20%20%20%20%20%20%20%20%20%20%20%20%29.addTo%28map_815924b648b64e1eb2df2a4409776558%29%3B%0A%20%20%20%20%20%20%20%20%0A%20%20%20%20%0A%20%20%20%20%20%20%20%20var%20popup_61704f976512455b917c61d3d7712402%20%3D%20L.popup%28%7B%22maxHeight%22%3A%20500%2C%20%22maxWidth%22%3A%20500%2C%20%22minHeight%22%3A%20100%2C%20%22minWidth%22%3A%20500%7D%29%3B%0A%0A%20%20%20%20%20%20%20%20%0A%20%20%20%20%20%20%20%20%20%20%20%20var%20i_frame_bc2a019a47df44188fcfa1126561a3fe%20%3D%20%24%28%60%3Cdiv%20style%3D%22width%3A100%25%3B%22%3E%3Cdiv%20style%3D%22position%3Arelative%3Bwidth%3A100%25%3Bheight%3A0%3Bpadding-bottom%3A60%25%3B%22%3E%3Ciframe%20src%3D%22data%3Atext/html%3Bcharset%3Dutf-8%3Bbase64%2CCiAgICAKICAgIDxiPlNwZWNpZXMgTmFtZTo8L2I%2BIEdPTERFTlJBSU4gVFJFRTxicj4KICAgIDxiPkRhdGUgUGxhbnRlZDo8L2I%2BIG5hbjxicj4KICAgIDxiPkdlb2NvZGUgQXR0ZW1wdDo8L2I%2BIDgwMCBFIDE1VEggQVYsIFZhbmNvdXZlciwgQkMsIENhbmFkYTxicj4KICAgIDxiPkdlb2NvZGUgUmVzdWx0OjwvYj4gODAwIEVhc3QgMTV0aCBBdmVudWUsIFZhbmNvdXZlciwgQnJpdGlzaCBDb2x1bWJpYSBWNVQgMlI5LCBDYW5hZGE%3D%22%20style%3D%22position%3Aabsolute%3Bwidth%3A100%25%3Bheight%3A100%25%3Bleft%3A0%3Btop%3A0%3Bborder%3Anone%20%21important%3B%22%3E%3C/iframe%3E%3C/div%3E%3C/div%3E%60%29%5B0%5D%3B%0A%20%20%20%20%20%20%20%20%20%20%20%20popup_61704f976512455b917c61d3d7712402.setContent%28i_frame_bc2a019a47df44188fcfa1126561a3fe%29%3B%0A%20%20%20%20%20%20%20%20%0A%0A%20%20%20%20%20%20%20%20circle_marker_c4049f9c1a7141b489bbb13aa6795842.bindPopup%28popup_61704f976512455b917c61d3d7712402%29%0A%20%20%20%20%20%20%20%20%3B%0A%0A%20%20%20%20%20%20%20%20%0A%20%20%20%20%0A%20%20%20%20%0A%20%20%20%20%20%20%20%20%20%20%20%20var%20circle_marker_6d630e3af4244782940ac53111cf0ee7%20%3D%20L.circleMarker%28%0A%20%20%20%20%20%20%20%20%20%20%20%20%20%20%20%20%5B49.331121%2C%20-123.159479%5D%2C%0A%20%20%20%20%20%20%20%20%20%20%20%20%20%20%20%20%7B%22bubblingMouseEvents%22%3A%20true%2C%20%22color%22%3A%20%22black%22%2C%20%22dashArray%22%3A%20null%2C%20%22dashOffset%22%3A%20null%2C%20%22fill%22%3A%20true%2C%20%22fillColor%22%3A%20%22%23B29BE6%22%2C%20%22fillOpacity%22%3A%200.75%2C%20%22fillRule%22%3A%20%22evenodd%22%2C%20%22lineCap%22%3A%20%22round%22%2C%20%22lineJoin%22%3A%20%22round%22%2C%20%22opacity%22%3A%201.0%2C%20%22radius%22%3A%2015%2C%20%22stroke%22%3A%20true%2C%20%22weight%22%3A%203%7D%0A%20%20%20%20%20%20%20%20%20%20%20%20%29.addTo%28map_815924b648b64e1eb2df2a4409776558%29%3B%0A%20%20%20%20%20%20%20%20%0A%20%20%20%20%0A%20%20%20%20%20%20%20%20var%20popup_1f041f272e594751a4df13da3e93da40%20%3D%20L.popup%28%7B%22maxHeight%22%3A%20500%2C%20%22maxWidth%22%3A%20500%2C%20%22minHeight%22%3A%20100%2C%20%22minWidth%22%3A%20500%7D%29%3B%0A%0A%20%20%20%20%20%20%20%20%0A%20%20%20%20%20%20%20%20%20%20%20%20var%20i_frame_662153b21a204c9686441732f31e0aa8%20%3D%20%24%28%60%3Cdiv%20style%3D%22width%3A100%25%3B%22%3E%3Cdiv%20style%3D%22position%3Arelative%3Bwidth%3A100%25%3Bheight%3A0%3Bpadding-bottom%3A60%25%3B%22%3E%3Ciframe%20src%3D%22data%3Atext/html%3Bcharset%3Dutf-8%3Bbase64%2CCiAgICAKICAgIDxiPlNwZWNpZXMgTmFtZTo8L2I%2BIFRSRUUgT0YgSEVBVkVOPGJyPgogICAgPGI%2BRGF0ZSBQbGFudGVkOjwvYj4gbmFuPGJyPgogICAgPGI%2BR2VvY29kZSBBdHRlbXB0OjwvYj4gMzAwMCBQUklOQ0UgQUxCRVJUIFNULCBWYW5jb3V2ZXIsIEJDLCBDYW5hZGE8YnI%2BCiAgICA8Yj5HZW9jb2RlIFJlc3VsdDo8L2I%2BIFdlc3QgVmFuY291dmVyLCBCcml0aXNoIENvbHVtYmlhLCBDYW5hZGE%3D%22%20style%3D%22position%3Aabsolute%3Bwidth%3A100%25%3Bheight%3A100%25%3Bleft%3A0%3Btop%3A0%3Bborder%3Anone%20%21important%3B%22%3E%3C/iframe%3E%3C/div%3E%3C/div%3E%60%29%5B0%5D%3B%0A%20%20%20%20%20%20%20%20%20%20%20%20popup_1f041f272e594751a4df13da3e93da40.setContent%28i_frame_662153b21a204c9686441732f31e0aa8%29%3B%0A%20%20%20%20%20%20%20%20%0A%0A%20%20%20%20%20%20%20%20circle_marker_6d630e3af4244782940ac53111cf0ee7.bindPopup%28popup_1f041f272e594751a4df13da3e93da40%29%0A%20%20%20%20%20%20%20%20%3B%0A%0A%20%20%20%20%20%20%20%20%0A%20%20%20%20%0A%20%20%20%20%0A%20%20%20%20%20%20%20%20%20%20%20%20var%20circle_marker_b75e2a47b5384681a19f1cda192a63bc%20%3D%20L.circleMarker%28%0A%20%20%20%20%20%20%20%20%20%20%20%20%20%20%20%20%5B49.331121%2C%20-123.159479%5D%2C%0A%20%20%20%20%20%20%20%20%20%20%20%20%20%20%20%20%7B%22bubblingMouseEvents%22%3A%20true%2C%20%22color%22%3A%20%22black%22%2C%20%22dashArray%22%3A%20null%2C%20%22dashOffset%22%3A%20null%2C%20%22fill%22%3A%20true%2C%20%22fillColor%22%3A%20%22%237EB903%22%2C%20%22fillOpacity%22%3A%200.75%2C%20%22fillRule%22%3A%20%22evenodd%22%2C%20%22lineCap%22%3A%20%22round%22%2C%20%22lineJoin%22%3A%20%22round%22%2C%20%22opacity%22%3A%201.0%2C%20%22radius%22%3A%2015%2C%20%22stroke%22%3A%20true%2C%20%22weight%22%3A%203%7D%0A%20%20%20%20%20%20%20%20%20%20%20%20%29.addTo%28map_815924b648b64e1eb2df2a4409776558%29%3B%0A%20%20%20%20%20%20%20%20%0A%20%20%20%20%0A%20%20%20%20%20%20%20%20var%20popup_6588b6bce4e74a3bba79920d4c5277ae%20%3D%20L.popup%28%7B%22maxHeight%22%3A%20500%2C%20%22maxWidth%22%3A%20500%2C%20%22minHeight%22%3A%20100%2C%20%22minWidth%22%3A%20500%7D%29%3B%0A%0A%20%20%20%20%20%20%20%20%0A%20%20%20%20%20%20%20%20%20%20%20%20var%20i_frame_cb71d96acfd64f309ff91e0307a7f43a%20%3D%20%24%28%60%3Cdiv%20style%3D%22width%3A100%25%3B%22%3E%3Cdiv%20style%3D%22position%3Arelative%3Bwidth%3A100%25%3Bheight%3A0%3Bpadding-bottom%3A60%25%3B%22%3E%3Ciframe%20src%3D%22data%3Atext/html%3Bcharset%3Dutf-8%3Bbase64%2CCiAgICAKICAgIDxiPlNwZWNpZXMgTmFtZTo8L2I%2BIFlFTExPVyBCVUNLRVlFPGJyPgogICAgPGI%2BRGF0ZSBQbGFudGVkOjwvYj4gMjAwNS0wNC0xMzxicj4KICAgIDxiPkdlb2NvZGUgQXR0ZW1wdDo8L2I%2BIDI4MDAgUFJJTkNFIEVEV0FSRCBTVCwgVmFuY291dmVyLCBCQywgQ2FuYWRhPGJyPgogICAgPGI%2BR2VvY29kZSBSZXN1bHQ6PC9iPiBXZXN0IFZhbmNvdXZlciwgQnJpdGlzaCBDb2x1bWJpYSwgQ2FuYWRh%22%20style%3D%22position%3Aabsolute%3Bwidth%3A100%25%3Bheight%3A100%25%3Bleft%3A0%3Btop%3A0%3Bborder%3Anone%20%21important%3B%22%3E%3C/iframe%3E%3C/div%3E%3C/div%3E%60%29%5B0%5D%3B%0A%20%20%20%20%20%20%20%20%20%20%20%20popup_6588b6bce4e74a3bba79920d4c5277ae.setContent%28i_frame_cb71d96acfd64f309ff91e0307a7f43a%29%3B%0A%20%20%20%20%20%20%20%20%0A%0A%20%20%20%20%20%20%20%20circle_marker_b75e2a47b5384681a19f1cda192a63bc.bindPopup%28popup_6588b6bce4e74a3bba79920d4c5277ae%29%0A%20%20%20%20%20%20%20%20%3B%0A%0A%20%20%20%20%20%20%20%20%0A%20%20%20%20%0A%20%20%20%20%0A%20%20%20%20%20%20%20%20%20%20%20%20var%20circle_marker_f339cad238be4419b35461237683f302%20%3D%20L.circleMarker%28%0A%20%20%20%20%20%20%20%20%20%20%20%20%20%20%20%20%5B49.257832%2C%20-123.079461%5D%2C%0A%20%20%20%20%20%20%20%20%20%20%20%20%20%20%20%20%7B%22bubblingMouseEvents%22%3A%20true%2C%20%22color%22%3A%20%22black%22%2C%20%22dashArray%22%3A%20null%2C%20%22dashOffset%22%3A%20null%2C%20%22fill%22%3A%20true%2C%20%22fillColor%22%3A%20%22%23C5C9CA%22%2C%20%22fillOpacity%22%3A%200.75%2C%20%22fillRule%22%3A%20%22evenodd%22%2C%20%22lineCap%22%3A%20%22round%22%2C%20%22lineJoin%22%3A%20%22round%22%2C%20%22opacity%22%3A%201.0%2C%20%22radius%22%3A%2015%2C%20%22stroke%22%3A%20true%2C%20%22weight%22%3A%203%7D%0A%20%20%20%20%20%20%20%20%20%20%20%20%29.addTo%28map_815924b648b64e1eb2df2a4409776558%29%3B%0A%20%20%20%20%20%20%20%20%0A%20%20%20%20%0A%20%20%20%20%20%20%20%20var%20popup_00058de99e2b41d2886e3f300aea732a%20%3D%20L.popup%28%7B%22maxHeight%22%3A%20500%2C%20%22maxWidth%22%3A%20500%2C%20%22minHeight%22%3A%20100%2C%20%22minWidth%22%3A%20500%7D%29%3B%0A%0A%20%20%20%20%20%20%20%20%0A%20%20%20%20%20%20%20%20%20%20%20%20var%20i_frame_17224587d47b442daf6dd3229a0a7981%20%3D%20%24%28%60%3Cdiv%20style%3D%22width%3A100%25%3B%22%3E%3Cdiv%20style%3D%22position%3Arelative%3Bwidth%3A100%25%3Bheight%3A0%3Bpadding-bottom%3A60%25%3B%22%3E%3Ciframe%20src%3D%22data%3Atext/html%3Bcharset%3Dutf-8%3Bbase64%2CCiAgICAKICAgIDxiPlNwZWNpZXMgTmFtZTo8L2I%2BIEdJQU5UIEZJTEJFUlQ8YnI%2BCiAgICA8Yj5EYXRlIFBsYW50ZWQ6PC9iPiBuYW48YnI%2BCiAgICA8Yj5HZW9jb2RlIEF0dGVtcHQ6PC9iPiAxMjAwIEUgMTRUSCBBViwgVmFuY291dmVyLCBCQywgQ2FuYWRhPGJyPgogICAgPGI%2BR2VvY29kZSBSZXN1bHQ6PC9iPiAxMjAwIEVhc3QgMTR0aCBBdmVudWUsIFZhbmNvdXZlciwgQnJpdGlzaCBDb2x1bWJpYSBWNVQgMlAzLCBDYW5hZGE%3D%22%20style%3D%22position%3Aabsolute%3Bwidth%3A100%25%3Bheight%3A100%25%3Bleft%3A0%3Btop%3A0%3Bborder%3Anone%20%21important%3B%22%3E%3C/iframe%3E%3C/div%3E%3C/div%3E%60%29%5B0%5D%3B%0A%20%20%20%20%20%20%20%20%20%20%20%20popup_00058de99e2b41d2886e3f300aea732a.setContent%28i_frame_17224587d47b442daf6dd3229a0a7981%29%3B%0A%20%20%20%20%20%20%20%20%0A%0A%20%20%20%20%20%20%20%20circle_marker_f339cad238be4419b35461237683f302.bindPopup%28popup_00058de99e2b41d2886e3f300aea732a%29%0A%20%20%20%20%20%20%20%20%3B%0A%0A%20%20%20%20%20%20%20%20%0A%20%20%20%20%0A%20%20%20%20%0A%20%20%20%20%20%20%20%20%20%20%20%20var%20circle_marker_e998fd7430af4671a5880e7143e10d07%20%3D%20L.circleMarker%28%0A%20%20%20%20%20%20%20%20%20%20%20%20%20%20%20%20%5B49.266603%2C%20-123.110825%5D%2C%0A%20%20%20%20%20%20%20%20%20%20%20%20%20%20%20%20%7B%22bubblingMouseEvents%22%3A%20true%2C%20%22color%22%3A%20%22black%22%2C%20%22dashArray%22%3A%20null%2C%20%22dashOffset%22%3A%20null%2C%20%22fill%22%3A%20true%2C%20%22fillColor%22%3A%20%22%2362C940%22%2C%20%22fillOpacity%22%3A%200.75%2C%20%22fillRule%22%3A%20%22evenodd%22%2C%20%22lineCap%22%3A%20%22round%22%2C%20%22lineJoin%22%3A%20%22round%22%2C%20%22opacity%22%3A%201.0%2C%20%22radius%22%3A%2015%2C%20%22stroke%22%3A%20true%2C%20%22weight%22%3A%203%7D%0A%20%20%20%20%20%20%20%20%20%20%20%20%29.addTo%28map_815924b648b64e1eb2df2a4409776558%29%3B%0A%20%20%20%20%20%20%20%20%0A%20%20%20%20%0A%20%20%20%20%20%20%20%20var%20popup_9966d981f8114fefb818586345762bab%20%3D%20L.popup%28%7B%22maxHeight%22%3A%20500%2C%20%22maxWidth%22%3A%20500%2C%20%22minHeight%22%3A%20100%2C%20%22minWidth%22%3A%20500%7D%29%3B%0A%0A%20%20%20%20%20%20%20%20%0A%20%20%20%20%20%20%20%20%20%20%20%20var%20i_frame_9c82a2f2c28d4c0786793db2f6fb15dc%20%3D%20%24%28%60%3Cdiv%20style%3D%22width%3A100%25%3B%22%3E%3Cdiv%20style%3D%22position%3Arelative%3Bwidth%3A100%25%3Bheight%3A0%3Bpadding-bottom%3A60%25%3B%22%3E%3Ciframe%20src%3D%22data%3Atext/html%3Bcharset%3Dutf-8%3Bbase64%2CCiAgICAKICAgIDxiPlNwZWNpZXMgTmFtZTo8L2I%2BIFBJTkUgU1BFQ0lFUzxicj4KICAgIDxiPkRhdGUgUGxhbnRlZDo8L2I%2BIG5hbjxicj4KICAgIDxiPkdlb2NvZGUgQXR0ZW1wdDo8L2I%2BIDMwMCBXIDVUSCBBViwgVmFuY291dmVyLCBCQywgQ2FuYWRhPGJyPgogICAgPGI%2BR2VvY29kZSBSZXN1bHQ6PC9iPiAzMDAgV2VzdCA1dGggQXZlbnVlLCBWYW5jb3V2ZXIsIEJyaXRpc2ggQ29sdW1iaWEgVjVZIDNLMywgQ2FuYWRh%22%20style%3D%22position%3Aabsolute%3Bwidth%3A100%25%3Bheight%3A100%25%3Bleft%3A0%3Btop%3A0%3Bborder%3Anone%20%21important%3B%22%3E%3C/iframe%3E%3C/div%3E%3C/div%3E%60%29%5B0%5D%3B%0A%20%20%20%20%20%20%20%20%20%20%20%20popup_9966d981f8114fefb818586345762bab.setContent%28i_frame_9c82a2f2c28d4c0786793db2f6fb15dc%29%3B%0A%20%20%20%20%20%20%20%20%0A%0A%20%20%20%20%20%20%20%20circle_marker_e998fd7430af4671a5880e7143e10d07.bindPopup%28popup_9966d981f8114fefb818586345762bab%29%0A%20%20%20%20%20%20%20%20%3B%0A%0A%20%20%20%20%20%20%20%20%0A%20%20%20%20%0A%20%20%20%20%0A%20%20%20%20%20%20%20%20%20%20%20%20var%20circle_marker_9283914af17540f0a720740eac8b2534%20%3D%20L.circleMarker%28%0A%20%20%20%20%20%20%20%20%20%20%20%20%20%20%20%20%5B49.261591%2C%20-123.096012%5D%2C%0A%20%20%20%20%20%20%20%20%20%20%20%20%20%20%20%20%7B%22bubblingMouseEvents%22%3A%20true%2C%20%22color%22%3A%20%22black%22%2C%20%22dashArray%22%3A%20null%2C%20%22dashOffset%22%3A%20null%2C%20%22fill%22%3A%20true%2C%20%22fillColor%22%3A%20%22%234BE251%22%2C%20%22fillOpacity%22%3A%200.75%2C%20%22fillRule%22%3A%20%22evenodd%22%2C%20%22lineCap%22%3A%20%22round%22%2C%20%22lineJoin%22%3A%20%22round%22%2C%20%22opacity%22%3A%201.0%2C%20%22radius%22%3A%2015%2C%20%22stroke%22%3A%20true%2C%20%22weight%22%3A%203%7D%0A%20%20%20%20%20%20%20%20%20%20%20%20%29.addTo%28map_815924b648b64e1eb2df2a4409776558%29%3B%0A%20%20%20%20%20%20%20%20%0A%20%20%20%20%0A%20%20%20%20%20%20%20%20var%20popup_ccf10141e9d74504acdb1c9945b7c296%20%3D%20L.popup%28%7B%22maxHeight%22%3A%20500%2C%20%22maxWidth%22%3A%20500%2C%20%22minHeight%22%3A%20100%2C%20%22minWidth%22%3A%20500%7D%29%3B%0A%0A%20%20%20%20%20%20%20%20%0A%20%20%20%20%20%20%20%20%20%20%20%20var%20i_frame_c251236bf54745e8a0fcc1810182854a%20%3D%20%24%28%60%3Cdiv%20style%3D%22width%3A100%25%3B%22%3E%3Cdiv%20style%3D%22position%3Arelative%3Bwidth%3A100%25%3Bheight%3A0%3Bpadding-bottom%3A60%25%3B%22%3E%3Ciframe%20src%3D%22data%3Atext/html%3Bcharset%3Dutf-8%3Bbase64%2CCiAgICAKICAgIDxiPlNwZWNpZXMgTmFtZTo8L2I%2BIEdPTERFTiBCRUVDSDxicj4KICAgIDxiPkRhdGUgUGxhbnRlZDo8L2I%2BIDE5OTMtMDMtMTI8YnI%2BCiAgICA8Yj5HZW9jb2RlIEF0dGVtcHQ6PC9iPiA0MDAgRSAxMFRIIEFWLCBWYW5jb3V2ZXIsIEJDLCBDYW5hZGE8YnI%2BCiAgICA8Yj5HZW9jb2RlIFJlc3VsdDo8L2I%2BIDQwMCBFYXN0IDEwdGggQXZlbnVlLCBWYW5jb3V2ZXIsIEJyaXRpc2ggQ29sdW1iaWEgVjVUIDRUMywgQ2FuYWRh%22%20style%3D%22position%3Aabsolute%3Bwidth%3A100%25%3Bheight%3A100%25%3Bleft%3A0%3Btop%3A0%3Bborder%3Anone%20%21important%3B%22%3E%3C/iframe%3E%3C/div%3E%3C/div%3E%60%29%5B0%5D%3B%0A%20%20%20%20%20%20%20%20%20%20%20%20popup_ccf10141e9d74504acdb1c9945b7c296.setContent%28i_frame_c251236bf54745e8a0fcc1810182854a%29%3B%0A%20%20%20%20%20%20%20%20%0A%0A%20%20%20%20%20%20%20%20circle_marker_9283914af17540f0a720740eac8b2534.bindPopup%28popup_ccf10141e9d74504acdb1c9945b7c296%29%0A%20%20%20%20%20%20%20%20%3B%0A%0A%20%20%20%20%20%20%20%20%0A%20%20%20%20%0A%20%20%20%20%0A%20%20%20%20%20%20%20%20%20%20%20%20var%20circle_marker_d9544aa4b3084c28bdcfdffaa6664f2f%20%3D%20L.circleMarker%28%0A%20%20%20%20%20%20%20%20%20%20%20%20%20%20%20%20%5B49.267544%2C%20-123.112874%5D%2C%0A%20%20%20%20%20%20%20%20%20%20%20%20%20%20%20%20%7B%22bubblingMouseEvents%22%3A%20true%2C%20%22color%22%3A%20%22black%22%2C%20%22dashArray%22%3A%20null%2C%20%22dashOffset%22%3A%20null%2C%20%22fill%22%3A%20true%2C%20%22fillColor%22%3A%20%22%2317293F%22%2C%20%22fillOpacity%22%3A%200.75%2C%20%22fillRule%22%3A%20%22evenodd%22%2C%20%22lineCap%22%3A%20%22round%22%2C%20%22lineJoin%22%3A%20%22round%22%2C%20%22opacity%22%3A%201.0%2C%20%22radius%22%3A%2015%2C%20%22stroke%22%3A%20true%2C%20%22weight%22%3A%203%7D%0A%20%20%20%20%20%20%20%20%20%20%20%20%29.addTo%28map_815924b648b64e1eb2df2a4409776558%29%3B%0A%20%20%20%20%20%20%20%20%0A%20%20%20%20%0A%20%20%20%20%20%20%20%20var%20popup_1621d5b5e15845698bc603f79248af49%20%3D%20L.popup%28%7B%22maxHeight%22%3A%20500%2C%20%22maxWidth%22%3A%20500%2C%20%22minHeight%22%3A%20100%2C%20%22minWidth%22%3A%20500%7D%29%3B%0A%0A%20%20%20%20%20%20%20%20%0A%20%20%20%20%20%20%20%20%20%20%20%20var%20i_frame_279f92bc2c1b47aa838c392c27e492cd%20%3D%20%24%28%60%3Cdiv%20style%3D%22width%3A100%25%3B%22%3E%3Cdiv%20style%3D%22position%3Arelative%3Bwidth%3A100%25%3Bheight%3A0%3Bpadding-bottom%3A60%25%3B%22%3E%3Ciframe%20src%3D%22data%3Atext/html%3Bcharset%3Dutf-8%3Bbase64%2CCiAgICAKICAgIDxiPlNwZWNpZXMgTmFtZTo8L2I%2BIFdJTkRNSUxMIFBBTE08YnI%2BCiAgICA8Yj5EYXRlIFBsYW50ZWQ6PC9iPiBuYW48YnI%2BCiAgICA8Yj5HZW9jb2RlIEF0dGVtcHQ6PC9iPiAyMDAwIFlVS09OIFNULCBWYW5jb3V2ZXIsIEJDLCBDYW5hZGE8YnI%2BCiAgICA8Yj5HZW9jb2RlIFJlc3VsdDo8L2I%2BIDIwMDAgWXVrb24gU3RyZWV0LCBWYW5jb3V2ZXIsIEJyaXRpc2ggQ29sdW1iaWEgVjVZIDFFMiwgQ2FuYWRh%22%20style%3D%22position%3Aabsolute%3Bwidth%3A100%25%3Bheight%3A100%25%3Bleft%3A0%3Btop%3A0%3Bborder%3Anone%20%21important%3B%22%3E%3C/iframe%3E%3C/div%3E%3C/div%3E%60%29%5B0%5D%3B%0A%20%20%20%20%20%20%20%20%20%20%20%20popup_1621d5b5e15845698bc603f79248af49.setContent%28i_frame_279f92bc2c1b47aa838c392c27e492cd%29%3B%0A%20%20%20%20%20%20%20%20%0A%0A%20%20%20%20%20%20%20%20circle_marker_d9544aa4b3084c28bdcfdffaa6664f2f.bindPopup%28popup_1621d5b5e15845698bc603f79248af49%29%0A%20%20%20%20%20%20%20%20%3B%0A%0A%20%20%20%20%20%20%20%20%0A%20%20%20%20%0A%20%20%20%20%0A%20%20%20%20%20%20%20%20%20%20%20%20var%20circle_marker_0ffe9d06fcc54084ad7b80b20c506550%20%3D%20L.circleMarker%28%0A%20%20%20%20%20%20%20%20%20%20%20%20%20%20%20%20%5B49.262643%2C%20-123.096001%5D%2C%0A%20%20%20%20%20%20%20%20%20%20%20%20%20%20%20%20%7B%22bubblingMouseEvents%22%3A%20true%2C%20%22color%22%3A%20%22black%22%2C%20%22dashArray%22%3A%20null%2C%20%22dashOffset%22%3A%20null%2C%20%22fill%22%3A%20true%2C%20%22fillColor%22%3A%20%22%2356E95F%22%2C%20%22fillOpacity%22%3A%200.75%2C%20%22fillRule%22%3A%20%22evenodd%22%2C%20%22lineCap%22%3A%20%22round%22%2C%20%22lineJoin%22%3A%20%22round%22%2C%20%22opacity%22%3A%201.0%2C%20%22radius%22%3A%2015%2C%20%22stroke%22%3A%20true%2C%20%22weight%22%3A%203%7D%0A%20%20%20%20%20%20%20%20%20%20%20%20%29.addTo%28map_815924b648b64e1eb2df2a4409776558%29%3B%0A%20%20%20%20%20%20%20%20%0A%20%20%20%20%0A%20%20%20%20%20%20%20%20var%20popup_157725dc0e224a0a9e1f640c1f43d0f3%20%3D%20L.popup%28%7B%22maxHeight%22%3A%20500%2C%20%22maxWidth%22%3A%20500%2C%20%22minHeight%22%3A%20100%2C%20%22minWidth%22%3A%20500%7D%29%3B%0A%0A%20%20%20%20%20%20%20%20%0A%20%20%20%20%20%20%20%20%20%20%20%20var%20i_frame_b1f2725fb00041d19295dab300964036%20%3D%20%24%28%60%3Cdiv%20style%3D%22width%3A100%25%3B%22%3E%3Cdiv%20style%3D%22position%3Arelative%3Bwidth%3A100%25%3Bheight%3A0%3Bpadding-bottom%3A60%25%3B%22%3E%3Ciframe%20src%3D%22data%3Atext/html%3Bcharset%3Dutf-8%3Bbase64%2CCiAgICAKICAgIDxiPlNwZWNpZXMgTmFtZTo8L2I%2BIFdJTERGSVJFIEJMQUNLR1VNPGJyPgogICAgPGI%2BRGF0ZSBQbGFudGVkOjwvYj4gbmFuPGJyPgogICAgPGI%2BR2VvY29kZSBBdHRlbXB0OjwvYj4gNDAwIEUgQlJPQURXQVksIFZhbmNvdXZlciwgQkMsIENhbmFkYTxicj4KICAgIDxiPkdlb2NvZGUgUmVzdWx0OjwvYj4gNDAwIEVhc3QgQnJvYWR3YXksIFZhbmNvdXZlciwgQnJpdGlzaCBDb2x1bWJpYSBWNVQgM003LCBDYW5hZGE%3D%22%20style%3D%22position%3Aabsolute%3Bwidth%3A100%25%3Bheight%3A100%25%3Bleft%3A0%3Btop%3A0%3Bborder%3Anone%20%21important%3B%22%3E%3C/iframe%3E%3C/div%3E%3C/div%3E%60%29%5B0%5D%3B%0A%20%20%20%20%20%20%20%20%20%20%20%20popup_157725dc0e224a0a9e1f640c1f43d0f3.setContent%28i_frame_b1f2725fb00041d19295dab300964036%29%3B%0A%20%20%20%20%20%20%20%20%0A%0A%20%20%20%20%20%20%20%20circle_marker_0ffe9d06fcc54084ad7b80b20c506550.bindPopup%28popup_157725dc0e224a0a9e1f640c1f43d0f3%29%0A%20%20%20%20%20%20%20%20%3B%0A%0A%20%20%20%20%20%20%20%20%0A%20%20%20%20%0A%20%20%20%20%0A%20%20%20%20%20%20%20%20%20%20%20%20var%20circle_marker_084b516419c94f37ab93ed2f90112950%20%3D%20L.circleMarker%28%0A%20%20%20%20%20%20%20%20%20%20%20%20%20%20%20%20%5B49.263929%2C%20-123.109452%5D%2C%0A%20%20%20%20%20%20%20%20%20%20%20%20%20%20%20%20%7B%22bubblingMouseEvents%22%3A%20true%2C%20%22color%22%3A%20%22black%22%2C%20%22dashArray%22%3A%20null%2C%20%22dashOffset%22%3A%20null%2C%20%22fill%22%3A%20true%2C%20%22fillColor%22%3A%20%22%236150B2%22%2C%20%22fillOpacity%22%3A%200.75%2C%20%22fillRule%22%3A%20%22evenodd%22%2C%20%22lineCap%22%3A%20%22round%22%2C%20%22lineJoin%22%3A%20%22round%22%2C%20%22opacity%22%3A%201.0%2C%20%22radius%22%3A%2015%2C%20%22stroke%22%3A%20true%2C%20%22weight%22%3A%203%7D%0A%20%20%20%20%20%20%20%20%20%20%20%20%29.addTo%28map_815924b648b64e1eb2df2a4409776558%29%3B%0A%20%20%20%20%20%20%20%20%0A%20%20%20%20%0A%20%20%20%20%20%20%20%20var%20popup_5325aad678f94ddbb1772bade96ccd7e%20%3D%20L.popup%28%7B%22maxHeight%22%3A%20500%2C%20%22maxWidth%22%3A%20500%2C%20%22minHeight%22%3A%20100%2C%20%22minWidth%22%3A%20500%7D%29%3B%0A%0A%20%20%20%20%20%20%20%20%0A%20%20%20%20%20%20%20%20%20%20%20%20var%20i_frame_dd5f347e7b9847fdadba580b379d25aa%20%3D%20%24%28%60%3Cdiv%20style%3D%22width%3A100%25%3B%22%3E%3Cdiv%20style%3D%22position%3Arelative%3Bwidth%3A100%25%3Bheight%3A0%3Bpadding-bottom%3A60%25%3B%22%3E%3Ciframe%20src%3D%22data%3Atext/html%3Bcharset%3Dutf-8%3Bbase64%2CCiAgICAKICAgIDxiPlNwZWNpZXMgTmFtZTo8L2I%2BIEFMREVSIFNQRUNJRVM8YnI%2BCiAgICA8Yj5EYXRlIFBsYW50ZWQ6PC9iPiBuYW48YnI%2BCiAgICA8Yj5HZW9jb2RlIEF0dGVtcHQ6PC9iPiAyMzAwIENPTFVNQklBIFNULCBWYW5jb3V2ZXIsIEJDLCBDYW5hZGE8YnI%2BCiAgICA8Yj5HZW9jb2RlIFJlc3VsdDo8L2I%2BIDIzMDAgQ29sdW1iaWEgU3RyZWV0LCBWYW5jb3V2ZXIsIEJyaXRpc2ggQ29sdW1iaWEgVjVZIDFMNywgQ2FuYWRh%22%20style%3D%22position%3Aabsolute%3Bwidth%3A100%25%3Bheight%3A100%25%3Bleft%3A0%3Btop%3A0%3Bborder%3Anone%20%21important%3B%22%3E%3C/iframe%3E%3C/div%3E%3C/div%3E%60%29%5B0%5D%3B%0A%20%20%20%20%20%20%20%20%20%20%20%20popup_5325aad678f94ddbb1772bade96ccd7e.setContent%28i_frame_dd5f347e7b9847fdadba580b379d25aa%29%3B%0A%20%20%20%20%20%20%20%20%0A%0A%20%20%20%20%20%20%20%20circle_marker_084b516419c94f37ab93ed2f90112950.bindPopup%28popup_5325aad678f94ddbb1772bade96ccd7e%29%0A%20%20%20%20%20%20%20%20%3B%0A%0A%20%20%20%20%20%20%20%20%0A%20%20%20%20%0A%20%20%20%20%0A%20%20%20%20%20%20%20%20%20%20%20%20var%20circle_marker_7795364f5d6d4dc69547afd5dd81cc7c%20%3D%20L.circleMarker%28%0A%20%20%20%20%20%20%20%20%20%20%20%20%20%20%20%20%5B49.257343%2C%20-123.093749%5D%2C%0A%20%20%20%20%20%20%20%20%20%20%20%20%20%20%20%20%7B%22bubblingMouseEvents%22%3A%20true%2C%20%22color%22%3A%20%22black%22%2C%20%22dashArray%22%3A%20null%2C%20%22dashOffset%22%3A%20null%2C%20%22fill%22%3A%20true%2C%20%22fillColor%22%3A%20%22%230CC3BB%22%2C%20%22fillOpacity%22%3A%200.75%2C%20%22fillRule%22%3A%20%22evenodd%22%2C%20%22lineCap%22%3A%20%22round%22%2C%20%22lineJoin%22%3A%20%22round%22%2C%20%22opacity%22%3A%201.0%2C%20%22radius%22%3A%2015%2C%20%22stroke%22%3A%20true%2C%20%22weight%22%3A%203%7D%0A%20%20%20%20%20%20%20%20%20%20%20%20%29.addTo%28map_815924b648b64e1eb2df2a4409776558%29%3B%0A%20%20%20%20%20%20%20%20%0A%20%20%20%20%0A%20%20%20%20%20%20%20%20var%20popup_a1a641c75fa94fe5998eb73412734d38%20%3D%20L.popup%28%7B%22maxHeight%22%3A%20500%2C%20%22maxWidth%22%3A%20500%2C%20%22minHeight%22%3A%20100%2C%20%22minWidth%22%3A%20500%7D%29%3B%0A%0A%20%20%20%20%20%20%20%20%0A%20%20%20%20%20%20%20%20%20%20%20%20var%20i_frame_23b688b5dfe542edb9e241e7a156602b%20%3D%20%24%28%60%3Cdiv%20style%3D%22width%3A100%25%3B%22%3E%3Cdiv%20style%3D%22position%3Arelative%3Bwidth%3A100%25%3Bheight%3A0%3Bpadding-bottom%3A60%25%3B%22%3E%3Ciframe%20src%3D%22data%3Atext/html%3Bcharset%3Dutf-8%3Bbase64%2CCiAgICAKICAgIDxiPlNwZWNpZXMgTmFtZTo8L2I%2BIEpBUEFORVNFIFBBR09EQSBUUkVFPGJyPgogICAgPGI%2BRGF0ZSBQbGFudGVkOjwvYj4gMjAwNS0wNC0xMTxicj4KICAgIDxiPkdlb2NvZGUgQXR0ZW1wdDo8L2I%2BIDUwMCBFIDE1VEggQVYsIFZhbmNvdXZlciwgQkMsIENhbmFkYTxicj4KICAgIDxiPkdlb2NvZGUgUmVzdWx0OjwvYj4gNTAwIEVhc3QgMTV0aCBBdmVudWUsIFZhbmNvdXZlciwgQnJpdGlzaCBDb2x1bWJpYSBWNVQgM0o5LCBDYW5hZGE%3D%22%20style%3D%22position%3Aabsolute%3Bwidth%3A100%25%3Bheight%3A100%25%3Bleft%3A0%3Btop%3A0%3Bborder%3Anone%20%21important%3B%22%3E%3C/iframe%3E%3C/div%3E%3C/div%3E%60%29%5B0%5D%3B%0A%20%20%20%20%20%20%20%20%20%20%20%20popup_a1a641c75fa94fe5998eb73412734d38.setContent%28i_frame_23b688b5dfe542edb9e241e7a156602b%29%3B%0A%20%20%20%20%20%20%20%20%0A%0A%20%20%20%20%20%20%20%20circle_marker_7795364f5d6d4dc69547afd5dd81cc7c.bindPopup%28popup_a1a641c75fa94fe5998eb73412734d38%29%0A%20%20%20%20%20%20%20%20%3B%0A%0A%20%20%20%20%20%20%20%20%0A%20%20%20%20%0A%20%20%20%20%0A%20%20%20%20%20%20%20%20%20%20%20%20var%20circle_marker_21bb62d8fed649d99cbf4bef7d681a89%20%3D%20L.circleMarker%28%0A%20%20%20%20%20%20%20%20%20%20%20%20%20%20%20%20%5B49.26339%2C%20-123.083301%5D%2C%0A%20%20%20%20%20%20%20%20%20%20%20%20%20%20%20%20%7B%22bubblingMouseEvents%22%3A%20true%2C%20%22color%22%3A%20%22black%22%2C%20%22dashArray%22%3A%20null%2C%20%22dashOffset%22%3A%20null%2C%20%22fill%22%3A%20true%2C%20%22fillColor%22%3A%20%22%23FE6369%22%2C%20%22fillOpacity%22%3A%200.75%2C%20%22fillRule%22%3A%20%22evenodd%22%2C%20%22lineCap%22%3A%20%22round%22%2C%20%22lineJoin%22%3A%20%22round%22%2C%20%22opacity%22%3A%201.0%2C%20%22radius%22%3A%2015%2C%20%22stroke%22%3A%20true%2C%20%22weight%22%3A%203%7D%0A%20%20%20%20%20%20%20%20%20%20%20%20%29.addTo%28map_815924b648b64e1eb2df2a4409776558%29%3B%0A%20%20%20%20%20%20%20%20%0A%20%20%20%20%0A%20%20%20%20%20%20%20%20var%20popup_142ada2194914c93804564ecaf384f9d%20%3D%20L.popup%28%7B%22maxHeight%22%3A%20500%2C%20%22maxWidth%22%3A%20500%2C%20%22minHeight%22%3A%20100%2C%20%22minWidth%22%3A%20500%7D%29%3B%0A%0A%20%20%20%20%20%20%20%20%0A%20%20%20%20%20%20%20%20%20%20%20%20var%20i_frame_2406c8d2fccf43c29f88c2de91a232ac%20%3D%20%24%28%60%3Cdiv%20style%3D%22width%3A100%25%3B%22%3E%3Cdiv%20style%3D%22position%3Arelative%3Bwidth%3A100%25%3Bheight%3A0%3Bpadding-bottom%3A60%25%3B%22%3E%3Ciframe%20src%3D%22data%3Atext/html%3Bcharset%3Dutf-8%3Bbase64%2CCiAgICAKICAgIDxiPlNwZWNpZXMgTmFtZTo8L2I%2BIEVMTSBTUEVDSUVTPGJyPgogICAgPGI%2BRGF0ZSBQbGFudGVkOjwvYj4gbmFuPGJyPgogICAgPGI%2BR2VvY29kZSBBdHRlbXB0OjwvYj4gMjMwMCBXSU5EU09SIFNULCBWYW5jb3V2ZXIsIEJDLCBDYW5hZGE8YnI%2BCiAgICA8Yj5HZW9jb2RlIFJlc3VsdDo8L2I%2BIDIzMDAgV2luZHNvciBTdHJlZXQsIFZhbmNvdXZlciwgQnJpdGlzaCBDb2x1bWJpYSBWNVQgMVYxLCBDYW5hZGE%3D%22%20style%3D%22position%3Aabsolute%3Bwidth%3A100%25%3Bheight%3A100%25%3Bleft%3A0%3Btop%3A0%3Bborder%3Anone%20%21important%3B%22%3E%3C/iframe%3E%3C/div%3E%3C/div%3E%60%29%5B0%5D%3B%0A%20%20%20%20%20%20%20%20%20%20%20%20popup_142ada2194914c93804564ecaf384f9d.setContent%28i_frame_2406c8d2fccf43c29f88c2de91a232ac%29%3B%0A%20%20%20%20%20%20%20%20%0A%0A%20%20%20%20%20%20%20%20circle_marker_21bb62d8fed649d99cbf4bef7d681a89.bindPopup%28popup_142ada2194914c93804564ecaf384f9d%29%0A%20%20%20%20%20%20%20%20%3B%0A%0A%20%20%20%20%20%20%20%20%0A%20%20%20%20%0A%20%20%20%20%0A%20%20%20%20%20%20%20%20%20%20%20%20var%20circle_marker_cc148fa771444465ae7a7b0dbd6c645b%20%3D%20L.circleMarker%28%0A%20%20%20%20%20%20%20%20%20%20%20%20%20%20%20%20%5B49.260181%2C%20-123.098306%5D%2C%0A%20%20%20%20%20%20%20%20%20%20%20%20%20%20%20%20%7B%22bubblingMouseEvents%22%3A%20true%2C%20%22color%22%3A%20%22black%22%2C%20%22dashArray%22%3A%20null%2C%20%22dashOffset%22%3A%20null%2C%20%22fill%22%3A%20true%2C%20%22fillColor%22%3A%20%22%23E895C0%22%2C%20%22fillOpacity%22%3A%200.75%2C%20%22fillRule%22%3A%20%22evenodd%22%2C%20%22lineCap%22%3A%20%22round%22%2C%20%22lineJoin%22%3A%20%22round%22%2C%20%22opacity%22%3A%201.0%2C%20%22radius%22%3A%2015%2C%20%22stroke%22%3A%20true%2C%20%22weight%22%3A%203%7D%0A%20%20%20%20%20%20%20%20%20%20%20%20%29.addTo%28map_815924b648b64e1eb2df2a4409776558%29%3B%0A%20%20%20%20%20%20%20%20%0A%20%20%20%20%0A%20%20%20%20%20%20%20%20var%20popup_00749b08967546d3a30dfcb66c1b8c9e%20%3D%20L.popup%28%7B%22maxHeight%22%3A%20500%2C%20%22maxWidth%22%3A%20500%2C%20%22minHeight%22%3A%20100%2C%20%22minWidth%22%3A%20500%7D%29%3B%0A%0A%20%20%20%20%20%20%20%20%0A%20%20%20%20%20%20%20%20%20%20%20%20var%20i_frame_65c641c879a548c99b2d42459173f4d5%20%3D%20%24%28%60%3Cdiv%20style%3D%22width%3A100%25%3B%22%3E%3Cdiv%20style%3D%22position%3Arelative%3Bwidth%3A100%25%3Bheight%3A0%3Bpadding-bottom%3A60%25%3B%22%3E%3Ciframe%20src%3D%22data%3Atext/html%3Bcharset%3Dutf-8%3Bbase64%2CCiAgICAKICAgIDxiPlNwZWNpZXMgTmFtZTo8L2I%2BIFlVTEFOIE1BR05PTElBPGJyPgogICAgPGI%2BRGF0ZSBQbGFudGVkOjwvYj4gMjAwMy0wMi0xNzxicj4KICAgIDxiPkdlb2NvZGUgQXR0ZW1wdDo8L2I%2BIDI4MDAgU09QSElBIFNULCBWYW5jb3V2ZXIsIEJDLCBDYW5hZGE8YnI%2BCiAgICA8Yj5HZW9jb2RlIFJlc3VsdDo8L2I%2BIDI4MDAgU29waGlhIFN0cmVldCwgVmFuY291dmVyLCBCcml0aXNoIENvbHVtYmlhIFY1VCAySDIsIENhbmFkYQ%3D%3D%22%20style%3D%22position%3Aabsolute%3Bwidth%3A100%25%3Bheight%3A100%25%3Bleft%3A0%3Btop%3A0%3Bborder%3Anone%20%21important%3B%22%3E%3C/iframe%3E%3C/div%3E%3C/div%3E%60%29%5B0%5D%3B%0A%20%20%20%20%20%20%20%20%20%20%20%20popup_00749b08967546d3a30dfcb66c1b8c9e.setContent%28i_frame_65c641c879a548c99b2d42459173f4d5%29%3B%0A%20%20%20%20%20%20%20%20%0A%0A%20%20%20%20%20%20%20%20circle_marker_cc148fa771444465ae7a7b0dbd6c645b.bindPopup%28popup_00749b08967546d3a30dfcb66c1b8c9e%29%0A%20%20%20%20%20%20%20%20%3B%0A%0A%20%20%20%20%20%20%20%20%0A%20%20%20%20%0A%20%20%20%20%0A%20%20%20%20%20%20%20%20%20%20%20%20var%20circle_marker_06fad08852574566a4b979a6f388f467%20%3D%20L.circleMarker%28%0A%20%20%20%20%20%20%20%20%20%20%20%20%20%20%20%20%5B49.258347%2C%20-123.096392%5D%2C%0A%20%20%20%20%20%20%20%20%20%20%20%20%20%20%20%20%7B%22bubblingMouseEvents%22%3A%20true%2C%20%22color%22%3A%20%22black%22%2C%20%22dashArray%22%3A%20null%2C%20%22dashOffset%22%3A%20null%2C%20%22fill%22%3A%20true%2C%20%22fillColor%22%3A%20%22%234EC9D3%22%2C%20%22fillOpacity%22%3A%200.75%2C%20%22fillRule%22%3A%20%22evenodd%22%2C%20%22lineCap%22%3A%20%22round%22%2C%20%22lineJoin%22%3A%20%22round%22%2C%20%22opacity%22%3A%201.0%2C%20%22radius%22%3A%2015%2C%20%22stroke%22%3A%20true%2C%20%22weight%22%3A%203%7D%0A%20%20%20%20%20%20%20%20%20%20%20%20%29.addTo%28map_815924b648b64e1eb2df2a4409776558%29%3B%0A%20%20%20%20%20%20%20%20%0A%20%20%20%20%0A%20%20%20%20%20%20%20%20var%20popup_c7b3f7c073a14b8b9684bbd40c6b8989%20%3D%20L.popup%28%7B%22maxHeight%22%3A%20500%2C%20%22maxWidth%22%3A%20500%2C%20%22minHeight%22%3A%20100%2C%20%22minWidth%22%3A%20500%7D%29%3B%0A%0A%20%20%20%20%20%20%20%20%0A%20%20%20%20%20%20%20%20%20%20%20%20var%20i_frame_01183ef03fa64a2ab85488044df113d9%20%3D%20%24%28%60%3Cdiv%20style%3D%22width%3A100%25%3B%22%3E%3Cdiv%20style%3D%22position%3Arelative%3Bwidth%3A100%25%3Bheight%3A0%3Bpadding-bottom%3A60%25%3B%22%3E%3Ciframe%20src%3D%22data%3Atext/html%3Bcharset%3Dutf-8%3Bbase64%2CCiAgICAKICAgIDxiPlNwZWNpZXMgTmFtZTo8L2I%2BIFBVUlBMRSBIQVpFIFBMVU08YnI%2BCiAgICA8Yj5EYXRlIFBsYW50ZWQ6PC9iPiAyMDExLTAyLTI1PGJyPgogICAgPGI%2BR2VvY29kZSBBdHRlbXB0OjwvYj4gMTAwMCBFIDE0VEggQVYsIFZhbmNvdXZlciwgQkMsIENhbmFkYTxicj4KICAgIDxiPkdlb2NvZGUgUmVzdWx0OjwvYj4gMTAwMCBFYXN0IDE0dGggQXZlbnVlLCBWYW5jb3V2ZXIsIEJyaXRpc2ggQ29sdW1iaWEgVjVUIDNKOSwgQ2FuYWRh%22%20style%3D%22position%3Aabsolute%3Bwidth%3A100%25%3Bheight%3A100%25%3Bleft%3A0%3Btop%3A0%3Bborder%3Anone%20%21important%3B%22%3E%3C/iframe%3E%3C/div%3E%3C/div%3E%60%29%5B0%5D%3B%0A%20%20%20%20%20%20%20%20%20%20%20%20popup_c7b3f7c073a14b8b9684bbd40c6b8989.setContent%28i_frame_01183ef03fa64a2ab85488044df113d9%29%3B%0A%20%20%20%20%20%20%20%20%0A%0A%20%20%20%20%20%20%20%20circle_marker_06fad08852574566a4b979a6f388f467.bindPopup%28popup_c7b3f7c073a14b8b9684bbd40c6b8989%29%0A%20%20%20%20%20%20%20%20%3B%0A%0A%20%20%20%20%20%20%20%20%0A%20%20%20%20%0A%20%20%20%20%0A%20%20%20%20%20%20%20%20%20%20%20%20var%20circle_marker_7bd43e04774f420a99189b68a9542152%20%3D%20L.circleMarker%28%0A%20%20%20%20%20%20%20%20%20%20%20%20%20%20%20%20%5B49.257071%2C%20-123.087315%5D%2C%0A%20%20%20%20%20%20%20%20%20%20%20%20%20%20%20%20%7B%22bubblingMouseEvents%22%3A%20true%2C%20%22color%22%3A%20%22black%22%2C%20%22dashArray%22%3A%20null%2C%20%22dashOffset%22%3A%20null%2C%20%22fill%22%3A%20true%2C%20%22fillColor%22%3A%20%22%23E3F448%22%2C%20%22fillOpacity%22%3A%200.75%2C%20%22fillRule%22%3A%20%22evenodd%22%2C%20%22lineCap%22%3A%20%22round%22%2C%20%22lineJoin%22%3A%20%22round%22%2C%20%22opacity%22%3A%201.0%2C%20%22radius%22%3A%2015%2C%20%22stroke%22%3A%20true%2C%20%22weight%22%3A%203%7D%0A%20%20%20%20%20%20%20%20%20%20%20%20%29.addTo%28map_815924b648b64e1eb2df2a4409776558%29%3B%0A%20%20%20%20%20%20%20%20%0A%20%20%20%20%0A%20%20%20%20%20%20%20%20var%20popup_b701b65ecfeb4f13a50dfbf8e45f0533%20%3D%20L.popup%28%7B%22maxHeight%22%3A%20500%2C%20%22maxWidth%22%3A%20500%2C%20%22minHeight%22%3A%20100%2C%20%22minWidth%22%3A%20500%7D%29%3B%0A%0A%20%20%20%20%20%20%20%20%0A%20%20%20%20%20%20%20%20%20%20%20%20var%20i_frame_e8901bf15b73401c9b8600a187d7559d%20%3D%20%24%28%60%3Cdiv%20style%3D%22width%3A100%25%3B%22%3E%3Cdiv%20style%3D%22position%3Arelative%3Bwidth%3A100%25%3Bheight%3A0%3Bpadding-bottom%3A60%25%3B%22%3E%3Ciframe%20src%3D%22data%3Atext/html%3Bcharset%3Dutf-8%3Bbase64%2CCiAgICAKICAgIDxiPlNwZWNpZXMgTmFtZTo8L2I%2BIENISU5FU0UgVFVMSVBUUkVFPGJyPgogICAgPGI%2BRGF0ZSBQbGFudGVkOjwvYj4gMTk5OS0wNC0yMjxicj4KICAgIDxiPkdlb2NvZGUgQXR0ZW1wdDo8L2I%2BIDgwMCBFIDE1VEggQVYsIFZhbmNvdXZlciwgQkMsIENhbmFkYTxicj4KICAgIDxiPkdlb2NvZGUgUmVzdWx0OjwvYj4gODAwIEVhc3QgMTV0aCBBdmVudWUsIFZhbmNvdXZlciwgQnJpdGlzaCBDb2x1bWJpYSBWNVQgMlI5LCBDYW5hZGE%3D%22%20style%3D%22position%3Aabsolute%3Bwidth%3A100%25%3Bheight%3A100%25%3Bleft%3A0%3Btop%3A0%3Bborder%3Anone%20%21important%3B%22%3E%3C/iframe%3E%3C/div%3E%3C/div%3E%60%29%5B0%5D%3B%0A%20%20%20%20%20%20%20%20%20%20%20%20popup_b701b65ecfeb4f13a50dfbf8e45f0533.setContent%28i_frame_e8901bf15b73401c9b8600a187d7559d%29%3B%0A%20%20%20%20%20%20%20%20%0A%0A%20%20%20%20%20%20%20%20circle_marker_7bd43e04774f420a99189b68a9542152.bindPopup%28popup_b701b65ecfeb4f13a50dfbf8e45f0533%29%0A%20%20%20%20%20%20%20%20%3B%0A%0A%20%20%20%20%20%20%20%20%0A%20%20%20%20%0A%20%20%20%20%0A%20%20%20%20%20%20%20%20%20%20%20%20var%20circle_marker_439c4139815d4087bcc831bec8eba163%20%3D%20L.circleMarker%28%0A%20%20%20%20%20%20%20%20%20%20%20%20%20%20%20%20%5B49.256853%2C%20-123.113259%5D%2C%0A%20%20%20%20%20%20%20%20%20%20%20%20%20%20%20%20%7B%22bubblingMouseEvents%22%3A%20true%2C%20%22color%22%3A%20%22black%22%2C%20%22dashArray%22%3A%20null%2C%20%22dashOffset%22%3A%20null%2C%20%22fill%22%3A%20true%2C%20%22fillColor%22%3A%20%22%233B1FD6%22%2C%20%22fillOpacity%22%3A%200.75%2C%20%22fillRule%22%3A%20%22evenodd%22%2C%20%22lineCap%22%3A%20%22round%22%2C%20%22lineJoin%22%3A%20%22round%22%2C%20%22opacity%22%3A%201.0%2C%20%22radius%22%3A%2015%2C%20%22stroke%22%3A%20true%2C%20%22weight%22%3A%203%7D%0A%20%20%20%20%20%20%20%20%20%20%20%20%29.addTo%28map_815924b648b64e1eb2df2a4409776558%29%3B%0A%20%20%20%20%20%20%20%20%0A%20%20%20%20%0A%20%20%20%20%20%20%20%20var%20popup_e888532b23394b5298a310cb737bba2c%20%3D%20L.popup%28%7B%22maxHeight%22%3A%20500%2C%20%22maxWidth%22%3A%20500%2C%20%22minHeight%22%3A%20100%2C%20%22minWidth%22%3A%20500%7D%29%3B%0A%0A%20%20%20%20%20%20%20%20%0A%20%20%20%20%20%20%20%20%20%20%20%20var%20i_frame_e9313b46adb34fe3bcbf7f50011d2236%20%3D%20%24%28%60%3Cdiv%20style%3D%22width%3A100%25%3B%22%3E%3Cdiv%20style%3D%22position%3Arelative%3Bwidth%3A100%25%3Bheight%3A0%3Bpadding-bottom%3A60%25%3B%22%3E%3Ciframe%20src%3D%22data%3Atext/html%3Bcharset%3Dutf-8%3Bbase64%2CCiAgICAKICAgIDxiPlNwZWNpZXMgTmFtZTo8L2I%2BIFRDSE9OT1NLSSBDUkFCQVBQTEU8YnI%2BCiAgICA8Yj5EYXRlIFBsYW50ZWQ6PC9iPiAyMDAwLTAxLTA1PGJyPgogICAgPGI%2BR2VvY29kZSBBdHRlbXB0OjwvYj4gNDAwIFcgMTZUSCBBViwgVmFuY291dmVyLCBCQywgQ2FuYWRhPGJyPgogICAgPGI%2BR2VvY29kZSBSZXN1bHQ6PC9iPiA0MDAgV2VzdCAxNnRoIEF2ZW51ZSwgVmFuY291dmVyLCBCcml0aXNoIENvbHVtYmlhIFY1WSAzUjYsIENhbmFkYQ%3D%3D%22%20style%3D%22position%3Aabsolute%3Bwidth%3A100%25%3Bheight%3A100%25%3Bleft%3A0%3Btop%3A0%3Bborder%3Anone%20%21important%3B%22%3E%3C/iframe%3E%3C/div%3E%3C/div%3E%60%29%5B0%5D%3B%0A%20%20%20%20%20%20%20%20%20%20%20%20popup_e888532b23394b5298a310cb737bba2c.setContent%28i_frame_e9313b46adb34fe3bcbf7f50011d2236%29%3B%0A%20%20%20%20%20%20%20%20%0A%0A%20%20%20%20%20%20%20%20circle_marker_439c4139815d4087bcc831bec8eba163.bindPopup%28popup_e888532b23394b5298a310cb737bba2c%29%0A%20%20%20%20%20%20%20%20%3B%0A%0A%20%20%20%20%20%20%20%20%0A%20%20%20%20%0A%20%20%20%20%0A%20%20%20%20%20%20%20%20%20%20%20%20var%20circle_marker_e10dffbb7d2a4e5e8b2ce9a6830ae148%20%3D%20L.circleMarker%28%0A%20%20%20%20%20%20%20%20%20%20%20%20%20%20%20%20%5B49.256306%2C%20-123.081797%5D%2C%0A%20%20%20%20%20%20%20%20%20%20%20%20%20%20%20%20%7B%22bubblingMouseEvents%22%3A%20true%2C%20%22color%22%3A%20%22black%22%2C%20%22dashArray%22%3A%20null%2C%20%22dashOffset%22%3A%20null%2C%20%22fill%22%3A%20true%2C%20%22fillColor%22%3A%20%22%235B447F%22%2C%20%22fillOpacity%22%3A%200.75%2C%20%22fillRule%22%3A%20%22evenodd%22%2C%20%22lineCap%22%3A%20%22round%22%2C%20%22lineJoin%22%3A%20%22round%22%2C%20%22opacity%22%3A%201.0%2C%20%22radius%22%3A%2015%2C%20%22stroke%22%3A%20true%2C%20%22weight%22%3A%203%7D%0A%20%20%20%20%20%20%20%20%20%20%20%20%29.addTo%28map_815924b648b64e1eb2df2a4409776558%29%3B%0A%20%20%20%20%20%20%20%20%0A%20%20%20%20%0A%20%20%20%20%20%20%20%20var%20popup_6162d75de906417da83b08d16384abd7%20%3D%20L.popup%28%7B%22maxHeight%22%3A%20500%2C%20%22maxWidth%22%3A%20500%2C%20%22minHeight%22%3A%20100%2C%20%22minWidth%22%3A%20500%7D%29%3B%0A%0A%20%20%20%20%20%20%20%20%0A%20%20%20%20%20%20%20%20%20%20%20%20var%20i_frame_b9d6683990344d19867e445ad1db3aec%20%3D%20%24%28%60%3Cdiv%20style%3D%22width%3A100%25%3B%22%3E%3Cdiv%20style%3D%22position%3Arelative%3Bwidth%3A100%25%3Bheight%3A0%3Bpadding-bottom%3A60%25%3B%22%3E%3Ciframe%20src%3D%22data%3Atext/html%3Bcharset%3Dutf-8%3Bbase64%2CCiAgICAKICAgIDxiPlNwZWNpZXMgTmFtZTo8L2I%2BIFJFRCBKQVBBTkVTRSBNQVBMRTxicj4KICAgIDxiPkRhdGUgUGxhbnRlZDo8L2I%2BIDIwMDItMDQtMTg8YnI%2BCiAgICA8Yj5HZW9jb2RlIEF0dGVtcHQ6PC9iPiAxMDAwIEUgMTZUSCBBViwgVmFuY291dmVyLCBCQywgQ2FuYWRhPGJyPgogICAgPGI%2BR2VvY29kZSBSZXN1bHQ6PC9iPiAxMDAwIEVhc3QgMTZ0aCBBdmVudWUsIFZhbmNvdXZlciwgQnJpdGlzaCBDb2x1bWJpYSBWNVYgNFMzLCBDYW5hZGE%3D%22%20style%3D%22position%3Aabsolute%3Bwidth%3A100%25%3Bheight%3A100%25%3Bleft%3A0%3Btop%3A0%3Bborder%3Anone%20%21important%3B%22%3E%3C/iframe%3E%3C/div%3E%3C/div%3E%60%29%5B0%5D%3B%0A%20%20%20%20%20%20%20%20%20%20%20%20popup_6162d75de906417da83b08d16384abd7.setContent%28i_frame_b9d6683990344d19867e445ad1db3aec%29%3B%0A%20%20%20%20%20%20%20%20%0A%0A%20%20%20%20%20%20%20%20circle_marker_e10dffbb7d2a4e5e8b2ce9a6830ae148.bindPopup%28popup_6162d75de906417da83b08d16384abd7%29%0A%20%20%20%20%20%20%20%20%3B%0A%0A%20%20%20%20%20%20%20%20%0A%20%20%20%20%0A%20%20%20%20%0A%20%20%20%20%20%20%20%20%20%20%20%20var%20circle_marker_461a6828a6784b4e91316b2aabe10b5b%20%3D%20L.circleMarker%28%0A%20%20%20%20%20%20%20%20%20%20%20%20%20%20%20%20%5B49.258456%2C%20-123.09838%5D%2C%0A%20%20%20%20%20%20%20%20%20%20%20%20%20%20%20%20%7B%22bubblingMouseEvents%22%3A%20true%2C%20%22color%22%3A%20%22black%22%2C%20%22dashArray%22%3A%20null%2C%20%22dashOffset%22%3A%20null%2C%20%22fill%22%3A%20true%2C%20%22fillColor%22%3A%20%22%2302C825%22%2C%20%22fillOpacity%22%3A%200.75%2C%20%22fillRule%22%3A%20%22evenodd%22%2C%20%22lineCap%22%3A%20%22round%22%2C%20%22lineJoin%22%3A%20%22round%22%2C%20%22opacity%22%3A%201.0%2C%20%22radius%22%3A%2015%2C%20%22stroke%22%3A%20true%2C%20%22weight%22%3A%203%7D%0A%20%20%20%20%20%20%20%20%20%20%20%20%29.addTo%28map_815924b648b64e1eb2df2a4409776558%29%3B%0A%20%20%20%20%20%20%20%20%0A%20%20%20%20%0A%20%20%20%20%20%20%20%20var%20popup_7f98aaf1ee4f47e19ef3973710af22bf%20%3D%20L.popup%28%7B%22maxHeight%22%3A%20500%2C%20%22maxWidth%22%3A%20500%2C%20%22minHeight%22%3A%20100%2C%20%22minWidth%22%3A%20500%7D%29%3B%0A%0A%20%20%20%20%20%20%20%20%0A%20%20%20%20%20%20%20%20%20%20%20%20var%20i_frame_06c15ac5deda483fabf4675ee2ace301%20%3D%20%24%28%60%3Cdiv%20style%3D%22width%3A100%25%3B%22%3E%3Cdiv%20style%3D%22position%3Arelative%3Bwidth%3A100%25%3Bheight%3A0%3Bpadding-bottom%3A60%25%3B%22%3E%3Ciframe%20src%3D%22data%3Atext/html%3Bcharset%3Dutf-8%3Bbase64%2CCiAgICAKICAgIDxiPlNwZWNpZXMgTmFtZTo8L2I%2BIENISU5FU0UgS09VU0EgRE9HV09PRDxicj4KICAgIDxiPkRhdGUgUGxhbnRlZDo8L2I%2BIDE5OTktMTItMjE8YnI%2BCiAgICA8Yj5HZW9jb2RlIEF0dGVtcHQ6PC9iPiAyOTAwIFNPUEhJQSBTVCwgVmFuY291dmVyLCBCQywgQ2FuYWRhPGJyPgogICAgPGI%2BR2VvY29kZSBSZXN1bHQ6PC9iPiAyOTAwIFNvcGhpYSBTdHJlZXQsIFZhbmNvdXZlciwgQnJpdGlzaCBDb2x1bWJpYSBWNVQgMk03LCBDYW5hZGE%3D%22%20style%3D%22position%3Aabsolute%3Bwidth%3A100%25%3Bheight%3A100%25%3Bleft%3A0%3Btop%3A0%3Bborder%3Anone%20%21important%3B%22%3E%3C/iframe%3E%3C/div%3E%3C/div%3E%60%29%5B0%5D%3B%0A%20%20%20%20%20%20%20%20%20%20%20%20popup_7f98aaf1ee4f47e19ef3973710af22bf.setContent%28i_frame_06c15ac5deda483fabf4675ee2ace301%29%3B%0A%20%20%20%20%20%20%20%20%0A%0A%20%20%20%20%20%20%20%20circle_marker_461a6828a6784b4e91316b2aabe10b5b.bindPopup%28popup_7f98aaf1ee4f47e19ef3973710af22bf%29%0A%20%20%20%20%20%20%20%20%3B%0A%0A%20%20%20%20%20%20%20%20%0A%20%20%20%20%0A%20%20%20%20%0A%20%20%20%20%20%20%20%20%20%20%20%20var%20circle_marker_640288a80f524f58997d5cfefb88e777%20%3D%20L.circleMarker%28%0A%20%20%20%20%20%20%20%20%20%20%20%20%20%20%20%20%5B49.254121%2C%20-123.048253%5D%2C%0A%20%20%20%20%20%20%20%20%20%20%20%20%20%20%20%20%7B%22bubblingMouseEvents%22%3A%20true%2C%20%22color%22%3A%20%22black%22%2C%20%22dashArray%22%3A%20null%2C%20%22dashOffset%22%3A%20null%2C%20%22fill%22%3A%20true%2C%20%22fillColor%22%3A%20%22%23E84253%22%2C%20%22fillOpacity%22%3A%200.75%2C%20%22fillRule%22%3A%20%22evenodd%22%2C%20%22lineCap%22%3A%20%22round%22%2C%20%22lineJoin%22%3A%20%22round%22%2C%20%22opacity%22%3A%201.0%2C%20%22radius%22%3A%2015%2C%20%22stroke%22%3A%20true%2C%20%22weight%22%3A%203%7D%0A%20%20%20%20%20%20%20%20%20%20%20%20%29.addTo%28map_815924b648b64e1eb2df2a4409776558%29%3B%0A%20%20%20%20%20%20%20%20%0A%20%20%20%20%0A%20%20%20%20%20%20%20%20var%20popup_b6baac33f0be4181af54c662b024978c%20%3D%20L.popup%28%7B%22maxHeight%22%3A%20500%2C%20%22maxWidth%22%3A%20500%2C%20%22minHeight%22%3A%20100%2C%20%22minWidth%22%3A%20500%7D%29%3B%0A%0A%20%20%20%20%20%20%20%20%0A%20%20%20%20%20%20%20%20%20%20%20%20var%20i_frame_ff0b55513e504d8b97a983e4a948bb8d%20%3D%20%24%28%60%3Cdiv%20style%3D%22width%3A100%25%3B%22%3E%3Cdiv%20style%3D%22position%3Arelative%3Bwidth%3A100%25%3Bheight%3A0%3Bpadding-bottom%3A60%25%3B%22%3E%3Ciframe%20src%3D%22data%3Atext/html%3Bcharset%3Dutf-8%3Bbase64%2CCiAgICAKICAgIDxiPlNwZWNpZXMgTmFtZTo8L2I%2BIERXQVJGIEFMQkVSVEEgU1BSVUNFPGJyPgogICAgPGI%2BRGF0ZSBQbGFudGVkOjwvYj4gbmFuPGJyPgogICAgPGI%2BR2VvY29kZSBBdHRlbXB0OjwvYj4gMzMwMCBXSU5MQVcgUExBQ0UsIFZhbmNvdXZlciwgQkMsIENhbmFkYTxicj4KICAgIDxiPkdlb2NvZGUgUmVzdWx0OjwvYj4gMzMwMCBXaW5sYXcgUGxhY2UsIFZhbmNvdXZlciwgQnJpdGlzaCBDb2x1bWJpYSBWNU0gMlA5LCBDYW5hZGE%3D%22%20style%3D%22position%3Aabsolute%3Bwidth%3A100%25%3Bheight%3A100%25%3Bleft%3A0%3Btop%3A0%3Bborder%3Anone%20%21important%3B%22%3E%3C/iframe%3E%3C/div%3E%3C/div%3E%60%29%5B0%5D%3B%0A%20%20%20%20%20%20%20%20%20%20%20%20popup_b6baac33f0be4181af54c662b024978c.setContent%28i_frame_ff0b55513e504d8b97a983e4a948bb8d%29%3B%0A%20%20%20%20%20%20%20%20%0A%0A%20%20%20%20%20%20%20%20circle_marker_640288a80f524f58997d5cfefb88e777.bindPopup%28popup_b6baac33f0be4181af54c662b024978c%29%0A%20%20%20%20%20%20%20%20%3B%0A%0A%20%20%20%20%20%20%20%20%0A%20%20%20%20%0A%20%20%20%20%0A%20%20%20%20%20%20%20%20%20%20%20%20var%20circle_marker_4a77e2c62a8f40078fb87c1569cfdf84%20%3D%20L.circleMarker%28%0A%20%20%20%20%20%20%20%20%20%20%20%20%20%20%20%20%5B49.257497%2C%20-123.100615%5D%2C%0A%20%20%20%20%20%20%20%20%20%20%20%20%20%20%20%20%7B%22bubblingMouseEvents%22%3A%20true%2C%20%22color%22%3A%20%22black%22%2C%20%22dashArray%22%3A%20null%2C%20%22dashOffset%22%3A%20null%2C%20%22fill%22%3A%20true%2C%20%22fillColor%22%3A%20%22%236C495F%22%2C%20%22fillOpacity%22%3A%200.75%2C%20%22fillRule%22%3A%20%22evenodd%22%2C%20%22lineCap%22%3A%20%22round%22%2C%20%22lineJoin%22%3A%20%22round%22%2C%20%22opacity%22%3A%201.0%2C%20%22radius%22%3A%2015%2C%20%22stroke%22%3A%20true%2C%20%22weight%22%3A%203%7D%0A%20%20%20%20%20%20%20%20%20%20%20%20%29.addTo%28map_815924b648b64e1eb2df2a4409776558%29%3B%0A%20%20%20%20%20%20%20%20%0A%20%20%20%20%0A%20%20%20%20%20%20%20%20var%20popup_903625cbaddd4642aef653302c61618f%20%3D%20L.popup%28%7B%22maxHeight%22%3A%20500%2C%20%22maxWidth%22%3A%20500%2C%20%22minHeight%22%3A%20100%2C%20%22minWidth%22%3A%20500%7D%29%3B%0A%0A%20%20%20%20%20%20%20%20%0A%20%20%20%20%20%20%20%20%20%20%20%20var%20i_frame_84e71636d8b14a6691bd0ed7066177d3%20%3D%20%24%28%60%3Cdiv%20style%3D%22width%3A100%25%3B%22%3E%3Cdiv%20style%3D%22position%3Arelative%3Bwidth%3A100%25%3Bheight%3A0%3Bpadding-bottom%3A60%25%3B%22%3E%3Ciframe%20src%3D%22data%3Atext/html%3Bcharset%3Dutf-8%3Bbase64%2CCiAgICAKICAgIDxiPlNwZWNpZXMgTmFtZTo8L2I%2BIFdISVRFIEJFQU0gTU9VTlRBSU4gQVNIPGJyPgogICAgPGI%2BRGF0ZSBQbGFudGVkOjwvYj4gbmFuPGJyPgogICAgPGI%2BR2VvY29kZSBBdHRlbXB0OjwvYj4gMjAwIEUgMTVUSCBBViwgVmFuY291dmVyLCBCQywgQ2FuYWRhPGJyPgogICAgPGI%2BR2VvY29kZSBSZXN1bHQ6PC9iPiAyMDAgRWFzdCAxNXRoIEF2ZW51ZSwgVmFuY291dmVyLCBCcml0aXNoIENvbHVtYmlhIFY1VCAyUDksIENhbmFkYQ%3D%3D%22%20style%3D%22position%3Aabsolute%3Bwidth%3A100%25%3Bheight%3A100%25%3Bleft%3A0%3Btop%3A0%3Bborder%3Anone%20%21important%3B%22%3E%3C/iframe%3E%3C/div%3E%3C/div%3E%60%29%5B0%5D%3B%0A%20%20%20%20%20%20%20%20%20%20%20%20popup_903625cbaddd4642aef653302c61618f.setContent%28i_frame_84e71636d8b14a6691bd0ed7066177d3%29%3B%0A%20%20%20%20%20%20%20%20%0A%0A%20%20%20%20%20%20%20%20circle_marker_4a77e2c62a8f40078fb87c1569cfdf84.bindPopup%28popup_903625cbaddd4642aef653302c61618f%29%0A%20%20%20%20%20%20%20%20%3B%0A%0A%20%20%20%20%20%20%20%20%0A%20%20%20%20%0A%20%20%20%20%0A%20%20%20%20%20%20%20%20%20%20%20%20var%20circle_marker_b0c49f9a82b742ee9bb2fdeb2ae59044%20%3D%20L.circleMarker%28%0A%20%20%20%20%20%20%20%20%20%20%20%20%20%20%20%20%5B49.257497%2C%20-123.100615%5D%2C%0A%20%20%20%20%20%20%20%20%20%20%20%20%20%20%20%20%7B%22bubblingMouseEvents%22%3A%20true%2C%20%22color%22%3A%20%22black%22%2C%20%22dashArray%22%3A%20null%2C%20%22dashOffset%22%3A%20null%2C%20%22fill%22%3A%20true%2C%20%22fillColor%22%3A%20%22%2387989C%22%2C%20%22fillOpacity%22%3A%200.75%2C%20%22fillRule%22%3A%20%22evenodd%22%2C%20%22lineCap%22%3A%20%22round%22%2C%20%22lineJoin%22%3A%20%22round%22%2C%20%22opacity%22%3A%201.0%2C%20%22radius%22%3A%2015%2C%20%22stroke%22%3A%20true%2C%20%22weight%22%3A%203%7D%0A%20%20%20%20%20%20%20%20%20%20%20%20%29.addTo%28map_815924b648b64e1eb2df2a4409776558%29%3B%0A%20%20%20%20%20%20%20%20%0A%20%20%20%20%0A%20%20%20%20%20%20%20%20var%20popup_cb758390e9244decbe605d38cdd2daa8%20%3D%20L.popup%28%7B%22maxHeight%22%3A%20500%2C%20%22maxWidth%22%3A%20500%2C%20%22minHeight%22%3A%20100%2C%20%22minWidth%22%3A%20500%7D%29%3B%0A%0A%20%20%20%20%20%20%20%20%0A%20%20%20%20%20%20%20%20%20%20%20%20var%20i_frame_706543c295244699ae2d1b10901c7650%20%3D%20%24%28%60%3Cdiv%20style%3D%22width%3A100%25%3B%22%3E%3Cdiv%20style%3D%22position%3Arelative%3Bwidth%3A100%25%3Bheight%3A0%3Bpadding-bottom%3A60%25%3B%22%3E%3Ciframe%20src%3D%22data%3Atext/html%3Bcharset%3Dutf-8%3Bbase64%2CCiAgICAKICAgIDxiPlNwZWNpZXMgTmFtZTo8L2I%2BIERBV1NPTidTIE1BR05PTElBPGJyPgogICAgPGI%2BRGF0ZSBQbGFudGVkOjwvYj4gbmFuPGJyPgogICAgPGI%2BR2VvY29kZSBBdHRlbXB0OjwvYj4gMjAwIEUgMTVUSCBBViwgVmFuY291dmVyLCBCQywgQ2FuYWRhPGJyPgogICAgPGI%2BR2VvY29kZSBSZXN1bHQ6PC9iPiAyMDAgRWFzdCAxNXRoIEF2ZW51ZSwgVmFuY291dmVyLCBCcml0aXNoIENvbHVtYmlhIFY1VCAyUDksIENhbmFkYQ%3D%3D%22%20style%3D%22position%3Aabsolute%3Bwidth%3A100%25%3Bheight%3A100%25%3Bleft%3A0%3Btop%3A0%3Bborder%3Anone%20%21important%3B%22%3E%3C/iframe%3E%3C/div%3E%3C/div%3E%60%29%5B0%5D%3B%0A%20%20%20%20%20%20%20%20%20%20%20%20popup_cb758390e9244decbe605d38cdd2daa8.setContent%28i_frame_706543c295244699ae2d1b10901c7650%29%3B%0A%20%20%20%20%20%20%20%20%0A%0A%20%20%20%20%20%20%20%20circle_marker_b0c49f9a82b742ee9bb2fdeb2ae59044.bindPopup%28popup_cb758390e9244decbe605d38cdd2daa8%29%0A%20%20%20%20%20%20%20%20%3B%0A%0A%20%20%20%20%20%20%20%20%0A%20%20%20%20%0A%20%20%20%20%0A%20%20%20%20%20%20%20%20%20%20%20%20var%20circle_marker_3f250a94156a4ab58d913a529d452f2e%20%3D%20L.circleMarker%28%0A%20%20%20%20%20%20%20%20%20%20%20%20%20%20%20%20%5B49.257497%2C%20-123.100615%5D%2C%0A%20%20%20%20%20%20%20%20%20%20%20%20%20%20%20%20%7B%22bubblingMouseEvents%22%3A%20true%2C%20%22color%22%3A%20%22black%22%2C%20%22dashArray%22%3A%20null%2C%20%22dashOffset%22%3A%20null%2C%20%22fill%22%3A%20true%2C%20%22fillColor%22%3A%20%22%23B9B66D%22%2C%20%22fillOpacity%22%3A%200.75%2C%20%22fillRule%22%3A%20%22evenodd%22%2C%20%22lineCap%22%3A%20%22round%22%2C%20%22lineJoin%22%3A%20%22round%22%2C%20%22opacity%22%3A%201.0%2C%20%22radius%22%3A%2015%2C%20%22stroke%22%3A%20true%2C%20%22weight%22%3A%203%7D%0A%20%20%20%20%20%20%20%20%20%20%20%20%29.addTo%28map_815924b648b64e1eb2df2a4409776558%29%3B%0A%20%20%20%20%20%20%20%20%0A%20%20%20%20%0A%20%20%20%20%20%20%20%20var%20popup_5490811001e74783b4b0e58c0284f694%20%3D%20L.popup%28%7B%22maxHeight%22%3A%20500%2C%20%22maxWidth%22%3A%20500%2C%20%22minHeight%22%3A%20100%2C%20%22minWidth%22%3A%20500%7D%29%3B%0A%0A%20%20%20%20%20%20%20%20%0A%20%20%20%20%20%20%20%20%20%20%20%20var%20i_frame_b9882d6c008c434bb9ca0c6782aeeaa2%20%3D%20%24%28%60%3Cdiv%20style%3D%22width%3A100%25%3B%22%3E%3Cdiv%20style%3D%22position%3Arelative%3Bwidth%3A100%25%3Bheight%3A0%3Bpadding-bottom%3A60%25%3B%22%3E%3Ciframe%20src%3D%22data%3Atext/html%3Bcharset%3Dutf-8%3Bbase64%2CCiAgICAKICAgIDxiPlNwZWNpZXMgTmFtZTo8L2I%2BIENPUktTQ1JFVyBXSUxMT1c8YnI%2BCiAgICA8Yj5EYXRlIFBsYW50ZWQ6PC9iPiBuYW48YnI%2BCiAgICA8Yj5HZW9jb2RlIEF0dGVtcHQ6PC9iPiAyMDAgRSAxNVRIIEFWLCBWYW5jb3V2ZXIsIEJDLCBDYW5hZGE8YnI%2BCiAgICA8Yj5HZW9jb2RlIFJlc3VsdDo8L2I%2BIDIwMCBFYXN0IDE1dGggQXZlbnVlLCBWYW5jb3V2ZXIsIEJyaXRpc2ggQ29sdW1iaWEgVjVUIDJQOSwgQ2FuYWRh%22%20style%3D%22position%3Aabsolute%3Bwidth%3A100%25%3Bheight%3A100%25%3Bleft%3A0%3Btop%3A0%3Bborder%3Anone%20%21important%3B%22%3E%3C/iframe%3E%3C/div%3E%3C/div%3E%60%29%5B0%5D%3B%0A%20%20%20%20%20%20%20%20%20%20%20%20popup_5490811001e74783b4b0e58c0284f694.setContent%28i_frame_b9882d6c008c434bb9ca0c6782aeeaa2%29%3B%0A%20%20%20%20%20%20%20%20%0A%0A%20%20%20%20%20%20%20%20circle_marker_3f250a94156a4ab58d913a529d452f2e.bindPopup%28popup_5490811001e74783b4b0e58c0284f694%29%0A%20%20%20%20%20%20%20%20%3B%0A%0A%20%20%20%20%20%20%20%20%0A%20%20%20%20%0A%20%20%20%20%0A%20%20%20%20%20%20%20%20%20%20%20%20var%20circle_marker_82a68c68b6474a89911c1f4cd8117d6a%20%3D%20L.circleMarker%28%0A%20%20%20%20%20%20%20%20%20%20%20%20%20%20%20%20%5B49.259622%2C%20-123.087241%5D%2C%0A%20%20%20%20%20%20%20%20%20%20%20%20%20%20%20%20%7B%22bubblingMouseEvents%22%3A%20true%2C%20%22color%22%3A%20%22black%22%2C%20%22dashArray%22%3A%20null%2C%20%22dashOffset%22%3A%20null%2C%20%22fill%22%3A%20true%2C%20%22fillColor%22%3A%20%22%23BCC481%22%2C%20%22fillOpacity%22%3A%200.75%2C%20%22fillRule%22%3A%20%22evenodd%22%2C%20%22lineCap%22%3A%20%22round%22%2C%20%22lineJoin%22%3A%20%22round%22%2C%20%22opacity%22%3A%201.0%2C%20%22radius%22%3A%2015%2C%20%22stroke%22%3A%20true%2C%20%22weight%22%3A%203%7D%0A%20%20%20%20%20%20%20%20%20%20%20%20%29.addTo%28map_815924b648b64e1eb2df2a4409776558%29%3B%0A%20%20%20%20%20%20%20%20%0A%20%20%20%20%0A%20%20%20%20%20%20%20%20var%20popup_474a078d81294ff0acb4e1e0886ebd0e%20%3D%20L.popup%28%7B%22maxHeight%22%3A%20500%2C%20%22maxWidth%22%3A%20500%2C%20%22minHeight%22%3A%20100%2C%20%22minWidth%22%3A%20500%7D%29%3B%0A%0A%20%20%20%20%20%20%20%20%0A%20%20%20%20%20%20%20%20%20%20%20%20var%20i_frame_7561fc75c6c547fb88b4aac276901764%20%3D%20%24%28%60%3Cdiv%20style%3D%22width%3A100%25%3B%22%3E%3Cdiv%20style%3D%22position%3Arelative%3Bwidth%3A100%25%3Bheight%3A0%3Bpadding-bottom%3A60%25%3B%22%3E%3Ciframe%20src%3D%22data%3Atext/html%3Bcharset%3Dutf-8%3Bbase64%2CCiAgICAKICAgIDxiPlNwZWNpZXMgTmFtZTo8L2I%2BIFNQRUNLTEVEIEFMREVSPGJyPgogICAgPGI%2BRGF0ZSBQbGFudGVkOjwvYj4gbmFuPGJyPgogICAgPGI%2BR2VvY29kZSBBdHRlbXB0OjwvYj4gMjgwMCBQUklOQ0UgQUxCRVJUIFNULCBWYW5jb3V2ZXIsIEJDLCBDYW5hZGE8YnI%2BCiAgICA8Yj5HZW9jb2RlIFJlc3VsdDo8L2I%2BIDI4MDAgUHJpbmNlIEFsYmVydCBTdHJlZXQsIFZhbmNvdXZlciwgQnJpdGlzaCBDb2x1bWJpYSBWNVQgMkg5LCBDYW5hZGE%3D%22%20style%3D%22position%3Aabsolute%3Bwidth%3A100%25%3Bheight%3A100%25%3Bleft%3A0%3Btop%3A0%3Bborder%3Anone%20%21important%3B%22%3E%3C/iframe%3E%3C/div%3E%3C/div%3E%60%29%5B0%5D%3B%0A%20%20%20%20%20%20%20%20%20%20%20%20popup_474a078d81294ff0acb4e1e0886ebd0e.setContent%28i_frame_7561fc75c6c547fb88b4aac276901764%29%3B%0A%20%20%20%20%20%20%20%20%0A%0A%20%20%20%20%20%20%20%20circle_marker_82a68c68b6474a89911c1f4cd8117d6a.bindPopup%28popup_474a078d81294ff0acb4e1e0886ebd0e%29%0A%20%20%20%20%20%20%20%20%3B%0A%0A%20%20%20%20%20%20%20%20%0A%20%20%20%20%0A%20%20%20%20%0A%20%20%20%20%20%20%20%20%20%20%20%20var%20circle_marker_75c33238c57f43e689e6d02c806c4c75%20%3D%20L.circleMarker%28%0A%20%20%20%20%20%20%20%20%20%20%20%20%20%20%20%20%5B49.267502%2C%20-123.106644%5D%2C%0A%20%20%20%20%20%20%20%20%20%20%20%20%20%20%20%20%7B%22bubblingMouseEvents%22%3A%20true%2C%20%22color%22%3A%20%22black%22%2C%20%22dashArray%22%3A%20null%2C%20%22dashOffset%22%3A%20null%2C%20%22fill%22%3A%20true%2C%20%22fillColor%22%3A%20%22%23F61C15%22%2C%20%22fillOpacity%22%3A%200.75%2C%20%22fillRule%22%3A%20%22evenodd%22%2C%20%22lineCap%22%3A%20%22round%22%2C%20%22lineJoin%22%3A%20%22round%22%2C%20%22opacity%22%3A%201.0%2C%20%22radius%22%3A%2015%2C%20%22stroke%22%3A%20true%2C%20%22weight%22%3A%203%7D%0A%20%20%20%20%20%20%20%20%20%20%20%20%29.addTo%28map_815924b648b64e1eb2df2a4409776558%29%3B%0A%20%20%20%20%20%20%20%20%0A%20%20%20%20%0A%20%20%20%20%20%20%20%20var%20popup_26079f96d5274b0294b336dde87a64fc%20%3D%20L.popup%28%7B%22maxHeight%22%3A%20500%2C%20%22maxWidth%22%3A%20500%2C%20%22minHeight%22%3A%20100%2C%20%22minWidth%22%3A%20500%7D%29%3B%0A%0A%20%20%20%20%20%20%20%20%0A%20%20%20%20%20%20%20%20%20%20%20%20var%20i_frame_94c8d90fad104644919bc80bbf76c93f%20%3D%20%24%28%60%3Cdiv%20style%3D%22width%3A100%25%3B%22%3E%3Cdiv%20style%3D%22position%3Arelative%3Bwidth%3A100%25%3Bheight%3A0%3Bpadding-bottom%3A60%25%3B%22%3E%3Ciframe%20src%3D%22data%3Atext/html%3Bcharset%3Dutf-8%3Bbase64%2CCiAgICAKICAgIDxiPlNwZWNpZXMgTmFtZTo8L2I%2BIEVWRUxZTiBIRURHRSBNQVBMRTxicj4KICAgIDxiPkRhdGUgUGxhbnRlZDo8L2I%2BIG5hbjxicj4KICAgIDxiPkdlb2NvZGUgQXR0ZW1wdDo8L2I%2BIDE5MDAgTUFOSVRPQkEgU1QsIFZhbmNvdXZlciwgQkMsIENhbmFkYTxicj4KICAgIDxiPkdlb2NvZGUgUmVzdWx0OjwvYj4gMTkwMCBNYW5pdG9iYSBTdHJlZXQsIFZhbmNvdXZlciwgQnJpdGlzaCBDb2x1bWJpYSBWNVkgMUcyLCBDYW5hZGE%3D%22%20style%3D%22position%3Aabsolute%3Bwidth%3A100%25%3Bheight%3A100%25%3Bleft%3A0%3Btop%3A0%3Bborder%3Anone%20%21important%3B%22%3E%3C/iframe%3E%3C/div%3E%3C/div%3E%60%29%5B0%5D%3B%0A%20%20%20%20%20%20%20%20%20%20%20%20popup_26079f96d5274b0294b336dde87a64fc.setContent%28i_frame_94c8d90fad104644919bc80bbf76c93f%29%3B%0A%20%20%20%20%20%20%20%20%0A%0A%20%20%20%20%20%20%20%20circle_marker_75c33238c57f43e689e6d02c806c4c75.bindPopup%28popup_26079f96d5274b0294b336dde87a64fc%29%0A%20%20%20%20%20%20%20%20%3B%0A%0A%20%20%20%20%20%20%20%20%0A%20%20%20%20%0A%20%20%20%20%0A%20%20%20%20%20%20%20%20%20%20%20%20var%20circle_marker_7ce373a798684131bbd92d098f9ce9dd%20%3D%20L.circleMarker%28%0A%20%20%20%20%20%20%20%20%20%20%20%20%20%20%20%20%5B49.266473%2C%20-123.104641%5D%2C%0A%20%20%20%20%20%20%20%20%20%20%20%20%20%20%20%20%7B%22bubblingMouseEvents%22%3A%20true%2C%20%22color%22%3A%20%22black%22%2C%20%22dashArray%22%3A%20null%2C%20%22dashOffset%22%3A%20null%2C%20%22fill%22%3A%20true%2C%20%22fillColor%22%3A%20%22%231F5A36%22%2C%20%22fillOpacity%22%3A%200.75%2C%20%22fillRule%22%3A%20%22evenodd%22%2C%20%22lineCap%22%3A%20%22round%22%2C%20%22lineJoin%22%3A%20%22round%22%2C%20%22opacity%22%3A%201.0%2C%20%22radius%22%3A%2015%2C%20%22stroke%22%3A%20true%2C%20%22weight%22%3A%203%7D%0A%20%20%20%20%20%20%20%20%20%20%20%20%29.addTo%28map_815924b648b64e1eb2df2a4409776558%29%3B%0A%20%20%20%20%20%20%20%20%0A%20%20%20%20%0A%20%20%20%20%20%20%20%20var%20popup_a37665c205324e6dae93d6a6c310f111%20%3D%20L.popup%28%7B%22maxHeight%22%3A%20500%2C%20%22maxWidth%22%3A%20500%2C%20%22minHeight%22%3A%20100%2C%20%22minWidth%22%3A%20500%7D%29%3B%0A%0A%20%20%20%20%20%20%20%20%0A%20%20%20%20%20%20%20%20%20%20%20%20var%20i_frame_03905cbb31884e6d802066085abaf560%20%3D%20%24%28%60%3Cdiv%20style%3D%22width%3A100%25%3B%22%3E%3Cdiv%20style%3D%22position%3Arelative%3Bwidth%3A100%25%3Bheight%3A0%3Bpadding-bottom%3A60%25%3B%22%3E%3Ciframe%20src%3D%22data%3Atext/html%3Bcharset%3Dutf-8%3Bbase64%2CCiAgICAKICAgIDxiPlNwZWNpZXMgTmFtZTo8L2I%2BIEZFUk5MRUFGIEJFRUNIPGJyPgogICAgPGI%2BRGF0ZSBQbGFudGVkOjwvYj4gbmFuPGJyPgogICAgPGI%2BR2VvY29kZSBBdHRlbXB0OjwvYj4gMCBFIDVUSCBBViwgVmFuY291dmVyLCBCQywgQ2FuYWRhPGJyPgogICAgPGI%2BR2VvY29kZSBSZXN1bHQ6PC9iPiAwIEVhc3QgNXRoIEF2ZW51ZSwgVmFuY291dmVyLCBCcml0aXNoIENvbHVtYmlhIFY1VCAxRzgsIENhbmFkYQ%3D%3D%22%20style%3D%22position%3Aabsolute%3Bwidth%3A100%25%3Bheight%3A100%25%3Bleft%3A0%3Btop%3A0%3Bborder%3Anone%20%21important%3B%22%3E%3C/iframe%3E%3C/div%3E%3C/div%3E%60%29%5B0%5D%3B%0A%20%20%20%20%20%20%20%20%20%20%20%20popup_a37665c205324e6dae93d6a6c310f111.setContent%28i_frame_03905cbb31884e6d802066085abaf560%29%3B%0A%20%20%20%20%20%20%20%20%0A%0A%20%20%20%20%20%20%20%20circle_marker_7ce373a798684131bbd92d098f9ce9dd.bindPopup%28popup_a37665c205324e6dae93d6a6c310f111%29%0A%20%20%20%20%20%20%20%20%3B%0A%0A%20%20%20%20%20%20%20%20%0A%20%20%20%20%0A%20%20%20%20%0A%20%20%20%20%20%20%20%20%20%20%20%20var%20circle_marker_45c748dfedeb474a9ffee7f766b1e243%20%3D%20L.circleMarker%28%0A%20%20%20%20%20%20%20%20%20%20%20%20%20%20%20%20%5B49.263465%2C%20-123.094776%5D%2C%0A%20%20%20%20%20%20%20%20%20%20%20%20%20%20%20%20%7B%22bubblingMouseEvents%22%3A%20true%2C%20%22color%22%3A%20%22black%22%2C%20%22dashArray%22%3A%20null%2C%20%22dashOffset%22%3A%20null%2C%20%22fill%22%3A%20true%2C%20%22fillColor%22%3A%20%22%231C2C4B%22%2C%20%22fillOpacity%22%3A%200.75%2C%20%22fillRule%22%3A%20%22evenodd%22%2C%20%22lineCap%22%3A%20%22round%22%2C%20%22lineJoin%22%3A%20%22round%22%2C%20%22opacity%22%3A%201.0%2C%20%22radius%22%3A%2015%2C%20%22stroke%22%3A%20true%2C%20%22weight%22%3A%203%7D%0A%20%20%20%20%20%20%20%20%20%20%20%20%29.addTo%28map_815924b648b64e1eb2df2a4409776558%29%3B%0A%20%20%20%20%20%20%20%20%0A%20%20%20%20%0A%20%20%20%20%20%20%20%20var%20popup_0d61b1b8b33443a7aa9b7a7fe67bda4e%20%3D%20L.popup%28%7B%22maxHeight%22%3A%20500%2C%20%22maxWidth%22%3A%20500%2C%20%22minHeight%22%3A%20100%2C%20%22minWidth%22%3A%20500%7D%29%3B%0A%0A%20%20%20%20%20%20%20%20%0A%20%20%20%20%20%20%20%20%20%20%20%20var%20i_frame_e0c2322927f3477380ae7a2fa7dc5e78%20%3D%20%24%28%60%3Cdiv%20style%3D%22width%3A100%25%3B%22%3E%3Cdiv%20style%3D%22position%3Arelative%3Bwidth%3A100%25%3Bheight%3A0%3Bpadding-bottom%3A60%25%3B%22%3E%3Ciframe%20src%3D%22data%3Atext/html%3Bcharset%3Dutf-8%3Bbase64%2CCiAgICAKICAgIDxiPlNwZWNpZXMgTmFtZTo8L2I%2BIFBBVE1PUkUgQVNIPGJyPgogICAgPGI%2BRGF0ZSBQbGFudGVkOjwvYj4gMjAwMC0wMS0yNzxicj4KICAgIDxiPkdlb2NvZGUgQXR0ZW1wdDo8L2I%2BIDI0MDAgR1VFTFBIIFNULCBWYW5jb3V2ZXIsIEJDLCBDYW5hZGE8YnI%2BCiAgICA8Yj5HZW9jb2RlIFJlc3VsdDo8L2I%2BIDI0MDAgR3VlbHBoIFN0cmVldCwgVmFuY291dmVyLCBCcml0aXNoIENvbHVtYmlhIFY1VDNQMywgQ2FuYWRh%22%20style%3D%22position%3Aabsolute%3Bwidth%3A100%25%3Bheight%3A100%25%3Bleft%3A0%3Btop%3A0%3Bborder%3Anone%20%21important%3B%22%3E%3C/iframe%3E%3C/div%3E%3C/div%3E%60%29%5B0%5D%3B%0A%20%20%20%20%20%20%20%20%20%20%20%20popup_0d61b1b8b33443a7aa9b7a7fe67bda4e.setContent%28i_frame_e0c2322927f3477380ae7a2fa7dc5e78%29%3B%0A%20%20%20%20%20%20%20%20%0A%0A%20%20%20%20%20%20%20%20circle_marker_45c748dfedeb474a9ffee7f766b1e243.bindPopup%28popup_0d61b1b8b33443a7aa9b7a7fe67bda4e%29%0A%20%20%20%20%20%20%20%20%3B%0A%0A%20%20%20%20%20%20%20%20%0A%20%20%20%20%0A%20%20%20%20%0A%20%20%20%20%20%20%20%20%20%20%20%20var%20circle_marker_3b09ff2d7e4e47d3a78f656ab7e81fa3%20%3D%20L.circleMarker%28%0A%20%20%20%20%20%20%20%20%20%20%20%20%20%20%20%20%5B49.262405%2C%20-123.079734%5D%2C%0A%20%20%20%20%20%20%20%20%20%20%20%20%20%20%20%20%7B%22bubblingMouseEvents%22%3A%20true%2C%20%22color%22%3A%20%22black%22%2C%20%22dashArray%22%3A%20null%2C%20%22dashOffset%22%3A%20null%2C%20%22fill%22%3A%20true%2C%20%22fillColor%22%3A%20%22%23C2439F%22%2C%20%22fillOpacity%22%3A%200.75%2C%20%22fillRule%22%3A%20%22evenodd%22%2C%20%22lineCap%22%3A%20%22round%22%2C%20%22lineJoin%22%3A%20%22round%22%2C%20%22opacity%22%3A%201.0%2C%20%22radius%22%3A%2015%2C%20%22stroke%22%3A%20true%2C%20%22weight%22%3A%203%7D%0A%20%20%20%20%20%20%20%20%20%20%20%20%29.addTo%28map_815924b648b64e1eb2df2a4409776558%29%3B%0A%20%20%20%20%20%20%20%20%0A%20%20%20%20%0A%20%20%20%20%20%20%20%20var%20popup_84565be77e1045098d9122cc39f74192%20%3D%20L.popup%28%7B%22maxHeight%22%3A%20500%2C%20%22maxWidth%22%3A%20500%2C%20%22minHeight%22%3A%20100%2C%20%22minWidth%22%3A%20500%7D%29%3B%0A%0A%20%20%20%20%20%20%20%20%0A%20%20%20%20%20%20%20%20%20%20%20%20var%20i_frame_37c3aa146948447f9a107ce036faf497%20%3D%20%24%28%60%3Cdiv%20style%3D%22width%3A100%25%3B%22%3E%3Cdiv%20style%3D%22position%3Arelative%3Bwidth%3A100%25%3Bheight%3A0%3Bpadding-bottom%3A60%25%3B%22%3E%3Ciframe%20src%3D%22data%3Atext/html%3Bcharset%3Dutf-8%3Bbase64%2CCiAgICAKICAgIDxiPlNwZWNpZXMgTmFtZTo8L2I%2BIEFSQk9SVklUQUUgU1BFQ0lFUzxicj4KICAgIDxiPkRhdGUgUGxhbnRlZDo8L2I%2BIG5hbjxicj4KICAgIDxiPkdlb2NvZGUgQXR0ZW1wdDo8L2I%2BIDEyMDAgRSBCUk9BRFdBWSwgVmFuY291dmVyLCBCQywgQ2FuYWRhPGJyPgogICAgPGI%2BR2VvY29kZSBSZXN1bHQ6PC9iPiAxMjAwIEVhc3QgQnJvYWR3YXksIFZhbmNvdXZlciwgQnJpdGlzaCBDb2x1bWJpYSBWNVQgMVk3LCBDYW5hZGE%3D%22%20style%3D%22position%3Aabsolute%3Bwidth%3A100%25%3Bheight%3A100%25%3Bleft%3A0%3Btop%3A0%3Bborder%3Anone%20%21important%3B%22%3E%3C/iframe%3E%3C/div%3E%3C/div%3E%60%29%5B0%5D%3B%0A%20%20%20%20%20%20%20%20%20%20%20%20popup_84565be77e1045098d9122cc39f74192.setContent%28i_frame_37c3aa146948447f9a107ce036faf497%29%3B%0A%20%20%20%20%20%20%20%20%0A%0A%20%20%20%20%20%20%20%20circle_marker_3b09ff2d7e4e47d3a78f656ab7e81fa3.bindPopup%28popup_84565be77e1045098d9122cc39f74192%29%0A%20%20%20%20%20%20%20%20%3B%0A%0A%20%20%20%20%20%20%20%20%0A%20%20%20%20%0A%20%20%20%20%0A%20%20%20%20%20%20%20%20%20%20%20%20var%20circle_marker_9b47a97f4cd7480d9db22c3547009630%20%3D%20L.circleMarker%28%0A%20%20%20%20%20%20%20%20%20%20%20%20%20%20%20%20%5B49.271483%2C%20-123.10937%5D%2C%0A%20%20%20%20%20%20%20%20%20%20%20%20%20%20%20%20%7B%22bubblingMouseEvents%22%3A%20true%2C%20%22color%22%3A%20%22black%22%2C%20%22dashArray%22%3A%20null%2C%20%22dashOffset%22%3A%20null%2C%20%22fill%22%3A%20true%2C%20%22fillColor%22%3A%20%22%23FC455A%22%2C%20%22fillOpacity%22%3A%200.75%2C%20%22fillRule%22%3A%20%22evenodd%22%2C%20%22lineCap%22%3A%20%22round%22%2C%20%22lineJoin%22%3A%20%22round%22%2C%20%22opacity%22%3A%201.0%2C%20%22radius%22%3A%2015%2C%20%22stroke%22%3A%20true%2C%20%22weight%22%3A%203%7D%0A%20%20%20%20%20%20%20%20%20%20%20%20%29.addTo%28map_815924b648b64e1eb2df2a4409776558%29%3B%0A%20%20%20%20%20%20%20%20%0A%20%20%20%20%0A%20%20%20%20%20%20%20%20var%20popup_d0f8e3626a184a01a3539a489b9f65c1%20%3D%20L.popup%28%7B%22maxHeight%22%3A%20500%2C%20%22maxWidth%22%3A%20500%2C%20%22minHeight%22%3A%20100%2C%20%22minWidth%22%3A%20500%7D%29%3B%0A%0A%20%20%20%20%20%20%20%20%0A%20%20%20%20%20%20%20%20%20%20%20%20var%20i_frame_76834db36af242fb850911b10174584c%20%3D%20%24%28%60%3Cdiv%20style%3D%22width%3A100%25%3B%22%3E%3Cdiv%20style%3D%22position%3Arelative%3Bwidth%3A100%25%3Bheight%3A0%3Bpadding-bottom%3A60%25%3B%22%3E%3Ciframe%20src%3D%22data%3Atext/html%3Bcharset%3Dutf-8%3Bbase64%2CCiAgICAKICAgIDxiPlNwZWNpZXMgTmFtZTo8L2I%2BIEVVUk9QRUFOIEJMQUNLIEFMREVSPGJyPgogICAgPGI%2BRGF0ZSBQbGFudGVkOjwvYj4gMjAwOS0xMi0xNjxicj4KICAgIDxiPkdlb2NvZGUgQXR0ZW1wdDo8L2I%2BIDE2MDAgQ09MVU1CSUEgU1QsIFZhbmNvdXZlciwgQkMsIENhbmFkYTxicj4KICAgIDxiPkdlb2NvZGUgUmVzdWx0OjwvYj4gMTYwMCBDb2x1bWJpYSBTdHJlZXQsIFZhbmNvdXZlciwgQnJpdGlzaCBDb2x1bWJpYSBWNVkgMEI2LCBDYW5hZGE%3D%22%20style%3D%22position%3Aabsolute%3Bwidth%3A100%25%3Bheight%3A100%25%3Bleft%3A0%3Btop%3A0%3Bborder%3Anone%20%21important%3B%22%3E%3C/iframe%3E%3C/div%3E%3C/div%3E%60%29%5B0%5D%3B%0A%20%20%20%20%20%20%20%20%20%20%20%20popup_d0f8e3626a184a01a3539a489b9f65c1.setContent%28i_frame_76834db36af242fb850911b10174584c%29%3B%0A%20%20%20%20%20%20%20%20%0A%0A%20%20%20%20%20%20%20%20circle_marker_9b47a97f4cd7480d9db22c3547009630.bindPopup%28popup_d0f8e3626a184a01a3539a489b9f65c1%29%0A%20%20%20%20%20%20%20%20%3B%0A%0A%20%20%20%20%20%20%20%20%0A%20%20%20%20%0A%20%20%20%20%0A%20%20%20%20%20%20%20%20%20%20%20%20var%20circle_marker_e9e52f9c8f5b4f0fb5e3bd2063ffd72f%20%3D%20L.circleMarker%28%0A%20%20%20%20%20%20%20%20%20%20%20%20%20%20%20%20%5B49.259687%2C%20-123.085287%5D%2C%0A%20%20%20%20%20%20%20%20%20%20%20%20%20%20%20%20%7B%22bubblingMouseEvents%22%3A%20true%2C%20%22color%22%3A%20%22black%22%2C%20%22dashArray%22%3A%20null%2C%20%22dashOffset%22%3A%20null%2C%20%22fill%22%3A%20true%2C%20%22fillColor%22%3A%20%22%231C1DE0%22%2C%20%22fillOpacity%22%3A%200.75%2C%20%22fillRule%22%3A%20%22evenodd%22%2C%20%22lineCap%22%3A%20%22round%22%2C%20%22lineJoin%22%3A%20%22round%22%2C%20%22opacity%22%3A%201.0%2C%20%22radius%22%3A%2015%2C%20%22stroke%22%3A%20true%2C%20%22weight%22%3A%203%7D%0A%20%20%20%20%20%20%20%20%20%20%20%20%29.addTo%28map_815924b648b64e1eb2df2a4409776558%29%3B%0A%20%20%20%20%20%20%20%20%0A%20%20%20%20%0A%20%20%20%20%20%20%20%20var%20popup_a6ada4fc09f64c0a81f799ceca900cf7%20%3D%20L.popup%28%7B%22maxHeight%22%3A%20500%2C%20%22maxWidth%22%3A%20500%2C%20%22minHeight%22%3A%20100%2C%20%22minWidth%22%3A%20500%7D%29%3B%0A%0A%20%20%20%20%20%20%20%20%0A%20%20%20%20%20%20%20%20%20%20%20%20var%20i_frame_41a50192a07e4f8590480067b486343b%20%3D%20%24%28%60%3Cdiv%20style%3D%22width%3A100%25%3B%22%3E%3Cdiv%20style%3D%22position%3Arelative%3Bwidth%3A100%25%3Bheight%3A0%3Bpadding-bottom%3A60%25%3B%22%3E%3Ciframe%20src%3D%22data%3Atext/html%3Bcharset%3Dutf-8%3Bbase64%2CCiAgICAKICAgIDxiPlNwZWNpZXMgTmFtZTo8L2I%2BIFNOT1cgR09PU0UgQ0hFUlJZPGJyPgogICAgPGI%2BRGF0ZSBQbGFudGVkOjwvYj4gMjAxMC0wMy0wOTxicj4KICAgIDxiPkdlb2NvZGUgQXR0ZW1wdDo8L2I%2BIDI4MDAgU1QuIENBVEhFUklORVMgU1QsIFZhbmNvdXZlciwgQkMsIENhbmFkYTxicj4KICAgIDxiPkdlb2NvZGUgUmVzdWx0OjwvYj4gMjgwMCBTYWludCBDYXRoZXJpbmVzIFN0cmVldCwgVmFuY291dmVyLCBCcml0aXNoIENvbHVtYmlhIFY1VCAySjQsIENhbmFkYQ%3D%3D%22%20style%3D%22position%3Aabsolute%3Bwidth%3A100%25%3Bheight%3A100%25%3Bleft%3A0%3Btop%3A0%3Bborder%3Anone%20%21important%3B%22%3E%3C/iframe%3E%3C/div%3E%3C/div%3E%60%29%5B0%5D%3B%0A%20%20%20%20%20%20%20%20%20%20%20%20popup_a6ada4fc09f64c0a81f799ceca900cf7.setContent%28i_frame_41a50192a07e4f8590480067b486343b%29%3B%0A%20%20%20%20%20%20%20%20%0A%0A%20%20%20%20%20%20%20%20circle_marker_e9e52f9c8f5b4f0fb5e3bd2063ffd72f.bindPopup%28popup_a6ada4fc09f64c0a81f799ceca900cf7%29%0A%20%20%20%20%20%20%20%20%3B%0A%0A%20%20%20%20%20%20%20%20%0A%20%20%20%20%0A%20%20%20%20%0A%20%20%20%20%20%20%20%20%20%20%20%20var%20circle_marker_8d14e7f49f104e2e9fdad1959fd99e6e%20%3D%20L.circleMarker%28%0A%20%20%20%20%20%20%20%20%20%20%20%20%20%20%20%20%5B49.260278%2C%20-123.105036%5D%2C%0A%20%20%20%20%20%20%20%20%20%20%20%20%20%20%20%20%7B%22bubblingMouseEvents%22%3A%20true%2C%20%22color%22%3A%20%22black%22%2C%20%22dashArray%22%3A%20null%2C%20%22dashOffset%22%3A%20null%2C%20%22fill%22%3A%20true%2C%20%22fillColor%22%3A%20%22%237728A8%22%2C%20%22fillOpacity%22%3A%200.75%2C%20%22fillRule%22%3A%20%22evenodd%22%2C%20%22lineCap%22%3A%20%22round%22%2C%20%22lineJoin%22%3A%20%22round%22%2C%20%22opacity%22%3A%201.0%2C%20%22radius%22%3A%2015%2C%20%22stroke%22%3A%20true%2C%20%22weight%22%3A%203%7D%0A%20%20%20%20%20%20%20%20%20%20%20%20%29.addTo%28map_815924b648b64e1eb2df2a4409776558%29%3B%0A%20%20%20%20%20%20%20%20%0A%20%20%20%20%0A%20%20%20%20%20%20%20%20var%20popup_12b6233a2cab4a59b90f01eb58e546a3%20%3D%20L.popup%28%7B%22maxHeight%22%3A%20500%2C%20%22maxWidth%22%3A%20500%2C%20%22minHeight%22%3A%20100%2C%20%22minWidth%22%3A%20500%7D%29%3B%0A%0A%20%20%20%20%20%20%20%20%0A%20%20%20%20%20%20%20%20%20%20%20%20var%20i_frame_28d2f6ed2447478784703d584dfad2d4%20%3D%20%24%28%60%3Cdiv%20style%3D%22width%3A100%25%3B%22%3E%3Cdiv%20style%3D%22position%3Arelative%3Bwidth%3A100%25%3Bheight%3A0%3Bpadding-bottom%3A60%25%3B%22%3E%3Ciframe%20src%3D%22data%3Atext/html%3Bcharset%3Dutf-8%3Bbase64%2CCiAgICAKICAgIDxiPlNwZWNpZXMgTmFtZTo8L2I%2BIEZSQU5aIEZPTlRBSU5FIEhPUk5CRUFNPGJyPgogICAgPGI%2BRGF0ZSBQbGFudGVkOjwvYj4gMjAxNy0wMi0yNzxicj4KICAgIDxiPkdlb2NvZGUgQXR0ZW1wdDo8L2I%2BIDI4MDAgT05UQVJJTyBTVCwgVmFuY291dmVyLCBCQywgQ2FuYWRhPGJyPgogICAgPGI%2BR2VvY29kZSBSZXN1bHQ6PC9iPiAyODAwIE9udGFyaW8gU3RyZWV0LCBWYW5jb3V2ZXIsIEJyaXRpc2ggQ29sdW1iaWEgVjVUIDJZMiwgQ2FuYWRh%22%20style%3D%22position%3Aabsolute%3Bwidth%3A100%25%3Bheight%3A100%25%3Bleft%3A0%3Btop%3A0%3Bborder%3Anone%20%21important%3B%22%3E%3C/iframe%3E%3C/div%3E%3C/div%3E%60%29%5B0%5D%3B%0A%20%20%20%20%20%20%20%20%20%20%20%20popup_12b6233a2cab4a59b90f01eb58e546a3.setContent%28i_frame_28d2f6ed2447478784703d584dfad2d4%29%3B%0A%20%20%20%20%20%20%20%20%0A%0A%20%20%20%20%20%20%20%20circle_marker_8d14e7f49f104e2e9fdad1959fd99e6e.bindPopup%28popup_12b6233a2cab4a59b90f01eb58e546a3%29%0A%20%20%20%20%20%20%20%20%3B%0A%0A%20%20%20%20%20%20%20%20%0A%20%20%20%20%0A%20%20%20%20%0A%20%20%20%20%20%20%20%20%20%20%20%20var%20circle_marker_1bd74ecddad648f2a9a4f19e22a3f7bf%20%3D%20L.circleMarker%28%0A%20%20%20%20%20%20%20%20%20%20%20%20%20%20%20%20%5B49.257401%2C%20-123.104876%5D%2C%0A%20%20%20%20%20%20%20%20%20%20%20%20%20%20%20%20%7B%22bubblingMouseEvents%22%3A%20true%2C%20%22color%22%3A%20%22black%22%2C%20%22dashArray%22%3A%20null%2C%20%22dashOffset%22%3A%20null%2C%20%22fill%22%3A%20true%2C%20%22fillColor%22%3A%20%22%2318E0F4%22%2C%20%22fillOpacity%22%3A%200.75%2C%20%22fillRule%22%3A%20%22evenodd%22%2C%20%22lineCap%22%3A%20%22round%22%2C%20%22lineJoin%22%3A%20%22round%22%2C%20%22opacity%22%3A%201.0%2C%20%22radius%22%3A%2015%2C%20%22stroke%22%3A%20true%2C%20%22weight%22%3A%203%7D%0A%20%20%20%20%20%20%20%20%20%20%20%20%29.addTo%28map_815924b648b64e1eb2df2a4409776558%29%3B%0A%20%20%20%20%20%20%20%20%0A%20%20%20%20%0A%20%20%20%20%20%20%20%20var%20popup_6af702dd46f243fcad74d9117adc0fbf%20%3D%20L.popup%28%7B%22maxHeight%22%3A%20500%2C%20%22maxWidth%22%3A%20500%2C%20%22minHeight%22%3A%20100%2C%20%22minWidth%22%3A%20500%7D%29%3B%0A%0A%20%20%20%20%20%20%20%20%0A%20%20%20%20%20%20%20%20%20%20%20%20var%20i_frame_5a48a6ca23824ecfb5af10c4545db24c%20%3D%20%24%28%60%3Cdiv%20style%3D%22width%3A100%25%3B%22%3E%3Cdiv%20style%3D%22position%3Arelative%3Bwidth%3A100%25%3Bheight%3A0%3Bpadding-bottom%3A60%25%3B%22%3E%3Ciframe%20src%3D%22data%3Atext/html%3Bcharset%3Dutf-8%3Bbase64%2CCiAgICAKICAgIDxiPlNwZWNpZXMgTmFtZTo8L2I%2BIE1PTktFWSBQVVpaTEUgVFJFRTxicj4KICAgIDxiPkRhdGUgUGxhbnRlZDo8L2I%2BIG5hbjxicj4KICAgIDxiPkdlb2NvZGUgQXR0ZW1wdDo8L2I%2BIDMxMDAgT05UQVJJTyBTVCwgVmFuY291dmVyLCBCQywgQ2FuYWRhPGJyPgogICAgPGI%2BR2VvY29kZSBSZXN1bHQ6PC9iPiAzMTAwIE9udGFyaW8gU3RyZWV0LCBWYW5jb3V2ZXIsIEJyaXRpc2ggQ29sdW1iaWEgVjVUIDJZOSwgQ2FuYWRh%22%20style%3D%22position%3Aabsolute%3Bwidth%3A100%25%3Bheight%3A100%25%3Bleft%3A0%3Btop%3A0%3Bborder%3Anone%20%21important%3B%22%3E%3C/iframe%3E%3C/div%3E%3C/div%3E%60%29%5B0%5D%3B%0A%20%20%20%20%20%20%20%20%20%20%20%20popup_6af702dd46f243fcad74d9117adc0fbf.setContent%28i_frame_5a48a6ca23824ecfb5af10c4545db24c%29%3B%0A%20%20%20%20%20%20%20%20%0A%0A%20%20%20%20%20%20%20%20circle_marker_1bd74ecddad648f2a9a4f19e22a3f7bf.bindPopup%28popup_6af702dd46f243fcad74d9117adc0fbf%29%0A%20%20%20%20%20%20%20%20%3B%0A%0A%20%20%20%20%20%20%20%20%0A%20%20%20%20%0A%20%20%20%20%0A%20%20%20%20%20%20%20%20%20%20%20%20var%20circle_marker_474c2ccef6cc4f4584d1f58485f40e9f%20%3D%20L.circleMarker%28%0A%20%20%20%20%20%20%20%20%20%20%20%20%20%20%20%20%5B49.257401%2C%20-123.104876%5D%2C%0A%20%20%20%20%20%20%20%20%20%20%20%20%20%20%20%20%7B%22bubblingMouseEvents%22%3A%20true%2C%20%22color%22%3A%20%22black%22%2C%20%22dashArray%22%3A%20null%2C%20%22dashOffset%22%3A%20null%2C%20%22fill%22%3A%20true%2C%20%22fillColor%22%3A%20%22%23299DFA%22%2C%20%22fillOpacity%22%3A%200.75%2C%20%22fillRule%22%3A%20%22evenodd%22%2C%20%22lineCap%22%3A%20%22round%22%2C%20%22lineJoin%22%3A%20%22round%22%2C%20%22opacity%22%3A%201.0%2C%20%22radius%22%3A%2015%2C%20%22stroke%22%3A%20true%2C%20%22weight%22%3A%203%7D%0A%20%20%20%20%20%20%20%20%20%20%20%20%29.addTo%28map_815924b648b64e1eb2df2a4409776558%29%3B%0A%20%20%20%20%20%20%20%20%0A%20%20%20%20%0A%20%20%20%20%20%20%20%20var%20popup_2d2db9f891574245b20070719274e940%20%3D%20L.popup%28%7B%22maxHeight%22%3A%20500%2C%20%22maxWidth%22%3A%20500%2C%20%22minHeight%22%3A%20100%2C%20%22minWidth%22%3A%20500%7D%29%3B%0A%0A%20%20%20%20%20%20%20%20%0A%20%20%20%20%20%20%20%20%20%20%20%20var%20i_frame_3a6e0199d7ac41adb2a35349d4b8873f%20%3D%20%24%28%60%3Cdiv%20style%3D%22width%3A100%25%3B%22%3E%3Cdiv%20style%3D%22position%3Arelative%3Bwidth%3A100%25%3Bheight%3A0%3Bpadding-bottom%3A60%25%3B%22%3E%3Ciframe%20src%3D%22data%3Atext/html%3Bcharset%3Dutf-8%3Bbase64%2CCiAgICAKICAgIDxiPlNwZWNpZXMgTmFtZTo8L2I%2BIFNDT1VMRVInUyBXSUxMT1c8YnI%2BCiAgICA8Yj5EYXRlIFBsYW50ZWQ6PC9iPiBuYW48YnI%2BCiAgICA8Yj5HZW9jb2RlIEF0dGVtcHQ6PC9iPiAzMTAwIE9OVEFSSU8gU1QsIFZhbmNvdXZlciwgQkMsIENhbmFkYTxicj4KICAgIDxiPkdlb2NvZGUgUmVzdWx0OjwvYj4gMzEwMCBPbnRhcmlvIFN0cmVldCwgVmFuY291dmVyLCBCcml0aXNoIENvbHVtYmlhIFY1VCAyWTksIENhbmFkYQ%3D%3D%22%20style%3D%22position%3Aabsolute%3Bwidth%3A100%25%3Bheight%3A100%25%3Bleft%3A0%3Btop%3A0%3Bborder%3Anone%20%21important%3B%22%3E%3C/iframe%3E%3C/div%3E%3C/div%3E%60%29%5B0%5D%3B%0A%20%20%20%20%20%20%20%20%20%20%20%20popup_2d2db9f891574245b20070719274e940.setContent%28i_frame_3a6e0199d7ac41adb2a35349d4b8873f%29%3B%0A%20%20%20%20%20%20%20%20%0A%0A%20%20%20%20%20%20%20%20circle_marker_474c2ccef6cc4f4584d1f58485f40e9f.bindPopup%28popup_2d2db9f891574245b20070719274e940%29%0A%20%20%20%20%20%20%20%20%3B%0A%0A%20%20%20%20%20%20%20%20%0A%20%20%20%20%0A%20%20%20%20%0A%20%20%20%20%20%20%20%20%20%20%20%20var%20circle_marker_4f051d7c3d894e7992cfbe606dd2e029%20%3D%20L.circleMarker%28%0A%20%20%20%20%20%20%20%20%20%20%20%20%20%20%20%20%5B49.258376%2C%20-123.09429%5D%2C%0A%20%20%20%20%20%20%20%20%20%20%20%20%20%20%20%20%7B%22bubblingMouseEvents%22%3A%20true%2C%20%22color%22%3A%20%22black%22%2C%20%22dashArray%22%3A%20null%2C%20%22dashOffset%22%3A%20null%2C%20%22fill%22%3A%20true%2C%20%22fillColor%22%3A%20%22%239BACCE%22%2C%20%22fillOpacity%22%3A%200.75%2C%20%22fillRule%22%3A%20%22evenodd%22%2C%20%22lineCap%22%3A%20%22round%22%2C%20%22lineJoin%22%3A%20%22round%22%2C%20%22opacity%22%3A%201.0%2C%20%22radius%22%3A%2015%2C%20%22stroke%22%3A%20true%2C%20%22weight%22%3A%203%7D%0A%20%20%20%20%20%20%20%20%20%20%20%20%29.addTo%28map_815924b648b64e1eb2df2a4409776558%29%3B%0A%20%20%20%20%20%20%20%20%0A%20%20%20%20%0A%20%20%20%20%20%20%20%20var%20popup_9616a94361c742909c6da6eef85fc538%20%3D%20L.popup%28%7B%22maxHeight%22%3A%20500%2C%20%22maxWidth%22%3A%20500%2C%20%22minHeight%22%3A%20100%2C%20%22minWidth%22%3A%20500%7D%29%3B%0A%0A%20%20%20%20%20%20%20%20%0A%20%20%20%20%20%20%20%20%20%20%20%20var%20i_frame_327874a7ee6049a88a554fd6475be582%20%3D%20%24%28%60%3Cdiv%20style%3D%22width%3A100%25%3B%22%3E%3Cdiv%20style%3D%22position%3Arelative%3Bwidth%3A100%25%3Bheight%3A0%3Bpadding-bottom%3A60%25%3B%22%3E%3Ciframe%20src%3D%22data%3Atext/html%3Bcharset%3Dutf-8%3Bbase64%2CCiAgICAKICAgIDxiPlNwZWNpZXMgTmFtZTo8L2I%2BIFNJVEtBIFNQUlVDRTxicj4KICAgIDxiPkRhdGUgUGxhbnRlZDo8L2I%2BIG5hbjxicj4KICAgIDxiPkdlb2NvZGUgQXR0ZW1wdDo8L2I%2BIDUwMCBLSU5HU1dBWSwgVmFuY291dmVyLCBCQywgQ2FuYWRhPGJyPgogICAgPGI%2BR2VvY29kZSBSZXN1bHQ6PC9iPiA1MDAgS2luZ3N3YXksIFZhbmNvdXZlciwgQnJpdGlzaCBDb2x1bWJpYSBWNVQgM0o5LCBDYW5hZGE%3D%22%20style%3D%22position%3Aabsolute%3Bwidth%3A100%25%3Bheight%3A100%25%3Bleft%3A0%3Btop%3A0%3Bborder%3Anone%20%21important%3B%22%3E%3C/iframe%3E%3C/div%3E%3C/div%3E%60%29%5B0%5D%3B%0A%20%20%20%20%20%20%20%20%20%20%20%20popup_9616a94361c742909c6da6eef85fc538.setContent%28i_frame_327874a7ee6049a88a554fd6475be582%29%3B%0A%20%20%20%20%20%20%20%20%0A%0A%20%20%20%20%20%20%20%20circle_marker_4f051d7c3d894e7992cfbe606dd2e029.bindPopup%28popup_9616a94361c742909c6da6eef85fc538%29%0A%20%20%20%20%20%20%20%20%3B%0A%0A%20%20%20%20%20%20%20%20%0A%20%20%20%20%0A%20%20%20%20%0A%20%20%20%20%20%20%20%20%20%20%20%20var%20circle_marker_6005e6c3f3ca47dd8b7ece882fa45abb%20%3D%20L.circleMarker%28%0A%20%20%20%20%20%20%20%20%20%20%20%20%20%20%20%20%5B49.264238%2C%20-123.077484%5D%2C%0A%20%20%20%20%20%20%20%20%20%20%20%20%20%20%20%20%7B%22bubblingMouseEvents%22%3A%20true%2C%20%22color%22%3A%20%22black%22%2C%20%22dashArray%22%3A%20null%2C%20%22dashOffset%22%3A%20null%2C%20%22fill%22%3A%20true%2C%20%22fillColor%22%3A%20%22%2367307F%22%2C%20%22fillOpacity%22%3A%200.75%2C%20%22fillRule%22%3A%20%22evenodd%22%2C%20%22lineCap%22%3A%20%22round%22%2C%20%22lineJoin%22%3A%20%22round%22%2C%20%22opacity%22%3A%201.0%2C%20%22radius%22%3A%2015%2C%20%22stroke%22%3A%20true%2C%20%22weight%22%3A%203%7D%0A%20%20%20%20%20%20%20%20%20%20%20%20%29.addTo%28map_815924b648b64e1eb2df2a4409776558%29%3B%0A%20%20%20%20%20%20%20%20%0A%20%20%20%20%0A%20%20%20%20%20%20%20%20var%20popup_5fd301329c894aaa80b0de569c8ea706%20%3D%20L.popup%28%7B%22maxHeight%22%3A%20500%2C%20%22maxWidth%22%3A%20500%2C%20%22minHeight%22%3A%20100%2C%20%22minWidth%22%3A%20500%7D%29%3B%0A%0A%20%20%20%20%20%20%20%20%0A%20%20%20%20%20%20%20%20%20%20%20%20var%20i_frame_fcbbf3b88cbc4813aa0eef2d432b85bb%20%3D%20%24%28%60%3Cdiv%20style%3D%22width%3A100%25%3B%22%3E%3Cdiv%20style%3D%22position%3Arelative%3Bwidth%3A100%25%3Bheight%3A0%3Bpadding-bottom%3A60%25%3B%22%3E%3Ciframe%20src%3D%22data%3Atext/html%3Bcharset%3Dutf-8%3Bbase64%2CCiAgICAKICAgIDxiPlNwZWNpZXMgTmFtZTo8L2I%2BIFJFRFBPSU5URSBNQVBMRSBGUkFOSyBKUjxicj4KICAgIDxiPkRhdGUgUGxhbnRlZDo8L2I%2BIG5hbjxicj4KICAgIDxiPkdlb2NvZGUgQXR0ZW1wdDo8L2I%2BIDIzMDAgQ0xBUksgRFJJVkUsIFZhbmNvdXZlciwgQkMsIENhbmFkYTxicj4KICAgIDxiPkdlb2NvZGUgUmVzdWx0OjwvYj4gMjMwMCBDbGFyayBEcml2ZSwgVmFuY291dmVyLCBCcml0aXNoIENvbHVtYmlhIFY1TiAzRzgsIENhbmFkYQ%3D%3D%22%20style%3D%22position%3Aabsolute%3Bwidth%3A100%25%3Bheight%3A100%25%3Bleft%3A0%3Btop%3A0%3Bborder%3Anone%20%21important%3B%22%3E%3C/iframe%3E%3C/div%3E%3C/div%3E%60%29%5B0%5D%3B%0A%20%20%20%20%20%20%20%20%20%20%20%20popup_5fd301329c894aaa80b0de569c8ea706.setContent%28i_frame_fcbbf3b88cbc4813aa0eef2d432b85bb%29%3B%0A%20%20%20%20%20%20%20%20%0A%0A%20%20%20%20%20%20%20%20circle_marker_6005e6c3f3ca47dd8b7ece882fa45abb.bindPopup%28popup_5fd301329c894aaa80b0de569c8ea706%29%0A%20%20%20%20%20%20%20%20%3B%0A%0A%20%20%20%20%20%20%20%20%0A%20%20%20%20%0A%20%20%20%20%0A%20%20%20%20%20%20%20%20%20%20%20%20var%20circle_marker_683b228219f34a8da4302b42a037a2d9%20%3D%20L.circleMarker%28%0A%20%20%20%20%20%20%20%20%20%20%20%20%20%20%20%20%5B49.257497%2C%20-123.100615%5D%2C%0A%20%20%20%20%20%20%20%20%20%20%20%20%20%20%20%20%7B%22bubblingMouseEvents%22%3A%20true%2C%20%22color%22%3A%20%22black%22%2C%20%22dashArray%22%3A%20null%2C%20%22dashOffset%22%3A%20null%2C%20%22fill%22%3A%20true%2C%20%22fillColor%22%3A%20%22%2361196A%22%2C%20%22fillOpacity%22%3A%200.75%2C%20%22fillRule%22%3A%20%22evenodd%22%2C%20%22lineCap%22%3A%20%22round%22%2C%20%22lineJoin%22%3A%20%22round%22%2C%20%22opacity%22%3A%201.0%2C%20%22radius%22%3A%2015%2C%20%22stroke%22%3A%20true%2C%20%22weight%22%3A%203%7D%0A%20%20%20%20%20%20%20%20%20%20%20%20%29.addTo%28map_815924b648b64e1eb2df2a4409776558%29%3B%0A%20%20%20%20%20%20%20%20%0A%20%20%20%20%0A%20%20%20%20%20%20%20%20var%20popup_68dd07259a29494aa2a70f45ca90a78f%20%3D%20L.popup%28%7B%22maxHeight%22%3A%20500%2C%20%22maxWidth%22%3A%20500%2C%20%22minHeight%22%3A%20100%2C%20%22minWidth%22%3A%20500%7D%29%3B%0A%0A%20%20%20%20%20%20%20%20%0A%20%20%20%20%20%20%20%20%20%20%20%20var%20i_frame_14a658f3562042f38bd65d66d46129ee%20%3D%20%24%28%60%3Cdiv%20style%3D%22width%3A100%25%3B%22%3E%3Cdiv%20style%3D%22position%3Arelative%3Bwidth%3A100%25%3Bheight%3A0%3Bpadding-bottom%3A60%25%3B%22%3E%3Ciframe%20src%3D%22data%3Atext/html%3Bcharset%3Dutf-8%3Bbase64%2CCiAgICAKICAgIDxiPlNwZWNpZXMgTmFtZTo8L2I%2BIEhBUkRZIFJVQkJFUiBUUkVFPGJyPgogICAgPGI%2BRGF0ZSBQbGFudGVkOjwvYj4gbmFuPGJyPgogICAgPGI%2BR2VvY29kZSBBdHRlbXB0OjwvYj4gMjAwIEUgMTVUSCBBViwgVmFuY291dmVyLCBCQywgQ2FuYWRhPGJyPgogICAgPGI%2BR2VvY29kZSBSZXN1bHQ6PC9iPiAyMDAgRWFzdCAxNXRoIEF2ZW51ZSwgVmFuY291dmVyLCBCcml0aXNoIENvbHVtYmlhIFY1VCAyUDksIENhbmFkYQ%3D%3D%22%20style%3D%22position%3Aabsolute%3Bwidth%3A100%25%3Bheight%3A100%25%3Bleft%3A0%3Btop%3A0%3Bborder%3Anone%20%21important%3B%22%3E%3C/iframe%3E%3C/div%3E%3C/div%3E%60%29%5B0%5D%3B%0A%20%20%20%20%20%20%20%20%20%20%20%20popup_68dd07259a29494aa2a70f45ca90a78f.setContent%28i_frame_14a658f3562042f38bd65d66d46129ee%29%3B%0A%20%20%20%20%20%20%20%20%0A%0A%20%20%20%20%20%20%20%20circle_marker_683b228219f34a8da4302b42a037a2d9.bindPopup%28popup_68dd07259a29494aa2a70f45ca90a78f%29%0A%20%20%20%20%20%20%20%20%3B%0A%0A%20%20%20%20%20%20%20%20%0A%20%20%20%20%0A%20%20%20%20%0A%20%20%20%20%20%20%20%20%20%20%20%20var%20circle_marker_2d3b57fc572c48669dddccc5ee82958b%20%3D%20L.circleMarker%28%0A%20%20%20%20%20%20%20%20%20%20%20%20%20%20%20%20%5B49.265952%2C%20-123.095683%5D%2C%0A%20%20%20%20%20%20%20%20%20%20%20%20%20%20%20%20%7B%22bubblingMouseEvents%22%3A%20true%2C%20%22color%22%3A%20%22black%22%2C%20%22dashArray%22%3A%20null%2C%20%22dashOffset%22%3A%20null%2C%20%22fill%22%3A%20true%2C%20%22fillColor%22%3A%20%22%239B6570%22%2C%20%22fillOpacity%22%3A%200.75%2C%20%22fillRule%22%3A%20%22evenodd%22%2C%20%22lineCap%22%3A%20%22round%22%2C%20%22lineJoin%22%3A%20%22round%22%2C%20%22opacity%22%3A%201.0%2C%20%22radius%22%3A%2015%2C%20%22stroke%22%3A%20true%2C%20%22weight%22%3A%203%7D%0A%20%20%20%20%20%20%20%20%20%20%20%20%29.addTo%28map_815924b648b64e1eb2df2a4409776558%29%3B%0A%20%20%20%20%20%20%20%20%0A%20%20%20%20%0A%20%20%20%20%20%20%20%20var%20popup_73d2662dc4674e9b9368d9cbfdc0bae6%20%3D%20L.popup%28%7B%22maxHeight%22%3A%20500%2C%20%22maxWidth%22%3A%20500%2C%20%22minHeight%22%3A%20100%2C%20%22minWidth%22%3A%20500%7D%29%3B%0A%0A%20%20%20%20%20%20%20%20%0A%20%20%20%20%20%20%20%20%20%20%20%20var%20i_frame_13bcf954985d4d17a0834f3d542e72ed%20%3D%20%24%28%60%3Cdiv%20style%3D%22width%3A100%25%3B%22%3E%3Cdiv%20style%3D%22position%3Arelative%3Bwidth%3A100%25%3Bheight%3A0%3Bpadding-bottom%3A60%25%3B%22%3E%3Ciframe%20src%3D%22data%3Atext/html%3Bcharset%3Dutf-8%3Bbase64%2CCiAgICAKICAgIDxiPlNwZWNpZXMgTmFtZTo8L2I%2BIENFREFSIFNQRUNJRVM8YnI%2BCiAgICA8Yj5EYXRlIFBsYW50ZWQ6PC9iPiBuYW48YnI%2BCiAgICA8Yj5HZW9jb2RlIEF0dGVtcHQ6PC9iPiAyMTAwIFBSSU5DRSBFRFdBUkQgU1QsIFZhbmNvdXZlciwgQkMsIENhbmFkYTxicj4KICAgIDxiPkdlb2NvZGUgUmVzdWx0OjwvYj4gMjEwMCBQcmluY2UgRWR3YXJkIFN0cmVldCwgVmFuY291dmVyLCBCcml0aXNoIENvbHVtYmlhIFY1VCAxSDcsIENhbmFkYQ%3D%3D%22%20style%3D%22position%3Aabsolute%3Bwidth%3A100%25%3Bheight%3A100%25%3Bleft%3A0%3Btop%3A0%3Bborder%3Anone%20%21important%3B%22%3E%3C/iframe%3E%3C/div%3E%3C/div%3E%60%29%5B0%5D%3B%0A%20%20%20%20%20%20%20%20%20%20%20%20popup_73d2662dc4674e9b9368d9cbfdc0bae6.setContent%28i_frame_13bcf954985d4d17a0834f3d542e72ed%29%3B%0A%20%20%20%20%20%20%20%20%0A%0A%20%20%20%20%20%20%20%20circle_marker_2d3b57fc572c48669dddccc5ee82958b.bindPopup%28popup_73d2662dc4674e9b9368d9cbfdc0bae6%29%0A%20%20%20%20%20%20%20%20%3B%0A%0A%20%20%20%20%20%20%20%20%0A%20%20%20%20%0A%20%20%20%20%0A%20%20%20%20%20%20%20%20%20%20%20%20var%20circle_marker_36abd08d561445aeafa57bbfd54b04b9%20%3D%20L.circleMarker%28%0A%20%20%20%20%20%20%20%20%20%20%20%20%20%20%20%20%5B49.262018%2C%20-123.101068%5D%2C%0A%20%20%20%20%20%20%20%20%20%20%20%20%20%20%20%20%7B%22bubblingMouseEvents%22%3A%20true%2C%20%22color%22%3A%20%22black%22%2C%20%22dashArray%22%3A%20null%2C%20%22dashOffset%22%3A%20null%2C%20%22fill%22%3A%20true%2C%20%22fillColor%22%3A%20%22%23A68407%22%2C%20%22fillOpacity%22%3A%200.75%2C%20%22fillRule%22%3A%20%22evenodd%22%2C%20%22lineCap%22%3A%20%22round%22%2C%20%22lineJoin%22%3A%20%22round%22%2C%20%22opacity%22%3A%201.0%2C%20%22radius%22%3A%2015%2C%20%22stroke%22%3A%20true%2C%20%22weight%22%3A%203%7D%0A%20%20%20%20%20%20%20%20%20%20%20%20%29.addTo%28map_815924b648b64e1eb2df2a4409776558%29%3B%0A%20%20%20%20%20%20%20%20%0A%20%20%20%20%0A%20%20%20%20%20%20%20%20var%20popup_0a4b8fb7bcae43c5be025ad37e9ada61%20%3D%20L.popup%28%7B%22maxHeight%22%3A%20500%2C%20%22maxWidth%22%3A%20500%2C%20%22minHeight%22%3A%20100%2C%20%22minWidth%22%3A%20500%7D%29%3B%0A%0A%20%20%20%20%20%20%20%20%0A%20%20%20%20%20%20%20%20%20%20%20%20var%20i_frame_394f0cbe90c34c53825d8df4b7cc4958%20%3D%20%24%28%60%3Cdiv%20style%3D%22width%3A100%25%3B%22%3E%3Cdiv%20style%3D%22position%3Arelative%3Bwidth%3A100%25%3Bheight%3A0%3Bpadding-bottom%3A60%25%3B%22%3E%3Ciframe%20src%3D%22data%3Atext/html%3Bcharset%3Dutf-8%3Bbase64%2CCiAgICAKICAgIDxiPlNwZWNpZXMgTmFtZTo8L2I%2BIFRIVU5ERVJDTE9VRCBQVVJQTEUgUExVTTxicj4KICAgIDxiPkRhdGUgUGxhbnRlZDo8L2I%2BIDE5OTgtMDQtMDI8YnI%2BCiAgICA8Yj5HZW9jb2RlIEF0dGVtcHQ6PC9iPiAxMDAgRSAxMFRIIEFWLCBWYW5jb3V2ZXIsIEJDLCBDYW5hZGE8YnI%2BCiAgICA8Yj5HZW9jb2RlIFJlc3VsdDo8L2I%2BIDEwMCBFYXN0IDEwdGggQXZlbnVlLCBWYW5jb3V2ZXIsIEJyaXRpc2ggQ29sdW1iaWEgVjVUIDFaNCwgQ2FuYWRh%22%20style%3D%22position%3Aabsolute%3Bwidth%3A100%25%3Bheight%3A100%25%3Bleft%3A0%3Btop%3A0%3Bborder%3Anone%20%21important%3B%22%3E%3C/iframe%3E%3C/div%3E%3C/div%3E%60%29%5B0%5D%3B%0A%20%20%20%20%20%20%20%20%20%20%20%20popup_0a4b8fb7bcae43c5be025ad37e9ada61.setContent%28i_frame_394f0cbe90c34c53825d8df4b7cc4958%29%3B%0A%20%20%20%20%20%20%20%20%0A%0A%20%20%20%20%20%20%20%20circle_marker_36abd08d561445aeafa57bbfd54b04b9.bindPopup%28popup_0a4b8fb7bcae43c5be025ad37e9ada61%29%0A%20%20%20%20%20%20%20%20%3B%0A%0A%20%20%20%20%20%20%20%20%0A%20%20%20%20%0A%20%20%20%20%0A%20%20%20%20%20%20%20%20%20%20%20%20var%20circle_marker_4b243adc86334055b7183419ed45ce98%20%3D%20L.circleMarker%28%0A%20%20%20%20%20%20%20%20%20%20%20%20%20%20%20%20%5B49.258348%2C%20-123.096474%5D%2C%0A%20%20%20%20%20%20%20%20%20%20%20%20%20%20%20%20%7B%22bubblingMouseEvents%22%3A%20true%2C%20%22color%22%3A%20%22black%22%2C%20%22dashArray%22%3A%20null%2C%20%22dashOffset%22%3A%20null%2C%20%22fill%22%3A%20true%2C%20%22fillColor%22%3A%20%22%23BA0BCA%22%2C%20%22fillOpacity%22%3A%200.75%2C%20%22fillRule%22%3A%20%22evenodd%22%2C%20%22lineCap%22%3A%20%22round%22%2C%20%22lineJoin%22%3A%20%22round%22%2C%20%22opacity%22%3A%201.0%2C%20%22radius%22%3A%2015%2C%20%22stroke%22%3A%20true%2C%20%22weight%22%3A%203%7D%0A%20%20%20%20%20%20%20%20%20%20%20%20%29.addTo%28map_815924b648b64e1eb2df2a4409776558%29%3B%0A%20%20%20%20%20%20%20%20%0A%20%20%20%20%0A%20%20%20%20%20%20%20%20var%20popup_8984417b59ef40afa8662b11ad6342ca%20%3D%20L.popup%28%7B%22maxHeight%22%3A%20500%2C%20%22maxWidth%22%3A%20500%2C%20%22minHeight%22%3A%20100%2C%20%22minWidth%22%3A%20500%7D%29%3B%0A%0A%20%20%20%20%20%20%20%20%0A%20%20%20%20%20%20%20%20%20%20%20%20var%20i_frame_6b0226e9b7db4141a65560075cd9514d%20%3D%20%24%28%60%3Cdiv%20style%3D%22width%3A100%25%3B%22%3E%3Cdiv%20style%3D%22position%3Arelative%3Bwidth%3A100%25%3Bheight%3A0%3Bpadding-bottom%3A60%25%3B%22%3E%3Ciframe%20src%3D%22data%3Atext/html%3Bcharset%3Dutf-8%3Bbase64%2CCiAgICAKICAgIDxiPlNwZWNpZXMgTmFtZTo8L2I%2BIFNIT0pPIEpBUEFORVNFIE1BUExFPGJyPgogICAgPGI%2BRGF0ZSBQbGFudGVkOjwvYj4gMTk5OS0wMi0wMTxicj4KICAgIDxiPkdlb2NvZGUgQXR0ZW1wdDo8L2I%2BIDkwMCBFIDE0VEggQVYsIFZhbmNvdXZlciwgQkMsIENhbmFkYTxicj4KICAgIDxiPkdlb2NvZGUgUmVzdWx0OjwvYj4gOTAwIEVhc3QgMTR0aCBBdmVudWUsIFZhbmNvdXZlciwgQnJpdGlzaCBDb2x1bWJpYSBWNVQgM04yLCBDYW5hZGE%3D%22%20style%3D%22position%3Aabsolute%3Bwidth%3A100%25%3Bheight%3A100%25%3Bleft%3A0%3Btop%3A0%3Bborder%3Anone%20%21important%3B%22%3E%3C/iframe%3E%3C/div%3E%3C/div%3E%60%29%5B0%5D%3B%0A%20%20%20%20%20%20%20%20%20%20%20%20popup_8984417b59ef40afa8662b11ad6342ca.setContent%28i_frame_6b0226e9b7db4141a65560075cd9514d%29%3B%0A%20%20%20%20%20%20%20%20%0A%0A%20%20%20%20%20%20%20%20circle_marker_4b243adc86334055b7183419ed45ce98.bindPopup%28popup_8984417b59ef40afa8662b11ad6342ca%29%0A%20%20%20%20%20%20%20%20%3B%0A%0A%20%20%20%20%20%20%20%20%0A%20%20%20%20%0A%20%20%20%20%0A%20%20%20%20%20%20%20%20%20%20%20%20var%20circle_marker_6ef5c1a59d5a42fab1129bbcc2f7a3c0%20%3D%20L.circleMarker%28%0A%20%20%20%20%20%20%20%20%20%20%20%20%20%20%20%20%5B49.26457%2C%20-123.098895%5D%2C%0A%20%20%20%20%20%20%20%20%20%20%20%20%20%20%20%20%7B%22bubblingMouseEvents%22%3A%20true%2C%20%22color%22%3A%20%22black%22%2C%20%22dashArray%22%3A%20null%2C%20%22dashOffset%22%3A%20null%2C%20%22fill%22%3A%20true%2C%20%22fillColor%22%3A%20%22%230DAA13%22%2C%20%22fillOpacity%22%3A%200.75%2C%20%22fillRule%22%3A%20%22evenodd%22%2C%20%22lineCap%22%3A%20%22round%22%2C%20%22lineJoin%22%3A%20%22round%22%2C%20%22opacity%22%3A%201.0%2C%20%22radius%22%3A%2015%2C%20%22stroke%22%3A%20true%2C%20%22weight%22%3A%203%7D%0A%20%20%20%20%20%20%20%20%20%20%20%20%29.addTo%28map_815924b648b64e1eb2df2a4409776558%29%3B%0A%20%20%20%20%20%20%20%20%0A%20%20%20%20%0A%20%20%20%20%20%20%20%20var%20popup_1664efcd4fa846849faa50702d3b64b3%20%3D%20L.popup%28%7B%22maxHeight%22%3A%20500%2C%20%22maxWidth%22%3A%20500%2C%20%22minHeight%22%3A%20100%2C%20%22minWidth%22%3A%20500%7D%29%3B%0A%0A%20%20%20%20%20%20%20%20%0A%20%20%20%20%20%20%20%20%20%20%20%20var%20i_frame_ab19a1f952684fd8be4e93dbcf4756b4%20%3D%20%24%28%60%3Cdiv%20style%3D%22width%3A100%25%3B%22%3E%3Cdiv%20style%3D%22position%3Arelative%3Bwidth%3A100%25%3Bheight%3A0%3Bpadding-bottom%3A60%25%3B%22%3E%3Ciframe%20src%3D%22data%3Atext/html%3Bcharset%3Dutf-8%3Bbase64%2CCiAgICAKICAgIDxiPlNwZWNpZXMgTmFtZTo8L2I%2BIE9SQU5HRUJBUksgU1RFV0FSVElBPGJyPgogICAgPGI%2BRGF0ZSBQbGFudGVkOjwvYj4gMjAxNy0wNS0yNjxicj4KICAgIDxiPkdlb2NvZGUgQXR0ZW1wdDo8L2I%2BIDIzMDAgU0NPVElBIFNULCBWYW5jb3V2ZXIsIEJDLCBDYW5hZGE8YnI%2BCiAgICA8Yj5HZW9jb2RlIFJlc3VsdDo8L2I%2BIDIzMDAgU2NvdGlhIFN0cmVldCwgVmFuY291dmVyLCBCcml0aXNoIENvbHVtYmlhIFY1VDBCMiwgQ2FuYWRh%22%20style%3D%22position%3Aabsolute%3Bwidth%3A100%25%3Bheight%3A100%25%3Bleft%3A0%3Btop%3A0%3Bborder%3Anone%20%21important%3B%22%3E%3C/iframe%3E%3C/div%3E%3C/div%3E%60%29%5B0%5D%3B%0A%20%20%20%20%20%20%20%20%20%20%20%20popup_1664efcd4fa846849faa50702d3b64b3.setContent%28i_frame_ab19a1f952684fd8be4e93dbcf4756b4%29%3B%0A%20%20%20%20%20%20%20%20%0A%0A%20%20%20%20%20%20%20%20circle_marker_6ef5c1a59d5a42fab1129bbcc2f7a3c0.bindPopup%28popup_1664efcd4fa846849faa50702d3b64b3%29%0A%20%20%20%20%20%20%20%20%3B%0A%0A%20%20%20%20%20%20%20%20%0A%20%20%20%20%0A%20%20%20%20%0A%20%20%20%20%20%20%20%20%20%20%20%20var%20circle_marker_f7aca17806cd4580ae04191df0891842%20%3D%20L.circleMarker%28%0A%20%20%20%20%20%20%20%20%20%20%20%20%20%20%20%20%5B49.257401%2C%20-123.104876%5D%2C%0A%20%20%20%20%20%20%20%20%20%20%20%20%20%20%20%20%7B%22bubblingMouseEvents%22%3A%20true%2C%20%22color%22%3A%20%22black%22%2C%20%22dashArray%22%3A%20null%2C%20%22dashOffset%22%3A%20null%2C%20%22fill%22%3A%20true%2C%20%22fillColor%22%3A%20%22%23B24F16%22%2C%20%22fillOpacity%22%3A%200.75%2C%20%22fillRule%22%3A%20%22evenodd%22%2C%20%22lineCap%22%3A%20%22round%22%2C%20%22lineJoin%22%3A%20%22round%22%2C%20%22opacity%22%3A%201.0%2C%20%22radius%22%3A%2015%2C%20%22stroke%22%3A%20true%2C%20%22weight%22%3A%203%7D%0A%20%20%20%20%20%20%20%20%20%20%20%20%29.addTo%28map_815924b648b64e1eb2df2a4409776558%29%3B%0A%20%20%20%20%20%20%20%20%0A%20%20%20%20%0A%20%20%20%20%20%20%20%20var%20popup_4e93c77c84384fa397736b02d075c29f%20%3D%20L.popup%28%7B%22maxHeight%22%3A%20500%2C%20%22maxWidth%22%3A%20500%2C%20%22minHeight%22%3A%20100%2C%20%22minWidth%22%3A%20500%7D%29%3B%0A%0A%20%20%20%20%20%20%20%20%0A%20%20%20%20%20%20%20%20%20%20%20%20var%20i_frame_8c8956c9796b46d5ac5389543864ccf0%20%3D%20%24%28%60%3Cdiv%20style%3D%22width%3A100%25%3B%22%3E%3Cdiv%20style%3D%22position%3Arelative%3Bwidth%3A100%25%3Bheight%3A0%3Bpadding-bottom%3A60%25%3B%22%3E%3Ciframe%20src%3D%22data%3Atext/html%3Bcharset%3Dutf-8%3Bbase64%2CCiAgICAKICAgIDxiPlNwZWNpZXMgTmFtZTo8L2I%2BIENPTE9SQURPIFNQUlVDRTxicj4KICAgIDxiPkRhdGUgUGxhbnRlZDo8L2I%2BIG5hbjxicj4KICAgIDxiPkdlb2NvZGUgQXR0ZW1wdDo8L2I%2BIDMxMDAgT05UQVJJTyBTVCwgVmFuY291dmVyLCBCQywgQ2FuYWRhPGJyPgogICAgPGI%2BR2VvY29kZSBSZXN1bHQ6PC9iPiAzMTAwIE9udGFyaW8gU3RyZWV0LCBWYW5jb3V2ZXIsIEJyaXRpc2ggQ29sdW1iaWEgVjVUIDJZOSwgQ2FuYWRh%22%20style%3D%22position%3Aabsolute%3Bwidth%3A100%25%3Bheight%3A100%25%3Bleft%3A0%3Btop%3A0%3Bborder%3Anone%20%21important%3B%22%3E%3C/iframe%3E%3C/div%3E%3C/div%3E%60%29%5B0%5D%3B%0A%20%20%20%20%20%20%20%20%20%20%20%20popup_4e93c77c84384fa397736b02d075c29f.setContent%28i_frame_8c8956c9796b46d5ac5389543864ccf0%29%3B%0A%20%20%20%20%20%20%20%20%0A%0A%20%20%20%20%20%20%20%20circle_marker_f7aca17806cd4580ae04191df0891842.bindPopup%28popup_4e93c77c84384fa397736b02d075c29f%29%0A%20%20%20%20%20%20%20%20%3B%0A%0A%20%20%20%20%20%20%20%20%0A%20%20%20%20%0A%20%20%20%20%0A%20%20%20%20%20%20%20%20%20%20%20%20var%20circle_marker_6c6a9db1f613487cb7fe6c455448d173%20%3D%20L.circleMarker%28%0A%20%20%20%20%20%20%20%20%20%20%20%20%20%20%20%20%5B49.257497%2C%20-123.100615%5D%2C%0A%20%20%20%20%20%20%20%20%20%20%20%20%20%20%20%20%7B%22bubblingMouseEvents%22%3A%20true%2C%20%22color%22%3A%20%22black%22%2C%20%22dashArray%22%3A%20null%2C%20%22dashOffset%22%3A%20null%2C%20%22fill%22%3A%20true%2C%20%22fillColor%22%3A%20%22%23476536%22%2C%20%22fillOpacity%22%3A%200.75%2C%20%22fillRule%22%3A%20%22evenodd%22%2C%20%22lineCap%22%3A%20%22round%22%2C%20%22lineJoin%22%3A%20%22round%22%2C%20%22opacity%22%3A%201.0%2C%20%22radius%22%3A%2015%2C%20%22stroke%22%3A%20true%2C%20%22weight%22%3A%203%7D%0A%20%20%20%20%20%20%20%20%20%20%20%20%29.addTo%28map_815924b648b64e1eb2df2a4409776558%29%3B%0A%20%20%20%20%20%20%20%20%0A%20%20%20%20%0A%20%20%20%20%20%20%20%20var%20popup_cb363c6f2956465f893f728e8d1c726a%20%3D%20L.popup%28%7B%22maxHeight%22%3A%20500%2C%20%22maxWidth%22%3A%20500%2C%20%22minHeight%22%3A%20100%2C%20%22minWidth%22%3A%20500%7D%29%3B%0A%0A%20%20%20%20%20%20%20%20%0A%20%20%20%20%20%20%20%20%20%20%20%20var%20i_frame_03904636c95f40b883be92b1840261c8%20%3D%20%24%28%60%3Cdiv%20style%3D%22width%3A100%25%3B%22%3E%3Cdiv%20style%3D%22position%3Arelative%3Bwidth%3A100%25%3Bheight%3A0%3Bpadding-bottom%3A60%25%3B%22%3E%3Ciframe%20src%3D%22data%3Atext/html%3Bcharset%3Dutf-8%3Bbase64%2CCiAgICAKICAgIDxiPlNwZWNpZXMgTmFtZTo8L2I%2BIEdJTkdFUiBHT0xEIEFQUExFPGJyPgogICAgPGI%2BRGF0ZSBQbGFudGVkOjwvYj4gbmFuPGJyPgogICAgPGI%2BR2VvY29kZSBBdHRlbXB0OjwvYj4gMjAwIEUgMTVUSCBBViwgVmFuY291dmVyLCBCQywgQ2FuYWRhPGJyPgogICAgPGI%2BR2VvY29kZSBSZXN1bHQ6PC9iPiAyMDAgRWFzdCAxNXRoIEF2ZW51ZSwgVmFuY291dmVyLCBCcml0aXNoIENvbHVtYmlhIFY1VCAyUDksIENhbmFkYQ%3D%3D%22%20style%3D%22position%3Aabsolute%3Bwidth%3A100%25%3Bheight%3A100%25%3Bleft%3A0%3Btop%3A0%3Bborder%3Anone%20%21important%3B%22%3E%3C/iframe%3E%3C/div%3E%3C/div%3E%60%29%5B0%5D%3B%0A%20%20%20%20%20%20%20%20%20%20%20%20popup_cb363c6f2956465f893f728e8d1c726a.setContent%28i_frame_03904636c95f40b883be92b1840261c8%29%3B%0A%20%20%20%20%20%20%20%20%0A%0A%20%20%20%20%20%20%20%20circle_marker_6c6a9db1f613487cb7fe6c455448d173.bindPopup%28popup_cb363c6f2956465f893f728e8d1c726a%29%0A%20%20%20%20%20%20%20%20%3B%0A%0A%20%20%20%20%20%20%20%20%0A%20%20%20%20%0A%20%20%20%20%0A%20%20%20%20%20%20%20%20%20%20%20%20var%20circle_marker_e42db5be1acb4a7faaf41ac2b354f21a%20%3D%20L.circleMarker%28%0A%20%20%20%20%20%20%20%20%20%20%20%20%20%20%20%20%5B49.270365%2C%20-123.109536%5D%2C%0A%20%20%20%20%20%20%20%20%20%20%20%20%20%20%20%20%7B%22bubblingMouseEvents%22%3A%20true%2C%20%22color%22%3A%20%22black%22%2C%20%22dashArray%22%3A%20null%2C%20%22dashOffset%22%3A%20null%2C%20%22fill%22%3A%20true%2C%20%22fillColor%22%3A%20%22%237FABBA%22%2C%20%22fillOpacity%22%3A%200.75%2C%20%22fillRule%22%3A%20%22evenodd%22%2C%20%22lineCap%22%3A%20%22round%22%2C%20%22lineJoin%22%3A%20%22round%22%2C%20%22opacity%22%3A%201.0%2C%20%22radius%22%3A%2015%2C%20%22stroke%22%3A%20true%2C%20%22weight%22%3A%203%7D%0A%20%20%20%20%20%20%20%20%20%20%20%20%29.addTo%28map_815924b648b64e1eb2df2a4409776558%29%3B%0A%20%20%20%20%20%20%20%20%0A%20%20%20%20%0A%20%20%20%20%20%20%20%20var%20popup_9e416c8f2eb24b8692dd08ed85ce3b4c%20%3D%20L.popup%28%7B%22maxHeight%22%3A%20500%2C%20%22maxWidth%22%3A%20500%2C%20%22minHeight%22%3A%20100%2C%20%22minWidth%22%3A%20500%7D%29%3B%0A%0A%20%20%20%20%20%20%20%20%0A%20%20%20%20%20%20%20%20%20%20%20%20var%20i_frame_b2de19cdca924339838267581f3ac66b%20%3D%20%24%28%60%3Cdiv%20style%3D%22width%3A100%25%3B%22%3E%3Cdiv%20style%3D%22position%3Arelative%3Bwidth%3A100%25%3Bheight%3A0%3Bpadding-bottom%3A60%25%3B%22%3E%3Ciframe%20src%3D%22data%3Atext/html%3Bcharset%3Dutf-8%3Bbase64%2CCiAgICAKICAgIDxiPlNwZWNpZXMgTmFtZTo8L2I%2BIENBU0NBUkE8YnI%2BCiAgICA8Yj5EYXRlIFBsYW50ZWQ6PC9iPiBuYW48YnI%2BCiAgICA8Yj5HZW9jb2RlIEF0dGVtcHQ6PC9iPiAyMDAgVyAxU1QgQVYsIFZhbmNvdXZlciwgQkMsIENhbmFkYTxicj4KICAgIDxiPkdlb2NvZGUgUmVzdWx0OjwvYj4gMjAwIFdlc3QgMXN0IEF2ZW51ZSwgVmFuY291dmVyLCBCcml0aXNoIENvbHVtYmlhIFY1WSA0QTEsIENhbmFkYQ%3D%3D%22%20style%3D%22position%3Aabsolute%3Bwidth%3A100%25%3Bheight%3A100%25%3Bleft%3A0%3Btop%3A0%3Bborder%3Anone%20%21important%3B%22%3E%3C/iframe%3E%3C/div%3E%3C/div%3E%60%29%5B0%5D%3B%0A%20%20%20%20%20%20%20%20%20%20%20%20popup_9e416c8f2eb24b8692dd08ed85ce3b4c.setContent%28i_frame_b2de19cdca924339838267581f3ac66b%29%3B%0A%20%20%20%20%20%20%20%20%0A%0A%20%20%20%20%20%20%20%20circle_marker_e42db5be1acb4a7faaf41ac2b354f21a.bindPopup%28popup_9e416c8f2eb24b8692dd08ed85ce3b4c%29%0A%20%20%20%20%20%20%20%20%3B%0A%0A%20%20%20%20%20%20%20%20%0A%20%20%20%20%0A%3C/script%3E onload=\"this.contentDocument.open();this.contentDocument.write(    decodeURIComponent(this.getAttribute('data-html')));this.contentDocument.close();\" allowfullscreen webkitallowfullscreen mozallowfullscreen></iframe></div></div>"
      ],
      "text/plain": [
       "<folium.folium.Map at 0x2a0dbfb4280>"
      ]
     },
     "execution_count": 26,
     "metadata": {},
     "output_type": "execute_result"
    }
   ],
   "source": [
    "# This tool gives us a progress bar\n",
    "from ipywidgets import FloatProgress\n",
    "import random\n",
    "\n",
    "i = 0\n",
    "prog = FloatProgress(min=0, max=100,description='Progress:')\n",
    "prog.value=0\n",
    "display(prog)\n",
    "\n",
    "# Creat our Tree Map\n",
    "TreeMap = folium.Map(\n",
    "    location=[49.279862, -123.116838],\n",
    "    zoom_start=11,\n",
    ")\n",
    "\n",
    "\n",
    "for index, row in Select_by_Tree.iterrows():    \n",
    "    attempt = str(row['ON_STREET_BLOCK'])+' '+row['ON_STREET']+ ', Vancouver, BC, Canada'\n",
    "    g = geolocator.geocode(attempt)\n",
    "    \n",
    "    # Genrate a random color\n",
    "    rando = lambda: random.randint(0,255)\n",
    "    color = ('#%02X%02X%02X' % (rando(),rando(),rando()))\n",
    "    \n",
    "    HTML_Pop_up_Text = '''\n",
    "    <b>Species Name:</b> '''+row['COMMON_NAME']+'''<br>\n",
    "    <b>Date Planted:</b> '''+str(row['DATE_PLANTED'])+'''<br>\n",
    "    <b>Geocode Attempt:</b> '''+attempt+'''<br>\n",
    "    <b>Geocode Result:</b> '''+g.address\n",
    "    \n",
    "    iframe = folium.IFrame(HTML_Pop_up_Text)\n",
    "    popup = folium.Popup(iframe,\n",
    "                     min_width=500,\n",
    "                     max_width=500,\n",
    "                     min_height=100,\n",
    "                     max_height=500)\n",
    "    \n",
    "    plot_point(TreeMap,g.latitude,g.longitude,popup,Color=color,Radius=15)\n",
    "    \n",
    "    ## Update the progress bar\n",
    "    i += 1\n",
    "    prog.value=i/len(Select_by_Tree)*100\n",
    "    \n",
    "TreeMap"
   ]
  },
  {
   "cell_type": "markdown",
   "metadata": {},
   "source": [
    "# Question 15\n",
    "\n",
    "What file format are we using to save this webmap?"
   ]
  },
  {
   "cell_type": "code",
   "execution_count": 28,
   "metadata": {},
   "outputs": [],
   "source": [
    "TreeMap.save('MtPleasant_Trees.html')"
   ]
  },
  {
   "cell_type": "code",
   "execution_count": null,
   "metadata": {},
   "outputs": [],
   "source": []
  }
 ],
 "metadata": {
  "kernelspec": {
   "display_name": "geo-env",
   "language": "python",
   "name": "geo-env"
  },
  "language_info": {
   "codemirror_mode": {
    "name": "ipython",
    "version": 3
   },
   "file_extension": ".py",
   "mimetype": "text/x-python",
   "name": "python",
   "nbconvert_exporter": "python",
   "pygments_lexer": "ipython3",
   "version": "3.8.10"
  }
 },
 "nbformat": 4,
 "nbformat_minor": 4
}
