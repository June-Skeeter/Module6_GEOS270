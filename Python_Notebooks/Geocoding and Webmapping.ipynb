{
 "cells": [
  {
   "cell_type": "markdown",
   "metadata": {},
   "source": [
    "# Geocoding and Web Mapping\n",
    "\n",
    "Getting Started with Python\n",
    "\n",
    "## Import statements\n",
    "\n",
    "We are going to use [geopy](https://geopy.readthedocs.io/en/stable/) to interface with the mapbox geocoder and the [folium](http://python-visualization.github.io/folium/) to create some simple webmaps."
   ]
  },
  {
   "cell_type": "code",
   "execution_count": null,
   "metadata": {},
   "outputs": [],
   "source": [
    "from geopy.geocoders import MapBox\n",
    "import folium"
   ]
  },
  {
   "cell_type": "markdown",
   "metadata": {},
   "source": [
    "## Using the geocoder\n",
    "First, you must find your [access token](https://account.mapbox.com/access-tokens/).  Copy and paste it into the code below."
   ]
  },
  {
   "cell_type": "code",
   "execution_count": null,
   "metadata": {},
   "outputs": [],
   "source": [
    "access_token=\"\"\n",
    "\n",
    "if access_token == \"\":\n",
    "    print('Enter your access token to continue')\n",
    "else:\n",
    "    geolocator = MapBox(api_key=access_token)\n",
    "    print('Mapbox Goelocator Loaded')"
   ]
  },
  {
   "cell_type": "markdown",
   "metadata": {},
   "source": [
    "## A quick test\n",
    "\n",
    "Lets try a simple example first!  Type any address here and see what comes up!"
   ]
  },
  {
   "cell_type": "code",
   "execution_count": null,
   "metadata": {},
   "outputs": [],
   "source": [
    "Location = \"Vancouver, BC, Canada\"\n",
    "Vancouver = geolocator.geocode(Location)\n",
    "\n",
    "print(Vancouver)\n",
    "print(Vancouver.latitude,Vancouver.longitude)"
   ]
  },
  {
   "cell_type": "markdown",
   "metadata": {},
   "source": [
    "# Quiz Question 12\n",
    "\n",
    "- Search for the address of the UBC Geography Building (1984 west mall (city + prov, etc))\n",
    "\n",
    "* What is the full address returned + the lat/lon coordinates?"
   ]
  },
  {
   "cell_type": "code",
   "execution_count": null,
   "metadata": {},
   "outputs": [],
   "source": [
    "Location = \"\"\n",
    "UBC_Geopgraphy = geolocator.geocode(Location)\n",
    "\n",
    "print(UBC_Geopgraphy)\n",
    "print(UBC_Geopgraphy.latitude,UBC_Geopgraphy.longitude)"
   ]
  },
  {
   "cell_type": "markdown",
   "metadata": {},
   "source": [
    "## Displaying our result on a web map"
   ]
  },
  {
   "cell_type": "code",
   "execution_count": null,
   "metadata": {
    "scrolled": false
   },
   "outputs": [],
   "source": [
    "Map1 = folium.Map(\n",
    "    location=[Vancouver.latitude,Vancouver.longitude],\n",
    "    zoom_start=11,\n",
    ")\n",
    "\n",
    "point=folium.CircleMarker(\n",
    "        location=[Vancouver.latitude,Vancouver.longitude],\n",
    "        radius=10,\n",
    "        popup=Vancouver,\n",
    "        fill_opacity = 1,\n",
    "        fill=True,\n",
    "        color='black',\n",
    "        line_weight=.35,\n",
    "        fill_color='blue'\n",
    ")\n",
    "\n",
    "point.add_to(Map1)\n",
    "\n",
    "Map1"
   ]
  },
  {
   "cell_type": "markdown",
   "metadata": {},
   "source": [
    "## Chaning our basemap and zoom level"
   ]
  },
  {
   "cell_type": "code",
   "execution_count": null,
   "metadata": {},
   "outputs": [],
   "source": [
    "Map2 = folium.Map(\n",
    "    location=[Vancouver.latitude,Vancouver.longitude],\n",
    "    zoom_start=3,\n",
    "    tiles='Stamen Terrain'\n",
    ")\n",
    "\n",
    "point.add_to(Map2)\n",
    "\n",
    "Map2"
   ]
  },
  {
   "cell_type": "markdown",
   "metadata": {},
   "source": [
    "## Using Mapbox satelite tiles\n",
    "\n",
    "You can use your Mapbox account to access their satellite basemap layer."
   ]
  },
  {
   "cell_type": "code",
   "execution_count": null,
   "metadata": {},
   "outputs": [],
   "source": [
    "tileurl = 'https://api.mapbox.com/v4/mapbox.satellite/{z}/{x}/{y}@2x.png?access_token=' + str(access_token)\n",
    "Map3 = folium.Map(location=[Vancouver.latitude,Vancouver.longitude],\n",
    "                 zoom_start=12,\n",
    "                 tiles=tileurl, \n",
    "                 attr='Mapbox')\n",
    "\n",
    "point.add_to(Map3)\n",
    "\n",
    "Map3"
   ]
  },
  {
   "cell_type": "markdown",
   "metadata": {},
   "source": [
    "## Using functions to avoid repetition\n",
    "\n",
    "If we have multiple points to map, it would be redundant to type out the same command repeatedly.  We can create a [function](https://www.w3schools.com/python/python_functions.asp) to take some inputs and repeat the task for us."
   ]
  },
  {
   "cell_type": "code",
   "execution_count": null,
   "metadata": {},
   "outputs": [],
   "source": [
    "# \"def\" defines our function \"plot_point()\", which takes five \"arguments\":\n",
    "    # Map: The map you're working with\n",
    "    # X & Y: lattitude & longitude\n",
    "    # Popup_Text: What do we want the popup to say?\n",
    "    # Color: We'll set a defualt, but we can override with what colour do we want\n",
    "        # Everything else will remain the same for every point, so we can set them as default values\n",
    "    # Defaults can be over written by assigning them anoter value\n",
    "def plot_point(Map,X,Y,Popup_Text,Color='red',Radius=5,Opacity=.75,LineColor='black',LineWidth=.15):\n",
    "    folium.CircleMarker(\n",
    "        # The coordiatnates\n",
    "        location=[X,Y],\n",
    "        # Text description\n",
    "        popup=Popup_Text,\n",
    "        # sets the fill color for the point\n",
    "        fill_color=Color,\n",
    "        # Size of the marker\n",
    "        radius=Radius,\n",
    "        # Opacity of the circle\n",
    "        fill_opacity = Opacity,\n",
    "        # Sets the line color for the edge\n",
    "        color=LineColor,\n",
    "        # Width of the border line\n",
    "        line_weight=LineWidth,\n",
    "    ).add_to(Map)\n",
    "    \n",
    "Map4 = folium.Map(\n",
    "location=[0,0],\n",
    "zoom_start=2,\n",
    ")\n",
    "\n",
    "for city in ['Cairo EG','London UK','Toronto CA','Sao Palo BR']:\n",
    "    Result = geolocator.geocode(city)\n",
    "    point = plot_point(Map4,Result.latitude,Result.longitude,city)\n",
    "\n",
    "\n",
    "Map4"
   ]
  },
  {
   "cell_type": "markdown",
   "metadata": {},
   "source": [
    "## Reverse geocoding\n",
    "\n",
    "You can also go \"backwards\", starting with coordinates and getting an address *provided its somewhere with an address*\n",
    "\n",
    "### Why do you think the second point fails to return a result??\n",
    "\n",
    "\n"
   ]
  },
  {
   "cell_type": "code",
   "execution_count": null,
   "metadata": {},
   "outputs": [],
   "source": [
    "Location = ['49.2618188', '-123.2534169']\n",
    "Point = geolocator.reverse(Location)\n",
    "print(Point,Point)\n",
    "\n",
    "# Note the different latitude\n",
    "Location = ['-49.2618188', '-123.2534169']\n",
    "Point = geolocator.reverse(Location)\n",
    "print(Point,Point)"
   ]
  },
  {
   "cell_type": "markdown",
   "metadata": {},
   "source": [
    "\n",
    "# Quiz Question 13!\n",
    "\n",
    "Try Geocoding these three points and see what you get:\n",
    "\n",
    "'49.26','-122.80'\n",
    "\n",
    "'49.26','122.80'\n",
    "\n",
    "'-0.825355', '-91.125414'"
   ]
  },
  {
   "cell_type": "code",
   "execution_count": null,
   "metadata": {},
   "outputs": [],
   "source": [
    "Location = []\n",
    "Point = geolocator.reverse(Location)\n",
    "print(Point,Point)"
   ]
  },
  {
   "cell_type": "markdown",
   "metadata": {},
   "source": [
    "## Watch out for typos\n",
    "\n",
    "The functionality is fairly robust, but typos can cause errors in your results"
   ]
  },
  {
   "cell_type": "code",
   "execution_count": null,
   "metadata": {},
   "outputs": [],
   "source": [
    "Map5 = folium.Map(location=[Vancouver.latitude,Vancouver.longitude],\n",
    "                 zoom_start=11,\n",
    "                 tiles=tileurl, \n",
    "                 attr='Mapbox')\n",
    "\n",
    "for typo in [\"2710 Fraser Vancouver BC\",\n",
    "             \"2710 Faser Vancouver DC\",\n",
    "             \"2710 Faster Vancouver DC\"]:\n",
    "    UBC_Geography = geolocator.geocode(typo)\n",
    "\n",
    "    point = plot_point(Map5,UBC_Geography.latitude,UBC_Geography.longitude,UBC_Geography)\n",
    "\n",
    "    print('Search Term: ', typo)\n",
    "    print('Result: ', UBC_Geography)\n",
    "    print()\n",
    "\n",
    "Map5"
   ]
  },
  {
   "cell_type": "markdown",
   "metadata": {},
   "source": [
    "## Ambiguity\n",
    "\n",
    "It is important to be specific when submitting queries.  The more information the geocoder has to work with, the more accurate your result.\n",
    "\n",
    "### Can anyone think of any other cities to try?"
   ]
  },
  {
   "cell_type": "code",
   "execution_count": null,
   "metadata": {},
   "outputs": [],
   "source": [
    "ExampleMap = folium.Map(\n",
    "    location=[0,0],\n",
    "    zoom_start=2,\n",
    "    tiles='Stamen Toner'\n",
    ")\n",
    "\n",
    "for search in ['Surrey','Surrey BC','Victoria','Victoria BC']:\n",
    "    City = geolocator.geocode(search)\n",
    "    plot_point(ExampleMap,City.latitude,City.longitude,City,Radius=15)\n",
    "    print('Search Term: ', City)\n",
    "    print('Result: ', City)\n",
    "    print()\n",
    "    \n",
    "ExampleMap"
   ]
  },
  {
   "cell_type": "markdown",
   "metadata": {},
   "source": [
    "# Vancouver Street Trees\n",
    "\n"
   ]
  },
  {
   "cell_type": "code",
   "execution_count": null,
   "metadata": {},
   "outputs": [],
   "source": [
    "import pandas as pd\n",
    "Trees = pd.read_csv('data/street-trees.csv',delimiter=';')\n",
    "\n",
    "print('Number of Records')\n",
    "print(Trees.shape)\n",
    "print()\n",
    "print('Neighbourhoods:')\n",
    "print(Trees['NEIGHBOURHOOD_NAME'].unique())\n",
    "\n",
    "print()\n",
    "print('Data Preview')\n",
    "Trees.head()"
   ]
  },
  {
   "cell_type": "markdown",
   "metadata": {},
   "source": [
    "# Querying Records\n",
    "\n",
    "* Select a specific Neighbourhood"
   ]
  },
  {
   "cell_type": "code",
   "execution_count": null,
   "metadata": {},
   "outputs": [],
   "source": [
    "Trees.loc[\n",
    "    Trees['SPECIES_NAME']=='PENDULA'\n",
    "]"
   ]
  },
  {
   "cell_type": "markdown",
   "metadata": {},
   "source": [
    "# Quiz Question 14\n",
    "\n",
    "Select a specific neighborhood.\n",
    "\n",
    "- What neighbourhood did you select and how many street trees does it have? (hint) look at # of rows & columns"
   ]
  },
  {
   "cell_type": "code",
   "execution_count": null,
   "metadata": {},
   "outputs": [],
   "source": [
    "\n",
    "Your_Neighbourhood_Selection = ''\n",
    "\n",
    "Select_by_Neighbourhood = Trees.loc[\n",
    "    Trees['NEIGHBOURHOOD_NAME']==Your_Neighbourhood_Selection\n",
    "]\n",
    "\n",
    "Select_by_Neighbourhood"
   ]
  },
  {
   "cell_type": "markdown",
   "metadata": {},
   "source": [
    "## Find the most 50 most common trees in that Neighbourhood"
   ]
  },
  {
   "cell_type": "code",
   "execution_count": null,
   "metadata": {},
   "outputs": [],
   "source": [
    "print(Select_by_Neighbourhood.groupby('COMMON_NAME').count()['TREE_ID'].sort_values()[-50:])\n"
   ]
  },
  {
   "cell_type": "markdown",
   "metadata": {},
   "source": [
    "# Quiz Question 15\n",
    "\n",
    "Select one type of tree within the neighborhood.\n",
    "\n",
    "- What type of tree did you select?"
   ]
  },
  {
   "cell_type": "code",
   "execution_count": null,
   "metadata": {
    "scrolled": false
   },
   "outputs": [],
   "source": [
    "Your_Tree_Selection = \"\"\n",
    "\n",
    "Select_by_Tree = Select_by_Neighbourhood.loc[\n",
    "    Select_by_Neighbourhood['COMMON_NAME']==Your_Tree_Selection]\n",
    "\n",
    "\n",
    "Select_by_Tree.head()"
   ]
  },
  {
   "cell_type": "markdown",
   "metadata": {},
   "source": [
    "# Quiz Question 16\n",
    "\n",
    "\n",
    "## Make a Map of all the selected Trees in the selected Neighbourhood\n",
    "\n",
    "* Take a screenshot and submit it.\n",
    "* Just don't use the same example as lecture (Japanese Maples in Mt. Pleasant)"
   ]
  },
  {
   "cell_type": "code",
   "execution_count": null,
   "metadata": {},
   "outputs": [],
   "source": [
    "# This tool gives us a progress bar\n",
    "from ipywidgets import FloatProgress\n",
    "i = 0\n",
    "prog = FloatProgress(min=0, max=100,description='Progress:')\n",
    "prog.value=0\n",
    "display(prog)\n",
    "\n",
    "# Creat our Tree Map\n",
    "TreeMap = folium.Map(\n",
    "    location=[49.279862, -123.116838],\n",
    "    zoom_start=11,\n",
    ")\n",
    "\n",
    "\n",
    "for index, row in Select_by_Tree.iterrows():\n",
    "    attempt = str(row['ON_STREET_BLOCK'])+' '+row['ON_STREET']+ ', Vancouver, BC, Canada'\n",
    "\n",
    "    g = geolocator.geocode(attempt)\n",
    "    \n",
    "    plot_point(TreeMap,g.latitude,g.longitude,row['COMMON_NAME'],Color='Green',Radius=15)\n",
    "    \n",
    "    ## Update the progress bar\n",
    "    i += 1\n",
    "    prog.value=i/len(Select_by_Tree)*100\n",
    "    \n",
    "TreeMap"
   ]
  },
  {
   "cell_type": "code",
   "execution_count": null,
   "metadata": {},
   "outputs": [],
   "source": [
    "TreeMap.save('Van_Trees.html')"
   ]
  },
  {
   "cell_type": "code",
   "execution_count": null,
   "metadata": {},
   "outputs": [],
   "source": []
  }
 ],
 "metadata": {
  "kernelspec": {
   "display_name": "geo-env",
   "language": "python",
   "name": "geo-env"
  },
  "language_info": {
   "codemirror_mode": {
    "name": "ipython",
    "version": 3
   },
   "file_extension": ".py",
   "mimetype": "text/x-python",
   "name": "python",
   "nbconvert_exporter": "python",
   "pygments_lexer": "ipython3",
   "version": "3.8.10"
  }
 },
 "nbformat": 4,
 "nbformat_minor": 4
}
